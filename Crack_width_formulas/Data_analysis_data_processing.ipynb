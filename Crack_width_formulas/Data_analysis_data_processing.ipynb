{
 "cells": [
  {
   "cell_type": "markdown",
   "id": "da641a17-7391-4fe1-8f30-806774241e8c",
   "metadata": {},
   "source": [
    "# Data analysis and processing"
   ]
  },
  {
   "cell_type": "markdown",
   "id": "1ee23db6-c70a-47ae-8116-74a912f0f6f8",
   "metadata": {},
   "source": [
    "This file generates the working database."
   ]
  },
  {
   "cell_type": "markdown",
   "id": "2c01c480-d43f-4375-84be-9ae9d27a3c77",
   "metadata": {},
   "source": [
    "## Info"
   ]
  },
  {
   "cell_type": "markdown",
   "id": "0ac600b7-59f6-46ab-b097-ac8af88fcd17",
   "metadata": {},
   "source": [
    "Anton van der Esch created and uploaded this notebook to GitHub. It contains the data analysis and processing in an ongoing study to determine the accuracy of formulas for predicting crack width and spacing.\n",
    "\n",
    "First, the database \"*crack width and crack spacing in reinforced and prestressed concrete elements: database*\" (https://zenodo.org/records/14516072) is imported. The parameters in this database are described in \"*crack width and crack spacing in reinforced and prestressed concrete elements: data description and acquisition\" (https://www.sciencedirect.com/science/article/pii/S2352340924002749). Then, parameters are extracted from and added to the database. The added database is used in an ongoing study of the accuracy of formulas for predicting crack width and spacing. Please read the licence.\n",
    "\n",
    "For the calculation of variables is referred to a different Jupyter Notebook.\n",
    "\n",
    "Contact info:\\\n",
    "-antonvanderesch@hotmail.com or i.a.v.d.esch@tue.nl \\\n",
    "-Notebook created on 2025-01-11"
   ]
  },
  {
   "cell_type": "markdown",
   "id": "9ebb2996-2b50-45fd-90cb-ae3c0c596e52",
   "metadata": {},
   "source": [
    "## Contents"
   ]
  },
  {
   "cell_type": "markdown",
   "id": "0114a205-5629-49a7-b572-b64881c604be",
   "metadata": {},
   "source": [
    "This notebook consists of several sections:\\\n",
    "00 - Import Packages \\\n",
    "01 - Settings \\\n",
    "02 - Import database and prepare data \\\n",
    "03 - Set DF types and extract additional data types \\\n",
    "04 - Inspect target variables \\\n",
    "05 - Functions to derive variables from the database \\\n",
    "06 - Specifications database, including extracted parameters \\\n",
    "07 - Selected crack width formulas"
   ]
  },
  {
   "cell_type": "markdown",
   "id": "1abc2d07-d49f-4917-bca5-cfdd91f8d78d",
   "metadata": {},
   "source": [
    "## 00 - Import packages"
   ]
  },
  {
   "cell_type": "code",
   "execution_count": 1,
   "id": "8340901f-fd32-4442-b2e9-5bb6506dd922",
   "metadata": {},
   "outputs": [],
   "source": [
    "import pandas as pd\n",
    "import matplotlib.pyplot as plt\n",
    "import numpy as np\n",
    "import numpy.ma as ma\n",
    "\n",
    "from pathlib import Path\n",
    "import ast\n",
    "\n",
    "from scipy.integrate import quad\n",
    "from scipy.interpolate import interp1d\n",
    "from scipy.optimize import fsolve\n",
    "\n",
    "from sklearn.metrics import r2_score \n",
    "\n",
    "from contextlib import suppress\n",
    "\n",
    "from scipy.stats import norm\n",
    "from scipy.stats import lognorm\n",
    "from sklearn.metrics import root_mean_squared_error\n",
    "\n",
    "import time"
   ]
  },
  {
   "cell_type": "markdown",
   "id": "90b1213f-92ea-460a-bf5b-b667d745dbb0",
   "metadata": {},
   "source": [
    "## 01 - Settings"
   ]
  },
  {
   "cell_type": "code",
   "execution_count": 2,
   "id": "d7bed520-c400-43b6-b6fb-4765df7556a0",
   "metadata": {},
   "outputs": [],
   "source": [
    "Ncond = 15;\n",
    "Nint = 100;\n",
    "g = 9.81;\n",
    "timecutoff = 30; # Transition from short to long term\n",
    "Nrepcutoff = 20; # Transition from static to repeated loading\n",
    "chi = 0.8; # Aeging factor\n",
    "\n",
    "importsigs = \"no\"; # Choice to import steel stress calculation from previous calculation --> save tremendous time\n",
    "importdat = \"no\";\n",
    "\n",
    "hordijksigs = \"yes\"; # Include Hordijk tension softening\n",
    "\n",
    "includeinitshrinkage = \"yes\"; # Include initial shrinkage in the calculations\n",
    "globalfilterstress = \"yes\"; # Filters for the steel stress on the complete database!\n",
    "sigslower = 150; # Lower bound for the steel stress to keep datapoint\n",
    "sigsupper = 350; # Upper bound for the steel stress to keep datapoint\n",
    "exclude_secondary_cracks = \"yes\";\n",
    "filtercrackingplateau = \"yes\";\n",
    "\n",
    "targetimputation = \"no\"; # Impute mean crack spacings based on known values?\n",
    "Ncracksub = 4; # Only imputation if at least Ncracksub + 1 are present (for imputation of the mean crack spacing)\n",
    "\n",
    "uniformtargets = \"no\"; # Express all crack widths as wmax and all spacings as srmax\n",
    "\n",
    "tol = 0.01; # Tolerance used\n",
    "\n",
    "fitleroutliers = \"no\";\n",
    "wmaxU = 0.5; # Cut-off limiet gemiddelde en maximale scheurwijdte\n",
    "smaxU = 400; # Cut-off limiet gemiddelde en maximale scheurafstand\n",
    "\n",
    "ignorewarnings = \"yes\";\n",
    "\n",
    "# Filter on the lengths\n",
    "filter_length = 500; # Filter out considered lengths equal and smaller than ....."
   ]
  },
  {
   "cell_type": "code",
   "execution_count": 3,
   "id": "8b2a97ec-ddf8-4758-84a6-966e1ad5521c",
   "metadata": {},
   "outputs": [],
   "source": [
    "if ignorewarnings == \"yes\":\n",
    "    import warnings\n",
    "    warnings.filterwarnings('ignore');"
   ]
  },
  {
   "cell_type": "markdown",
   "id": "7a9d4e2d-874e-47e9-af22-74a9a4ba5c78",
   "metadata": {},
   "source": [
    "## 02 - Import and prepare data"
   ]
  },
  {
   "cell_type": "markdown",
   "id": "46cae919-e390-47f2-a9c3-c4166134e5ec",
   "metadata": {},
   "source": [
    "### 02.01 - Import data"
   ]
  },
  {
   "cell_type": "code",
   "execution_count": 4,
   "id": "d2d1b0ac-b43f-4a67-ad7d-de21ebdb9da9",
   "metadata": {},
   "outputs": [],
   "source": [
    "motherpath = Path(r\"C:\\Users/20210065/OneDrive - TU Eindhoven/60_Publications/\");\n",
    "df = pd.read_csv(Path(motherpath/r\"1_st_Journal_Paper\\Jupyter_Notebook\\New\\Database\\orgsize_expanded_features\\df_master_sorted.csv\"));"
   ]
  },
  {
   "cell_type": "code",
   "execution_count": 5,
   "id": "d224e2a5-b8bb-4d02-9d7e-29d8785aef2e",
   "metadata": {},
   "outputs": [
    {
     "name": "stdout",
     "output_type": "stream",
     "text": [
      "Number of datapoints 6725\n",
      "Number of tested elements 488\n"
     ]
    }
   ],
   "source": [
    "print(\"Number of datapoints\",df.shape[0]);\n",
    "print(\"Number of tested elements\",df['ELID'].nunique());"
   ]
  },
  {
   "cell_type": "code",
   "execution_count": 6,
   "id": "743a2ef4-028c-4b6e-ad7d-cd839f9af3a2",
   "metadata": {},
   "outputs": [
    {
     "name": "stdout",
     "output_type": "stream",
     "text": [
      "Number of elements loaded in tension 257\n",
      "Number of elements loaded in tension 6\n",
      "Number of elements loaded in bending 161\n",
      "Number of elements with prestressing 64\n",
      "Number of elements with eccentric tension 0\n"
     ]
    }
   ],
   "source": [
    "print(\"Number of elements loaded in tension\",df[df[\"epsin\"] == str(\"1a\")][\"ELID\"].nunique());\n",
    "print(\"Number of elements loaded in tension\",df[df[\"epsin\"] == str(\"1b\")][\"ELID\"].nunique());\n",
    "print(\"Number of elements loaded in bending\",df[df[\"epsin\"] == str(\"2\")][\"ELID\"].nunique());\n",
    "print(\"Number of elements with prestressing\",df[(df[\"epsin\"] == str(\"3\")) & (df[\"Ap\"] != 0)][\"ELID\"].nunique());\n",
    "print(\"Number of elements with eccentric tension\",df[(df[\"epsin\"] == str(\"3\")) & (df[\"Ap\"] == 0)][\"ELID\"].nunique());"
   ]
  },
  {
   "cell_type": "code",
   "execution_count": 7,
   "id": "f77881dd",
   "metadata": {},
   "outputs": [],
   "source": [
    "df.drop(df[(df[\"ELID\"] == \"A-FPhs/f1-5\")].index, inplace=True); # Contains steel fibres outside constant bending moment\n",
    "df.drop(df[(df[\"ELID\"] == \"A-PPhs/f1-5\")].index, inplace=True); # Contains steel fibres outside constant bending moment\n",
    "df.drop(df[(df[\"EPID\"] == 9)].index, inplace=True); # Bennet; too little info known for further analysis\n",
    "df.drop(df[(df[\"EPID\"] == 22)].index, inplace=True); # Dawood; bi-axial loading, outside scope\n",
    "df.drop(df[(df[\"EPID\"] == 26)].index, inplace=True); # Heuveln; lightweight concrete\n",
    "\n",
    "df.drop(df[(df[\"ELID\"] == \"1B1a\")].index, inplace=True); # Excentric tension\n",
    "df.drop(df[(df[\"ELID\"] == \"2B1a\")].index, inplace=True); # Excentric tension\n",
    "df.drop(df[(df[\"ELID\"] == \"3B1a\")].index, inplace=True); # Excentric tension\n",
    "df.drop(df[(df[\"ELID\"] == \"1C1a\")].index, inplace=True); # Excentric tension\n",
    "df.drop(df[(df[\"ELID\"] == \"3C1a\")].index, inplace=True); # Excentric tension\n",
    "\n",
    "# Contains likely measurement errors\n",
    "df.drop(df[(df[\"ELID\"] == \"S1UND\")].index, inplace=True);\n",
    "\n",
    "# Contains likely measurement errors\n",
    "df.drop(df[(df[\"ELID\"] == \"250-20-2\")].index, inplace=True);\n",
    "\n",
    "# Data files inconsistent with the thesis\n",
    "df.drop(df[(df[\"ELID\"] == \"350-10-1\")].index, inplace=True);\n",
    "df.drop(df[(df[\"ELID\"] == \"350-10-2\")].index, inplace=True);\n",
    "df.drop(df[(df[\"ELID\"] == \"350-10-3\")].index, inplace=True);\n",
    "\n",
    "# Remove elements containing high-strength concrete\n",
    "df.drop(df[(df[\"ELID\"] == \"H50-10-1\")].index, inplace=True);\n",
    "df.drop(df[(df[\"ELID\"] == \"H50-10-2\")].index, inplace=True);\n",
    "df.drop(df[(df[\"ELID\"] == \"H50-10-3\")].index, inplace=True);\n",
    "df.drop(df[(df[\"ELID\"] == \"H50-14-1\")].index, inplace=True);\n",
    "df.drop(df[(df[\"ELID\"] == \"H50-14-2\")].index, inplace=True);\n",
    "df.drop(df[(df[\"ELID\"] == \"H50-14-3\")].index, inplace=True);\n",
    "df.drop(df[(df[\"ELID\"] == \"H50-20-1\")].index, inplace=True);\n",
    "df.drop(df[(df[\"ELID\"] == \"H50-20-2\")].index, inplace=True);\n",
    "df.drop(df[(df[\"ELID\"] == \"H50-20-3\")].index, inplace=True);\n",
    "df.drop(df[(df[\"ELID\"] == \"H52-10-1\")].index, inplace=True);\n",
    "df.drop(df[(df[\"ELID\"] == \"H52-10-2\")].index, inplace=True);\n",
    "df.drop(df[(df[\"ELID\"] == \"H52-14-1\")].index, inplace=True);\n",
    "df.drop(df[(df[\"ELID\"] == \"H52-14-2\")].index, inplace=True);\n",
    "df.drop(df[(df[\"ELID\"] == \"H52-14-3\")].index, inplace=True);\n",
    "df.drop(df[(df[\"ELID\"] == \"H52-20-1\")].index, inplace=True);\n",
    "\n",
    "# Unrealistic values\n",
    "df.drop(df[(df[\"ELID\"] == \"S20-10-1\")].index, inplace=True);\n",
    "df.drop(df[(df[\"ELID\"] == \"S20-10-2\")].index, inplace=True);\n",
    "df.drop(df[(df[\"ELID\"] == \"S22-10-1\")].index, inplace=True);\n",
    "df.drop(df[(df[\"ELID\"] == \"S22-10-2\")].index, inplace=True);\n",
    "df.drop(df[(df[\"ELID\"] == \"S22-10-3\")].index, inplace=True);\n",
    "df.drop(df[(df[\"ELID\"] == \"S30-10-1\")].index, inplace=True);\n",
    "df.drop(df[(df[\"ELID\"] == \"S30-10-2\")].index, inplace=True);\n",
    "df.drop(df[(df[\"ELID\"] == \"S30-10-3\")].index, inplace=True);\n",
    "df.drop(df[(df[\"ELID\"] == \"S32-10-1\")].index, inplace=True);\n",
    "df.drop(df[(df[\"ELID\"] == \"S32-10-2\")].index, inplace=True);\n",
    "\n",
    "# Unrealistic crack widths\n",
    "df.drop(df[(df[\"ELID\"] == \"C210\")].index, inplace=True);\n",
    "\n",
    "# Unrealistic crack widths; possibly yielding\n",
    "df.drop(df[(df[\"ELID\"] == \"1C2a\")].index, inplace=True);\n",
    "df.drop(df[(df[\"ELID\"] == \"3C2a\")].index, inplace=True);\n",
    "df.drop(df[(df[\"ELID\"] == \"3C2b\")].index, inplace=True);\n",
    "\n",
    "# Implicit calculation required to compute the section forces\n",
    "df.drop(df[(df[\"ELID\"] == \"B8\")].index, inplace=True);\n",
    "df.drop(df[(df[\"ELID\"] == \"P7\")].index, inplace=True);\n",
    "df.drop(df[(df[\"ELID\"] == \"T16\")].index, inplace=True);\n",
    "\n",
    "# Unrealistic crack widths\n",
    "df.drop(df[(df[\"ELID\"] == \"T-C3-1\")].index, inplace=True);\n",
    "df.drop(df[(df[\"ELID\"] == \"T-C3-2\")].index, inplace=True);\n",
    "df.drop(df[(df[\"ELID\"] == \"T-C3-4\")].index, inplace=True);\n",
    "\n",
    "# Unrealistic crack widths\n",
    "df.drop(df[(df[\"ELID\"] == \"PL/201\")].index, inplace=True);\n",
    "\n",
    "# Secondary cracks + unrealistic crack widths\n",
    "df.drop(df[(df[\"ELID\"] == \"T40\")].index, inplace=True);\n",
    "df.drop(df[(df[\"ELID\"] == \"T31\")].index, inplace=True);\n",
    "df.drop(df[(df[\"ELID\"] == \"T13\")].index, inplace=True);\n",
    "df.drop(df[(df[\"ELID\"] == \"T39\")].index, inplace=True);\n",
    "df.drop(df[(df[\"ELID\"] == \"T26\")].index, inplace=True);\n",
    "df.drop(df[(df[\"ELID\"] == \"T29\")].index, inplace=True);\n",
    "df.drop(df[(df[\"ELID\"] == \"T16\")].index, inplace=True);\n",
    "\n",
    "# Unrealistic crack widths and spacings\n",
    "df.drop(df[(df[\"ELID\"] == \"R22\")].index, inplace=True);\n",
    "df.drop(df[(df[\"ELID\"] == \"R13\")].index, inplace=True);\n",
    "df.drop(df[(df[\"ELID\"] == \"R23\")].index, inplace=True);\n",
    "df.drop(df[(df[\"ELID\"] == \"R24\")].index, inplace=True);\n",
    "df.drop(df[(df[\"ELID\"] == \"R1\")].index, inplace=True);\n",
    "df.drop(df[(df[\"ELID\"] == \"R34\")].index, inplace=True);\n",
    "df.drop(df[(df[\"ELID\"] == \"R35\")].index, inplace=True);\n",
    "df.drop(df[(df[\"ELID\"] == \"R38\")].index, inplace=True);\n",
    "df.drop(df[(df[\"ELID\"] == \"R4\")].index, inplace=True);\n",
    "df.drop(df[(df[\"ELID\"] == \"R14\")].index, inplace=True);\n",
    "df.drop(df[(df[\"ELID\"] == \"R50\")].index, inplace=True);\n",
    "df.drop(df[(df[\"ELID\"] == \"R54\")].index, inplace=True);\n",
    "df.drop(df[(df[\"ELID\"] == \"R70\")].index, inplace=True);\n",
    "df.drop(df[(df[\"ELID\"] == \"R65\")].index, inplace=True);\n",
    "df.drop(df[(df[\"ELID\"] == \"R8\")].index, inplace=True);\n",
    "df.drop(df[(df[\"ELID\"] == \"R9\")].index, inplace=True);\n",
    "df.drop(df[(df[\"ELID\"] == \"R69\")].index, inplace=True);\n",
    "df.drop(df[(df[\"ELID\"] == \"R72\")].index, inplace=True);\n",
    "\n",
    "# Yielding of reinforcement\n",
    "df.drop(df[(df[\"ELID\"] == \"2-32R2\")].index, inplace=True);\n",
    "df.drop(df[(df[\"ELID\"] == \"2-4.75R\")].index, inplace=True); # Implicit calculation required to compute the section forces\n",
    "df.drop(df[(df[\"ELID\"] == \"3-S3\")].index, inplace=True); # Implicit calculation required to compute the section forces\n",
    "df.drop(df[(df[\"ELID\"] == \"3-S4\")].index, inplace=True); # Implicit calculation required to compute the section forces"
   ]
  },
  {
   "cell_type": "code",
   "execution_count": 8,
   "id": "8fb82f3b-fba2-4ea6-964a-b7c903d8ae65",
   "metadata": {},
   "outputs": [],
   "source": [
    "# Below: keep elements needed for analysis CRC2025\n",
    "df.drop(df[~df['ELID'].isin([\"BSTS2-16\",\"BSTS3-16\",\"SSTS4-12\",\"STN12\",\"STN16\",\"STS12\",\"STS16\",\n",
    "                             \"12-20-00\",\"12-70-00\",\"25-20-00\",\"25-70-00\",\"16-20-00F\",\"16-20T\",\"16-70-00F\",\"16-70T\",\"25-20T\"\n",
    "                            ])].index,inplace=True);"
   ]
  },
  {
   "cell_type": "code",
   "execution_count": 9,
   "id": "81b7d1ae-add2-47c3-b7af-7d4cc18c5c0f",
   "metadata": {},
   "outputs": [],
   "source": [
    "df.drop_duplicates(inplace=True);"
   ]
  },
  {
   "cell_type": "code",
   "execution_count": 10,
   "id": "f4dac981-2d90-4775-9a95-f4941f2971d3",
   "metadata": {},
   "outputs": [
    {
     "name": "stdout",
     "output_type": "stream",
     "text": [
      "Dataset contains 164 rows\n",
      "Dataset contains 79 columns\n"
     ]
    }
   ],
   "source": [
    "print(\"Dataset contains\",df.shape[0], \"rows\");\n",
    "print(\"Dataset contains\",df.shape[1], \"columns\");"
   ]
  },
  {
   "cell_type": "code",
   "execution_count": 11,
   "id": "b8039f57-6a7e-45f9-8e8e-e93c3dde8ef7",
   "metadata": {},
   "outputs": [],
   "source": [
    "df.rename(columns={\"Unnamed: 0\": \"ID\"},inplace=True);"
   ]
  },
  {
   "cell_type": "code",
   "execution_count": 12,
   "id": "809ef2cc-376f-49b9-8260-728f98d425ce",
   "metadata": {},
   "outputs": [],
   "source": [
    "df.reset_index(drop=True, inplace=True)"
   ]
  },
  {
   "cell_type": "code",
   "execution_count": 13,
   "id": "6d9a05a1-bcfe-4180-8a4d-85e58d8927de",
   "metadata": {},
   "outputs": [
    {
     "name": "stdout",
     "output_type": "stream",
     "text": [
      "Number of tested elements 16\n"
     ]
    }
   ],
   "source": [
    "print(\"Number of tested elements\",df['ELID'].nunique());"
   ]
  },
  {
   "cell_type": "markdown",
   "id": "e6eb47ed-e01d-446b-aa7c-e72f5da6f4fa",
   "metadata": {},
   "source": [
    "### 02.02 - Impute data"
   ]
  },
  {
   "cell_type": "markdown",
   "id": "7458030a-84f8-4ea9-8ba3-472dd3acafeb",
   "metadata": {},
   "source": [
    "Estimate the values of $f_{p01k}$, which are unknown in some experimental programs, from $f_{\\text{pk}}$."
   ]
  },
  {
   "cell_type": "markdown",
   "id": "4f5b7c39-8a16-4033-931e-608345639551",
   "metadata": {},
   "source": [
    "#### EPID 14"
   ]
  },
  {
   "cell_type": "markdown",
   "id": "66c1bc45-b31e-4986-baf5-555605eb3492",
   "metadata": {},
   "source": [
    "$f_{\\text{pk}}$ is known, $f_{\\text{p}01\\text{k}}$ is estimated using EN 10138: $f_{\\text{p}01\\text{k}} = 0.9 \\cdot f_{\\text{pk}}$"
   ]
  },
  {
   "cell_type": "code",
   "execution_count": 14,
   "id": "1c6b3bce-42b3-4763-a2b4-896130fa2f7d",
   "metadata": {},
   "outputs": [],
   "source": [
    "for i in range(df.shape[0]):\n",
    "    if df[\"EPID\"].iloc[i] == 14 and df[\"fpk\"].iloc[i] > 1:\n",
    "        df[\"fp01k\"].iloc[i] = 0.9*df[\"fpk\"].iloc[i];"
   ]
  },
  {
   "cell_type": "markdown",
   "id": "d0c19cfb-fd19-4efd-b851-4746c9f3692d",
   "metadata": {},
   "source": [
    "#### EPID 17"
   ]
  },
  {
   "cell_type": "markdown",
   "id": "1c3f588a-42eb-4983-a5f7-ac03eddeb6c5",
   "metadata": {},
   "source": [
    "$f_{\\text{pk}}$ is known, $f_{\\text{p}01\\text{k}}$ is estimated using EN 10138: $f_{\\text{p}01\\text{k}} = 0.9 \\cdot f_{\\text{pk}}$"
   ]
  },
  {
   "cell_type": "code",
   "execution_count": 15,
   "id": "5886a43f-f554-4b6b-afeb-525ec9a8f022",
   "metadata": {},
   "outputs": [],
   "source": [
    "for i in range(df.shape[0]):\n",
    "    if df[\"EPID\"].iloc[i] == 17 and df[\"fpk\"].iloc[i] > 1:\n",
    "        df[\"fp01k\"].iloc[i] = 0.9*df[\"fpk\"].iloc[i];"
   ]
  },
  {
   "cell_type": "markdown",
   "id": "14932f86-c3b3-42f9-82dc-eeec85131ba8",
   "metadata": {},
   "source": [
    "### 02.03 Change target type of EPID28"
   ]
  },
  {
   "cell_type": "markdown",
   "id": "086d6ec0-252e-41f7-8f9b-3ae95c1b2616",
   "metadata": {},
   "source": [
    "Characteristic crack widths $w_{\\text{k}}$ will be considered as maximum crack widths $w_{\\text{max}}$."
   ]
  },
  {
   "cell_type": "code",
   "execution_count": 16,
   "id": "1ecf9076-9a35-430e-baf6-1c3c3fc2c84e",
   "metadata": {},
   "outputs": [],
   "source": [
    "for i in range(df.shape[0]):\n",
    "    if df[\"EPID\"].iloc[i] == 28:\n",
    "        if df[\"wk\"].iloc[i] > 0.001:\n",
    "            df[\"wmax\"].iloc[i] = df[\"wk\"].iloc[i];\n",
    "\n",
    "for i in range(df.shape[0]):\n",
    "    if df[\"EPID\"].iloc[i] == 28:\n",
    "        df[\"wk\"].iloc[i] = 0;"
   ]
  },
  {
   "cell_type": "markdown",
   "id": "4ab1ec37-5c98-4b3d-a0c4-9c5437b25342",
   "metadata": {},
   "source": [
    "## 03 - Set DF types and extract additional data types"
   ]
  },
  {
   "cell_type": "markdown",
   "id": "f600d6d1-06eb-4c53-a17b-9e6e7141fedd",
   "metadata": {},
   "source": [
    "### 03.01 - Functions"
   ]
  },
  {
   "cell_type": "markdown",
   "id": "62469bac",
   "metadata": {},
   "source": [
    "Function to extract concrete properties from the imported database."
   ]
  },
  {
   "cell_type": "code",
   "execution_count": 17,
   "id": "6e0dc883-2157-4254-bac0-b6f4f60951c0",
   "metadata": {},
   "outputs": [],
   "source": [
    "def func_extract_prop(data,var):\n",
    "\n",
    "    Nrow = data.shape[0];\n",
    "    hc = np.zeros((Nrow,Ncond));\n",
    "\n",
    "    for i in range(Nrow):\n",
    "        hctemp = ast.literal_eval(data[var].iloc[i]);\n",
    "        Nhc = np.shape(hctemp)[0];\n",
    "        \n",
    "        for j in range(Nhc):\n",
    "            hc[i,j] = float(hctemp[j]);\n",
    "\n",
    "    return hc"
   ]
  },
  {
   "cell_type": "markdown",
   "id": "eeaaf6d4",
   "metadata": {},
   "source": [
    "Function to extract concrete properties from the variable $\\text{cat}_{\\text{fcm}}$."
   ]
  },
  {
   "cell_type": "code",
   "execution_count": 18,
   "id": "59cc5b70-995a-4997-893b-f2981fe7e60b",
   "metadata": {},
   "outputs": [],
   "source": [
    "def func_extract_catfcm(data):\n",
    "\n",
    "    Nrowele = data.shape[0];\n",
    "    \n",
    "    col = [\"Shape\",\"Dim\",\"Treat\"];\n",
    "    catfcm = pd.DataFrame(np.zeros((Nrowele,len(col))),columns=col);\n",
    "\n",
    "    for i in range(data.shape[0]):\n",
    "        for j in range(len(col)):\n",
    "            catfcm[col[j]].iloc[i] = data[\"catfcm\"].iloc[i].strip(\"[]\").split(\",\")[j];\n",
    "\n",
    "    fcm_shape = catfcm[\"Shape\"].astype(int);\n",
    "    fcm_dim = catfcm[\"Dim\"].astype(str);\n",
    "    fcm_treat = catfcm[\"Treat\"].astype(int);\n",
    "\n",
    "    return fcm_shape, fcm_dim, fcm_treat"
   ]
  },
  {
   "cell_type": "markdown",
   "id": "d4980bb2",
   "metadata": {},
   "source": [
    "Function to extract concrete properties from the variable $\\text{cat}_{\\text{fctm}}$."
   ]
  },
  {
   "cell_type": "code",
   "execution_count": 19,
   "id": "ca4005ec-40b4-46d6-abae-9b002f51ff26",
   "metadata": {},
   "outputs": [],
   "source": [
    "def func_extract_catfctm(data):\n",
    "\n",
    "    Nrowele = data.shape[0];\n",
    "    \n",
    "    col = [\"Shape\",\"Dim\",\"Test\"];\n",
    "    catfctm = pd.DataFrame(np.zeros((Nrowele,len(col))),columns=col);\n",
    "\n",
    "    for i in range(data.shape[0]):\n",
    "        for j in range(len(col)):\n",
    "            catfctm[col[j]].iloc[i] = data[\"catfctm\"].iloc[i].strip(\"[]\").split(\",\")[j];\n",
    "\n",
    "    fctm_shape = catfctm[\"Shape\"].astype(int);\n",
    "    fctm_dim = catfctm[\"Dim\"].astype(str);\n",
    "    fctm_test = catfctm[\"Test\"].astype(int);\n",
    "\n",
    "    return fctm_shape, fctm_dim, fctm_test"
   ]
  },
  {
   "cell_type": "markdown",
   "id": "fb72f6b5",
   "metadata": {},
   "source": [
    "Function to extract concrete properties from the variable $\\text{cat}_{\\text{Ecm}}$."
   ]
  },
  {
   "cell_type": "code",
   "execution_count": 20,
   "id": "c8bac8e9-3a97-4611-bbc3-fc7f74c6f952",
   "metadata": {},
   "outputs": [],
   "source": [
    "def func_extract_catEcm(data):\n",
    "\n",
    "    Nrowele = data.shape[0];\n",
    "    \n",
    "    col = [\"Shape\",\"Dim\",\"Test\"];\n",
    "    catEcm = pd.DataFrame(np.zeros((Nrowele,len(col))),columns=col);\n",
    "\n",
    "    for i in range(data.shape[0]):\n",
    "        for j in range(len(col)):\n",
    "            catEcm[col[j]].iloc[i] = data[\"catEcm\"].iloc[i].strip(\"[]\").split(\",\")[j];\n",
    "\n",
    "    Ecm_shape = catEcm[\"Shape\"].astype(int);\n",
    "    Ecm_dim = catEcm[\"Dim\"].astype(str);\n",
    "    Ecm_test = catEcm[\"Test\"].astype(int);\n",
    "\n",
    "    return Ecm_shape, Ecm_dim, Ecm_test"
   ]
  },
  {
   "cell_type": "markdown",
   "id": "44eba966",
   "metadata": {},
   "source": [
    "Function to extract concrete properties from the variable $\\text{mix}$."
   ]
  },
  {
   "cell_type": "code",
   "execution_count": 21,
   "id": "06d18757-d246-4fc6-9f4e-e7af3a7ab628",
   "metadata": {},
   "outputs": [],
   "source": [
    "def func_extract_mix(data):\n",
    "    \n",
    "    Nrowele = data.shape[0];\n",
    "    \n",
    "    col = [\"CEM\",\"classCEM\",\"cons\",\"clinker\",\"w/c\",\"dmax\",\"typeagg\",\"add\",\"rho\"];\n",
    "    mix = pd.DataFrame(np.zeros((Nrowele,len(col))),columns=col);\n",
    "    \n",
    "    for i in range(Nrowele):\n",
    "        for j in range(len(col)):\n",
    "            mix[col[j]].iloc[i] = data[\"mix\"].iloc[i].strip(\"[]\").split(\",\")[j];\n",
    "\n",
    "    CEM = mix[\"CEM\"].astype(int);\n",
    "    classCEM = mix[\"classCEM\"].astype(int);\n",
    "    cons = mix[\"cons\"].astype(int);\n",
    "    clinker = mix[\"clinker\"].astype(int);\n",
    "    wc = mix[\"w/c\"].astype(float);\n",
    "    dmax = mix[\"dmax\"].astype(float);\n",
    "    typeagg = mix[\"typeagg\"].astype(int);\n",
    "    add = mix[\"add\"].astype(str);\n",
    "    rho = mix[\"rho\"].astype(float);\n",
    "\n",
    "    return CEM, classCEM, cons, clinker, wc, dmax, typeagg, add, rho"
   ]
  },
  {
   "cell_type": "markdown",
   "id": "ea53e351-452b-4538-b64e-1a55013348f6",
   "metadata": {},
   "source": [
    "### 03.02 - Metadata"
   ]
  },
  {
   "cell_type": "code",
   "execution_count": 22,
   "id": "c6b03c11-4e3b-425d-a05b-e51c92e78b6b",
   "metadata": {},
   "outputs": [],
   "source": [
    "df = df.astype({\n",
    "    \"EPID\": \"int64\",\n",
    "    \"ELID\": \"string\",\n",
    "    \"LOADID\": \"int64\",\n",
    "    \"DOI\": \"string\",\n",
    "    \"title\": \"string\",\n",
    "    \"year\": \"int64\",\n",
    "    \"journal\": \"string\",\n",
    "    \"country\": \"string\",\n",
    "    \"institution\": \"string\",\n",
    "    \"laboratory\": \"string\",\n",
    "    \"authors\": \"string\"\n",
    "});"
   ]
  },
  {
   "cell_type": "markdown",
   "id": "3b8ba235-fc4b-46bd-9090-216d92010171",
   "metadata": {},
   "source": [
    "### 03.03 - Geometry"
   ]
  },
  {
   "cell_type": "code",
   "execution_count": 23,
   "id": "98daf909-b40b-4236-badf-7d2dabced96e",
   "metadata": {},
   "outputs": [],
   "source": [
    "df = df.astype({\n",
    "    \"Ltot\": \"float\",\n",
    "    \"Lspan\": \"float\",\n",
    "    \"Lcons\": \"float\",\n",
    "    \"Lmeas\": \"float\",\n",
    "    \"h\": \"float\",\n",
    "    \"b\": \"string\"\n",
    "});"
   ]
  },
  {
   "cell_type": "markdown",
   "id": "c9314fd3-e2ab-424f-8de8-83d29edd7bb0",
   "metadata": {},
   "source": [
    "### 03.04 - Element preparations"
   ]
  },
  {
   "cell_type": "code",
   "execution_count": 24,
   "id": "9696e3da-e911-423e-80ec-c450949bdee0",
   "metadata": {},
   "outputs": [],
   "source": [
    "df = df.astype({\n",
    "    \"hc\": \"string\",\n",
    "    \"thc\": \"string\",\n",
    "    \"RH\": \"string\",\n",
    "    \"Temp\": \"string\",\n",
    "    \"pd\": \"int64\",\n",
    "});"
   ]
  },
  {
   "cell_type": "code",
   "execution_count": 25,
   "id": "cc68db29-e955-43d4-b2dc-903a6453d03d",
   "metadata": {},
   "outputs": [],
   "source": [
    "hc = func_extract_prop(df,\"hc\");\n",
    "thc = func_extract_prop(df,\"thc\");\n",
    "RH = func_extract_prop(df,\"RH\");\n",
    "Temp = func_extract_prop(df,\"Temp\");"
   ]
  },
  {
   "cell_type": "markdown",
   "id": "20a41c45-8467-469e-a066-a97a4b59916a",
   "metadata": {},
   "source": [
    "### 03.05 - Concrete"
   ]
  },
  {
   "cell_type": "code",
   "execution_count": 26,
   "id": "d2330633-888c-41c1-a1f2-fa9d281d831f",
   "metadata": {},
   "outputs": [],
   "source": [
    "df = df.astype({\n",
    "    \"fcm\": \"string\",\n",
    "    \"catfcm\": \"string\",\n",
    "    \"tfcm\": \"string\",\n",
    "    \"fctm\": \"string\",\n",
    "    \"catfctm\": \"string\",\n",
    "    \"tfctm\": \"string\",\n",
    "    \"Ecm\": \"string\",\n",
    "    \"catEcm\": \"string\",\n",
    "    \"tEcm\": \"string\",\n",
    "    \"mix\": \"string\",\n",
    "});"
   ]
  },
  {
   "cell_type": "code",
   "execution_count": 27,
   "id": "cb6c3926-512e-453f-8f81-a247177fe103",
   "metadata": {},
   "outputs": [],
   "source": [
    "fcm = func_extract_prop(df,\"fcm\");\n",
    "tfcm = func_extract_prop(df,\"tfcm\");\n",
    "fctm = func_extract_prop(df,\"fctm\");\n",
    "tfctm = func_extract_prop(df,\"tfctm\");\n",
    "Ecm = func_extract_prop(df,\"Ecm\");\n",
    "tEcm = func_extract_prop(df,\"tEcm\");\n",
    "\n",
    "fcm_shape, fcm_dim, fcm_treat = func_extract_catfcm(df);\n",
    "fctm_shape, fctm_dim, fctm_test = func_extract_catfctm(df);\n",
    "Ecm_shape, Ecm_dim, Ecm_test = func_extract_catEcm(df);\n",
    "\n",
    "CEM, classCEM, cons, clinker, wc, dmax, typeagg, add, rho = func_extract_mix(df);"
   ]
  },
  {
   "cell_type": "markdown",
   "id": "ab1b969a-8346-434e-9d86-23edfd4867ab",
   "metadata": {},
   "source": [
    "### 03.06 - Reinforcing steel - longitudinal direction"
   ]
  },
  {
   "cell_type": "code",
   "execution_count": 28,
   "id": "40ba4830-f44a-4cd3-89f6-ad059f57f957",
   "metadata": {},
   "outputs": [],
   "source": [
    "df = df.astype({\n",
    "    \"Es\": \"float\",\n",
    "    \"fsr\": \"int64\",\n",
    "    \"fy\": \"float\",\n",
    "    \"phi\": \"string\",\n",
    "    \"zs\": \"string\",\n",
    "    \"nbl\": \"string\",\n",
    "    \"clat\": \"string\"\n",
    "});"
   ]
  },
  {
   "cell_type": "code",
   "execution_count": 29,
   "id": "0e6ac0ba-cc73-43b0-a2bf-451a2d064b76",
   "metadata": {},
   "outputs": [],
   "source": [
    "phi = func_extract_prop(df,\"phi\");\n",
    "zs = func_extract_prop(df,\"zs\");\n",
    "nbl = func_extract_prop(df,\"nbl\");\n",
    "clat = func_extract_prop(df,\"clat\")"
   ]
  },
  {
   "cell_type": "markdown",
   "id": "bdce0f4e-7fe3-411a-a71a-d585c34ab42b",
   "metadata": {},
   "source": [
    "### 03.07 - Reinforcing steel - transverse direction"
   ]
  },
  {
   "cell_type": "code",
   "execution_count": 30,
   "id": "b3e8bfda-2a15-4d3f-ae9f-04c92efd9ded",
   "metadata": {},
   "outputs": [],
   "source": [
    "df = df.astype({\n",
    "    \"phit\": \"string\",\n",
    "    \"st\": \"string\"\n",
    "});"
   ]
  },
  {
   "cell_type": "code",
   "execution_count": 31,
   "id": "886b1718-5b74-4e10-b7cf-ac1b485503c1",
   "metadata": {},
   "outputs": [],
   "source": [
    "phit = func_extract_prop(df,\"phit\");\n",
    "st = func_extract_prop(df,\"st\");"
   ]
  },
  {
   "cell_type": "markdown",
   "id": "a3f3a382-8d3b-4040-95c2-81d6b27ac4b4",
   "metadata": {},
   "source": [
    "### 03.08 - Reinforcing steel - stirrups"
   ]
  },
  {
   "cell_type": "code",
   "execution_count": 32,
   "id": "f854fe3d-438a-44d6-bd11-c1f212dc676f",
   "metadata": {},
   "outputs": [],
   "source": [
    "df = df.astype({\n",
    "    \"phiw\": \"float\",\n",
    "    \"sw\": \"float\"\n",
    "});"
   ]
  },
  {
   "cell_type": "markdown",
   "id": "c2b4f1ca-9aff-462b-94d9-eebc8fe00449",
   "metadata": {},
   "source": [
    "### 03.09 - Prestressing steel"
   ]
  },
  {
   "cell_type": "code",
   "execution_count": 33,
   "id": "5569e7a7-a1fe-4429-a9bc-b3ace25b2695",
   "metadata": {},
   "outputs": [],
   "source": [
    "df = df.astype({\n",
    "    \"type\": \"string\",\n",
    "    \"method\": \"int64\",\n",
    "    \"fpk\": \"float\",\n",
    "    \"fp01k\": \"float\",\n",
    "    \"Ep\": \"float\",\n",
    "    \"rel\": \"int64\",\n",
    "    \"fpr\": \"int64\",\n",
    "    \"npl\": \"string\",\n",
    "    \"phip\": \"string\",\n",
    "    \"Ap\": \"string\",\n",
    "    \"zp\": \"string\",\n",
    "    \"cplat\": \"string\"\n",
    "});"
   ]
  },
  {
   "cell_type": "code",
   "execution_count": 34,
   "id": "5576b8b7-ac00-4845-89c8-f65278a083be",
   "metadata": {},
   "outputs": [],
   "source": [
    "npl = func_extract_prop(df,\"npl\");\n",
    "phip = func_extract_prop(df,\"phip\");\n",
    "Ap = func_extract_prop(df,\"Ap\");\n",
    "zp = func_extract_prop(df,\"zp\");\n",
    "cplat = func_extract_prop(df,\"cplat\");"
   ]
  },
  {
   "cell_type": "markdown",
   "id": "7025620b-e644-4836-b477-098a2f36fcb3",
   "metadata": {},
   "source": [
    "### 03.10 - Test setup"
   ]
  },
  {
   "cell_type": "code",
   "execution_count": 35,
   "id": "5b151924-6ebe-4ee8-8ac9-2d5a2f457e78",
   "metadata": {},
   "outputs": [],
   "source": [
    "df = df.astype({\n",
    "    \"catf\": \"int64\",\n",
    "    \"epsin\": \"string\",\n",
    "    \"catcal\": \"int64\",\n",
    "    \"selfw\": \"int64\",\n",
    "    \"typew\": \"int64\",\n",
    "    \"locw\": \"int64\"  \n",
    "});"
   ]
  },
  {
   "cell_type": "markdown",
   "id": "a0228ad2-0500-455b-b07b-31b5a8af1630",
   "metadata": {},
   "source": [
    "### 03.11 - Loads"
   ]
  },
  {
   "cell_type": "code",
   "execution_count": 36,
   "id": "76865c85-112d-481f-97c6-703c15892090",
   "metadata": {},
   "outputs": [],
   "source": [
    "df = df.astype({\n",
    "    \"LOADID\": \"int64\",\n",
    "    \"epsc\": \"float\",\n",
    "    \"Nrep\": \"int64\",\n",
    "    \"N\": \"float\",\n",
    "    \"M\": \"float\",\n",
    "    \"sigs\": \"float\",\n",
    "    \"t0\": \"int64\",\n",
    "    \"t\": \"int64\",\n",
    "    \"PL\": \"float\",\n",
    "    \"catp\": \"int64\",\n",
    "    \"t0p\": \"int64\",\n",
    "    \"tp\": \"int64\",\n",
    "});"
   ]
  },
  {
   "cell_type": "markdown",
   "id": "f920e063-067e-4f9d-bf76-af4e15b397ee",
   "metadata": {},
   "source": [
    "### 03.12 - Datapoints"
   ]
  },
  {
   "cell_type": "code",
   "execution_count": 37,
   "id": "5c7d8615-7953-4f49-9359-5993a1a37aca",
   "metadata": {},
   "outputs": [],
   "source": [
    "df = df.astype({\n",
    "    \"ncr\": \"int64\",\n",
    "    \"wm\": \"float\",\n",
    "    \"wk\": \"float\",\n",
    "    \"wmax\": \"float\",\n",
    "    \"sm\": \"float\",\n",
    "    \"smax\": \"float\",\n",
    "});"
   ]
  },
  {
   "cell_type": "markdown",
   "id": "e8a8fac2-a811-498c-a21f-53776607b24a",
   "metadata": {},
   "source": [
    "## 04 - Inspect the various variables"
   ]
  },
  {
   "cell_type": "code",
   "execution_count": 38,
   "id": "ba07b279-a072-418b-83f3-1c5e96ced39c",
   "metadata": {},
   "outputs": [
    {
     "data": {
      "image/png": "[encoded data removed]",
      "text/plain": [
       "<Figure size 640x480 with 1 Axes>"
      ]
     },
     "metadata": {},
     "output_type": "display_data"
    }
   ],
   "source": [
    "plt.figure();\n",
    "plt.plot(df[\"ncr\"],\"*\");\n",
    "plt.title(\"Number of cracks $N_{\\\\rm{cr}}$\");"
   ]
  },
  {
   "cell_type": "code",
   "execution_count": 39,
   "id": "32f8ab83-da9f-4e8f-a5a9-d63a1f5f81f0",
   "metadata": {},
   "outputs": [
    {
     "data": {
      "image/png": "[encoded data removed]",
      "text/plain": [
       "<Figure size 640x480 with 1 Axes>"
      ]
     },
     "metadata": {},
     "output_type": "display_data"
    }
   ],
   "source": [
    "plt.figure();\n",
    "plt.plot(df[\"wm\"],\"*\");\n",
    "plt.title(\"Mean crack width $w_{\\\\rm{m}}$\");"
   ]
  },
  {
   "cell_type": "code",
   "execution_count": 40,
   "id": "499111df",
   "metadata": {},
   "outputs": [
    {
     "data": {
      "image/png": "[encoded data removed]",
      "text/plain": [
       "<Figure size 640x480 with 1 Axes>"
      ]
     },
     "metadata": {},
     "output_type": "display_data"
    }
   ],
   "source": [
    "plt.figure();\n",
    "plt.plot(df[\"wk\"],\"*\");\n",
    "plt.title(\"Characteristic crack width $w_{\\\\rm{k}}$\");"
   ]
  },
  {
   "cell_type": "code",
   "execution_count": 41,
   "id": "60ba6e2c",
   "metadata": {},
   "outputs": [
    {
     "data": {
      "image/png": "[encoded data removed]",
      "text/plain": [
       "<Figure size 640x480 with 1 Axes>"
      ]
     },
     "metadata": {},
     "output_type": "display_data"
    }
   ],
   "source": [
    "plt.figure();\n",
    "plt.plot(df[\"wmax\"],\"*\");\n",
    "plt.title(\"Maximum crack width $w_{\\\\rm{max}}$\");"
   ]
  },
  {
   "cell_type": "code",
   "execution_count": 42,
   "id": "16ccf52e-0642-4fb8-a22d-b019505a1df3",
   "metadata": {},
   "outputs": [
    {
     "data": {
      "image/png": "[encoded data removed]",
      "text/plain": [
       "<Figure size 640x480 with 1 Axes>"
      ]
     },
     "metadata": {},
     "output_type": "display_data"
    }
   ],
   "source": [
    "plt.figure();\n",
    "plt.plot(df[\"sm\"],\"*\");\n",
    "plt.title(\"Maximum crack spacing $s_{\\\\rm{r,m}}$\");"
   ]
  },
  {
   "cell_type": "code",
   "execution_count": 43,
   "id": "473e084b-4ca5-45c2-b804-9b1df034e44c",
   "metadata": {},
   "outputs": [
    {
     "data": {
      "image/png": "[encoded data removed]",
      "text/plain": [
       "<Figure size 640x480 with 1 Axes>"
      ]
     },
     "metadata": {},
     "output_type": "display_data"
    }
   ],
   "source": [
    "plt.figure();\n",
    "plt.plot(df[\"smax\"],\"*\");\n",
    "plt.title(\"Maximum crack spacing $s_{\\\\rm{r,max}}$\");"
   ]
  },
  {
   "cell_type": "markdown",
   "id": "2680b722-d781-400a-b999-e517a9951470",
   "metadata": {},
   "source": [
    "## 05 - Functions"
   ]
  },
  {
   "cell_type": "markdown",
   "id": "8ffc3746-dd26-422e-a362-b2c686aa7e25",
   "metadata": {},
   "source": [
    "### 05.01 - Nonzero layers"
   ]
  },
  {
   "cell_type": "markdown",
   "id": "a4a9fa7a",
   "metadata": {},
   "source": [
    "Function to inspect which elements in a array-type cell are empty. Returns last element that is not zero."
   ]
  },
  {
   "cell_type": "code",
   "execution_count": 44,
   "id": "54d3cc24-16d9-4a2b-a6d5-596756eef95d",
   "metadata": {},
   "outputs": [],
   "source": [
    "def func_cal_nonzero(data,var):\n",
    "    nonzero = np.zeros(data.shape[0]);\n",
    "\n",
    "    for i in range(data.shape[0]):\n",
    "        nonzero[i] = int(np.where(var[i,:]<0.001)[0][0]-1);\n",
    "        \n",
    "    return nonzero"
   ]
  },
  {
   "cell_type": "code",
   "execution_count": 45,
   "id": "a0b71c96-a53a-4ef7-975a-ff020f4e32b3",
   "metadata": {},
   "outputs": [],
   "source": [
    "df[\"indLR\"] = func_cal_nonzero(df,zs);\n",
    "df[\"indNP\"] = func_cal_nonzero(df,zp);\n",
    "df[\"indtfcm\"] = func_cal_nonzero(df,tfcm);\n",
    "df[\"indtfctm\"] = func_cal_nonzero(df,tfctm);\n",
    "df[\"indtEcm\"] = func_cal_nonzero(df,tEcm);\n",
    "\n",
    "df = df.astype({\n",
    "    \"indLR\": \"int\",\n",
    "    \"indNP\": \"int\",\n",
    "    \"indtfcm\": \"int\",\n",
    "    \"indtfctm\": \"int\",\n",
    "    \"indtEcm\": \"int\"\n",
    "});"
   ]
  },
  {
   "cell_type": "markdown",
   "id": "233cec87-9e50-4656-b0dd-5ad00fc44831",
   "metadata": {},
   "source": [
    "### 05.02 - Functions to extract geometrical properties"
   ]
  },
  {
   "cell_type": "markdown",
   "id": "8bcf544f-c5c7-4d55-8cb6-84c79c4232b3",
   "metadata": {},
   "source": [
    "#### Function to extract the section width of a string"
   ]
  },
  {
   "cell_type": "code",
   "execution_count": 46,
   "id": "ed306210-9bd9-4ee5-ac5e-79a42539517f",
   "metadata": {},
   "outputs": [],
   "source": [
    "def func_extract_width(z,bstr):\n",
    "\n",
    "    # This function computes the widht of a cross-section, at a certain height\n",
    "    bstr = str(bstr);\n",
    "    tempstr = bstr.strip(\"[]\");    \n",
    "    nfunc = len(tempstr.split(\",\"));\n",
    "    \n",
    "    # Create temparray to store different bounds, widths and heights\n",
    "    if nfunc > 1:\n",
    "        \n",
    "        boundstore = np.zeros((2,nfunc)); # Lower resp. upper bound\n",
    "        funcstore = [];\n",
    "        \n",
    "        for j in range(nfunc):\n",
    "            boundstore[0,j] = float(tempstr.split(\",\")[j].split(\"if\")[1].split(\"<z<\")[0]);\n",
    "            boundstore[1,j] = float(tempstr.split(\",\")[j].split(\"if\")[1].split(\"<z<\")[1]);\n",
    "    \n",
    "            def f(z):\n",
    "                return float(eval(tempstr.split(\",\")[j].split(\"if\")[0]));\n",
    "            \n",
    "            funcstore.append(f(z));\n",
    "                    \n",
    "        b = np.piecewise(\n",
    "                        z,\n",
    "                        [(z < boundstore[1,j]) & (z >= boundstore[0,j]) for j in range(nfunc)],funcstore);\n",
    "  \n",
    "    else:\n",
    "        b = float(eval(bstr));\n",
    "\n",
    "    return b"
   ]
  },
  {
   "cell_type": "markdown",
   "id": "4001c59e-f9ff-4cb8-b53a-1cb509533bb3",
   "metadata": {},
   "source": [
    "#### Function to calculate the concrete area (including reinforcing steel)"
   ]
  },
  {
   "cell_type": "code",
   "execution_count": 47,
   "id": "197d6065-09f4-4fa6-a3b3-7fc9be8621f5",
   "metadata": {},
   "outputs": [],
   "source": [
    "def func_cal_Ac(data):\n",
    "   \n",
    "    Ac = np.zeros(data.shape[0]);\n",
    "    \n",
    "    for i in range(data.shape[0]):\n",
    "        Ac[i] = quad(func_extract_width,0,data[\"h\"].iloc[i],args=(data[\"b\"].iloc[i]))[0];\n",
    "    \n",
    "    return Ac"
   ]
  },
  {
   "cell_type": "code",
   "execution_count": 48,
   "id": "7370567d-45de-43a8-a6b4-0aa1e8a8fef1",
   "metadata": {},
   "outputs": [],
   "source": [
    "df[\"Ac\"] = func_cal_Ac(df);\n",
    "df = df.astype({\n",
    "    \"Ac\": \"float\"\n",
    "});"
   ]
  },
  {
   "cell_type": "markdown",
   "id": "5f891515-1b8c-460c-9c55-cf771cdc9296",
   "metadata": {},
   "source": [
    "#### Computation of total reinforcing steel"
   ]
  },
  {
   "cell_type": "code",
   "execution_count": 49,
   "id": "9e798e99-a916-493f-8113-73920aa1ba95",
   "metadata": {},
   "outputs": [],
   "source": [
    "def func_cal_Astot(data):\n",
    "    Astot = np.zeros(data.shape[0]);\n",
    "    for i in range(data.shape[0]):\n",
    "        Aslayer = np.zeros(Ncond);\n",
    "        for j in range(Ncond):\n",
    "            Aslayer[j] = nbl[i,j]*(1/4)*np.pi*(phi[i,j]**2);\n",
    "\n",
    "        Astot[i] = sum(Aslayer);\n",
    "        \n",
    "    return Astot"
   ]
  },
  {
   "cell_type": "code",
   "execution_count": 50,
   "id": "1624aaf2-98a0-469c-8b32-3d2ea8d5d720",
   "metadata": {},
   "outputs": [],
   "source": [
    "df[\"Astot\"] = func_cal_Astot(df);\n",
    "df = df.astype({\n",
    "    \"Astot\": \"float\"\n",
    "});"
   ]
  },
  {
   "cell_type": "markdown",
   "id": "4aaf0f9f-d64a-48ed-b029-dff2e01564b3",
   "metadata": {},
   "source": [
    "### 05.03 - Functions to extract structural element preparations"
   ]
  },
  {
   "cell_type": "markdown",
   "id": "bb84c38f-d96c-4412-9785-b3c5542b4715",
   "metadata": {},
   "source": [
    "#### Imputation of $t_0$"
   ]
  },
  {
   "cell_type": "markdown",
   "id": "09e8902a-bbe4-4f24-a54e-fead11751efa",
   "metadata": {},
   "source": [
    "$t_0$ is the age of the concrete when the structural element is first loaded."
   ]
  },
  {
   "cell_type": "code",
   "execution_count": 51,
   "id": "5535b1a1-1c01-4cb2-9344-39ac2b18f53c",
   "metadata": {},
   "outputs": [],
   "source": [
    "def func_impute_t0(data,thc,tfcm):\n",
    "    t0 = np.zeros(data.shape[0]);\n",
    "\n",
    "    for i in range(data.shape[0]):\n",
    "        \n",
    "        if data[\"t0\"].iloc[i] == 0: # Assume the time where loading starts; start of unloading is unknown\n",
    "            if thc[i,0] > 0 and tfcm[i,0] == 0: # Address thc\n",
    "                t0[i] = sum(thc[i,:]);\n",
    "            elif thc[i,0] > 0 and tfcm[i,0] > 0: # Address tfcm\n",
    "                t0[i] = max(tfcm[i,:]);  # Take the last value of the nonzero values\n",
    "            else:\n",
    "                t0[i] = 28;\n",
    "        if data[\"t0\"].iloc[i] > 0: # Start of loading is known\n",
    "            t0[i] = data[\"t0\"].iloc[i];\n",
    "        \n",
    "    return t0"
   ]
  },
  {
   "cell_type": "code",
   "execution_count": 52,
   "id": "c99b5b4a-8bae-4672-ba45-8a4a0b73b8fe",
   "metadata": {},
   "outputs": [],
   "source": [
    "df[\"t0\"] = func_impute_t0(df,thc,tfcm);\n",
    "df = df.astype({\n",
    "    \"t0\": \"int\"\n",
    "});"
   ]
  },
  {
   "cell_type": "markdown",
   "id": "f52815b6-bd47-4f67-b077-954998809c67",
   "metadata": {},
   "source": [
    "#### Imputation of t (duration of the loading)"
   ]
  },
  {
   "cell_type": "code",
   "execution_count": 53,
   "id": "405235d8-4611-40c3-b242-3ad9b0bc22a8",
   "metadata": {},
   "outputs": [],
   "source": [
    "def func_impute_t(data):\n",
    "    t = np.zeros(data.shape[0]);\n",
    "\n",
    "    for i in range(data.shape[0]):\n",
    "\n",
    "        if data[\"t\"].iloc[i] == 0:\n",
    "            t[i] = 1; # Just impute a 1 --> this an assumption of the load duration, for unreported cases\n",
    "        else:\n",
    "            t[i] = data[\"t\"].iloc[i];\n",
    "\n",
    "    return t"
   ]
  },
  {
   "cell_type": "code",
   "execution_count": 54,
   "id": "431af723-3b20-4b9b-b7cc-2e2e29fdd68e",
   "metadata": {},
   "outputs": [],
   "source": [
    "df[\"t\"] = func_impute_t(df);\n",
    "df = df.astype({\n",
    "    \"t\": \"int\"\n",
    "});"
   ]
  },
  {
   "cell_type": "markdown",
   "id": "6be85760-e2ec-4db5-80f8-f1f7769ce1a3",
   "metadata": {},
   "source": [
    "#### Adjustment of RH"
   ]
  },
  {
   "cell_type": "code",
   "execution_count": 55,
   "id": "d47fdd6c-b69a-440f-abf7-ba863268afdc",
   "metadata": {},
   "outputs": [],
   "source": [
    "def func_determine_RH(rh):\n",
    "\n",
    "    RH = np.zeros(rh.shape[0]);\n",
    "\n",
    "    for i in range(rh.shape[0]):\n",
    "        RHtemp = np.max(rh[i,:]);\n",
    "        if RHtemp > 1:\n",
    "            RH[i] = RHtemp;\n",
    "        else:\n",
    "            RH[i] = 65;\n",
    "\n",
    "    return RH"
   ]
  },
  {
   "cell_type": "code",
   "execution_count": 56,
   "id": "844212f4-dc39-450a-97e6-359d18b3a4e7",
   "metadata": {},
   "outputs": [],
   "source": [
    "df[\"RH\"] = func_determine_RH(RH);\n",
    "df = df.astype({\n",
    "    \"RH\": \"float\"\n",
    "});"
   ]
  },
  {
   "cell_type": "markdown",
   "id": "e3d73058-8569-487f-a130-d318c5b4b397",
   "metadata": {},
   "source": [
    "#### Computation of $t_s$"
   ]
  },
  {
   "cell_type": "markdown",
   "id": "9a8c8e9b-7b14-4408-bba4-ef0601e996cb",
   "metadata": {},
   "source": [
    "$t_s$ is the age of the concrete at the beginning of drying in days. Assumption: in case of hardening condition $hc$ equals 0 (unknown), 6 (elements stored inside test hall) or 8 (elements stored outside), then it is assumed that the hardening condition is contributing to the drying shrinkage."
   ]
  },
  {
   "cell_type": "code",
   "execution_count": 57,
   "id": "99c999eb-14d9-415a-8d04-c3e7aec4da3c",
   "metadata": {},
   "outputs": [],
   "source": [
    "def func_determine_ts(hc,data):\n",
    "    ts = np.zeros(data.shape[0]);\n",
    "    tstemp = np.zeros((data.shape[0],Ncond));\n",
    "\n",
    "    indxtemp = np.zeros((data.shape[0],Ncond));\n",
    "    for i in range(data.shape[0]):\n",
    "        for j in range(Ncond):\n",
    "            if int(hc[i,j]) not in [6,8,0]:\n",
    "                indxtemp[i,j] = int(thc[i,j]);\n",
    "\n",
    "        idx = np.where(indxtemp[i,:] == 0)[0][0];\n",
    "        ts[i] = sum(indxtemp[i,0:idx]);\n",
    "    \n",
    "    return ts"
   ]
  },
  {
   "cell_type": "code",
   "execution_count": 58,
   "id": "7c6f20c7-5108-4c2d-81ac-0bd4ace0d8d0",
   "metadata": {},
   "outputs": [],
   "source": [
    "df[\"ts\"] = func_determine_ts(hc,df);\n",
    "df = df.astype({\n",
    "    \"ts\": \"int\"\n",
    "});"
   ]
  },
  {
   "cell_type": "markdown",
   "id": "eea0765f-f12c-4f83-bd7b-f4d25cae61f8",
   "metadata": {},
   "source": [
    "### 05.04 - Functions to extract concrete properties"
   ]
  },
  {
   "cell_type": "markdown",
   "id": "f4d26017-331c-4789-b482-dbbb0b28a8b5",
   "metadata": {},
   "source": [
    "#### Diff $f_{\\mathrm{cm}}$"
   ]
  },
  {
   "cell_type": "code",
   "execution_count": 59,
   "id": "df06ce0e-82b6-4ba4-b94d-fbce90f2872c",
   "metadata": {},
   "outputs": [],
   "source": [
    "diff_tfcm = np.zeros((df.shape[0],10));\n",
    "for i in range(df.shape[0]):\n",
    "    for j in range(df[\"indtfcm\"].iloc[i]+1):\n",
    "        diff_tfcm[i,j] = abs(df[\"t0\"].iloc[i] + df[\"t\"].iloc[i] - 1 - tfcm[i,j]);"
   ]
  },
  {
   "cell_type": "markdown",
   "id": "c67f0cea-d1cb-48e9-b9c7-2bb0796f264d",
   "metadata": {},
   "source": [
    "#### Diff $f_{\\mathrm{ctm}}$"
   ]
  },
  {
   "cell_type": "code",
   "execution_count": 60,
   "id": "44fbb78c-97ea-4792-832a-59a3e8880acf",
   "metadata": {},
   "outputs": [],
   "source": [
    "diff_tfctm = np.zeros((df.shape[0],10));\n",
    "for i in range(df.shape[0]):\n",
    "    for j in range(df[\"indtfctm\"].iloc[i]+1):\n",
    "        diff_tfctm[i,j] = abs(df[\"t0\"].iloc[i] + df[\"t\"].iloc[i] - 1 - tfctm[i,j]);"
   ]
  },
  {
   "cell_type": "markdown",
   "id": "8e3fafd4-e2ab-4720-a3ba-ea6978eb7759",
   "metadata": {},
   "source": [
    "#### Diff $E_{\\mathrm{cm}}$"
   ]
  },
  {
   "cell_type": "code",
   "execution_count": 61,
   "id": "2f745d7c-a5ac-4a6e-a026-5a732514b085",
   "metadata": {},
   "outputs": [],
   "source": [
    "diff_tEcm = np.zeros((df.shape[0],10));\n",
    "for i in range(df.shape[0]):\n",
    "    for j in range(df[\"indtEcm\"].iloc[i]+1):\n",
    "        diff_tEcm[i,j] = abs(df[\"t0\"].iloc[i] + df[\"t\"].iloc[i] - 1 - tEcm[i,j]);"
   ]
  },
  {
   "cell_type": "markdown",
   "id": "c1aaa048-b743-455b-9f85-1baeb8889117",
   "metadata": {},
   "source": [
    "#### Estimation of the characteristic compression strength from the mean strength"
   ]
  },
  {
   "cell_type": "markdown",
   "id": "56d951ae-053e-407f-8776-392c537acba7",
   "metadata": {},
   "source": [
    "Conversion is according to *fib* MC 2020."
   ]
  },
  {
   "cell_type": "code",
   "execution_count": 62,
   "id": "9d0e9b25-0286-44d8-882a-1d608255d8e4",
   "metadata": {},
   "outputs": [],
   "source": [
    "def func_cal_fck(fcm):\n",
    "    return fcm - 8;"
   ]
  },
  {
   "cell_type": "markdown",
   "id": "87af5bfb-5cec-404f-8fb3-5c576430a88b",
   "metadata": {},
   "source": [
    "#### Calculation of uniformly defined concrete compression strength, related to correct loading stage"
   ]
  },
  {
   "cell_type": "markdown",
   "id": "b8154709-7b1d-4373-95d4-a730f25e01e7",
   "metadata": {},
   "source": [
    "Conversions according to HEFT 597."
   ]
  },
  {
   "cell_type": "code",
   "execution_count": 63,
   "id": "00a4bef6-55ab-4374-8225-c7a8524812a5",
   "metadata": {},
   "outputs": [],
   "source": [
    "def func_cal_fcm_unified(fcm):\n",
    "\n",
    "    fcm_unified = np.zeros((fcm.shape[0],fcm.shape[1]));\n",
    "    \n",
    "    for i in range(fcm.shape[0]):\n",
    "        \n",
    "        if int(fcm_shape[i]) == 1: # Conversion to cylinder 150x300\n",
    "            if float(fcm_dim[i].split(\"x\")[0]) > 100-10 and float(fcm_dim[i].split(\"x\")[0]) < 100+10:\n",
    "                for j in range(fcm.shape[1]):\n",
    "                    fcm_unified[i,j] = (0.92/0.95)*fcm[i,j];\n",
    "            elif float(fcm_dim[i].split(\"x\")[0]) > 150-15 and float(fcm_dim[i].split(\"x\")[0]) < 150+15:\n",
    "                for j in range(fcm.shape[1]):\n",
    "                    fcm_unified[i,j] = 1*fcm[i,j];\n",
    "            elif float(fcm_dim[i].split(\"x\")[0]) > 70-7 and float(fcm_dim[i].split(\"x\")[0]) < 70+7:\n",
    "                for j in range(fcm.shape[1]):\n",
    "                    fcm_unified[i,j] = (1/1.06)*fcm[i,j];\n",
    "            else:\n",
    "                for j in range(fcm.shape[1]):\n",
    "                    fcm_unified[i,j] = fcm[i,j];\n",
    "\n",
    "        elif int(fcm_shape[i]) == 2: # Conversion from cubes to cylinders 150x300\n",
    "            if float(fcm_dim[i].split(\"x\")[0]) > 200-20 and float(fcm_dim[i].split(\"x\")[0]) < 200+20:\n",
    "                for j in range(fcm.shape[1]):\n",
    "                    fcm_unified[i,j] = 0.975*fcm[i,j];\n",
    "            elif float(fcm_dim[i].split(\"x\")[0]) > 100-10 and float(fcm_dim[i].split(\"x\")[0]) < 100+10:\n",
    "                for j in range(fcm.shape[1]):\n",
    "                    if fcm[i,j] <= 72.5:\n",
    "                        fcm_unified[i,j] = 0.745*fcm[i,j];\n",
    "                    else:\n",
    "                        fcm_unified[i,j] = 1.2*fcm[i,j]-32.4;\n",
    "            elif float(fcm_dim[i].split(\"x\")[0]) > 150-15 and float(fcm_dim[i].split(\"x\")[0]) < 150+15:\n",
    "                for j in range(fcm.shape[1]):\n",
    "                    if fcm[i,j] <= 65:\n",
    "                        fcm_unified[i,j] = 0.83*fcm[i,j];\n",
    "                    else:\n",
    "                        fcm_unified[i,j] = 1.0*fcm[i,j] - 11.1;\n",
    "            else:\n",
    "                for j in range(fcm.shape[1]): # In case no dimensions of cubes are available1\n",
    "                    fcm_unified[i,j] = fcm[i,j];\n",
    "\n",
    "        else: # No correction, in case of missing values\n",
    "            for j in range(fcm.shape[1]):\n",
    "                fcm_unified[i,j] = fcm[i,j];\n",
    "                \n",
    "    return fcm_unified"
   ]
  },
  {
   "cell_type": "code",
   "execution_count": 64,
   "id": "4b856f9d-75be-4040-8d5e-92b6a24abbc4",
   "metadata": {},
   "outputs": [],
   "source": [
    "fcm_unified = func_cal_fcm_unified(fcm);"
   ]
  },
  {
   "cell_type": "markdown",
   "id": "0ed0af25-d7b8-41a3-89f8-a91bce8f2430",
   "metadata": {},
   "source": [
    "#### Coefficient considering the strength development"
   ]
  },
  {
   "cell_type": "markdown",
   "id": "607a7fa5-865e-431b-9055-751ee2590f3f",
   "metadata": {},
   "source": [
    "$s_c$ is a coefficient depending on the strength development class of concrete. In case the strength development class is unknown, class $CN$ is assumed."
   ]
  },
  {
   "cell_type": "code",
   "execution_count": 65,
   "id": "aa4acb81-d990-4f43-83f0-3e118f875695",
   "metadata": {},
   "outputs": [],
   "source": [
    "def func_cal_sc(data,fcm,CEM):\n",
    "    sc = np.zeros(data.shape[0]);\n",
    "    class_C = np.empty(data.shape[0],dtype=\"U256\");\n",
    "    for i in range(data.shape[0]):\n",
    "        \n",
    "        # Determination of sc; according to fib MC 2020, table 14.9-1\n",
    "        # =============================\n",
    "\n",
    "        fck = func_cal_fck(fcm[i,0]); # Call function func_cal_fck\n",
    "        \n",
    "        if CEM[i] == 1 or CEM[i] == 2:\n",
    "            if classCEM[i] == 2 or classCEM[i] == 0: # address class SC = CN\n",
    "                class_C[i] = \"CN\";\n",
    "                if fck > 35 and fck < 60:\n",
    "                    sc[i] = 0.4;\n",
    "                elif fck < 35:\n",
    "                    sc[i] = 0.5;\n",
    "                elif fck > 60:\n",
    "                    sc[i] = 0.3;\n",
    "            elif classCEM[i] == 3: # address class SC = CR\n",
    "                class_C[i] = \"CR\";\n",
    "                if fck > 35 and fck < 60:\n",
    "                    sc[i] = 0.2;\n",
    "                elif fck < 35:\n",
    "                    sc[i] = 0.3;\n",
    "                elif fck > 60:\n",
    "                    sc[i] = 0.1;\n",
    "        elif CEM[i] == 3:\n",
    "            class_C[i] = \"CS\";\n",
    "            if fck > 35 and fck < 60:\n",
    "                sc[i] = 0.6;\n",
    "            elif fck < 35:\n",
    "                sc[i] = 0.5;\n",
    "            elif fck > 60:\n",
    "                sc[i] = 0.4;\n",
    "        else:\n",
    "            class_C[i] = \"CN\";\n",
    "            if fck > 35 and fck < 60:\n",
    "                sc[i] = 0.4;\n",
    "            elif fck < 35:\n",
    "                sc[i] = 0.5;\n",
    "            elif fck > 60:\n",
    "                sc[i] = 0.3;\n",
    "    \n",
    "    return sc, class_C"
   ]
  },
  {
   "cell_type": "code",
   "execution_count": 66,
   "id": "d060fa55-9884-46ed-8dd3-3885f6dc2437",
   "metadata": {},
   "outputs": [],
   "source": [
    "df[\"sc\"], df[\"class_C\"] = func_cal_sc(df,fcm,CEM);\n",
    "df = df.astype({\n",
    "    \"sc\": \"float\",\n",
    "    \"class_C\": \"str\"\n",
    "});"
   ]
  },
  {
   "cell_type": "markdown",
   "id": "a79ea22c-5738-43e5-9966-2113164b3eee",
   "metadata": {},
   "source": [
    "#### Correction of the strength, based on the reference time"
   ]
  },
  {
   "cell_type": "code",
   "execution_count": 67,
   "id": "fb89b6d4-6698-4aa1-aa89-98f05dccf61d",
   "metadata": {},
   "outputs": [],
   "source": [
    "def func_correct_time(t0,t,sc,fcm,tfcm,exp):\n",
    "   \n",
    "    # Adjustment in time - concrete compression strength - determination testing structural element\n",
    "    # =============================\n",
    "\n",
    "    t28 = 28;\n",
    "    t_ele_test = t0 + t - 1; # Time at testing\n",
    "    t_mat_test_fcm = 0;\n",
    "\n",
    "    if len(tfcm) > 1 and max(tfcm) > 0:\n",
    "            arg = np.argmin(np.where(tfcm > 0,abs(tfcm-t28),1000)); # Temporarily substitutes 1000 in places of 0\n",
    "            t_mat_test_fcm = tfcm[arg]; # Selection of the test\n",
    "            fcm_not_adjusted = fcm[arg];\n",
    "    else:\n",
    "        fcm_not_adjusted = fcm[0]; # Because then no compression strength was tested\n",
    "\n",
    "    if t_mat_test_fcm == 0 or t_ele_test == 0:\n",
    "        Bcc = 1;\n",
    "    else:\n",
    "        Bcc = np.exp(sc*((1-(t_mat_test_fcm/t_ele_test)**0.5)) * (28/t_mat_test_fcm)**0.5);\n",
    "    \n",
    "    fcm_adj = ((Bcc)**(exp))*fcm_not_adjusted;\n",
    "    \n",
    "    # Adjustment in time - concrete compression strength - determination 28 day strength\n",
    "    # =============================\n",
    "    if len(tfcm) > 1 and max(tfcm) > 0:\n",
    "            arg = np.argmin(np.where(tfcm > 0,abs(tfcm-t28),1000)); # Temporarily substitutes 1000 in places of 0\n",
    "            t_mat_test_fcm = tfcm[arg]; # Selection of the test\n",
    "            fcm_not_adjusted = fcm[arg];\n",
    "    else:\n",
    "        fcm_not_adjusted = fcm[0]; # Because then no compression strength was tested\n",
    "\n",
    "    if t_mat_test_fcm == 0 or t_ele_test == 0:\n",
    "        Bccadj = 1;\n",
    "    else:\n",
    "        Bccadj = np.exp(sc*((1-(t_mat_test_fcm/t28)**0.5)) * (28/t_mat_test_fcm)**0.5);\n",
    "\n",
    "    fcm28 = ((Bccadj)**(exp))*fcm_not_adjusted;\n",
    "    \n",
    "    return fcm_adj, fcm28, Bcc\n",
    "        \n",
    "# Outputs: 28 day fcm unified strength, fcm strength at moment of testing structural element"
   ]
  },
  {
   "cell_type": "code",
   "execution_count": 68,
   "id": "fb4808b3-a432-4763-bb55-c187b2d20cf8",
   "metadata": {},
   "outputs": [],
   "source": [
    "fcm_uni = np.zeros(df.shape[0]);\n",
    "fcm28_uni = np.zeros(df.shape[0]);\n",
    "Bcc = np.zeros(df.shape[0]);\n",
    "\n",
    "for i in range(df.shape[0]):\n",
    "    fcm_uni[i], fcm28_uni[i], Bcc[i] = func_correct_time(df[\"t0\"].iloc[i],df[\"t\"].iloc[i],df[\"sc\"].iloc[i],fcm_unified[i,:],tfcm[i,:],1); \n",
    "\n",
    "df[\"fcm\"], df[\"fcm28\"], df[\"Bcc\"] = fcm_uni, fcm28_uni, Bcc;\n",
    "\n",
    "df = df.astype({\n",
    "    \"fcm\": \"float\",\n",
    "    \"fcm28\": \"float\",\n",
    "    \"Bcc\": \"float\"\n",
    "});"
   ]
  },
  {
   "cell_type": "code",
   "execution_count": 69,
   "id": "5c97df6f-f9a7-437b-a7be-0e58af382ec1",
   "metadata": {},
   "outputs": [],
   "source": [
    "df[\"fck28\"] = func_cal_fck(df[\"fcm28\"]);\n",
    "df = df.astype({\n",
    "    \"fck28\": \"float\"\n",
    "});"
   ]
  },
  {
   "cell_type": "markdown",
   "id": "2a81e90a-991d-4cdf-a238-62f27a197fef",
   "metadata": {},
   "source": [
    "#### Calculation of the cube compression strength (based on dimensions 150x150x150mm)"
   ]
  },
  {
   "cell_type": "markdown",
   "id": "eac03e9e-ed45-429a-9cee-3288e99ac6a0",
   "metadata": {},
   "source": [
    "For the conversion, HEFT 597 is used."
   ]
  },
  {
   "cell_type": "code",
   "execution_count": 70,
   "id": "fe46d949-20e5-4489-84d7-488807d428b5",
   "metadata": {},
   "outputs": [],
   "source": [
    "def func_cal_fcm_cube_150(fcm):\n",
    "    if fcm <= 54:\n",
    "        fcm_cube_150 = fcm/0.83;\n",
    "    else:\n",
    "        fcm_cube_150 = fcm + 11.1;\n",
    "\n",
    "    return fcm_cube_150"
   ]
  },
  {
   "cell_type": "code",
   "execution_count": 71,
   "id": "9d71476e-f625-49c5-b6fa-0829df9ae10e",
   "metadata": {},
   "outputs": [],
   "source": [
    "fcm_cube_150_temp = np.zeros(df.shape[0]);\n",
    "\n",
    "for i in range(df.shape[0]):\n",
    "    fcm_cube_150_temp[i] = func_cal_fcm_cube_150(df[\"fcm\"].iloc[i]);\n",
    "\n",
    "df[\"fcm_cube_150\"] = fcm_cube_150_temp;\n",
    "df = df.astype({\n",
    "    \"fcm_cube_150\": \"float\"\n",
    "});"
   ]
  },
  {
   "cell_type": "markdown",
   "id": "e616b6d8-6163-43f7-8611-ea1e09111c32",
   "metadata": {},
   "source": [
    "#### Calculation of uniformly defined concrete tensile strength, related to correct loading stage"
   ]
  },
  {
   "cell_type": "markdown",
   "id": "22183605-9bc6-4592-866b-80d653b2fe18",
   "metadata": {},
   "source": [
    "Estimation of the mean tensile strength $f_{\\rm{cm}}$, based on the mean compression strength."
   ]
  },
  {
   "cell_type": "code",
   "execution_count": 72,
   "id": "765a990c-09e4-41b4-93d3-25def93f7617",
   "metadata": {},
   "outputs": [],
   "source": [
    "def func_cal_fctm_from_fcm(fck28,fcm28):\n",
    "  \n",
    "    if fck28 < 50:\n",
    "        fctm = 0.3*fck28**(2/3);\n",
    "    else:\n",
    "        fctm = 2.12 * np.log(1+fcm28/10);\n",
    "    \n",
    "    return fctm"
   ]
  },
  {
   "cell_type": "code",
   "execution_count": 73,
   "id": "8fdc9f11-58f3-453f-9c12-c868c640eee2",
   "metadata": {},
   "outputs": [],
   "source": [
    "# Requires input of 28 day splitting tensile strength\n",
    "def func_cal_fctm_from_fctm_splitting(fctm_splitting):\n",
    "    asp = 1;\n",
    "    return asp*fctm_splitting"
   ]
  },
  {
   "cell_type": "code",
   "execution_count": 74,
   "id": "f77cc08f-be97-4956-976b-9062ca991526",
   "metadata": {},
   "outputs": [],
   "source": [
    "# Requires input of 28 day flexural tensile strength\n",
    "def func_cal_fctm_from_fctmfl(fctmfl,h):\n",
    "    arup = (1 + 0.06*(h**0.7))/(0.06*(h**0.7));\n",
    "    fctm = fctmfl/arup;\n",
    "    return fctm"
   ]
  },
  {
   "cell_type": "code",
   "execution_count": 75,
   "id": "e9b543a6-662f-4244-bd54-0cac11c45696",
   "metadata": {},
   "outputs": [],
   "source": [
    "# Requires input of 28 day tensile strength\n",
    "def func_cal_fctmfl_from_fctm(fctm,h):\n",
    "    arup = (1 + 0.06*(h**0.7))/(0.06*(h**0.7));\n",
    "    fctmfl = fctm*arup;\n",
    "    return fctmfl"
   ]
  },
  {
   "cell_type": "code",
   "execution_count": 76,
   "id": "2439b8d7-9626-4413-b061-fc19f0844c67",
   "metadata": {},
   "outputs": [],
   "source": [
    "def func_cal_fcteff_from_fctm(fctm):\n",
    "    fcteff = 1.3*fctm\n",
    "    return fcteff"
   ]
  },
  {
   "cell_type": "code",
   "execution_count": 77,
   "id": "733e7db8-da81-4363-b62c-007fff335513",
   "metadata": {},
   "outputs": [],
   "source": [
    "def func_cal_uniformly_fctm(data,fctm,tfctm,exp):\n",
    "\n",
    "    fctm_unified_28 = np.zeros(data.shape[0]); # This is the 28th day tensile strength (uniformly defined)\n",
    "    fctm_unified = np.zeros(data.shape[0]); # This is the unixial tensile strength, based on the testing time!\n",
    "\n",
    "    fctmfl_unified_28 = np.zeros(data.shape[0]);\n",
    "    fctmfl_unified = np.zeros(data.shape[0]);\n",
    "\n",
    "    fct095_28 = np.zeros(data.shape[0]);\n",
    "    fct095 = np.zeros(data.shape[0]);\n",
    "\n",
    "    fct095_28_fl = np.zeros(data.shape[0]);\n",
    "    fct095_fl = np.zeros(data.shape[0]);\n",
    "\n",
    "    for i in range(data.shape[0]): # Loop through all the rows in the database\n",
    "\n",
    "        # step 1: describe the tensile strength uniformly\n",
    "        # ==========================\n",
    "        t0 = data[\"t0\"].iloc[i];\n",
    "        t = data[\"t\"].iloc[i];\n",
    "        sc = data[\"sc\"].iloc[i];\n",
    "    \n",
    "        t_ele_test = t0 + t - 1;\n",
    "        \n",
    "        if fctm[i,0] < 0.01: # First, address the cases where the tensile strength is unknown\n",
    "            fctm_unified_28[i] = func_cal_fctm_from_fcm(data[\"fck28\"].iloc[i],data[\"fcm28\"].iloc[i]);  # Replace with the 28th day tensile strength\n",
    "            fctmfl_unified_28[i] = func_cal_fctmfl_from_fctm(fctm_unified_28[i],data[\"h\"].iloc[i]);\n",
    "    \n",
    "            fct095_28[i] = func_cal_fcteff_from_fctm(fctm_unified_28[i]);\n",
    "            fct095_28_fl[i] = func_cal_fcteff_from_fctm(fctmfl_unified_28[i]);\n",
    "            \n",
    "            fctm_temp = np.zeros(Ncond);\n",
    "            fctm_temp[0] = fctm_unified_28[i];\n",
    "    \n",
    "            time_temp = np.zeros(Ncond);\n",
    "            time_temp[0] = t_ele_test; # Impute testing time\n",
    "            \n",
    "            fctm_unified[i] = func_correct_time(t0,t,sc,fctm_temp,time_temp,exp)[0];\n",
    "    \n",
    "            fctm_temp = np.zeros(Ncond);\n",
    "            fctm_temp[0] = fctmfl_unified_28[i];\n",
    "    \n",
    "            time_temp = np.zeros(Ncond);\n",
    "            time_temp[0] = t_ele_test; # Impute testing time\n",
    "            \n",
    "            fctmfl_unified[i] = func_correct_time(t0,t,sc,fctm_temp,time_temp,exp)[0];\n",
    "    \n",
    "            fctm_temp = np.zeros(Ncond);\n",
    "            fctm_temp[0] = fct095_28[i];\n",
    "    \n",
    "            time_temp = np.zeros(Ncond);\n",
    "            time_temp[0] = t_ele_test; # Impute testing time\n",
    "    \n",
    "            fct095[i] = func_correct_time(t0,t,sc,fctm_temp,time_temp,exp)[0];\n",
    "    \n",
    "            fctm_temp = np.zeros(Ncond);\n",
    "            fctm_temp[0] = fct095_28_fl[i];\n",
    "    \n",
    "            time_temp = np.zeros(Ncond);\n",
    "            time_temp[0] = t_ele_test; # Impute testing time\n",
    "    \n",
    "            fct095_fl[i] = func_correct_time(t0,t,sc,fctm_temp,time_temp,exp)[0];\n",
    "        \n",
    "        elif fctm[i,0] > 0.01 and fctm_test[i] == 1: # Tensile strength measured with direct tensile test --> unusuable\n",
    "            fctm_unified_28[i] = func_cal_fctm_from_fcm(data[\"fck28\"].iloc[i],data[\"fcm28\"].iloc[i]);  # Replace with the 28th day tensile strength\n",
    "            fctmfl_unified_28[i] = func_cal_fctmfl_from_fctm(fctm_unified_28[i],data[\"h\"].iloc[i]);\n",
    "    \n",
    "            fct095_28[i] = func_cal_fcteff_from_fctm(fctm_unified_28[i]);\n",
    "            fct095_28_fl[i] = func_cal_fcteff_from_fctm(fctmfl_unified_28[i]);\n",
    "            \n",
    "            fctm_temp = np.zeros(Ncond);\n",
    "            fctm_temp[0] = fctm_unified_28[i]; # Use testing time when the direct tensile test was performed\n",
    "            \n",
    "            fctm_unified[i] = func_correct_time(t0,t,sc,fctm_temp,tfctm[i,:],exp)[0];\n",
    "    \n",
    "            fctm_temp = np.zeros(Ncond);\n",
    "            fctm_temp[0] = fctmfl_unified_28[i]; # Use testing time when the direct tensile test was performed\n",
    "            \n",
    "            fctmfl_unified[i] = func_correct_time(t0,t,sc,fctm_temp,tfctm[i,:],exp)[0];\n",
    "    \n",
    "            fctm_temp = np.zeros(Ncond);\n",
    "            fctm_temp[0] = fct095_28[i];\n",
    "    \n",
    "            time_temp = np.zeros(Ncond);\n",
    "            time_temp[0] = t_ele_test; # Impute testing time\n",
    "            \n",
    "            fct095[i] = func_correct_time(t0,t,sc,fctm_temp,tfctm[i,:],exp)[0];\n",
    "    \n",
    "            fctm_temp = np.zeros(Ncond);\n",
    "            fctm_temp[0] = fct095_28_fl[i];\n",
    "    \n",
    "            time_temp = np.zeros(Ncond);\n",
    "            time_temp[0] = t_ele_test; # Impute testing time\n",
    "    \n",
    "            fct095_fl[i] = func_correct_time(t0,t,sc,fctm_temp,tfctm[i,:],exp)[0];\n",
    "        \n",
    "        elif fctm[i,0] > 0.01 and fctm_test[i] == 2: # Address tensile splitting test\n",
    "            fctm_temp = func_cal_fctm_from_fctm_splitting(fctm[i,:]); # Value of tensile strength at moment of testing\n",
    "            \n",
    "            # convert it to 28 day tensile testing\n",
    "            fctm_unified_28[i] = func_correct_time(t0,t,sc,fctm_temp,tfctm[i,:],exp)[1]; # Replace with the 28th day tensile strength\n",
    "            fctmfl_unified_28[i] = func_cal_fctmfl_from_fctm(fctm_unified_28[i],data[\"h\"].iloc[i]);\n",
    "                  \n",
    "            fct095_28[i] = func_cal_fcteff_from_fctm(fctm_unified_28[i]);\n",
    "            fct095_28_fl[i] = func_cal_fcteff_from_fctm(fctmfl_unified_28[i]);\n",
    "            \n",
    "            fctm_unified[i] = func_correct_time(t0,t,sc,fctm_temp,tfctm[i,:],exp)[0]; # Value of tensile strength at moment of testing\n",
    "    \n",
    "            fctm_temp = np.zeros(Ncond);\n",
    "            fctm_temp[0] = fctmfl_unified_28[i]; # Use testing time when the direct tensile test was performed\n",
    "           \n",
    "            fctmfl_unified[i] = func_correct_time(t0,t,sc,fctm_temp,tfctm[i,:],exp)[0]; \n",
    "    \n",
    "            fctm_temp = np.zeros(Ncond);\n",
    "            fctm_temp[0] = fct095_28[i]; \n",
    "    \n",
    "            fct095[i] = func_correct_time(t0,t,sc,fctm_temp,tfctm[i,:],exp)[0]; \n",
    "    \n",
    "            fctm_temp = np.zeros(Ncond);\n",
    "            fctm_temp[0] = fct095_28_fl[i]; \n",
    "    \n",
    "            fct095_fl[i] = func_correct_time(t0,t,sc,fctm_temp,tfctm[i,:],exp)[0]; \n",
    "        \n",
    "        elif fctm[i,0] > 0.01 and fctm_test[i] == 3: # Address flexural tensile strength\n",
    "            fctm_temp = func_correct_time(t0,t,sc,fctm[i,:],tfctm[i,:],exp)[1]; # Replace with the 28th day tensile strength\n",
    "            fctm_unified_28[i] = func_cal_fctm_from_fctmfl(fctm_temp,data[\"h\"].iloc[i]); # Replace with the 28th day tensile strength\n",
    "            fctmfl_unified_28[i] = fctm_temp;\n",
    "            fct095_28[i] = func_cal_fcteff_from_fctm(fctm_unified_28[i]);\n",
    "            fct095_28_fl[i] = func_cal_fcteff_from_fctm(fctmfl_unified_28[i]);\n",
    "            \n",
    "            fctm_temp = np.zeros(Ncond);\n",
    "            fctm_temp[0] = fctm_unified_28[i];\n",
    "    \n",
    "            time_temp = np.zeros(Ncond);\n",
    "            time_temp[0] = t_ele_test; # Impute testing time (at first element in the array)\n",
    "            \n",
    "            fctm_unified[i] = func_correct_time(t0,t,sc,fctm_temp,time_temp,exp)[0]; # Value of tensile strength at moment of testing\n",
    "    \n",
    "            fctm_temp = np.zeros(Ncond);\n",
    "            fctm_temp[0] = fctmfl_unified_28[i];\n",
    "    \n",
    "            time_temp = np.zeros(Ncond);\n",
    "            time_temp[0] = t_ele_test; # Impute testing time (at first element in the array)\n",
    "    \n",
    "            fctmfl_unified[i] = func_correct_time(t0,t,sc,fctm_temp,time_temp,exp)[0]; \n",
    "    \n",
    "            fctm_temp = np.zeros(Ncond);\n",
    "            fctm_temp[0] = fct095_28[i];\n",
    "    \n",
    "            time_temp = np.zeros(Ncond);\n",
    "            time_temp[0] = t_ele_test; # Impute testing time (at first element in the array)\n",
    "            \n",
    "            fct095[i] = func_correct_time(t0,t,sc,fctm_temp,time_temp,exp)[0]; \n",
    "    \n",
    "            fctm_temp = np.zeros(Ncond);\n",
    "            fctm_temp[0] = fct095_28_fl[i];\n",
    "    \n",
    "            time_temp = np.zeros(Ncond);\n",
    "            time_temp[0] = t_ele_test; # Impute testing time (at first element in the array)\n",
    "    \n",
    "            fct095_fl[i] = func_correct_time(t0,t,sc,fctm_temp,time_temp,exp)[0]; \n",
    "        \n",
    "        elif fctm[i,0] > 0.01 and fctm_test[i] == 0: # Address case were testing method was unknown, but it was tested --> assume splitting tensile test\n",
    "            fctm_unified_28[i] = func_correct_time(t0,t,sc,fctm[i,:],tfctm[i,:],exp)[1]; # Replace with the 28th day tensile strength\n",
    "            fctmfl_unified_28[i] = func_cal_fctmfl_from_fctm(fctm_unified_28[i],data[\"h\"].iloc[i]);\n",
    "            fct095_28[i] = func_cal_fcteff_from_fctm(fctm_unified_28[i]);\n",
    "            fct095_28_fl[i] = func_cal_fcteff_from_fctm(fctmfl_unified_28[i]);\n",
    "            \n",
    "            fctm_temp = np.zeros(Ncond);\n",
    "            fctm_temp[0] = fctm_unified_28[i];\n",
    "    \n",
    "            time_temp = np.zeros(Ncond);\n",
    "            time_temp[0] = t_ele_test; # Impute testing time (at first element in the array)\n",
    "            \n",
    "            fctm_unified[i] = func_correct_time(t0,t,sc,fctm_temp,time_temp,exp)[0]; # Value of tensile strength at moment of testing\n",
    "    \n",
    "            fctm_temp = np.zeros(Ncond);\n",
    "            fctm_temp[0] = fctmfl_unified_28[i];\n",
    "    \n",
    "            time_temp = np.zeros(Ncond);\n",
    "            time_temp[0] = t_ele_test; # Impute testing time (at first element in the array)\n",
    "    \n",
    "            fctmfl_unified[i] = func_correct_time(t0,t,sc,fctm_temp,tfctm[i,:],exp)[0];\n",
    "    \n",
    "            fctm_temp = np.zeros(Ncond);\n",
    "            fctm_temp[0] = fct095_28[i];\n",
    "    \n",
    "            time_temp = np.zeros(Ncond);\n",
    "            time_temp[0] = t_ele_test; # Impute testing time (at first element in the array)\n",
    "    \n",
    "            fct095[i] = func_correct_time(t0,t,sc,fctm_temp,tfctm[i,:],exp)[0];\n",
    "            \n",
    "            fctm_temp = np.zeros(Ncond);\n",
    "            fctm_temp[0] = fct095_28_fl[i];\n",
    "            \n",
    "            time_temp = np.zeros(Ncond);\n",
    "            time_temp[0] = t_ele_test; # Impute testing time (at first element in the array)\n",
    "    \n",
    "            fct095_fl[i] = func_correct_time(t0,t,sc,fctm_temp,tfctm[i,:],exp)[0];\n",
    "        \n",
    "    return fctm_unified_28, fctm_unified, fctmfl_unified_28, fctmfl_unified, fct095_28, fct095, fct095_28_fl, fct095_fl"
   ]
  },
  {
   "cell_type": "code",
   "execution_count": 78,
   "id": "3ff849b0-6db1-4383-8f27-9591cacc9e9c",
   "metadata": {},
   "outputs": [],
   "source": [
    "df[\"fctm28\"], df[\"fctm\"], df[\"fctmfl28\"], df[\"fctmfl\"], df[\"fct095_28\"], df[\"fct095\"], df[\"fct095fl_28\"], df[\"fct095fl\"] \\\n",
    "    = func_cal_uniformly_fctm(df,fctm,tfctm,0.6)\n",
    "df = df.astype({\n",
    "    \"fctm28\": \"float\",\n",
    "    \"fctm\": \"float\",\n",
    "    \"fctmfl28\": \"float\",\n",
    "    \"fctmfl\": \"float\",\n",
    "    \"fct095_28\": \"float\",\n",
    "    \"fct095\": \"float\", \n",
    "    \"fct095fl_28\": \"float\",\n",
    "    \"fct095fl\": \"float\"  \n",
    "});"
   ]
  },
  {
   "cell_type": "markdown",
   "id": "ecf470a3-1688-4a3f-a6d9-f05312be57c1",
   "metadata": {},
   "source": [
    "#### Calculation of uniformly defined youngs modulus, related to correct loading stage"
   ]
  },
  {
   "cell_type": "markdown",
   "id": "8e34282c-14fc-4a35-b9ce-1242eda9b786",
   "metadata": {},
   "source": [
    "Estimation of the Young's Modulus, based on the mean compression strength. Since the aggregate type is unknown, the standard value of $E_{\\rm{c0}} = 21500$ MPa is used."
   ]
  },
  {
   "cell_type": "code",
   "execution_count": 79,
   "id": "d3474ae1-e6bc-4804-91a7-bfb66725f63d",
   "metadata": {},
   "outputs": [],
   "source": [
    "def func_cal_Ecm_from_fcm(fcm,ae):\n",
    "    Ec0 = 21500;\n",
    "    Ecm = Ec0*ae*(fcm/10)**(1/3);\n",
    "    return Ecm"
   ]
  },
  {
   "cell_type": "code",
   "execution_count": 80,
   "id": "b35a900b-d0b9-4692-b5e4-4a06cedadd43",
   "metadata": {},
   "outputs": [],
   "source": [
    "def func_cal_uniformly_Ecm(data,Ecm,tEcm,exp):\n",
    "\n",
    "    Ecm_unified_28 = np.zeros(data.shape[0]);\n",
    "    Ecm_unified = np.zeros(data.shape[0]);\n",
    "\n",
    "    for i in range(data.shape[0]):\n",
    "        \n",
    "        # ==========================\n",
    "        t0 = data[\"t0\"].iloc[i];\n",
    "        t = data[\"t\"].iloc[i];\n",
    "        sc = data[\"sc\"].iloc[i];\n",
    "\n",
    "        t_ele_test = t0 + t - 1;\n",
    "        # Address case were the Youngs modulus is unknown (not tested)\n",
    "        if Ecm[i,0] < 0.01:\n",
    "            Ecm_unified_28[i] = func_cal_Ecm_from_fcm(data[\"fcm28\"].iloc[i],1);  # Replace with the 28th day tensile strength\n",
    "\n",
    "            Ecm_temp = np.zeros(Ncond);\n",
    "            Ecm_temp[0] = Ecm_unified_28[i];\n",
    "\n",
    "            time_temp = np.zeros(Ncond);\n",
    "            time_temp[0] = 28;\n",
    "            #time_temp[0] = t_ele_test; # Impute testing time\n",
    "            \n",
    "            Ecm_unified[i] = func_correct_time(t0,t,sc,Ecm_temp,time_temp,exp)[0];\n",
    "\n",
    "        # Address case were the Youngs modulus is known\n",
    "        elif Ecm[i,0] > 0.01:\n",
    "\n",
    "            Ecm_unified_28[i] = func_correct_time(t0,t,sc,Ecm[i,:],tEcm[i,:],exp)[1];\n",
    "            Ecm_temp = np.zeros(Ncond);\n",
    "            Ecm_temp[0] = Ecm_unified_28[i];\n",
    "\n",
    "            Ecm_unified[i] = func_correct_time(t0,t,sc,Ecm_temp,tEcm[i,:],exp)[0]; \n",
    "            \n",
    "    return Ecm_unified_28, Ecm_unified"
   ]
  },
  {
   "cell_type": "code",
   "execution_count": 81,
   "id": "eaccf33c-6d9e-447e-990f-52e0704a106a",
   "metadata": {},
   "outputs": [],
   "source": [
    "df[\"Ecm28\"], df[\"Ecm\"] = func_cal_uniformly_Ecm(df,Ecm,tEcm,0.33)\n",
    "df = df.astype({\n",
    "    \"Ecm28\": \"float\",\n",
    "    \"Ecm\": \"float\"\n",
    "});"
   ]
  },
  {
   "cell_type": "markdown",
   "id": "f1cac08d-eff3-4532-ad08-19e8e460b276",
   "metadata": {},
   "source": [
    "#### Calculation of the creep coefficient"
   ]
  },
  {
   "cell_type": "markdown",
   "id": "1add6418-696a-4daa-bf43-80f7ccd57d6a",
   "metadata": {},
   "source": [
    "##### Basic creep (load, no prestressing)"
   ]
  },
  {
   "cell_type": "code",
   "execution_count": 82,
   "id": "1d9a6ef3-2e62-481a-9c8a-f4391da26326",
   "metadata": {},
   "outputs": [],
   "source": [
    "def func_alpha(class_conc):\n",
    "    \n",
    "    if class_conc == \"CS\":\n",
    "        alpha = -1;\n",
    "    elif class_conc == \"CN\":\n",
    "        alpha = 0;\n",
    "    elif class_conc == \"CR\":\n",
    "        alpha = 1;\n",
    "\n",
    "    return alpha"
   ]
  },
  {
   "cell_type": "code",
   "execution_count": 83,
   "id": "e50fac5b-904a-41a3-8892-e07052b0270c",
   "metadata": {},
   "outputs": [],
   "source": [
    "def func_beta_bc_fcm(fcm):\n",
    "    return (1.8/(fcm**0.7))"
   ]
  },
  {
   "cell_type": "code",
   "execution_count": 84,
   "id": "6916c6d9-db91-4206-bc19-ad3fed34c5e3",
   "metadata": {},
   "outputs": [],
   "source": [
    "def func_beta_t_t0(t0adj,t,t0,xi_bc2):\n",
    "    return np.log(  (((30/t0adj) + 0.035)**2) * ((t-t0)/xi_bc2) + 1);"
   ]
  },
  {
   "cell_type": "code",
   "execution_count": 85,
   "id": "3bacb08d-361b-42ac-acf2-674f8e05ca95",
   "metadata": {},
   "outputs": [],
   "source": [
    "def func_t0adj(t0T,alpha):\n",
    "    return max(t0T*(9/(2+t0T**1.2) + 1)**alpha , 0.5);    "
   ]
  },
  {
   "cell_type": "code",
   "execution_count": 86,
   "id": "a649a5e1-5581-48f3-9ba6-87c646077e84",
   "metadata": {},
   "outputs": [],
   "source": [
    "def func_compute_basic_creep(data):\n",
    "\n",
    "    xi_bc2 = 1;\n",
    "    phi_bc = np.zeros(data.shape[0]); # Basic creep coefficient\n",
    "    \n",
    "    for i in range(data.shape[0]):\n",
    "\n",
    "        t = data[\"t\"].iloc[i] + data[\"t0\"].iloc[i] - 1;\n",
    "        t0 = data[\"t0\"].iloc[i];\n",
    "        t0T = t0; # In case of lab conditions with temperature of 20 degrees\n",
    "        \n",
    "        beta_bc_fcm = func_beta_bc_fcm(data[\"fcm28\"].iloc[i]);\n",
    "\n",
    "        alpha = func_alpha(data[\"class_C\"].iloc[i]);\n",
    "        \n",
    "        t0adj = func_t0adj(t0T,alpha);\n",
    "        beta_t_t0 = func_beta_t_t0(t0adj,t,t0,xi_bc2);\n",
    "\n",
    "        phi_bc[i] = beta_bc_fcm*beta_t_t0; # Basic creep coefficient\n",
    "    \n",
    "    return phi_bc, t0adj"
   ]
  },
  {
   "cell_type": "code",
   "execution_count": 87,
   "id": "a9398480-4cf6-49c1-aaec-30ae12a906a6",
   "metadata": {},
   "outputs": [],
   "source": [
    "df[\"phi_bc\"],t0adj = func_compute_basic_creep(df);\n",
    "df = df.astype({\n",
    "    \"phi_bc\": \"float\"\n",
    "});"
   ]
  },
  {
   "cell_type": "markdown",
   "id": "17590719-8627-4af4-ba43-540b1c3c9bec",
   "metadata": {},
   "source": [
    "##### Basis creep (prestressing)"
   ]
  },
  {
   "cell_type": "code",
   "execution_count": 88,
   "id": "58b6244e-2642-44c7-833d-71f7a0b72f69",
   "metadata": {},
   "outputs": [],
   "source": [
    "def func_compute_basic_creep_prestress(data):\n",
    "\n",
    "    xi_bc2 = 1;\n",
    "    phi_bc = np.zeros(data.shape[0]); # Basic creep coefficient\n",
    "    \n",
    "    for i in range(data.shape[0]):\n",
    "\n",
    "        t = data[\"t\"].iloc[i] + data[\"t0\"].iloc[i] - 1; # fib MC 2020 convention\n",
    "        t0 = data[\"t0p\"].iloc[i]; # fib MC 2020 convention\n",
    "        t0T = t0; # In case of lab conditions with temperature of 20 degrees\n",
    "        \n",
    "        beta_bc_fcm = func_beta_bc_fcm(data[\"fcm28\"].iloc[i]);\n",
    "\n",
    "        alpha = func_alpha(data[\"class_C\"].iloc[i]);\n",
    "        \n",
    "        t0adj = func_t0adj(t0T,alpha);\n",
    "        beta_t_t0 = func_beta_t_t0(t0adj,t,t0,xi_bc2);\n",
    "\n",
    "        phi_bc[i] = beta_bc_fcm*beta_t_t0; # Basic creep coefficient\n",
    "    \n",
    "    return phi_bc, t0adj"
   ]
  },
  {
   "cell_type": "code",
   "execution_count": 89,
   "id": "37055e5c-20d9-49f4-acb1-7a87efec8dc3",
   "metadata": {},
   "outputs": [],
   "source": [
    "df[\"phi_bc_prestress\"],t0adj = func_compute_basic_creep_prestress(df);\n",
    "df = df.astype({\n",
    "    \"phi_bc_prestress\": \"float\"\n",
    "});"
   ]
  },
  {
   "cell_type": "markdown",
   "id": "28145de6-1432-4155-bf0b-3b04be363c86",
   "metadata": {},
   "source": [
    "##### Basis creep (prior to loading)"
   ]
  },
  {
   "cell_type": "code",
   "execution_count": 90,
   "id": "563217d6-f3aa-4a6f-a2f7-d6242463617e",
   "metadata": {},
   "outputs": [],
   "source": [
    "def func_compute_basic_creep_prior_load(data):\n",
    "\n",
    "    xi_bc2 = 1;\n",
    "    phi_bc = np.zeros(data.shape[0]); # Basic creep coefficient\n",
    "    \n",
    "    for i in range(data.shape[0]):\n",
    "\n",
    "        t = data[\"t\"].iloc[i] + data[\"t0\"].iloc[i] - 1; # fib MC 2020 convention\n",
    "        t0 = 0; # fib MC 2020 convention\n",
    "        t0T = t0; # In case of lab conditions with temperature of 20 degrees\n",
    "        \n",
    "        beta_bc_fcm = func_beta_bc_fcm(data[\"fcm28\"].iloc[i]);\n",
    "\n",
    "        alpha = func_alpha(data[\"class_C\"].iloc[i]);\n",
    "        \n",
    "        t0adj = func_t0adj(t0T,alpha);\n",
    "        beta_t_t0 = func_beta_t_t0(t0adj,t,t0,xi_bc2);\n",
    "\n",
    "        phi_bc[i] = beta_bc_fcm*beta_t_t0; # Basic creep coefficient\n",
    "    \n",
    "    return phi_bc, t0adj"
   ]
  },
  {
   "cell_type": "code",
   "execution_count": 91,
   "id": "0d6efc22-da9e-4d23-bc59-fd5950106fb6",
   "metadata": {},
   "outputs": [],
   "source": [
    "df[\"phi_bc_prior_load\"],t0adj = func_compute_basic_creep_prior_load(df);\n",
    "df = df.astype({\n",
    "    \"phi_bc_prior_load\": \"float\"\n",
    "});"
   ]
  },
  {
   "cell_type": "markdown",
   "id": "e2bc5880-0e43-46ce-a190-a6263d07c823",
   "metadata": {},
   "source": [
    "##### Drying creep (load, no prestress)"
   ]
  },
  {
   "cell_type": "code",
   "execution_count": 92,
   "id": "8b3364dd-afe3-4a30-b485-42b0b0ba95ba",
   "metadata": {},
   "outputs": [],
   "source": [
    "def func_dc_fcm(fcm):\n",
    "    return 412/(fcm**1.4);"
   ]
  },
  {
   "cell_type": "code",
   "execution_count": 93,
   "id": "67e259c3-08fa-4a40-a18c-659760440f56",
   "metadata": {},
   "outputs": [],
   "source": [
    "def func_compute_h0(b,h,Ac,Nint):\n",
    "\n",
    "    Lint = np.zeros(Nint);\n",
    "    zint = np.zeros(Nint);\n",
    "    bint = np.zeros(Nint);\n",
    "\n",
    "    dz = h/Nint;\n",
    "\n",
    "    for i in range(Nint):\n",
    "        if i > 1 and i < Nint:\n",
    "            zint[i] = (h/Nint)*i;\n",
    "            bint[i] = (func_extract_width(max(zint[i],0.01),b) - func_extract_width(max(zint[i-1],0.01),b))/2;\n",
    "            Lint[i] = np.sqrt(dz**2 + bint[i]**2);\n",
    "\n",
    "        if i == 0:\n",
    "            bint[i] = (func_extract_width(max(zint[1],0.01),b) - func_extract_width(max(zint[0],0.01),b))/2;\n",
    "            Lint[i] = np.sqrt(dz**2 + bint[i]**2);\n",
    "           \n",
    "    arclength = sum(Lint);\n",
    "\n",
    "    u = func_extract_width(0+0.01,b) + func_extract_width(h-0.01,b) + 2*arclength;\n",
    "\n",
    "    h0 = 2*Ac/u;\n",
    "    \n",
    "    return h0"
   ]
  },
  {
   "cell_type": "code",
   "execution_count": 94,
   "id": "4a8808d6-0990-49f9-bd53-c541722c9982",
   "metadata": {},
   "outputs": [],
   "source": [
    "def func_beta_RH(h0,RH):\n",
    "    return (1-RH/100)/( (0.1*h0/100)**(1/3) );"
   ]
  },
  {
   "cell_type": "code",
   "execution_count": 95,
   "id": "dce37ea4-1b7c-4ac4-b866-d6810f0fcd9e",
   "metadata": {},
   "outputs": [],
   "source": [
    "def func_a_fcm(fcm):\n",
    "    return (35/fcm)**0.5;"
   ]
  },
  {
   "cell_type": "code",
   "execution_count": 96,
   "id": "85ff0db3-e61a-429e-83c9-646a80bf78d7",
   "metadata": {},
   "outputs": [],
   "source": [
    "def func_gamma_t0(t0adj):\n",
    "    return (1/(2.3 + 3.5/(np.sqrt(t0adj))));"
   ]
  },
  {
   "cell_type": "code",
   "execution_count": 97,
   "id": "ac25baf9-a47a-4f93-873c-3e40d289465b",
   "metadata": {},
   "outputs": [],
   "source": [
    "def func_beta_h(h0,afcm):\n",
    "    return min(1.5*h0 + 250*afcm , 1500*afcm)"
   ]
  },
  {
   "cell_type": "code",
   "execution_count": 98,
   "id": "d66ed02c-cc6b-44a0-bce0-7e146e403016",
   "metadata": {},
   "outputs": [],
   "source": [
    "def func_dc_t0(t0adj):\n",
    "    return 1/(0.1 + t0adj**0.2);"
   ]
  },
  {
   "cell_type": "code",
   "execution_count": 99,
   "id": "d6a03b60-2818-4531-8507-5828c3a67398",
   "metadata": {},
   "outputs": [],
   "source": [
    "def func_beta_dc(t,t0,gamma_t0,beta_h,xi_dc2):\n",
    "    return ( (t-t0)/(beta_h*xi_dc2 + (t-t0)) )**gamma_t0"
   ]
  },
  {
   "cell_type": "code",
   "execution_count": 100,
   "id": "67014290-b1be-46a3-af45-8cf5daed611b",
   "metadata": {},
   "outputs": [],
   "source": [
    "def func_compute_drying_creep(data):\n",
    "\n",
    "    xi_dc2 = 1;\n",
    "    phi_dc = np.zeros(data.shape[0]); # drying creep coefficient\n",
    "\n",
    "    for i in range(data.shape[0]):\n",
    "\n",
    "        t = data[\"t\"].iloc[i] + data[\"t0\"].iloc[i] - 1; # fib MC 2020 convention\n",
    "        t0 = data[\"t0\"].iloc[i]; # fib MC 2020 convention\n",
    "        t0T = t0; # In case of lab conditions with temperature of 20 degrees\n",
    "\n",
    "        alpha = func_alpha(data[\"class_C\"].iloc[i]);\n",
    "        t0adj = func_t0adj(t0T,alpha);\n",
    "        \n",
    "        dc_fcmb = func_dc_fcm(data[\"fcm28\"].iloc[i]);\n",
    "        h0 = func_compute_h0(data[\"b\"].iloc[i],data[\"h\"].iloc[i],data[\"Ac\"].iloc[i],Nint);\n",
    "        beta_RH = func_beta_RH(h0,data[\"RH\"].iloc[i]);\n",
    "        a_fcm = func_a_fcm(data[\"fcm28\"].iloc[i]);\n",
    "        \n",
    "        gamma_t0 = func_gamma_t0(t0adj);\n",
    "        beta_h = func_beta_h(h0,a_fcm);\n",
    "    \n",
    "        dc_t0 = func_dc_t0(t0adj);\n",
    "        beta_dc = func_beta_dc(t,t0,gamma_t0,beta_h,xi_dc2);\n",
    "        phi_dc[i] = dc_fcmb*beta_RH*dc_t0*beta_dc;\n",
    "    \n",
    "    return phi_dc"
   ]
  },
  {
   "cell_type": "code",
   "execution_count": 101,
   "id": "c2fd5371-5c67-4fff-99c6-eec73c229e8a",
   "metadata": {},
   "outputs": [],
   "source": [
    "df[\"phi_dc\"] = func_compute_drying_creep(df);\n",
    "df = df.astype({\n",
    "    \"phi_dc\": \"float\"\n",
    "});"
   ]
  },
  {
   "cell_type": "markdown",
   "id": "60326477-bdb5-4ee1-ab7f-b8f421fc9ae5",
   "metadata": {},
   "source": [
    "##### Drying creep, prestress"
   ]
  },
  {
   "cell_type": "code",
   "execution_count": 102,
   "id": "a13ec947-dc9c-4d60-9bb6-4ea4c5d60b4c",
   "metadata": {},
   "outputs": [],
   "source": [
    "def func_compute_drying_creep_prestress(data):\n",
    "\n",
    "    xi_dc2 = 1;\n",
    "    phi_dc = np.zeros(data.shape[0]); # drying creep coefficient\n",
    "\n",
    "    for i in range(data.shape[0]):\n",
    "\n",
    "        t = data[\"t\"].iloc[i] + data[\"t0\"].iloc[i] - 1; # fib MC 2020 convention\n",
    "        t0 = data[\"t0p\"].iloc[i]; # fib MC 2020 convention\n",
    "        t0T = t0; # In case of lab conditions with temperature of 20 degrees\n",
    "\n",
    "        alpha = func_alpha(data[\"class_C\"].iloc[i]);\n",
    "        t0adj = func_t0adj(t0T,alpha);\n",
    "        \n",
    "        dc_fcmb = func_dc_fcm(data[\"fcm28\"].iloc[i]);\n",
    "        h0 = func_compute_h0(data[\"b\"].iloc[i],data[\"h\"].iloc[i],data[\"Ac\"].iloc[i],Nint);\n",
    "        beta_RH = func_beta_RH(h0,data[\"RH\"].iloc[i]);\n",
    "        a_fcm = func_a_fcm(data[\"fcm28\"].iloc[i]);\n",
    "        \n",
    "        gamma_t0 = func_gamma_t0(t0adj);\n",
    "        beta_h = func_beta_h(h0,a_fcm);\n",
    "    \n",
    "        dc_t0 = func_dc_t0(t0adj);\n",
    "        beta_dc = func_beta_dc(t,t0,gamma_t0,beta_h,xi_dc2);\n",
    "        phi_dc[i] = dc_fcmb*beta_RH*dc_t0*beta_dc;\n",
    "    \n",
    "    return phi_dc"
   ]
  },
  {
   "cell_type": "code",
   "execution_count": 103,
   "id": "0a2e383f-3182-431c-b285-720e3e64f71f",
   "metadata": {},
   "outputs": [],
   "source": [
    "df[\"phi_dc_prestress\"] = func_compute_drying_creep_prestress(df);\n",
    "df = df.astype({\n",
    "    \"phi_dc_prestress\": \"float\"\n",
    "});"
   ]
  },
  {
   "cell_type": "markdown",
   "id": "aa1bc61b-debf-40e5-9004-551235644a3a",
   "metadata": {},
   "source": [
    "##### Dyring creep, prior to loading"
   ]
  },
  {
   "cell_type": "code",
   "execution_count": 104,
   "id": "12f3e67f-a5f5-4547-abca-97099fbcde89",
   "metadata": {},
   "outputs": [],
   "source": [
    "def func_compute_drying_creep_prior_load(data):\n",
    "\n",
    "    xi_dc2 = 1;\n",
    "    phi_dc = np.zeros(data.shape[0]); # drying creep coefficient\n",
    "\n",
    "    for i in range(data.shape[0]):\n",
    "\n",
    "        t = data[\"t\"].iloc[i] + data[\"t0\"].iloc[i] - 1; # fib MC 2020 convention\n",
    "        t0 = 0; # fib MC 2020 convention\n",
    "        t0T = t0; # In case of lab conditions with temperature of 20 degrees\n",
    "\n",
    "        alpha = func_alpha(data[\"class_C\"].iloc[i]);\n",
    "        t0adj = func_t0adj(t0T,alpha);\n",
    "        \n",
    "        dc_fcmb = func_dc_fcm(data[\"fcm28\"].iloc[i]);\n",
    "        h0 = func_compute_h0(data[\"b\"].iloc[i],data[\"h\"].iloc[i],data[\"Ac\"].iloc[i],Nint);\n",
    "        beta_RH = func_beta_RH(h0,data[\"RH\"].iloc[i]);\n",
    "        a_fcm = func_a_fcm(data[\"fcm28\"].iloc[i]);\n",
    "        \n",
    "        gamma_t0 = func_gamma_t0(t0adj);\n",
    "        beta_h = func_beta_h(h0,a_fcm);\n",
    "    \n",
    "        dc_t0 = func_dc_t0(t0adj);\n",
    "        beta_dc = func_beta_dc(t,t0,gamma_t0,beta_h,xi_dc2);\n",
    "        phi_dc[i] = dc_fcmb*beta_RH*dc_t0*beta_dc;\n",
    "    \n",
    "    return phi_dc"
   ]
  },
  {
   "cell_type": "code",
   "execution_count": 105,
   "id": "37fcf663-f816-4fdc-b611-3679544d236d",
   "metadata": {},
   "outputs": [],
   "source": [
    "df[\"phi_dc_prior_load\"] = func_compute_drying_creep_prior_load(df);\n",
    "df = df.astype({\n",
    "    \"phi_dc_prior_load\": \"float\"\n",
    "});"
   ]
  },
  {
   "cell_type": "markdown",
   "id": "baaa3989-7758-42dc-8fd4-f4c53124007b",
   "metadata": {},
   "source": [
    "##### Resulting creep"
   ]
  },
  {
   "cell_type": "code",
   "execution_count": 106,
   "id": "de23a33f-2510-433d-8ae8-0c040d6df36b",
   "metadata": {},
   "outputs": [],
   "source": [
    "xi_bc1 = 1;\n",
    "xi_dc1 = 1;\n",
    "\n",
    "df[\"phi_creep\"] = xi_bc1*df[\"phi_bc\"] + xi_dc1*df[\"phi_dc\"];\n",
    "df[\"phi_creep_prestress\"] = xi_bc1*df[\"phi_bc_prestress\"] + xi_dc1*df[\"phi_dc_prestress\"];\n",
    "df[\"phi_creep_prior_load\"] = xi_bc1*df[\"phi_bc_prior_load\"] + xi_dc1*df[\"phi_dc_prior_load\"];"
   ]
  },
  {
   "cell_type": "markdown",
   "id": "2a528a23-5e14-4de7-82de-226b66ea9a7a",
   "metadata": {},
   "source": [
    "#### Calculation of the Youngs Modulus including creep effects"
   ]
  },
  {
   "cell_type": "code",
   "execution_count": 107,
   "id": "ad108d99-d5ff-470f-84b8-598b53a2537b",
   "metadata": {},
   "outputs": [],
   "source": [
    "df[\"Ecm0\"] = df[\"Ecm\"];\n",
    "df[\"Ecm\"] = df[\"Ecm\"]/(1 + chi*df[\"phi_creep\"]);\n",
    "\n",
    "df = df.astype({\n",
    "    \"Ecm0\": \"float\",\n",
    "    \"Ecm\": \"float\"\n",
    "});"
   ]
  },
  {
   "cell_type": "markdown",
   "id": "307b5c9e-61cb-4c20-ba14-2af12f057cc5",
   "metadata": {},
   "source": [
    "#### Calculation of the shrinkage (at moment of loading)"
   ]
  },
  {
   "cell_type": "markdown",
   "id": "7f521c41-5f76-4136-9ea9-229d88b41cbf",
   "metadata": {},
   "source": [
    "##### Calculation of the basic shrinkage (pouring to load application)"
   ]
  },
  {
   "cell_type": "code",
   "execution_count": 108,
   "id": "31f6563c-1edc-4607-9054-62af03eda449",
   "metadata": {},
   "outputs": [],
   "source": [
    "def func_alpha_bs(class_conc):\n",
    "    if class_conc == \"CS\":\n",
    "        alpha_bs = 800;\n",
    "    elif class_conc == \"CN\":\n",
    "        alpha_bs = 700;\n",
    "    elif class_conc == \"CR\":\n",
    "        alpha_bs = 600;\n",
    "\n",
    "    return alpha_bs"
   ]
  },
  {
   "cell_type": "code",
   "execution_count": 109,
   "id": "5e77e347-8077-4850-b42f-25d5b8e3e38a",
   "metadata": {},
   "outputs": [],
   "source": [
    "def func_eps_cbs0(alpha_bs,fcm):\n",
    "    return (-alpha_bs * ((0.1*fcm)/(6 + 0.1*fcm))**2.5)*(10**(-6));"
   ]
  },
  {
   "cell_type": "code",
   "execution_count": 110,
   "id": "52b4ca9a-b4d5-4eac-92d5-008a6bc0ba0f",
   "metadata": {},
   "outputs": [],
   "source": [
    "def func_beta_bs(xi_bs2,t):\n",
    "    return 1 - np.exp(-0.2*xi_bs2*np.sqrt(t));"
   ]
  },
  {
   "cell_type": "code",
   "execution_count": 111,
   "id": "22ab0bce-b97f-4b36-95db-2c20f06a476c",
   "metadata": {},
   "outputs": [],
   "source": [
    "def func_compute_basic_shrinkage(data):\n",
    "\n",
    "    eps_cbs = np.zeros(data.shape[0]);\n",
    "    xi_bs2 = 1;\n",
    "    \n",
    "    for i in range(data.shape[0]):\n",
    "\n",
    "        t = data[\"t\"].iloc[i] + data[\"t0\"].iloc[i] - 1; # fib MC 2020 convention\n",
    "        alpha_bs = func_alpha_bs(data[\"class_C\"].iloc[i]);\n",
    "        eps_cbs0 = func_eps_cbs0(alpha_bs,data[\"fcm28\"].iloc[i]);\n",
    "        beta_bs = func_beta_bs(xi_bs2,t);\n",
    "\n",
    "        eps_cbs[i] = eps_cbs0*beta_bs;\n",
    "    \n",
    "    return eps_cbs"
   ]
  },
  {
   "cell_type": "code",
   "execution_count": 112,
   "id": "f1869291-a554-4197-9318-734bc8f691b6",
   "metadata": {},
   "outputs": [],
   "source": [
    "df[\"eps_cbs\"] = func_compute_basic_shrinkage(df);\n",
    "df = df.astype({\n",
    "    \"eps_cbs\": \"float\"\n",
    "});"
   ]
  },
  {
   "cell_type": "markdown",
   "id": "668a68c2-5f07-452b-919a-f83c3ceb99d8",
   "metadata": {},
   "source": [
    "##### Calculation of the basic shrinkage (prestressing to load application)"
   ]
  },
  {
   "cell_type": "code",
   "execution_count": 113,
   "id": "ccc99608-6104-4d04-8b91-5829cb087e23",
   "metadata": {},
   "outputs": [],
   "source": [
    "def func_compute_basic_shrinkage_prestress(data):\n",
    "\n",
    "    eps_cbs = np.zeros(data.shape[0]);\n",
    "    xi_bs2 = 1;\n",
    "    \n",
    "    for i in range(data.shape[0]):\n",
    "\n",
    "        # Computation of the total shrinkage; from pouring concrete to loading\n",
    "        t = data[\"t0\"].iloc[i] + data[\"t\"].iloc[i] - 1; # fib MC 2020 convention\n",
    "        alpha_bs = func_alpha_bs(data[\"class_C\"].iloc[i]);\n",
    "        eps_cbs0 = func_eps_cbs0(alpha_bs,data[\"fcm28\"].iloc[i]);\n",
    "        beta_bs = func_beta_bs(xi_bs2,t);\n",
    "\n",
    "        eps_cbs[i] = eps_cbs0*beta_bs;\n",
    "    \n",
    "    return eps_cbs"
   ]
  },
  {
   "cell_type": "code",
   "execution_count": 114,
   "id": "f7e165b1-08e1-43e1-b628-09142a0b73d6",
   "metadata": {},
   "outputs": [],
   "source": [
    "df[\"eps_cbs_prestress\"] = func_compute_basic_shrinkage_prestress(df);\n",
    "df = df.astype({\n",
    "    \"eps_cbs_prestress\": \"float\"\n",
    "});"
   ]
  },
  {
   "cell_type": "markdown",
   "id": "8df850b6-641a-441c-9b4c-179de8b47e4f",
   "metadata": {},
   "source": [
    "##### Calculation of the drying shrinkage"
   ]
  },
  {
   "cell_type": "code",
   "execution_count": 115,
   "id": "cf6a0865-57ee-4ab7-a79c-e638cb3a672e",
   "metadata": {},
   "outputs": [],
   "source": [
    "def func_alpha_ds1(class_conc):\n",
    "    if class_conc == \"CS\":\n",
    "        alpha_ds1 = 3;\n",
    "    elif class_conc == \"CN\":\n",
    "        alpha_ds1 = 4;\n",
    "    elif class_conc == \"CR\":\n",
    "        alpha_ds1 = 6;\n",
    "\n",
    "    return alpha_ds1"
   ]
  },
  {
   "cell_type": "code",
   "execution_count": 116,
   "id": "5b5ea45d-ed14-4144-96cc-a36b9b30152d",
   "metadata": {},
   "outputs": [],
   "source": [
    "def func_alpha_ds2(class_conc):\n",
    "    if class_conc == \"CS\":\n",
    "        alpha_ds2 = 0.013;\n",
    "    elif class_conc == \"CN\":\n",
    "        alpha_ds2 = 0.012;\n",
    "    elif class_conc == \"CR\":\n",
    "        alpha_ds2 = 0.012;\n",
    "\n",
    "    return alpha_ds2"
   ]
  },
  {
   "cell_type": "code",
   "execution_count": 117,
   "id": "761bde8f-03d6-445c-b60f-534168014034",
   "metadata": {},
   "outputs": [],
   "source": [
    "def func_eps_cds0(alpha_ds1,alpha_ds2,fcm):\n",
    "    return ( (220 + 110*alpha_ds1)*np.exp(-alpha_ds2*fcm) )*10**(-6);"
   ]
  },
  {
   "cell_type": "code",
   "execution_count": 118,
   "id": "b62ca99b-901e-41c8-a764-d3d3d3c6ec1f",
   "metadata": {},
   "outputs": [],
   "source": [
    "def func_RHeq(fcm):\n",
    "    return min(99*(35/fcm)**0.1 , 99);"
   ]
  },
  {
   "cell_type": "code",
   "execution_count": 119,
   "id": "9f30088f-d980-420b-a8cc-8e17af5f6703",
   "metadata": {},
   "outputs": [],
   "source": [
    "def func_betaRH(RH,RHeq):\n",
    "\n",
    "    if RH >= 20 and RH <= RHeq:\n",
    "        betaRH = -1.55*(1-(RH/RHeq)**3);\n",
    "        \n",
    "    elif RH >= RHeq and RH < 100:\n",
    "        betaRH = -1.55*(1-(RH/RHeq)**2);\n",
    "        \n",
    "    elif RH == 100:\n",
    "        betaRH = -1.55*(1-(RH/RHeq)**2) + 0.25;        \n",
    "    \n",
    "    return betaRH"
   ]
  },
  {
   "cell_type": "code",
   "execution_count": 120,
   "id": "e93b1168-8398-481b-8552-df4eb4844bba",
   "metadata": {},
   "outputs": [],
   "source": [
    "def func_beta_ds_delta_t(t,ts,xi_ds2,h0):\n",
    "    dt = t-ts;\n",
    "    return (dt/(0.035*xi_ds2*(h0**2) + dt))**0.5"
   ]
  },
  {
   "cell_type": "code",
   "execution_count": 121,
   "id": "206225c8-ddc4-4fcb-97c1-02e0e0ed5730",
   "metadata": {},
   "outputs": [],
   "source": [
    "def func_compute_drying_shrinkage(data):\n",
    "\n",
    "    eps_cds = np.zeros(data.shape[0]);\n",
    "    xi_ds2 = 1;\n",
    "    \n",
    "    for i in range(data.shape[0]):\n",
    "        t = data[\"t\"].iloc[i] + data[\"t0\"].iloc[i] - 1; # fib MC 2020 convention; total time, from pouring concrete until loading\n",
    "        t0 = data[\"t0\"].iloc[i]; # fib MC 2020 convention\n",
    "        \n",
    "        t0T = t0; # In case of lab conditions with temperature of 20 degrees\n",
    "        ts = data[\"ts\"].iloc[i];\n",
    "\n",
    "        alpha_ds1 = func_alpha_ds1(data[\"class_C\"].iloc[i]);\n",
    "        alpha_ds2 = func_alpha_ds2(data[\"class_C\"].iloc[i]);\n",
    "        h0 = func_compute_h0(data[\"b\"].iloc[i],data[\"h\"].iloc[i],data[\"Ac\"].iloc[i],Nint);\n",
    "        \n",
    "        ds_delta_t = func_beta_ds_delta_t(t,ts,xi_ds2,h0);\n",
    "\n",
    "        RHeq = func_RHeq(data[\"fcm28\"].iloc[i]);\n",
    "        betaRH = func_betaRH(data[\"RH\"].iloc[i],RHeq);\n",
    "        \n",
    "        eps_cds0 = func_eps_cds0(alpha_ds1,alpha_ds2,data[\"fcm28\"].iloc[i]);\n",
    "        eps_cds[i] = eps_cds0*betaRH*ds_delta_t;\n",
    "    \n",
    "    return eps_cds"
   ]
  },
  {
   "cell_type": "code",
   "execution_count": 122,
   "id": "c801482f-25d8-4ae0-ae10-826cc6cd0179",
   "metadata": {},
   "outputs": [],
   "source": [
    "df[\"eps_cds\"] = func_compute_drying_shrinkage(df);\n",
    "df = df.astype({\n",
    "    \"eps_cds\": \"float\"\n",
    "});"
   ]
  },
  {
   "cell_type": "markdown",
   "id": "fd3e47d9-51ec-4a76-9ed0-69623612642b",
   "metadata": {},
   "source": [
    "##### Calculation of the drying shrinkage (prestress)"
   ]
  },
  {
   "cell_type": "code",
   "execution_count": 123,
   "id": "83a2fc68-0e0a-48e1-82a9-b05f844f440d",
   "metadata": {},
   "outputs": [],
   "source": [
    "def func_compute_drying_shrinkage_prestress(data):\n",
    "\n",
    "    eps_cds = np.zeros(data.shape[0]);\n",
    "    xi_ds2 = 1;\n",
    "    \n",
    "    for i in range(data.shape[0]):\n",
    "        t = data[\"t\"].iloc[i] + data[\"t0\"].iloc[i] - 1; # fib MC 2020 convention; total time, from pouring concrete until loading\n",
    "        t0 = data[\"t0p\"].iloc[i]; # fib MC 2020 convention\n",
    "        \n",
    "        t0T = t0; # In case of lab conditions with temperature of 20 degrees\n",
    "        ts = data[\"ts\"].iloc[i];\n",
    "\n",
    "        alpha_ds1 = func_alpha_ds1(data[\"class_C\"].iloc[i]);\n",
    "        alpha_ds2 = func_alpha_ds2(data[\"class_C\"].iloc[i]);\n",
    "        h0 = func_compute_h0(data[\"b\"].iloc[i],data[\"h\"].iloc[i],data[\"Ac\"].iloc[i],Nint);\n",
    "        \n",
    "        ds_delta_t = func_beta_ds_delta_t(t,ts,xi_ds2,h0);\n",
    "\n",
    "        RHeq = func_RHeq(data[\"fcm28\"].iloc[i]);\n",
    "        betaRH = func_betaRH(data[\"RH\"].iloc[i],RHeq);\n",
    "        \n",
    "        eps_cds0 = func_eps_cds0(alpha_ds1,alpha_ds2,data[\"fcm28\"].iloc[i]);\n",
    "        eps_cds[i] = eps_cds0*betaRH*ds_delta_t;\n",
    "    \n",
    "    return eps_cds"
   ]
  },
  {
   "cell_type": "code",
   "execution_count": 124,
   "id": "189b3c68-ed6e-4bd8-baca-dbe01ce6a095",
   "metadata": {},
   "outputs": [],
   "source": [
    "df[\"eps_cds_prestress\"] = func_compute_drying_shrinkage_prestress(df);\n",
    "df = df.astype({\n",
    "    \"eps_cds_prestress\": \"float\"\n",
    "});"
   ]
  },
  {
   "cell_type": "markdown",
   "id": "dacd6081-8439-41df-a18f-1df10b4f5071",
   "metadata": {},
   "source": [
    "##### Total shrinkage"
   ]
  },
  {
   "cell_type": "code",
   "execution_count": 125,
   "id": "7a1681f3-0ca1-4ad8-bbdd-80981f92b459",
   "metadata": {},
   "outputs": [],
   "source": [
    "xi_bs1 = 1;\n",
    "xi_ds1 = 1;\n",
    "\n",
    "df[\"shrinkage\"] = xi_bs1*df[\"eps_cbs\"] + xi_ds1*df[\"eps_cds\"]; # Shrinkage from pouring concrete until loading in element setup\n",
    "df[\"shrinkage_prestress\"] = xi_bs1*df[\"eps_cbs_prestress\"] + xi_ds1*df[\"eps_cds_prestress\"];"
   ]
  },
  {
   "cell_type": "markdown",
   "id": "3e6601ab-d4a8-4e3f-b0d5-2ebb3d4bb52e",
   "metadata": {},
   "source": [
    "#### Initial shrinkage"
   ]
  },
  {
   "cell_type": "markdown",
   "id": "5a71279b-1914-4d22-bf42-3a2095a95d87",
   "metadata": {},
   "source": [
    "The majority of the tests are short-term loading tests. Thus, for the majority of the cases, the initial shrinkage is approximately equal to the total shrinkage; except for long term tests. For the initial shrinkage, the first value of the first time instance is considered."
   ]
  },
  {
   "cell_type": "code",
   "execution_count": 126,
   "id": "364348f1-3ac5-41cb-b4d2-040765fca0dc",
   "metadata": {},
   "outputs": [],
   "source": [
    "def func_compute_initial_shrinkage(data):\n",
    "    # Function to compute the initial shrinkage\n",
    "    initshrink = np.zeros(data.shape[0]);\n",
    "\n",
    "    for i in range(data.shape[0]):\n",
    "        if data[\"epsc\"].iloc[i] < 1:    # Address unknown values of the initial shrinkage: impute them\n",
    "            if data[\"t\"].iloc[i] < timecutoff:\n",
    "                initshrink[i] = data[\"shrinkage\"].iloc[i];\n",
    "            elif data[\"t\"].iloc[i] >= timecutoff:\n",
    "                if data[\"ELID\"].iloc[i] == \"C210\":\n",
    "                    initshrink[i] = -(10**-6)*data.loc[((data['ELID']== \"C210\") & (data['LOADID']==1))][[\"shrinkage\"]].values[0,0];\n",
    "                elif data[\"ELID\"].iloc[i] == \"C211\":\n",
    "                    initshrink[i] = -(10**-6)*data.loc[((data['ELID']== \"C211\") & (data['LOADID']==1))][[\"shrinkage\"]].values[0,0];\n",
    "                elif data[\"ELID\"].iloc[i] == \"C212\":\n",
    "                    initshrink[i] = -(10**-6)*data.loc[((data['ELID']== \"C212\") & (data['LOADID']==1))][[\"shrinkage\"]].values[0,0];\n",
    "                elif data[\"ELID\"].iloc[i] == \"C213\":\n",
    "                    initshrink[i] = -(10**-6)*data.loc[((data['ELID']== \"C213\") & (data['LOADID']==1))][[\"shrinkage\"]].values[0,0];\n",
    "                elif data[\"ELID\"].iloc[i] == \"C214\":\n",
    "                    initshrink[i] = -(10**-6)*data.loc[((data['ELID']== \"C214\") & (data['LOADID']==1))][[\"shrinkage\"]].values[0,0];\n",
    "                elif data[\"ELID\"].iloc[i] == \"C216\":\n",
    "                    initshrink[i] = -(10**-6)*data.loc[((data['ELID']== \"C216\") & (data['LOADID']==1))][[\"shrinkage\"]].values[0,0];\n",
    "                elif data[\"ELID\"].iloc[i] == \"C218\":\n",
    "                    initshrink[i] = -(10**-6)*data.loc[((data['ELID']== \"C218\") & (data['LOADID']==1))][[\"shrinkage\"]].values[0,0];\n",
    "\n",
    "                elif data[\"ELID\"].iloc[i] == \"LTN12A\":\n",
    "                    initshrink[i] = -(10**-6)*data.loc[((data['ELID']== \"LTN12A\") & (data['LOADID']==1))][[\"shrinkage\"]].values[0,0];\n",
    "                elif data[\"ELID\"].iloc[i] == \"LTN12B\":\n",
    "                    initshrink[i] = -(10**-6)*data.loc[((data['ELID']== \"LTN12B\") & (data['LOADID']==1))][[\"shrinkage\"]].values[0,0];\n",
    "                elif data[\"ELID\"].iloc[i] == \"LTN12C\":\n",
    "                    initshrink[i] = -(10**-6)*data.loc[((data['ELID']== \"LTN12C\") & (data['LOADID']==1))][[\"shrinkage\"]].values[0,0];\n",
    "                elif data[\"ELID\"].iloc[i] == \"LTN12D\":\n",
    "                    initshrink[i] = -(10**-6)*data.loc[((data['ELID']== \"LTN12D\") & (data['LOADID']==1))][[\"shrinkage\"]].values[0,0];\n",
    "                elif data[\"ELID\"].iloc[i] == \"SLTN4-12A\":\n",
    "                    initshrink[i] = -(10**-6)*data.loc[((data['ELID']== \"SLTN4-12A\") & (data['LOADID']==1))][[\"shrinkage\"]].values[0,0];\n",
    "                elif data[\"ELID\"].iloc[i] == \"SLTN4-12B\":\n",
    "                    initshrink[i] = -(10**-6)*data.loc[((data['ELID']== \"SLTN4-12B\") & (data['LOADID']==1))][[\"shrinkage\"]].values[0,0];\n",
    "\n",
    "        # Impute for known initial shrinkage values\n",
    "        else:\n",
    "            if data[\"t\"].iloc[i] < timecutoff: # To make sure that only short-term loaded elements are included (t=1).\n",
    "                initshrink[i] = -(10**-6)*data[\"epsc\"].iloc[i];\n",
    "            elif data[\"t\"].iloc[i] >= timecutoff:\n",
    "                if data[\"ELID\"].iloc[i] == \"C210\":\n",
    "                    initshrink[i] = -(10**-6)*data.loc[((data['ELID']== \"C210\") & (data['LOADID']==1))][[\"epsc\"]].values[0,0];\n",
    "                elif data[\"ELID\"].iloc[i] == \"C211\":\n",
    "                    initshrink[i] = -(10**-6)*data.loc[((data['ELID']== \"C211\") & (data['LOADID']==1))][[\"epsc\"]].values[0,0];\n",
    "                elif data[\"ELID\"].iloc[i] == \"C212\":\n",
    "                    initshrink[i] = -(10**-6)*data.loc[((data['ELID']== \"C212\") & (data['LOADID']==1))][[\"epsc\"]].values[0,0];\n",
    "                elif data[\"ELID\"].iloc[i] == \"C213\":\n",
    "                    initshrink[i] = -(10**-6)*data.loc[((data['ELID']== \"C213\") & (data['LOADID']==1))][[\"epsc\"]].values[0,0];\n",
    "                elif data[\"ELID\"].iloc[i] == \"C214\":\n",
    "                    initshrink[i] = -(10**-6)*data.loc[((data['ELID']== \"C214\") & (data['LOADID']==1))][[\"epsc\"]].values[0,0];\n",
    "                elif data[\"ELID\"].iloc[i] == \"C216\":\n",
    "                    initshrink[i] = -(10**-6)*data.loc[((data['ELID']== \"C216\") & (data['LOADID']==1))][[\"epsc\"]].values[0,0];\n",
    "                elif data[\"ELID\"].iloc[i] == \"C218\":\n",
    "                    initshrink[i] = -(10**-6)*data.loc[((data['ELID']== \"C218\") & (data['LOADID']==1))][[\"epsc\"]].values[0,0];\n",
    "\n",
    "                elif data[\"ELID\"].iloc[i] == \"LTN12A\":\n",
    "                    initshrink[i] = -(10**-6)*data.loc[((data['ELID']== \"LTN12A\") & (data['LOADID']==1))][[\"epsc\"]].values[0,0];\n",
    "                elif data[\"ELID\"].iloc[i] == \"LTN12B\":\n",
    "                    initshrink[i] = -(10**-6)*data.loc[((data['ELID']== \"LTN12B\") & (data['LOADID']==1))][[\"epsc\"]].values[0,0];\n",
    "                elif data[\"ELID\"].iloc[i] == \"LTN12C\":\n",
    "                    initshrink[i] = -(10**-6)*data.loc[((data['ELID']== \"LTN12C\") & (data['LOADID']==1))][[\"epsc\"]].values[0,0];\n",
    "                elif data[\"ELID\"].iloc[i] == \"LTN12D\":\n",
    "                    initshrink[i] = -(10**-6)*data.loc[((data['ELID']== \"LTN12D\") & (data['LOADID']==1))][[\"epsc\"]].values[0,0];\n",
    "                elif data[\"ELID\"].iloc[i] == \"SLTN4-12A\":\n",
    "                    initshrink[i] = -(10**-6)*data.loc[((data['ELID']== \"SLTN4-12A\") & (data['LOADID']==1))][[\"epsc\"]].values[0,0];\n",
    "                elif data[\"ELID\"].iloc[i] == \"SLTN4-12B\":\n",
    "                    initshrink[i] = -(10**-6)*data.loc[((data['ELID']== \"SLTN4-12B\") & (data['LOADID']==1))][[\"epsc\"]].values[0,0];\n",
    "    \n",
    "    return initshrink"
   ]
  },
  {
   "cell_type": "code",
   "execution_count": 127,
   "id": "48a9b0e9-1fc6-4330-9779-7b912ccbff50",
   "metadata": {},
   "outputs": [],
   "source": [
    "df[\"shrinkage_init\"] = func_compute_initial_shrinkage(df);\n",
    "df = df.astype({\n",
    "    \"shrinkage_init\": \"float\"\n",
    "});"
   ]
  },
  {
   "cell_type": "markdown",
   "id": "4279bd49-1c1b-40a8-95c5-a91404080fe4",
   "metadata": {},
   "source": [
    "#### Bond conditions"
   ]
  },
  {
   "cell_type": "code",
   "execution_count": 128,
   "id": "80c4c831-0df6-4b56-8041-804180a89634",
   "metadata": {},
   "outputs": [],
   "source": [
    "def func_determine_bond_cond(data):\n",
    "\n",
    "    bondLR = np.zeros((data.shape[0],Ncond)); # 1 = good bond, 2 = bad bond\n",
    "    bondPR = np.zeros((data.shape[0],Ncond)); # 1 = good bond, 2 = bad bond\n",
    "\n",
    "    bondLRexp = np.zeros(data.shape[0]);\n",
    "    bondPRexp = np.zeros(data.shape[0]);\n",
    "    \n",
    "    for i in range(data.shape[0]):\n",
    "        if data[\"Astot\"].iloc[i] > tol:\n",
    "            if data[\"pd\"].iloc[i] == 1: # Elements are parallel to concreting\n",
    "                bondLR[i,0:data[\"indLR\"].iloc[i]+1] = 2;\n",
    "            elif data[\"pd\"].iloc[i] == 2: # Elements perpendicular to concreting\n",
    "                for j in range(data[\"indLR\"].iloc[i]+1):\n",
    "                    if data[\"h\"].iloc[i] > 300 and data[\"h\"].iloc[i] - zs[i,j] > 300:\n",
    "                        bondLR[i,0:data[\"indLR\"].iloc[i]+1] = 2;\n",
    "                    else:\n",
    "                        bondLR[i,0:data[\"indLR\"].iloc[i]+1] = 1;\n",
    "            else: # In case the pouring direction is unknown, assume that elements are poured perpendicular to concreting\n",
    "                for j in range(data[\"indLR\"].iloc[i]+1):\n",
    "                    if data[\"h\"].iloc[i] > 300 and data[\"h\"].iloc[i] - zs[i,j] > 300:\n",
    "                        bondLR[i,0:data[\"indLR\"].iloc[i]+1] = 2;\n",
    "                    else:\n",
    "                        bondLR[i,0:data[\"indLR\"].iloc[i]+1] = 1;\n",
    "\n",
    "        else:\n",
    "            if data[\"pd\"].iloc[i] == 1: # Elements are parallel to concreting\n",
    "                bondPR[i,0:data[\"indNP\"].iloc[i]+1] = 2;\n",
    "            elif data[\"pd\"].iloc[i] == 2: # Elements perpendicular to concreting\n",
    "                for j in range(data[\"indNP\"].iloc[i]+1):\n",
    "                    if data[\"h\"].iloc[i] > 300 and data[\"h\"].iloc[i] - zp[i,j] > 300:\n",
    "                        \n",
    "                        bondPR[i,0:data[\"indNP\"].iloc[i]+1] = 2;\n",
    "                    else:\n",
    "                        bondPR[i,0:data[\"indNP\"].iloc[i]+1] = 1;\n",
    "            else:\n",
    "                for j in range(data[\"indNP\"].iloc[i]+1):\n",
    "                    if data[\"h\"].iloc[i] > 300 and data[\"h\"].iloc[i] - zp[i,j] > 300:\n",
    "                        bondPR[i,0:data[\"indNP\"].iloc[i]+1] = 2;\n",
    "                    else:\n",
    "                        bondPR[i,0:data[\"indNP\"].iloc[i]+1] = 1;\n",
    "        \n",
    "        bondLRexp[i] = bondLR[i,data[\"indLR\"].iloc[i]];\n",
    "        bondPRexp[i] = bondPR[i,data[\"indNP\"].iloc[i]];    \n",
    "\n",
    "    return bondLRexp, bondPRexp"
   ]
  },
  {
   "cell_type": "code",
   "execution_count": 129,
   "id": "d64f994b-c3ec-4a47-b12e-909b27306d8c",
   "metadata": {},
   "outputs": [],
   "source": [
    "df[\"bondLR\"] = func_determine_bond_cond(df)[0]; # The lowest reinforcing bar is used to calculate crack widths\n",
    "df[\"bondPR\"] = func_determine_bond_cond(df)[1]; # The lowest tendon is used to calculate crack widths\n",
    "df = df.astype({\n",
    "    \"bondLR\": \"int\",\n",
    "    \"bondPR\": \"int\"\n",
    "});"
   ]
  },
  {
   "cell_type": "markdown",
   "id": "a13628cb-6303-4450-b138-6dadfc4e8c34",
   "metadata": {},
   "source": [
    "### 05.05 - Functions to extract properties reinforcing steel - longitudinal direction"
   ]
  },
  {
   "cell_type": "markdown",
   "id": "d7dcb59b-06bf-4fd3-baf4-4a4af155fb53",
   "metadata": {},
   "source": [
    "#### Imputation of the yield strength"
   ]
  },
  {
   "cell_type": "code",
   "execution_count": 130,
   "id": "a432d94f-0daa-4a5e-88a2-e50c48f4f852",
   "metadata": {},
   "outputs": [],
   "source": [
    "def func_cal_fy(data):\n",
    "    fy = np.zeros(data.shape[0]);\n",
    "\n",
    "    for i in range(data.shape[0]):\n",
    "        if data[\"fy\"].iloc[i] > tol:\n",
    "            fy[i] = data[\"fy\"].iloc[i];\n",
    "            \n",
    "        elif data[\"fy\"].iloc[i] < tol and phi[i,0] > tol:\n",
    "            fy[i] = 500;\n",
    "            \n",
    "    return fy"
   ]
  },
  {
   "cell_type": "code",
   "execution_count": 131,
   "id": "468630d2-1f84-498b-8cd5-67643369a63b",
   "metadata": {},
   "outputs": [],
   "source": [
    "df[\"fy\"] = func_cal_fy(df);\n",
    "df = df.astype({\n",
    "    \"fy\": \"float\"\n",
    "});"
   ]
  },
  {
   "cell_type": "markdown",
   "id": "10478efe-7f6e-4f9a-bdb2-e82726fb18f3",
   "metadata": {},
   "source": [
    "#### Imputation of the youngs modulus of reinforcing steel"
   ]
  },
  {
   "cell_type": "code",
   "execution_count": 132,
   "id": "6492e0a0-8ba1-4656-9a79-f8c1ef0a5a27",
   "metadata": {},
   "outputs": [],
   "source": [
    "def func_cal_Es(data):\n",
    "    Es = np.zeros(data.shape[0]);\n",
    "    \n",
    "    for i in range(data.shape[0]):\n",
    "        if data[\"Es\"].iloc[i] != 0:\n",
    "            Es[i] = data[\"Es\"].iloc[i];\n",
    "        else:\n",
    "            Es[i] = 200000;\n",
    "            \n",
    "    return Es"
   ]
  },
  {
   "cell_type": "code",
   "execution_count": 133,
   "id": "28587d33-06ed-4044-9753-3d48f6756fcd",
   "metadata": {},
   "outputs": [],
   "source": [
    "df[\"Es\"] = func_cal_Es(df);\n",
    "df = df.astype({\n",
    "    \"Es\": \"float\"\n",
    "});"
   ]
  },
  {
   "cell_type": "markdown",
   "id": "76f8a804-005d-4970-a9ff-f54555094433",
   "metadata": {},
   "source": [
    "#### Imputation of the youngs modulus of prestressing steel"
   ]
  },
  {
   "cell_type": "code",
   "execution_count": 134,
   "id": "f7835562-aeed-4fae-b7d0-67cd6cf404fb",
   "metadata": {},
   "outputs": [],
   "source": [
    "def func_cal_Ep(data,npl):\n",
    "    Ep = np.zeros(data.shape[0]);\n",
    "    \n",
    "    for i in range(data.shape[0]):\n",
    "        if data[\"Ep\"].iloc[i] > 0.01:\n",
    "            Ep[i] = data[\"Ep\"].iloc[i];\n",
    "            \n",
    "        else:\n",
    "            if npl[i,0] > tol and data[\"EPID\"].iloc[i] == 8:\n",
    "                Ep[i] = 205000; # Since it seems that the youngs modulus for the bars is closer to 205 GPa, instead of 165 GPa\n",
    "                # and 205 GPa is also used for single wires\n",
    "                \n",
    "            elif npl[i,0] > tol and data[\"EPID\"].iloc[i] == 9:\n",
    "                Ep[i] = 195000; # For strands\n",
    "\n",
    "            elif npl[i,0] > tol and data[\"EPID\"].iloc[i] == 14:\n",
    "                Ep[i] = 195000; # For strands\n",
    "            \n",
    "            elif npl[i,0] > tol and data[\"EPID\"].iloc[i] == 17:\n",
    "                Ep[i] = 195000; # For strands\n",
    "\n",
    "            elif npl[i,0] > tol and data[\"EPID\"].iloc[i] == 20: \n",
    "                Ep[i] = 205000; # For single wires\n",
    "            \n",
    "            else:\n",
    "                Ep[i] = 0;\n",
    "    \n",
    "    return Ep"
   ]
  },
  {
   "cell_type": "code",
   "execution_count": 135,
   "id": "88c50f05-7a6f-4dba-89dc-939f9051cab2",
   "metadata": {},
   "outputs": [],
   "source": [
    "df[\"Ep\"] = func_cal_Ep(df,npl);\n",
    "df = df.astype({\n",
    "    \"Ep\": \"float\"\n",
    "});"
   ]
  },
  {
   "cell_type": "markdown",
   "id": "f583ff99-138d-4d52-a56b-038b5a37f0b8",
   "metadata": {},
   "source": [
    "#### Computation of ae en ap"
   ]
  },
  {
   "cell_type": "code",
   "execution_count": 136,
   "id": "bb361e9c-7ff3-4b65-b86c-2f4584a73dfe",
   "metadata": {},
   "outputs": [],
   "source": [
    "def func_cal_ae(data):\n",
    "    ae = data[\"Es\"]/data[\"Ecm\"]\n",
    "    return ae"
   ]
  },
  {
   "cell_type": "code",
   "execution_count": 137,
   "id": "69ffeb60-e6fb-4dbc-9f6f-88fd29661fcf",
   "metadata": {},
   "outputs": [],
   "source": [
    "def func_cal_ap(data):\n",
    "    ap = data[\"Ep\"]/data[\"Ecm\"]\n",
    "    return ap"
   ]
  },
  {
   "cell_type": "code",
   "execution_count": 138,
   "id": "acd310c0-af3e-4806-a6bd-3651bceb8eba",
   "metadata": {},
   "outputs": [],
   "source": [
    "df[\"ae\"] = func_cal_ae(df);\n",
    "df[\"ap\"] = func_cal_ap(df);\n",
    "df = df.astype({\n",
    "    \"ae\": \"float\",\n",
    "    \"ap\": \"float\"\n",
    "});"
   ]
  },
  {
   "cell_type": "markdown",
   "id": "60d8bf10-a5c5-4aa1-b5c6-608debc27604",
   "metadata": {},
   "source": [
    "#### Horizontal spacing"
   ]
  },
  {
   "cell_type": "code",
   "execution_count": 139,
   "id": "761e10b9-3bf4-4066-b1c6-47ac9cb1b87a",
   "metadata": {},
   "outputs": [],
   "source": [
    "exceptlist = [\"R18\",\"R21\",\"T16\"];"
   ]
  },
  {
   "cell_type": "code",
   "execution_count": 140,
   "id": "ff981404-528b-4f57-ab4e-9b9d14075797",
   "metadata": {},
   "outputs": [],
   "source": [
    "# Horizontal spacing\n",
    "def func_cal_spac(data):\n",
    "    \n",
    "    spac = np.zeros(data.shape[0]);\n",
    "    \n",
    "    for i in range(data.shape[0]):\n",
    "\n",
    "        if data[\"ELID\"].iloc[i] not in exceptlist:\n",
    "            b =  float(func_extract_width(zs[i,data[\"indLR\"].iloc[i]],data[\"b\"].iloc[i]));\n",
    "        \n",
    "            if nbl[i,data[\"indLR\"].iloc[i]] > 0:\n",
    "                # Case: bottom layer contains a single diameter\n",
    "                if zs[i,data[\"indLR\"].iloc[i]] - nbl[i,data[\"indLR\"].iloc[i]-1] < tol and nbl[i,data[\"indLR\"].iloc[i]-1] > 0:\n",
    "                    if nbl[i,data[\"indLR\"].iloc[i]] > 1: # Multiple bars within a layer\n",
    "                        spac[i] = (b - 2*clat[i,data[\"indLR\"].iloc[i]] - phi[i,data[\"indLR\"].iloc[i]])/ \\\n",
    "                            ((nbl[i,data[\"indLR\"].iloc[i]]) + (nbl[i,data[\"indLR\"].iloc[i]-1]) - 1);  \n",
    "                # Case: multiple bars within a layer\n",
    "                elif nbl[i,data[\"indLR\"].iloc[i]] > 1:\n",
    "                    spac[i] = (b - 2*clat[i,data[\"indLR\"].iloc[i]] - phi[i,data[\"indLR\"].iloc[i]])/(nbl[i,data[\"indLR\"].iloc[i]]-1);\n",
    "                elif nbl[i,data[\"indLR\"].iloc[i]] == 1:\n",
    "                    spac[i] = b;\n",
    "\n",
    "        # Below: custom elements, different diameters within a single layer\n",
    "        elif data[\"ELID\"].iloc[i] == \"R18\":\n",
    "            b =  float(func_extract_width(zs[i,data[\"indLR\"].iloc[i]],data[\"b\"].iloc[i]));\n",
    "            spac[i] = (b - 2*clat[i,data[\"indLR\"].iloc[i]] - phi[i,data[\"indLR\"].iloc[i]])/(2);\n",
    "            \n",
    "        elif data[\"ELID\"].iloc[i] == \"R21\":\n",
    "            b =  float(func_extract_width(zs[i,data[\"indLR\"].iloc[i]],data[\"b\"].iloc[i]));\n",
    "            spac[i] = (b - 2*clat[i,data[\"indLR\"].iloc[i]] - phi[i,data[\"indLR\"].iloc[i]])/(2);\n",
    "            \n",
    "        elif data[\"ELID\"].iloc[i] == \"T16\":\n",
    "            b =  float(func_extract_width(zs[i,data[\"indLR\"].iloc[i]],data[\"b\"].iloc[i]));\n",
    "            spac[i] = (b - 2*clat[i,data[\"indLR\"].iloc[i]] - phi[i,data[\"indLR\"].iloc[i]])/(2);\n",
    "\n",
    "    return spac"
   ]
  },
  {
   "cell_type": "code",
   "execution_count": 141,
   "id": "67d28a74-89cc-442d-915d-3ac20e76b533",
   "metadata": {},
   "outputs": [],
   "source": [
    "df[\"sxLR\"] = func_cal_spac(df); # The lowest layer is used (reinforcing steel)"
   ]
  },
  {
   "cell_type": "code",
   "execution_count": 142,
   "id": "a3a6ee3e-3065-4080-ad15-ad760695924c",
   "metadata": {},
   "outputs": [],
   "source": [
    "def func_cal_spac_all(data):\n",
    "\n",
    "    spac = np.zeros((data.shape[0],Ncond));\n",
    "\n",
    "    for i in range(data.shape[0]):\n",
    "        \n",
    "        if data[\"ELID\"].iloc[i] not in exceptlist:\n",
    "            for j in range(Ncond):\n",
    "                b =  float(func_extract_width(zs[i,j],data[\"b\"].iloc[i]));\n",
    "                if nbl[i,j] > 1:\n",
    "                    spac[i,j] = (b - 2*clat[i,j] - phi[i,j])/(nbl[i,j]-1);\n",
    "                elif nbl[i,j] == 1:\n",
    "                    spac[i,j] = b;\n",
    "                else:\n",
    "                    spac[i,j] = 0;\n",
    "\n",
    "        elif data[\"ELID\"].iloc[i] == \"R18\":\n",
    "            b =  float(func_extract_width(zs[i,data[\"indLR\"].iloc[i]],data[\"b\"].iloc[i]));\n",
    "            spac[i,0] = (b - 2*clat[i,0] - phi[i,0])/(nbl[i,0]-1);\n",
    "            spac[i,1] = (b - 2*clat[i,1] - phi[i,1])/(nbl[i,1]-1);\n",
    "            spac[i,2] = (b - 2*clat[i,2] - phi[i,2])/(2);\n",
    "            spac[i,3] = (b - 2*clat[i,2] - phi[i,2])/(2);\n",
    "            \n",
    "        elif data[\"ELID\"].iloc[i] == \"R21\":\n",
    "            b =  float(func_extract_width(zs[i,data[\"indLR\"].iloc[i]],data[\"b\"].iloc[i]));\n",
    "            spac[i,0] = (b - 2*clat[i,0] - phi[i,0])/(nbl[i,0]-1);\n",
    "            spac[i,1] = (b - 2*clat[i,1] - phi[i,1])/(2);\n",
    "            spac[i,2] = (b - 2*clat[i,1] - phi[i,1])/(2);\n",
    "            \n",
    "        elif data[\"ELID\"].iloc[i] == \"T16\":\n",
    "            b =  float(func_extract_width(zs[i,data[\"indLR\"].iloc[i]],data[\"b\"].iloc[i]));\n",
    "            spac[i,0] = (b - 2*clat[i,0] - phi[i,0])/(nbl[i,0]-1);\n",
    "            spac[i,1] = (b - 2*clat[i,1] - phi[i,1])/(2);\n",
    "            spac[i,2] = (b - 2*clat[i,1] - phi[i,1])/(2);\n",
    "    \n",
    "    return spac"
   ]
  },
  {
   "cell_type": "code",
   "execution_count": 143,
   "id": "6471b348-abfb-4a60-96a2-27cc96819c6f",
   "metadata": {},
   "outputs": [],
   "source": [
    "spacall = func_cal_spac_all(df);"
   ]
  },
  {
   "cell_type": "markdown",
   "id": "0f86b685-98f5-4689-9715-039dbf373380",
   "metadata": {},
   "source": [
    "#### Vertical cover"
   ]
  },
  {
   "cell_type": "code",
   "execution_count": 144,
   "id": "6c1dd10e-4308-44ab-990b-5fdb631a13e0",
   "metadata": {},
   "outputs": [],
   "source": [
    "def func_cal_ry(data):\n",
    "\n",
    "    ry0 = np.zeros(data.shape[0]);\n",
    "    ry = np.zeros(data.shape[0]);\n",
    "    cy = np.zeros(data.shape[0]);\n",
    "    ryp = np.zeros(data.shape[0]);\n",
    "\n",
    "    rx = np.zeros(data.shape[0]);\n",
    "    \n",
    "    for i in range(data.shape[0]):\n",
    "        if data[\"indLR\"].iloc[i] > -0.1:\n",
    "            ry[i] = data[\"h\"].iloc[i]-zs[i,data[\"indLR\"].iloc[i]];\n",
    "            cy[i] = ry[i] - 0.5*phi[i,data[\"indLR\"].iloc[i]];\n",
    "            ry0[i] = zs[i,0];\n",
    "            rx[i] = clat[i,data[\"indLR\"].iloc[i]] + phi[i,data[\"indLR\"].iloc[i]]/2;\n",
    "\n",
    "        elif data[\"Astot\"].iloc[i] < tol:\n",
    "            ryp[i] = data[\"h\"].iloc[i]-zp[i,data[\"indNP\"].iloc[i]];\n",
    "            \n",
    "    return ry, cy, ry0, rx, ryp"
   ]
  },
  {
   "cell_type": "code",
   "execution_count": 145,
   "id": "1f199b73-fdee-453c-855e-eb7c0cea34f0",
   "metadata": {},
   "outputs": [],
   "source": [
    "df[\"ry\"], df[\"cy\"], df[\"ry0\"], df[\"rx\"], df[\"ryp\"] = func_cal_ry(df);\n",
    "df = df.astype({\n",
    "    \"ry\": \"float\",\n",
    "    \"cy\": \"float\",\n",
    "    \"ry0\": \"float\",\n",
    "    \"rx\": \"float\",\n",
    "    \"ryp\": \"float\"\n",
    "});"
   ]
  },
  {
   "cell_type": "markdown",
   "id": "d92b0ebc-be37-481b-ae23-441960441563",
   "metadata": {},
   "source": [
    "#### Centre of gravity of longitudinal reinforcing steel (based on all reinforcing steel layers)"
   ]
  },
  {
   "cell_type": "code",
   "execution_count": 146,
   "id": "7f1c0905-a48b-4026-ac27-8d8e879c74e5",
   "metadata": {},
   "outputs": [],
   "source": [
    "def func_cal_zstot(data):\n",
    "    Aslayer = np.zeros((data.shape[0],Ncond)); # Storage for reinforcing area, for each layer\n",
    "    zstot = np.zeros(data.shape[0]);\n",
    "    Aszstemp = np.zeros((data.shape[0],Ncond));\n",
    "    \n",
    "    for i in range(data.shape[0]):\n",
    "        for j in range(Ncond):\n",
    "            Aslayer[i,j] = nbl[i,j]*(1/4)*np.pi*(phi[i,j]**2);\n",
    "            Aszstemp[i,j] = zs[i,j]*Aslayer[i,j];\n",
    "\n",
    "        if data[\"Astot\"].iloc[i] > 0:\n",
    "            zstot[i] = sum(Aszstemp[i,:])/data[\"Astot\"].iloc[i];\n",
    "\n",
    "    return zstot, Aslayer"
   ]
  },
  {
   "cell_type": "code",
   "execution_count": 147,
   "id": "49963a52-b93b-4605-b9aa-515110434944",
   "metadata": {},
   "outputs": [],
   "source": [
    "df[\"zstot\"] = func_cal_zstot(df)[0];\n",
    "df = df.astype({\n",
    "    \"zstot\": \"float\"\n",
    "});"
   ]
  },
  {
   "cell_type": "code",
   "execution_count": 148,
   "id": "20c8f266-45bc-4666-ba00-d25549541aeb",
   "metadata": {},
   "outputs": [],
   "source": [
    "Aslayer = func_cal_zstot(df)[1];"
   ]
  },
  {
   "cell_type": "markdown",
   "id": "ab51d05c-6bd3-40a5-b1c0-892ea2db2153",
   "metadata": {},
   "source": [
    "#### Centre of gravity of longitudinal reinforcing steel (tension reinforcement only - initial)"
   ]
  },
  {
   "cell_type": "markdown",
   "id": "f5743e12-5091-40c6-bc54-1eaf8f012307",
   "metadata": {},
   "source": [
    "Assumption for the determination of the compression reinforcement: layers where $z > 0.5*h$ (for elements loaded in bending and/or subjected to prestressing)."
   ]
  },
  {
   "cell_type": "code",
   "execution_count": 149,
   "id": "03fe6d76-3c9e-4c35-8efa-76eef85a4f2e",
   "metadata": {},
   "outputs": [],
   "source": [
    "def func_cal_zstens_init(data):\n",
    "    Aslayer = np.zeros((data.shape[0],Ncond)); # Storage for reinforcing area, for each layer\n",
    "    zstens = np.zeros(data.shape[0]);\n",
    "    Aszstemp = np.zeros((data.shape[0],Ncond));\n",
    "\n",
    "    Astens = np.zeros(data.shape[0]);\n",
    "    \n",
    "    for i in range(data.shape[0]):\n",
    "        if data[\"epsin\"].iloc[i] == str(2) or data[\"epsin\"].iloc[i] == str(3):\n",
    "        \n",
    "            for j in range(Ncond):\n",
    "                if zs[i,j] - tol > data[\"h\"].iloc[i]/2:\n",
    "                    Aslayer[i,j] = nbl[i,j]*(1/4)*np.pi*(phi[i,j]**2);\n",
    "                    Aszstemp[i,j] = zs[i,j]*Aslayer[i,j];\n",
    "    \n",
    "            Astens[i] = sum(Aslayer[i,:]);\n",
    "    \n",
    "            if Astens[i] > 0:\n",
    "                zstens[i] = sum(Aszstemp[i,:])/Astens[i];\n",
    "\n",
    "    return zstens, Astens"
   ]
  },
  {
   "cell_type": "code",
   "execution_count": 150,
   "id": "79da1e71-a59a-4963-811a-3cb541a2622d",
   "metadata": {},
   "outputs": [],
   "source": [
    "df[\"zstensinit\"],df[\"Astensinit\"] = func_cal_zstens_init(df);\n",
    "df = df.astype({\n",
    "    \"zstensinit\": \"float\",\n",
    "    \"Astensinit\": \"float\"\n",
    "});"
   ]
  },
  {
   "cell_type": "markdown",
   "id": "c1b99613-600a-4891-8094-023ebc58f46d",
   "metadata": {},
   "source": [
    "#### Computation of total reinforcing ratio"
   ]
  },
  {
   "cell_type": "markdown",
   "id": "d1711ab3-4a55-490c-95c7-2a2e5b4e9e39",
   "metadata": {},
   "source": [
    "This is the total reinforcing ratio, including compression reinforcement."
   ]
  },
  {
   "cell_type": "code",
   "execution_count": 151,
   "id": "7fabfc6f-52f9-45bb-8fd7-5b1b7ff26bdf",
   "metadata": {},
   "outputs": [],
   "source": [
    "def func_cal_rhotot(data):\n",
    "    rhotot = np.zeros(data.shape[0]);\n",
    "\n",
    "    for i in range(data.shape[0]):\n",
    "\n",
    "        if data[\"epsin\"].iloc[i] == str(\"1a\"):\n",
    "        \n",
    "            if data[\"Astot\"].iloc[i] > tol:\n",
    "                rhotot[i] = data[\"Astot\"].iloc[i] / data[\"Ac\"].iloc[i];\n",
    "        else:\n",
    "            if data[\"Astot\"].iloc[i] > tol:\n",
    "                Ac = quad(func_extract_width,0,data[\"zstot\"].iloc[i],args=(data[\"b\"].iloc[i]))[0];\n",
    "                rhotot[i] = data[\"Astot\"].iloc[i] / Ac;\n",
    "    \n",
    "    return rhotot"
   ]
  },
  {
   "cell_type": "code",
   "execution_count": 152,
   "id": "fcfe73d5-b8ba-4b09-8bf1-29acd2a95565",
   "metadata": {},
   "outputs": [],
   "source": [
    "df[\"rhotot\"] = func_cal_rhotot(df);\n",
    "df = df.astype({\n",
    "    \"rhotot\": \"float\"\n",
    "});"
   ]
  },
  {
   "cell_type": "markdown",
   "id": "61d16178-a57e-4927-aedc-6d0132d636db",
   "metadata": {},
   "source": [
    "#### Computation of reinforcing ratio based on tension reinforcement"
   ]
  },
  {
   "cell_type": "code",
   "execution_count": 153,
   "id": "02aad225-02a4-49eb-a86a-3fd51e9ea3ba",
   "metadata": {},
   "outputs": [],
   "source": [
    "def func_cal_rhotens(data):\n",
    "    rhotens = np.zeros(data.shape[0]);\n",
    "\n",
    "    for i in range(data.shape[0]):\n",
    "\n",
    "        if data[\"epsin\"].iloc[i] == str(\"1a\"):\n",
    "        \n",
    "            if data[\"Astot\"].iloc[i] > tol:\n",
    "                rhotens[i] = data[\"Astot\"].iloc[i] / data[\"Ac\"].iloc[i];\n",
    "        else:\n",
    "            if data[\"Astot\"].iloc[i] > tol:\n",
    "                Ac = quad(func_extract_width,0,data[\"zstensinit\"].iloc[i],args=(data[\"b\"].iloc[i]))[0];\n",
    "                rhotens[i] = data[\"Astensinit\"].iloc[i] / Ac;\n",
    "    \n",
    "    return rhotens"
   ]
  },
  {
   "cell_type": "code",
   "execution_count": 154,
   "id": "9d7e9edf-968c-4c73-9fde-5b0ca404e87b",
   "metadata": {},
   "outputs": [],
   "source": [
    "df[\"rhotensinit\"] = func_cal_rhotens(df);\n",
    "df = df.astype({\n",
    "    \"rhotensinit\": \"float\"\n",
    "});"
   ]
  },
  {
   "cell_type": "markdown",
   "id": "a4637922-0fd2-40c8-ba99-170dfa71ad24",
   "metadata": {},
   "source": [
    "### 05.06 - Functions to extract properties reinforcing steel - transverse direction"
   ]
  },
  {
   "cell_type": "markdown",
   "id": "7aaab3aa-eba9-4605-98d4-b1fd95022ddb",
   "metadata": {},
   "source": [
    "#### Reinforcing area of transverse steel, in region of constant bending moment"
   ]
  },
  {
   "cell_type": "code",
   "execution_count": 155,
   "id": "445e3216-682d-4fc5-9c59-0720a261e887",
   "metadata": {},
   "outputs": [],
   "source": [
    "def func_cal_At(data,phit,st):\n",
    "    \n",
    "    At = np.zeros(data.shape[0]);\n",
    "    \n",
    "    for i in range(data.shape[0]):\n",
    "        Atlayer = np.zeros(Ncond);\n",
    "        \n",
    "        for j in range(Ncond):\n",
    "            if st[i,j] == 0:\n",
    "                At[i] = 0;\n",
    "            \n",
    "            elif st[i,j] > 0:\n",
    "                nt = 1000/st[i,j];\n",
    "                Atlayer[j] = nt*(1/4)*np.pi*(phit[i,j])**2;\n",
    "                \n",
    "        At[i] = np.sum(Atlayer);\n",
    "    \n",
    "    return At"
   ]
  },
  {
   "cell_type": "code",
   "execution_count": 156,
   "id": "e32e9542-deb0-4ffb-8fcc-774c2a77b509",
   "metadata": {},
   "outputs": [],
   "source": [
    "df[\"At\"] = func_cal_At(df,phit,st);\n",
    "df = df.astype({\n",
    "    \"At\": \"float\"\n",
    "});"
   ]
  },
  {
   "cell_type": "markdown",
   "id": "ee22f654-80f0-4afc-a113-ab93db77a562",
   "metadata": {},
   "source": [
    "### 05.07 - Functions to extract properties reinforcing steel - stirrups"
   ]
  },
  {
   "cell_type": "markdown",
   "id": "0db000de-f090-41bb-ad39-afbcb3de0b4a",
   "metadata": {},
   "source": [
    "#### Calculation of stirrup area, in region of constant bending moment"
   ]
  },
  {
   "cell_type": "code",
   "execution_count": 157,
   "id": "69c57b57-7781-4a68-929d-8d8014ccb44c",
   "metadata": {},
   "outputs": [],
   "source": [
    "def func_cal_Aw(data):\n",
    "    \n",
    "    Aw = np.zeros(data.shape[0]);\n",
    "\n",
    "    for i in range(data.shape[0]):\n",
    "        if data[\"sw\"].iloc[i] < tol:\n",
    "            Aw[i] = 0;\n",
    "            \n",
    "        else:\n",
    "            nw = (1000/data[\"sw\"].iloc[i]);\n",
    "            Aw[i] = nw*2*(1/4)*np.pi*(data[\"phiw\"].iloc[i])**2; # *2 (double cross-section)\n",
    "            \n",
    "    for i in range(data.shape[0]):\n",
    "        if data[\"sw\"].iloc[i] < tol:\n",
    "            Aw[i] = 0;\n",
    "            \n",
    "        else:\n",
    "            nw = (1000/data[\"sw\"].iloc[i]);\n",
    "            Aw[i] = nw*2*(1/4)*np.pi*(data[\"phiw\"].iloc[i])**2; # *2 (double cross-section)\n",
    "    \n",
    "    return Aw"
   ]
  },
  {
   "cell_type": "code",
   "execution_count": 158,
   "id": "881d4fbc-d8e8-4980-90bc-f85f24e5963e",
   "metadata": {},
   "outputs": [],
   "source": [
    "df[\"Aw\"] = func_cal_Aw(df);\n",
    "df = df.astype({\n",
    "    \"Aw\": \"float\"\n",
    "});"
   ]
  },
  {
   "cell_type": "markdown",
   "id": "9a041585-7fca-40a9-a998-4e7148648592",
   "metadata": {},
   "source": [
    "### 05.08 - Functions to extract properties prestressing steel"
   ]
  },
  {
   "cell_type": "markdown",
   "id": "f2515b9a-a011-4843-9176-1dbd2ed1a796",
   "metadata": {},
   "source": [
    "#### Computation of Aplayer, Aptot en zp"
   ]
  },
  {
   "cell_type": "code",
   "execution_count": 159,
   "id": "5d38879d-5134-4b49-a0b0-44b877ef2045",
   "metadata": {},
   "outputs": [],
   "source": [
    "def func_compute_prestress_prop(Ap,npl,zp):\n",
    "    Aplayer = np.zeros((Ap.shape[0],Ap.shape[1]));\n",
    "    Aptot = np.zeros(Ap.shape[0]);\n",
    "    zptot = np.zeros(Ap.shape[0])\n",
    "\n",
    "    for i in range(Ap.shape[0]):\n",
    "        if npl[i,0] > tol:\n",
    "            zpAp = np.zeros(Ap.shape[1]);\n",
    "            for j in range(Ap.shape[1]):\n",
    "                Aplayer[i,j] = Ap[i,j]*npl[i,j];\n",
    "                zpAp[j] = Aplayer[i,j]*zp[i,j]\n",
    "    \n",
    "            Aptot[i] = np.sum(Aplayer[i,:]);\n",
    "            zptot[i] = np.sum(zpAp)/Aptot[i];       \n",
    "    \n",
    "    return Aplayer, Aptot, zptot"
   ]
  },
  {
   "cell_type": "code",
   "execution_count": 160,
   "id": "a076d4ba-223f-441e-b2f1-0f4b9384735c",
   "metadata": {},
   "outputs": [],
   "source": [
    "Aplayer, df[\"Aptot\"], df[\"zptot\"] = func_compute_prestress_prop(Ap,npl,zp);\n",
    "df = df.astype({\n",
    "    \"Aptot\": \"float\",\n",
    "    \"zptot\": \"float\"\n",
    "});"
   ]
  },
  {
   "cell_type": "markdown",
   "id": "60242f37-644f-4e90-a8c0-b3b1fa31e4a9",
   "metadata": {},
   "source": [
    "#### Computation of the bond factor prestressing steel and surrounding concrete"
   ]
  },
  {
   "cell_type": "markdown",
   "id": "b1cc70bb-ccc0-4c41-acd7-cbf75395b9de",
   "metadata": {},
   "source": [
    "This is the computation of the factor $\\xi_1$"
   ]
  },
  {
   "cell_type": "code",
   "execution_count": 161,
   "id": "5f9d9764-90f0-427f-bba5-7b9100aed4d0",
   "metadata": {},
   "outputs": [],
   "source": [
    "def func_compuate_zeta1(data):\n",
    "\n",
    "    zeta = np.zeros(data.shape[0]);\n",
    "    zeta1 = np.zeros(data.shape[0]);\n",
    "    phi_peq = np.zeros(data.shape[0]);\n",
    "    \n",
    "    for i in range(data.shape[0]):\n",
    "        if data[\"EPID\"].iloc[i] == 8 and data[\"Aptot\"].iloc[i] > tol:\n",
    "            # This case is not specified in MC 2020\n",
    "            # EN 1992-1-1 (2023): bonded-post tensioned, smooth bars and wires: 0.3 if fck < 50, 0.15 if fck > 50 (fck is voor epid 8 < 50)\n",
    "            zeta[i] = 0.3;\n",
    "\n",
    "            if data[\"Astot\"].iloc[i] < 1: # Case: only prestressing steel present\n",
    "                zeta1[i] = zeta[i];\n",
    "                phi_peq[i] = phip[i,0];\n",
    "            else: # Straightforward, wires and bars used\n",
    "                circ = np.zeros(Ncond);\n",
    "                for j in range(Ncond):\n",
    "                    circ[j] = npl[i,j]*np.pi*phip[i,j];\n",
    "                phi_peq[i] = 4*data[\"Aptot\"].iloc[i]/(sum(circ));\n",
    "                \n",
    "                zeta1[i]  = np.sqrt(zeta[i]*max(phi[i,:])/phi_peq[i]);\n",
    "\n",
    "                if data[\"Ep\"].iloc[i] == 0:\n",
    "                    data[\"Ep\"].iloc[i] == 205000; # Closer to 205 GPa, and applicable to wires\n",
    "\n",
    "        elif data[\"EPID\"].iloc[i] == 9 and data[\"Aptot\"].iloc[i] > tol:\n",
    "            # strands --> according to MC 2020: 0.4\n",
    "            zeta[i] = 0.4;\n",
    "\n",
    "            if data[\"Astot\"].iloc[i] < 1: # Case: only prestressing steel present\n",
    "                zeta1[i] = zeta[i];\n",
    "            else:\n",
    "                circ = np.zeros(Ncond);\n",
    "                for j in range(Ncond):\n",
    "                    phi_wire = np.sqrt(Ap[i,j]*4/(3*np.pi));\n",
    "                    circ[j] = npl[i,j]*1.2*np.pi*phi_wire; # See MC 2020, eq. 30.5-24b\n",
    "                phi_peq[i] = 4*data[\"Aptot\"].iloc[i]/(sum(circ))\n",
    "\n",
    "                zeta1[i]  = np.sqrt(zeta[i]*max(phi[i,:])/phi_peq[i]);\n",
    "\n",
    "                if data[\"Ep\"].iloc[i] == 0:\n",
    "                    data[\"Ep\"].iloc[i] == 195000; # For strands\n",
    "        \n",
    "        elif data[\"EPID\"].iloc[i] == 14 and data[\"Aptot\"].iloc[i] > tol:\n",
    "            # strands --> according to MC 2020: 0.4\n",
    "            zeta[i] = 0.4;\n",
    "\n",
    "            if data[\"Astot\"].iloc[i] < 1: # Case: only prestressing steel present\n",
    "                zeta1[i] = zeta[i];\n",
    "            else:\n",
    "                circ = np.zeros(Ncond);\n",
    "                for j in range(Ncond):\n",
    "                    circ[j] = npl[i,j]*1.6*np.pi*np.sqrt(Ap[i,j]); # See MC 2020, eq. 30.5-24b --> here 12 wires in a strand considered as a bundle\n",
    "                phi_peq[i] = 4*data[\"Aptot\"].iloc[i]/(sum(circ))\n",
    "\n",
    "                zeta1[i]  = np.sqrt(zeta[i]*max(phi[i,:])/phi_peq[i]);\n",
    "\n",
    "                if data[\"Ep\"].iloc[i] == 0:\n",
    "                    data[\"Ep\"].iloc[i] == 195000; # For strands\n",
    "        \n",
    "        elif data[\"EPID\"].iloc[i] == 17 and data[\"Aptot\"].iloc[i] > tol:\n",
    "            # strands --> according to MC 2020: 0.6\n",
    "            zeta[i] = 0.6;\n",
    "\n",
    "            if data[\"Astot\"].iloc[i] < 1: # Case: only prestressing steel present\n",
    "                zeta1[i] = zeta[i];\n",
    "            else:\n",
    "                circ = np.zeros(Ncond);\n",
    "                for j in range(Ncond):\n",
    "                    phi_wire = np.sqrt(Ap[i,j]*4/(7*np.pi));\n",
    "                    circ[j] = npl[i,j]*1.75*np.pi*phi_wire; # See MC 2020, eq. 30.5-24b\n",
    "                phi_peq[i] = 4*data[\"Aptot\"].iloc[i]/(sum(circ))\n",
    "\n",
    "                zeta1[i]  = np.sqrt(zeta[i]*max(phi[i,:])/phi_peq[i]);\n",
    "\n",
    "                if data[\"Ep\"].iloc[i] == 0:\n",
    "                    data[\"Ep\"].iloc[i] == 195000; # For strands\n",
    "        \n",
    "        elif data[\"EPID\"].iloc[i] == 20 and data[\"Aptot\"].iloc[i] > tol:\n",
    "            # single wires --> according to MC 2020: 0.4\n",
    "            zeta[i] = 0.4;\n",
    "\n",
    "            if data[\"Astot\"].iloc[i] < 1: # Case: only prestressing steel present\n",
    "                zeta1[i] = zeta[i];\n",
    "            else:\n",
    "                circ = np.zeros(Ncond);\n",
    "                for j in range(Ncond):\n",
    "                    circ[j] = npl[i,j]*np.pi*phip[i,j];\n",
    "                phi_peq[i] = 4*data[\"Aptot\"].iloc[i]/(sum(circ));\n",
    "\n",
    "                zeta1[i]  = np.sqrt(zeta[i]*max(phi[i,:])/phi_peq[i]);\n",
    "\n",
    "                if data[\"Ep\"].iloc[i] == 0:\n",
    "                    data[\"Ep\"].iloc[i] == 205000; # For single wires\n",
    "    \n",
    "    return zeta1, zeta, phi_peq"
   ]
  },
  {
   "cell_type": "code",
   "execution_count": 162,
   "id": "3310132d-1bc0-4f2d-862f-82087eba5c77",
   "metadata": {},
   "outputs": [],
   "source": [
    "df[\"zeta1\"], df[\"zeta\"], df[\"phi_peq\"] = func_compuate_zeta1(df);\n",
    "df = df.astype({\n",
    "    \"zeta1\": \"float\",\n",
    "    \"zeta\": \"float\",\n",
    "    \"phi_peq\": \"float\"\n",
    "});"
   ]
  },
  {
   "cell_type": "markdown",
   "id": "08c7c82a-8608-45e9-88e3-ddf64c3da1cd",
   "metadata": {},
   "source": [
    "### 05.09 - Steel properties"
   ]
  },
  {
   "cell_type": "markdown",
   "id": "c7765f28-d0fa-4c75-871c-aa53a6de495e",
   "metadata": {},
   "source": [
    "#### Centre of gravity of longitudinal reinforcing steel (based on all reinforcing steel layers)"
   ]
  },
  {
   "cell_type": "code",
   "execution_count": 163,
   "id": "dd7637ea-86c7-4f4a-905f-e4fe49c565b5",
   "metadata": {},
   "outputs": [],
   "source": [
    "def func_cal_zstot(data):\n",
    "    Aslayer = np.zeros((data.shape[0],Ncond));\n",
    "    zstot = np.zeros(data.shape[0]);\n",
    "    Aszstemp = np.zeros((data.shape[0],Ncond));\n",
    "    \n",
    "    for i in range(data.shape[0]):\n",
    "        for j in range(Ncond):\n",
    "            Aslayer[i,j] = nbl[i,j]*(1/4)*np.pi*(phi[i,j]**2);\n",
    "            Aszstemp[i,j] = zs[i,j]*Aslayer[i,j];\n",
    "\n",
    "        if data[\"Astot\"].iloc[i] > 0:\n",
    "            zstot[i] = sum(Aszstemp[i,:])/data[\"Astot\"].iloc[i];\n",
    "\n",
    "    return zstot, Aslayer"
   ]
  },
  {
   "cell_type": "code",
   "execution_count": 164,
   "id": "f4294a7d-cb0c-4d10-afe9-de4f51d9b912",
   "metadata": {},
   "outputs": [],
   "source": [
    "df[\"zstot\"] = func_cal_zstot(df)[0];\n",
    "df = df.astype({\n",
    "    \"zstot\": \"float\"\n",
    "});"
   ]
  },
  {
   "cell_type": "code",
   "execution_count": 165,
   "id": "93d73b32-e557-4396-b32c-76bebd4d473b",
   "metadata": {},
   "outputs": [],
   "source": [
    "Aslayer = func_cal_zstot(df)[1];"
   ]
  },
  {
   "cell_type": "markdown",
   "id": "fe44a316-e4fa-4ef4-b70d-51a4048bc3ea",
   "metadata": {},
   "source": [
    "#### Function to calculate the centre of gravity"
   ]
  },
  {
   "cell_type": "code",
   "execution_count": 166,
   "id": "b9185b57-e06d-4fe6-8041-cd6ee3f64d56",
   "metadata": {},
   "outputs": [],
   "source": [
    "def func_cal_cog(data):\n",
    "    cog = np.zeros(data.shape[0]);\n",
    "    \n",
    "    def integrand(z,bstr):\n",
    "        b = func_extract_width(z,bstr);\n",
    "        dSz = b*z;\n",
    "        return dSz;\n",
    "    \n",
    "    for i in range(data.shape[0]):        \n",
    "        cog[i] = quad(integrand,0,float(data[\"h\"].iloc[i]),args=(data[\"b\"].iloc[i]))[0]/data[\"Ac\"].iloc[i];\n",
    "        \n",
    "    return cog"
   ]
  },
  {
   "cell_type": "markdown",
   "id": "77810eff-92a6-41dd-807a-5a313cec1b61",
   "metadata": {},
   "source": [
    "#### Function to calculate the elastic centre of gravity"
   ]
  },
  {
   "cell_type": "code",
   "execution_count": 167,
   "id": "86610dfe-9aa8-4849-8dd3-18813e890b96",
   "metadata": {},
   "outputs": [],
   "source": [
    "def func_cal_cog_elastic(data):\n",
    "    cogelas = np.zeros(data.shape[0]);\n",
    "\n",
    "    def integrand(z,bstr):\n",
    "        b = func_extract_width(z,bstr);\n",
    "        dSz = b*z;\n",
    "        return dSz;\n",
    "\n",
    "    for i in range(data.shape[0]):        \n",
    "        ESzz_concrete = quad(integrand,0,float(data[\"h\"].iloc[i]),args=(data[\"b\"].iloc[i]))[0]*data[\"Ecm\"].iloc[i];\n",
    "        ESzz_steel = data[\"Astot\"].iloc[i]*data[\"zstot\"].iloc[i]*data[\"Ecm\"].iloc[i]*(data[\"ae\"].iloc[i] - 1);\n",
    "        ESzz_pres = data[\"Aptot\"].iloc[i]*data[\"zptot\"].iloc[i]*data[\"Ecm\"].iloc[i]*(data[\"ap\"].iloc[i] - 1);\n",
    "\n",
    "        EA_concrete = data[\"Ac\"].iloc[i]*data[\"Ecm\"].iloc[i];\n",
    "        EA_steel = data[\"Astot\"].iloc[i]*data[\"Ecm\"].iloc[i]*(data[\"ae\"].iloc[i] - 1);\n",
    "        EA_pres = data[\"Aptot\"].iloc[i]*data[\"Ecm\"].iloc[i]*(data[\"ap\"].iloc[i] - 1);\n",
    "\n",
    "        cogelas[i] = (ESzz_concrete + ESzz_steel + ESzz_pres) / (EA_concrete + EA_steel + EA_pres);\n",
    "    \n",
    "    return cogelas"
   ]
  },
  {
   "cell_type": "code",
   "execution_count": 168,
   "id": "58eda425-bca0-4592-885e-314098022e15",
   "metadata": {},
   "outputs": [],
   "source": [
    "df[\"cog\"] = func_cal_cog_elastic(df);"
   ]
  },
  {
   "cell_type": "markdown",
   "id": "0e23a73e-26b2-4b5d-8631-0f7e4b6dab58",
   "metadata": {},
   "source": [
    "#### Function to calculate Izz"
   ]
  },
  {
   "cell_type": "markdown",
   "id": "73acbf78-e103-470b-8ded-9988e5e4cc76",
   "metadata": {},
   "source": [
    "Steiner's rule is applied, since the origin of the coordinate system is not aligning with the center of normal force."
   ]
  },
  {
   "cell_type": "code",
   "execution_count": 169,
   "id": "d02c5de6-9deb-4425-8fd2-7472608deba8",
   "metadata": {},
   "outputs": [],
   "source": [
    "def func_cal_Izz(data):\n",
    "        \n",
    "    Izz = np.zeros(data.shape[0]);\n",
    "    \n",
    "    def integrand_1(z,bstr):\n",
    "            \n",
    "        bA = func_extract_width(z,bstr);\n",
    "        dI = (z**2)*bA;\n",
    "            \n",
    "        return dI;\n",
    "    \n",
    "    def integrand_2(z,bstr):\n",
    "        \n",
    "        bA = func_extract_width(z,bstr);\n",
    "        dS = z*bA\n",
    "        \n",
    "        return dS\n",
    "    \n",
    "    def integrand_3(z,bstr):\n",
    "        \n",
    "        bA = func_extract_width(z,bstr);\n",
    "        \n",
    "        return bA\n",
    "    \n",
    "    for i in range(data.shape[0]):\n",
    "        \n",
    "        Izz[i] = quad(integrand_1,0,float(data[\"h\"].iloc[i]),\\\n",
    "                                   args=(data[\"b\"].iloc[i]))[0] - \\\n",
    "                            (2*data[\"cog\"].iloc[i])*\\\n",
    "                              quad(integrand_2,0,float(data[\"h\"].iloc[i]),\\\n",
    "                                   args=(data[\"b\"].iloc[i]))[0] + \\\n",
    "                            (data[\"cog\"].iloc[i]**2)*\\\n",
    "                              quad(integrand_3,0,float(data[\"h\"].iloc[i]),\\\n",
    "                                   args=(data[\"b\"].iloc[i]))[0];\n",
    "    \n",
    "    return Izz"
   ]
  },
  {
   "cell_type": "code",
   "execution_count": 170,
   "id": "b84e3aec-f433-49d5-a67f-bb2f574040b6",
   "metadata": {},
   "outputs": [],
   "source": [
    "df[\"Izz\"] = func_cal_Izz(df);\n",
    "df = df.astype({\n",
    "    \"Izz\": \"float\"\n",
    "});"
   ]
  },
  {
   "cell_type": "markdown",
   "id": "b2a6380f-8e5c-4bd0-bc6f-efcba3c2b59f",
   "metadata": {},
   "source": [
    "#### Function to calculate Wb"
   ]
  },
  {
   "cell_type": "code",
   "execution_count": 171,
   "id": "80043f36-5b80-4e74-bbe4-54a9b1f54297",
   "metadata": {},
   "outputs": [],
   "source": [
    "def func_cal_W(data):\n",
    "    Wb = np.zeros(data.shape[0]); # Section modulus - bottom\n",
    "    Wt = np.zeros(data.shape[0]); # Section modulus - top\n",
    "    \n",
    "    for i in range(data.shape[0]):\n",
    "        Wb[i] = data[\"Izz\"].iloc[i]/ \\\n",
    "            (data[\"h\"].iloc[i] - data[\"cog\"].iloc[i]);\n",
    "\n",
    "        Wt[i] = data[\"Izz\"].iloc[i]/ \\\n",
    "            data[\"cog\"].iloc[i];\n",
    "    \n",
    "    return Wb, Wt"
   ]
  },
  {
   "cell_type": "code",
   "execution_count": 172,
   "id": "c33f86b8-966a-4570-9262-e4132dc55615",
   "metadata": {},
   "outputs": [],
   "source": [
    "df[\"Wb\"], df[\"Wt\"] = func_cal_W(df);"
   ]
  },
  {
   "cell_type": "code",
   "execution_count": 173,
   "id": "509016e1-101c-48ad-b6a0-caf3f36c35a1",
   "metadata": {},
   "outputs": [],
   "source": [
    "df = df.astype({\n",
    "    \"Wb\": \"float\",\n",
    "    \"Wt\": \"float\"\n",
    "});"
   ]
  },
  {
   "cell_type": "markdown",
   "id": "eb364017-d1f0-4a2d-b54a-b3cec68e2fa3",
   "metadata": {},
   "source": [
    "### 05.10 - Functions to extract properties loads"
   ]
  },
  {
   "cell_type": "markdown",
   "id": "821c98ee-2510-4f8d-b2cc-399d0f614fcf",
   "metadata": {},
   "source": [
    "#### Conversion from stresses to N and M"
   ]
  },
  {
   "cell_type": "markdown",
   "id": "54d284a9-f27b-421b-9eae-f7285db611fe",
   "metadata": {},
   "source": [
    "##### EPID 01"
   ]
  },
  {
   "cell_type": "markdown",
   "id": "4d0f48b0-1407-4a7f-adca-b1c136ab9bbf",
   "metadata": {},
   "source": [
    "First, addressing tension failure of rectangular girders and slabs."
   ]
  },
  {
   "cell_type": "code",
   "execution_count": 174,
   "id": "5c6b6ef0-9453-4660-822a-0f5612883d97",
   "metadata": {},
   "outputs": [],
   "source": [
    "def func_cal_Med_EPID01_rec_tens(As,fy,b,d,fcm,sigs):\n",
    "\n",
    "    Mrd = As*fy*d*(1-0.59*(As/(b*d))*fy/fcm);\n",
    "    Mapplied = (1e-6)*(sigs/fy)*Mrd;\n",
    "\n",
    "    return Mapplied"
   ]
  },
  {
   "cell_type": "markdown",
   "id": "33090de7-0808-4e50-b85e-dedf4c9cfde2",
   "metadata": {},
   "source": [
    "Then, address crushing failure of rectangular girders and slabs."
   ]
  },
  {
   "cell_type": "code",
   "execution_count": 175,
   "id": "f8465f02-e859-4944-ac4b-d1623a5ff020",
   "metadata": {},
   "outputs": [],
   "source": [
    "def func_cal_Med_EPID01_rec_crush(As,fy,b,d,fcm,sigs,Es,epsclim):\n",
    "\n",
    "    k1 = 0.85;\n",
    "    k2 = 0.5*k1;\n",
    "    p = As/(b*d);\n",
    "\n",
    "    m = Es*epsclim / (0.85*k1*fcm);\n",
    "    ku = np.sqrt(p*m + (p*m/2)**2) - (p*m/2);\n",
    "    \n",
    "    Mrd = 0.85*k1*fcm*b*(d**2)*ku*(1-k2*ku);\n",
    "    Mapplied = (1e-6)*(sigs/fy)*Mrd;\n",
    "    \n",
    "    return Mapplied"
   ]
  },
  {
   "cell_type": "code",
   "execution_count": 176,
   "id": "d77babeb-6855-4eb4-9e21-65385ca12518",
   "metadata": {},
   "outputs": [],
   "source": [
    "def func_cal_Med_EPID01_T_tens(As,fy,btf,bweb,d,fcm,sigs):\n",
    "\n",
    "    tflange = 3*25.4; # Each top flange has a thickness of 3 inches\n",
    "    Asf = 0.85*fcm*(btf-bweb)*tflange/fy;\n",
    "    Mrd = (As-Asf)*fy*d*(1-0.59*(fy/(bweb*d*fcm))*(As-Asf)) + Asf*fy*(d-tflange/2);\n",
    "    Mapplied = (1e-6)*(sigs/fy)*Mrd;\n",
    "\n",
    "    return Mapplied"
   ]
  },
  {
   "cell_type": "markdown",
   "id": "5e28c15e-d55b-42e6-98e5-442573b8f4f7",
   "metadata": {},
   "source": [
    "##### EPID02, 03, 04"
   ]
  },
  {
   "cell_type": "code",
   "execution_count": 177,
   "id": "294001d6-65b0-4cf2-b024-46b5b13b2d7e",
   "metadata": {},
   "outputs": [],
   "source": [
    "def func_cal_Med_EPID_Heft(As,d,ae,rho,sigs):\n",
    "\n",
    "    kx = -ae*rho + np.sqrt( (ae*rho)**2 + 2*ae*rho );\n",
    "    x = kx*d;\n",
    "    z = d - x/3;\n",
    "    \n",
    "    Mapplied = (1e-6)*sigs*z*As;\n",
    "\n",
    "    return Mapplied"
   ]
  },
  {
   "cell_type": "markdown",
   "id": "37c956a6-f0ee-4238-872f-ff3cf76c0939",
   "metadata": {},
   "source": [
    "##### EPID06"
   ]
  },
  {
   "cell_type": "code",
   "execution_count": 178,
   "id": "e159473d-5115-44ee-9c0b-c59159897990",
   "metadata": {},
   "outputs": [],
   "source": [
    "def func_cal_Med_EPID06(As,fy,b,fcm,h,sigs):\n",
    "    \n",
    "    x = 3*As*fy/(2*b*fcm);\n",
    "    Mrd = As*fy*(h-(3/8)*x);\n",
    "\n",
    "    Mapplied = (1e-6)*(sigs/fy)*Mrd;\n",
    "\n",
    "    return Mapplied"
   ]
  },
  {
   "cell_type": "markdown",
   "id": "d3262c01-14c3-4116-8fca-3e3e833ab5b4",
   "metadata": {},
   "source": [
    "##### EPID26"
   ]
  },
  {
   "cell_type": "code",
   "execution_count": 179,
   "id": "e3f7da1f-b493-4cdd-a524-9d7621a5fbbc",
   "metadata": {},
   "outputs": [],
   "source": [
    "def func_cal_Med_EPID26(As,d,ae,rho,sigs):\n",
    "\n",
    "    kx = -ae*rho + np.sqrt( (ae*rho)**2 + 2*ae*rho );\n",
    "    x = kx*d;\n",
    "    z = d - x/3;\n",
    "    \n",
    "    Mapplied = (1e-6)*sigs*z*As;\n",
    "\n",
    "    return Mapplied"
   ]
  },
  {
   "cell_type": "markdown",
   "id": "4d1e32ad-1f87-4500-b6f4-e17befe37705",
   "metadata": {},
   "source": [
    "##### EPID27"
   ]
  },
  {
   "cell_type": "code",
   "execution_count": 180,
   "id": "fa6f95c8-3791-4533-bfaa-2988b3cd6562",
   "metadata": {},
   "outputs": [],
   "source": [
    "def func_cal_Med_EPID27(As,d,ae,rho,sigs):\n",
    "\n",
    "    kx = -ae*rho + np.sqrt( (ae*rho)**2 + 2*ae*rho );\n",
    "    x = kx*d;\n",
    "    z = d - x/3;\n",
    "    \n",
    "    Mapplied = (1e-6)*sigs*z*As;\n",
    "\n",
    "    return Mapplied"
   ]
  },
  {
   "cell_type": "markdown",
   "id": "253a650e-0f62-4709-8662-24b93d14829c",
   "metadata": {},
   "source": [
    "##### Finally, fill in the empty values of M (and/or N):\n"
   ]
  },
  {
   "cell_type": "code",
   "execution_count": 181,
   "id": "f051d86b-77cd-4df5-9efc-701eb43e745d",
   "metadata": {},
   "outputs": [],
   "source": [
    "def func_fill_in_M_and_N(data):\n",
    "\n",
    "    for i in range(data.shape[0]):\n",
    "        # Address tension\n",
    "        if data[\"epsin\"].iloc[i] == \"1a\":\n",
    "            if data[\"N\"].iloc[i] < 0.1:\n",
    "                data[\"N\"].iloc[i] = data[\"sigs\"].iloc[i]*data[\"Astot\"].iloc[i]/(1e3);\n",
    "\n",
    "        # EPID 01: PCA4\n",
    "        if data[\"EPID\"].iloc[i] == 1:\n",
    "            if data[\"ELID\"].iloc[i] in {\"2-32R1\", \"2-32R2\", \"2-24R\", \"2-8R\", \"2-16R\", \"3-S1\", \"3-S2\"}:\n",
    "                # Then address tension failure of rectangular cross-sections\n",
    "                b = float(data[\"b\"].iloc[i].strip(\"[]\").split(\",\")[0].split(\"if\")[0]);\n",
    "                data[\"M\"].iloc[i] = func_cal_Med_EPID01_rec_tens(data[\"Astensinit\"].iloc[i],\n",
    "                                                                 data[\"fy\"].iloc[i],\n",
    "                                                                 b,\n",
    "                                                                 data[\"zstensinit\"].iloc[i],\n",
    "                                                                 data[\"fcm\"].iloc[i],\n",
    "                                                                 data[\"sigs\"].iloc[i]);\n",
    "\n",
    "            elif data[\"ELID\"].iloc[i] in {\"2-4.75R\", \"3-S3\", \"3-S4\"}:\n",
    "                # Then address crushing of rectangular cross-sections\n",
    "                b = float(data[\"b\"].iloc[i].strip(\"[]\").split(\",\")[0].split(\"if\")[0]);\n",
    "                data[\"M\"].iloc[i] = func_cal_Med_EPID01_rec_crush(data[\"Astensinit\"].iloc[i],\n",
    "                                                                  data[\"fy\"].iloc[i],\n",
    "                                                                  b,\n",
    "                                                                  data[\"zstensinit\"].iloc[i],\n",
    "                                                                  data[\"fcm\"].iloc[i],\n",
    "                                                                  data[\"sigs\"].iloc[i],\n",
    "                                                                  data[\"Es\"].iloc[i],\n",
    "                                                                  0.0035);\n",
    "            \n",
    "            elif data[\"ELID\"].iloc[i] in {\"2-4.75T\", \"2-8T\", \"2-16T\"}:\n",
    "                btemp = data[\"b\"].iloc[i].strip(\"[]\");\n",
    "                data[\"M\"].iloc[i] = func_cal_Med_EPID01_T_tens(data[\"Astensinit\"].iloc[i],\n",
    "                                                               data[\"fy\"].iloc[i],\n",
    "                                                               float(btemp.split(\",\")[0].split(\"if\")[0]),\n",
    "                                                               float(btemp.split(\",\")[1].split(\"if\")[0]),\n",
    "                                                               data[\"zstensinit\"].iloc[i],\n",
    "                                                               data[\"fcm\"].iloc[i],\n",
    "                                                               data[\"sigs\"].iloc[i]);\n",
    "                \n",
    "        # EPID 02, 03, 04: Heft 140, 160, 165\n",
    "        elif data[\"EPID\"].iloc[i] in [2,3,4]:\n",
    "            data[\"M\"].iloc[i] = func_cal_Med_EPID_Heft(data[\"Astensinit\"].iloc[i],\n",
    "                                                       data[\"zstensinit\"].iloc[i],\n",
    "                                                       data[\"ae\"].iloc[i],\n",
    "                                                       data[\"rhotensinit\"].iloc[i],\n",
    "                                                       data[\"sigs\"].iloc[i]);\n",
    "\n",
    "        # EPID 06: CUR 37\n",
    "        elif data[\"EPID\"].iloc[i] == 6:\n",
    "            # Calculation of steel stresses for all specimens, except for B8, P7, T16\n",
    "            if data[\"ELID\"].iloc[i] not in {\"B8\", \"P7\", \"T16\"}:\n",
    "                b = float(data[\"b\"].iloc[i].strip(\"[]\").split(\",\")[0].split(\"if\")[0]);\n",
    "                \n",
    "                data[\"M\"].iloc[i] = func_cal_Med_EPID06(data[\"Astensinit\"].iloc[i],\n",
    "                                                        data[\"fy\"].iloc[i],\n",
    "                                                        b,\n",
    "                                                        data[\"fcm\"].iloc[i],\n",
    "                                                        data[\"h\"].iloc[i],\n",
    "                                                        data[\"sigs\"].iloc[i]);\n",
    "\n",
    "        # EPID 09: Bennet\n",
    "\n",
    "        # EPID 26: Heuveln\n",
    "        elif data[\"EPID\"].iloc[i] == 26:\n",
    "            b = float(data[\"b\"].iloc[i].strip(\"[]\").split(\",\")[0].split(\"if\")[0]);\n",
    "            \n",
    "            data[\"M\"].iloc[i] = func_cal_Med_EPID26(data[\"Astensinit\"].iloc[i],\n",
    "                                                       data[\"zstensinit\"].iloc[i],\n",
    "                                                       data[\"ae\"].iloc[i],\n",
    "                                                       data[\"rhotensinit\"].iloc[i],\n",
    "                                                       data[\"sigs\"].iloc[i]);\n",
    "\n",
    "        # EPID 27: Garcia\n",
    "        elif data[\"EPID\"].iloc[i] == 27:\n",
    "            # Calculation of steel stresses for all specimens, except for B8, P7, T16\n",
    "            if data[\"ELID\"].iloc[i] not in {\"16-20-00F\", \"16-70-00F\"}:\n",
    "\n",
    "                data[\"M\"].iloc[i] = func_cal_Med_EPID27(data[\"Astensinit\"].iloc[i],\n",
    "                                                       data[\"zstensinit\"].iloc[i],\n",
    "                                                       data[\"ae\"].iloc[i],\n",
    "                                                       data[\"rhotensinit\"].iloc[i],\n",
    "                                                       data[\"sigs\"].iloc[i]);\n",
    "\n",
    "    return data    "
   ]
  },
  {
   "cell_type": "code",
   "execution_count": 182,
   "id": "e373e2f5-a3b9-47cb-8105-ce482fe78466",
   "metadata": {},
   "outputs": [],
   "source": [
    "df = func_fill_in_M_and_N(df);"
   ]
  },
  {
   "cell_type": "markdown",
   "id": "d725f84f-8172-44e8-a8a9-78a2a8a87fff",
   "metadata": {},
   "source": [
    "#### Computation of the loads due to self-weight"
   ]
  },
  {
   "cell_type": "markdown",
   "id": "d45a0866-e20c-4c57-90d1-b8421ee4106f",
   "metadata": {},
   "source": [
    "The effects of self-weight were only considered for elements subjected to bending. In some cases, the elements were bent upwards (hogging). This reduces the internal forces. Therefore, for these cases, the effects of self-weight were substracted instead of added. This was the case for EPID01, 24, 26 and 27. For EPID14, due to the unconventional test setup, the effects of self-weight were neglected."
   ]
  },
  {
   "cell_type": "code",
   "execution_count": 183,
   "id": "a641afd8-bc50-4e45-aa2e-df59320678eb",
   "metadata": {},
   "outputs": [],
   "source": [
    "def func_cal_rho(data,g):\n",
    "    rhotemp = np.zeros(data.shape[0]);\n",
    "    qself = np.zeros(data.shape[0]);\n",
    "    \n",
    "    for i in range(data.shape[0]):\n",
    "        if rho[i] < 1: # Then, no rho is known --> use 25 kN/m3\n",
    "            rhotemp[i] = 25;\n",
    "        else:\n",
    "            rhotemp[i] = g*rho[i]/1000;\n",
    "\n",
    "        qself[i] = rhotemp[i]*data[\"Ac\"].iloc[i]/(1e6);\n",
    "    \n",
    "    return rhotemp, qself"
   ]
  },
  {
   "cell_type": "code",
   "execution_count": 184,
   "id": "50fd878a-e973-420b-bac9-37a9f9aa7f18",
   "metadata": {},
   "outputs": [],
   "source": [
    "df[\"rho\"], df[\"qself\"] = func_cal_rho(df,g);\n",
    "df = df.astype({\n",
    "    \"rho\": \"float\",\n",
    "    \"qself\": \"float\"\n",
    "});"
   ]
  },
  {
   "cell_type": "code",
   "execution_count": 185,
   "id": "979e0a80-58f9-4672-a730-41eda036b352",
   "metadata": {},
   "outputs": [],
   "source": [
    "def func_cal_self_weight(data):\n",
    "    Mself = np.zeros(data.shape[0]);\n",
    "    \n",
    "    for i in range(data.shape[0]):\n",
    "        if data[\"selfw\"].iloc[i] == 2: # Only consider self-weight if it is known that no self-weight was taken into account!\n",
    "            if data[\"epsin\"].iloc[i] == str(2) or data[\"epsin\"].iloc[i] == str(3): # Calculat self-weight in case of bending and/or compression\n",
    "                if data[\"EPID\"].iloc[i] != 14:\n",
    "                # Since the configuration in this test is different. (1/8) qL^2 doesn't apply here...\n",
    "                    if data[\"Lspan\"].iloc[i] > 1: # Avoid computing unknown spans; otherwise\n",
    "                        a = (1/1000)*(data[\"Lspan\"].iloc[i] - data[\"Lcons\"].iloc[i])/2\n",
    "                        b = a + (1/1000)*data[\"Lcons\"].iloc[i];\n",
    "                    \n",
    "                        Mself[i] = ((-1*df[\"qself\"].iloc[i]/6)*((b**3)-(a**3)) + (df[\"qself\"].iloc[i]/4)*(((1/1000)*data[\"Lspan\"].iloc[i])\\\n",
    "                            *((b**2) - (a**2))))/((1/1000)*data[\"Lcons\"].iloc[i]);\n",
    "    \n",
    "                    else:\n",
    "                        a = (1/1000)*(data[\"Ltot\"].iloc[i] - data[\"Lcons\"].iloc[i])/2\n",
    "                        b = a + (1/1000)*data[\"Lcons\"].iloc[i];\n",
    "                    \n",
    "                        Mself[i] = ((-1*df[\"qself\"].iloc[i]/6)*((b**3)-(a**3)) + (df[\"qself\"].iloc[i]/4)*(((1/1000)*data[\"Ltot\"].iloc[i])\\\n",
    "                            *((b**2) - (a**2))))/((1/1000)*data[\"Lcons\"].iloc[i]);\n",
    "                    if data[\"EPID\"].iloc[i] in [1, 24, 26, 27]:\n",
    "                        Mself[i] = -1*Mself[i];\n",
    "            \n",
    "            else: # Dont address elements which are subjected in pure tension\n",
    "                Mself[i] = 0;\n",
    "        else:\n",
    "            Mself[i] = 0;\n",
    "\n",
    "    return Mself"
   ]
  },
  {
   "cell_type": "code",
   "execution_count": 186,
   "id": "06039cd7-6075-40d6-bc95-c12a001fba1a",
   "metadata": {},
   "outputs": [],
   "source": [
    "df[\"Mself\"] = func_cal_self_weight(df);\n",
    "df = df.astype({\n",
    "    \"Mself\": \"float\"\n",
    "});"
   ]
  },
  {
   "cell_type": "markdown",
   "id": "9f9cd6fe-78c3-4345-a92d-ae53eb7f412d",
   "metadata": {},
   "source": [
    "#### Computation of load due to prestressing"
   ]
  },
  {
   "cell_type": "code",
   "execution_count": 187,
   "id": "a953cbd4-fb29-4a39-9f96-f7530271629c",
   "metadata": {},
   "outputs": [],
   "source": [
    "def func_calculate_Mpres(data):\n",
    "   \n",
    "    ep = np.zeros(data.shape[0]);\n",
    "    Mp = np.zeros(data.shape[0]);\n",
    "    \n",
    "    for i in range(data.shape[0]):\n",
    "        if data[\"Aptot\"].iloc[i] > 0.01:\n",
    "            ep[i] = data[\"cog\"].iloc[i]-data[\"zptot\"].iloc[i];\n",
    "            Mp[i] = (ep[i]/1000)*data[\"PL\"].iloc[i];\n",
    "        else:\n",
    "            ep[i] = 0;\n",
    "            Mp[i] = 0;\n",
    "    \n",
    "    return ep, Mp   "
   ]
  },
  {
   "cell_type": "code",
   "execution_count": 188,
   "id": "c43bd2ab-5ded-4b43-b1a9-cedd9748c767",
   "metadata": {},
   "outputs": [],
   "source": [
    "df[\"ep\"], df[\"Mp\"] = func_calculate_Mpres(df);\n",
    "df = df.astype({\n",
    "    \"ep\": \"float\",\n",
    "    \"Mp\": \"float\"\n",
    "});"
   ]
  },
  {
   "cell_type": "markdown",
   "id": "2f9ca218-1d10-4d7c-ae86-5af1c3c2fa78",
   "metadata": {},
   "source": [
    "#### Computation of the total applied load"
   ]
  },
  {
   "cell_type": "code",
   "execution_count": 189,
   "id": "a37c20a4-7212-41b5-a6bd-1b05e1f206cb",
   "metadata": {},
   "outputs": [],
   "source": [
    "def func_compute_M(data):\n",
    "    Muni = data[\"M\"] + data[\"Mp\"] + data[\"Mself\"];\n",
    "    return Muni"
   ]
  },
  {
   "cell_type": "code",
   "execution_count": 190,
   "id": "f1ca976d-b0c6-45e6-976a-ae1ee64f97fa",
   "metadata": {},
   "outputs": [],
   "source": [
    "df[\"M\"] = func_compute_M(df);\n",
    "df = df.astype({\n",
    "    \"M\": \"float\"\n",
    "});"
   ]
  },
  {
   "cell_type": "markdown",
   "id": "7eeca81f-dbe3-4bf4-b32b-f806c1eb5dab",
   "metadata": {},
   "source": [
    "#### Calculation of the prestress losses"
   ]
  },
  {
   "cell_type": "code",
   "execution_count": 191,
   "id": "9fe6872f-ec4c-4797-8e5f-e9d752b1814a",
   "metadata": {},
   "outputs": [],
   "source": [
    "def func_cal_prestress_losses(data):\n",
    "\n",
    "    pre_time_loss = np.zeros(data.shape[0]);\n",
    "    relax_class = 1;\n",
    "    \n",
    "    for i in range(data.shape[0]):\n",
    "\n",
    "        if data[\"Aptot\"].iloc[i] > tol:\n",
    "        \n",
    "            # First, calculate the stress in the concrete at the level of the prestressing steel (or at an equivalent reinforcing layer)\n",
    "            e_p = data[\"zptot\"].iloc[i]-data[\"cog\"].iloc[i];\n",
    "            sig_cps = -data[\"PL\"].iloc[i]*(10**3)/data[\"Ac\"].iloc[i] + (10**6)*data[\"M\"].iloc[i]*e_p/data[\"Izz\"].iloc[i];\n",
    "            \n",
    "            # For the claculation of the losses, low relaxation strands are used\n",
    "            sig_pi = data[\"PL\"].iloc[i]*(10**3)/data[\"Aptot\"].iloc[i];\n",
    "            mu = sig_pi/data[\"fpk\"].iloc[i];\n",
    "            t = (data[\"t0\"].iloc[i] - data[\"t0p\"].iloc[i])*24; # Time is in hours\n",
    "\n",
    "            if relax_class == 1:\n",
    "                rho_1000 = 8;\n",
    "                sig_pr = 5.39*sig_pi*(10**(-5))*rho_1000*np.exp(6.7*mu) * (t/1000)**(0.75*(1-mu));\n",
    "            elif relax_class == 2:\n",
    "                rho_1000 = 2.5;\n",
    "                sig_pr = 0.66*sig_pi*(10**(-5))*rho_1000*np.exp(9.1*mu) * (t/1000)**(0.75*(1-mu));\n",
    "            \n",
    "            ae = data[\"Es\"].iloc[i]/data[\"Ecm0\"].iloc[i];\n",
    "            rho_p = data[\"Aptot\"].iloc[i] / data[\"Ac\"].iloc[i];\n",
    "            rho_s = data[\"Astot\"].iloc[i] / data[\"Ac\"].iloc[i];\n",
    "    \n",
    "            f = 1 + data[\"Ac\"].iloc[i]*(e_p**2) / data[\"Izz\"].iloc[i];\n",
    "            \n",
    "            # Final calculation of the time-dependent losses\n",
    "            time_dep_loss = ((sig_cps*ae*data[\"phi_creep_prestress\"].iloc[i] - 0.8*sig_pr - data[\"shrinkage_prestress\"].iloc[i]*data[\"Ep\"].iloc[i])/ \\\n",
    "                    (1 + ae*(rho_p + rho_s) * f*(1 + chi*data[\"phi_creep_prestress\"].iloc[i])))*data[\"Aptot\"].iloc[i];\n",
    "            \n",
    "            if data[\"EPID\"].iloc[i] == 14 and data[\"fpk\"].iloc[i] > 1:\n",
    "                pre_time_loss[i] = time_dep_loss;\n",
    "            elif data[\"EPID\"].iloc[i] == 20 and data[\"fpk\"].iloc[i] > 1:\n",
    "                pre_time_loss[i] = time_dep_loss;\n",
    "\n",
    "    return pre_time_loss"
   ]
  },
  {
   "cell_type": "code",
   "execution_count": 192,
   "id": "0531d4d7-e90a-4b1c-9cbf-4fb089ab0e1e",
   "metadata": {},
   "outputs": [],
   "source": [
    "df[\"pre_loss\"] = func_cal_prestress_losses(df);\n",
    "df = df.astype({\n",
    "    \"pre_loss\": \"float\"\n",
    "});"
   ]
  },
  {
   "cell_type": "code",
   "execution_count": 193,
   "id": "4f738926-0eba-475c-b2cd-3415608bfd25",
   "metadata": {},
   "outputs": [],
   "source": [
    "# Add the losses to the initial prestressing\n",
    "df[\"PL\"] = df[\"PL\"] + df[\"pre_loss\"]/1000;"
   ]
  },
  {
   "cell_type": "markdown",
   "id": "25e884f3-e5e6-4da6-aecf-dfb5f3d8c491",
   "metadata": {},
   "source": [
    "### 05.12 - Functions to compute the restrained shrinkage strain, prior to loading"
   ]
  },
  {
   "cell_type": "markdown",
   "id": "c0f4cb31-9aa3-4286-a82c-af7aa02331a4",
   "metadata": {},
   "source": [
    "#### Define kinematic relation"
   ]
  },
  {
   "cell_type": "code",
   "execution_count": 194,
   "id": "d896674a-b79f-4b72-988a-d757c485e6fe",
   "metadata": {},
   "outputs": [],
   "source": [
    "def func_create_strain_dist(epsctop,xc,z):\n",
    "    eps_c = epsctop - (epsctop*z/xc);\n",
    "    return eps_c"
   ]
  },
  {
   "cell_type": "code",
   "execution_count": 195,
   "id": "11f07b96-1a41-4884-afe1-00a4f0ccb5af",
   "metadata": {},
   "outputs": [],
   "source": [
    "def func_sum_steel_reinf(epsctop,Es,As,xc,zs,zt,fy,Nzero):\n",
    "    \n",
    "    Fstore = np.zeros(len(As));\n",
    "    Mfstore = np.zeros(len(As));\n",
    "    \n",
    "    # Sum over the layers\n",
    "    for i in range(int(Nzero)+1):\n",
    "\n",
    "        Fstore[i] = As[i]*func_cal_reinf_stress(Es,fy,epsctop*(zs[i]-xc)/xc);\n",
    "        Mfstore[i] = Fstore[i]*(zs[i]-zt);\n",
    "    \n",
    "    return Fstore, Mfstore"
   ]
  },
  {
   "cell_type": "markdown",
   "id": "7000f49b-325e-4d69-822c-ef5bdde6f998",
   "metadata": {},
   "source": [
    "#### Define constitutive relations"
   ]
  },
  {
   "cell_type": "code",
   "execution_count": 196,
   "id": "1746ec13-e024-4444-be17-033f69a116df",
   "metadata": {},
   "outputs": [],
   "source": [
    "def func_cal_reinf_stress(Es,fy,eps):\n",
    "\n",
    "    stress = eps*Es;\n",
    "    \n",
    "    return stress"
   ]
  },
  {
   "cell_type": "markdown",
   "id": "18bc9056-5877-4006-b6f4-c7e3c9999edb",
   "metadata": {},
   "source": [
    "#### Computation of the initial shrinkage strain"
   ]
  },
  {
   "cell_type": "code",
   "execution_count": 197,
   "id": "db75ae67-3db4-4e30-be2c-fff95cddda0c",
   "metadata": {},
   "outputs": [],
   "source": [
    "def func_int_compression_initstrain(z,b,Ecm,epsctop,xc,epsinit):\n",
    "\n",
    "    eps_c = func_create_strain_dist(epsctop,xc,z) + epsinit;\n",
    "    sig_c = Ecm*eps_c;\n",
    "\n",
    "    bz = func_extract_width(z,b);\n",
    "    dF = sig_c*bz;\n",
    "    \n",
    "    return dF"
   ]
  },
  {
   "cell_type": "code",
   "execution_count": 198,
   "id": "7176353a-cf59-431c-a9d1-799ad6302524",
   "metadata": {},
   "outputs": [],
   "source": [
    "def func_int_compression_moment_initstrain(z,b,Ecm,epsctop,xc,epsinit):\n",
    "\n",
    "    dF = func_int_compression_initstrain(z,b,Ecm,epsctop,xc,epsinit);\n",
    "    zdF = dF*z;\n",
    "\n",
    "    return zdF"
   ]
  },
  {
   "cell_type": "code",
   "execution_count": 199,
   "id": "031796ce-c9ba-4ae7-ab87-714b0fd424c8",
   "metadata": {},
   "outputs": [],
   "source": [
    "def func_cal_reinf_initstrain(p,Es,b,h,Nint,zs,As,fy,\\\n",
    "                                zt,Nzero,Ecm,chi,epsinit):\n",
    "\n",
    "    epsctop,xc = p;\n",
    "\n",
    "    # Compression part of concrete\n",
    "    # ==============================================\n",
    "    Fcp = quad(func_int_compression_initstrain,0,h,args=(b,Ecm,epsctop,xc,epsinit))[0];\n",
    "\n",
    "    # Lever arm of compression force\n",
    "    # ==============================================\n",
    "    zx = quad(func_int_compression_moment_initstrain,0,h,args=(b,Ecm,epsctop,xc,epsinit))[0]/Fcp;\n",
    "\n",
    "    # Force and bending moment in reinforcing steel\n",
    "    # ==============================================\n",
    "    Fs, Mf = func_sum_steel_reinf(epsctop,Es,As,xc,zs,zt,fy,Nzero);\n",
    "\n",
    "    Fstot = sum(Fs);\n",
    "    Mftot = sum(Mf);\n",
    "\n",
    "    # Return the equilibrium equations\n",
    "    # ==============================================\n",
    "    horeq = -Fstot + Fcp; \n",
    "    Meq = -Fcp*(zt-zx) - Mftot;\n",
    "\n",
    "    return horeq, Meq"
   ]
  },
  {
   "cell_type": "code",
   "execution_count": 200,
   "id": "15750d5a-c676-4179-a08b-576b0d2996cf",
   "metadata": {},
   "outputs": [],
   "source": [
    "def func_cal_strain_loc(epsctop,xc,zs,zp,zt,Astot,Aptot):\n",
    "\n",
    "    if Astot > 0.1:\n",
    "        epsloc = epsctop*(zs-xc)/xc;\n",
    "\n",
    "    elif Aptot > 0.1 and Astot < 0.1:\n",
    "        epsloc = epsctop*(zp-xc)/xc;\n",
    "\n",
    "    return epsloc"
   ]
  },
  {
   "cell_type": "code",
   "execution_count": 201,
   "id": "2a394001-cc8d-4fac-a36a-4c5fb432bbae",
   "metadata": {},
   "outputs": [],
   "source": [
    "def cal_reinf_initstrain(data): # Continue calculation\n",
    "\n",
    "    initstrain = np.zeros(data.shape[0]);\n",
    "\n",
    "    for i in range(data.shape[0]):\n",
    "    \n",
    "        rho = data[\"Astot\"].iloc[i] / data[\"Ac\"].iloc[i];\n",
    "                \n",
    "        # Pure tension\n",
    "        # ==================================================================================\n",
    "        if str(data[\"epsin\"].iloc[i]) == str(\"1a\") and abs(data[\"shrinkage_init\"].iloc[i]) > tol*(10**(-5)):\n",
    "\n",
    "            initstrain[i] = data[\"shrinkage_init\"].iloc[i] / (1 + ((data[\"Es\"].iloc[i]/data[\"Ecm\"].iloc[i]))*rho);\n",
    "            \n",
    "        \n",
    "        # Bending\n",
    "        # ==================================================================================\n",
    "        elif str(data[\"epsin\"].iloc[i]) == str(\"2\") and abs(data[\"shrinkage_init\"].iloc[i]) > tol*(10**(-5)):\n",
    "            sol = fsolve(func_cal_reinf_initstrain,[1e-3,data[\"h\"].iloc[i]/3],\n",
    "                                 args = (\n",
    "                                     data[\"Es\"].iloc[i],\n",
    "                                     data[\"b\"].iloc[i],\n",
    "                                     data[\"h\"].iloc[i],\n",
    "                                     500,\n",
    "                                     zs[i,:],\n",
    "                                     Aslayer[i,:],\n",
    "                                     data[\"fy\"].iloc[i],\n",
    "                                     data[\"cog\"].iloc[i],\n",
    "                                     data[\"indLR\"].iloc[i],\n",
    "                                     data[\"Ecm\"].iloc[i],\n",
    "                                     chi,\n",
    "                                     data[\"shrinkage_init\"].iloc[i]\n",
    "                                 ));\n",
    "        \n",
    "            eps, xc = sol[0], sol[1];\n",
    "                    \n",
    "            eps_bot = eps*(data[\"h\"].iloc[i]-xc)/xc;\n",
    "\n",
    "            epsloc = func_cal_strain_loc(eps,\n",
    "                                    xc,\n",
    "                                    zs[i,data[\"indLR\"].iloc[i]],\n",
    "                                    zp[i,data[\"indNP\"].iloc[i]],\n",
    "                                    data[\"cog\"].iloc[i],\n",
    "                                    data[\"Astot\"].iloc[i],\n",
    "                                    data[\"Aptot\"].iloc[i]);\n",
    "\n",
    "            initstrain[i] = epsloc;\n",
    "\n",
    "        else:\n",
    "            initstrain[i] = 0;\n",
    "\n",
    "    data[\"initstrain\"] = initstrain;\n",
    "\n",
    "    return data"
   ]
  },
  {
   "cell_type": "code",
   "execution_count": 202,
   "id": "695ff2a8-7da2-422f-8328-1e2674dc92b6",
   "metadata": {},
   "outputs": [],
   "source": [
    "if includeinitshrinkage == \"yes\":\n",
    "    if importsigs == \"no\":\n",
    "        df = cal_reinf_initstrain(df);\n",
    "        df[\"initstrain\"].to_csv(\"initstrain.csv\",index = False);\n",
    "    else:\n",
    "        df[\"initstrain\"] = \\\n",
    "        pd.read_csv(Path(motherpath/r\"1_st_Journal_Paper\\Jupyter_Notebook\\Working_database\\initstrain.csv\"));\n",
    "else:\n",
    "    df[\"initstrain\"] = np.zeros(df.shape[0]);"
   ]
  },
  {
   "cell_type": "code",
   "execution_count": 203,
   "id": "e6cf67a7-da0d-48c4-8527-39e24105b04f",
   "metadata": {},
   "outputs": [],
   "source": [
    "df = df.astype({\n",
    "    \"initstrain\": \"float\"});"
   ]
  },
  {
   "cell_type": "code",
   "execution_count": 204,
   "id": "a3aba54d-24c8-4019-b81f-670acf6fdf31",
   "metadata": {},
   "outputs": [
    {
     "data": {
      "image/png": "[encoded data removed]",
      "text/plain": [
       "<Figure size 640x480 with 1 Axes>"
      ]
     },
     "metadata": {},
     "output_type": "display_data"
    }
   ],
   "source": [
    "plt.title(\"Estimated vs measured initial shrinkage for different elements\");\n",
    "plt.plot(df[\"ELID\"],-1*(xi_bs1*df[\"eps_cbs\"] + xi_ds1*df[\"eps_cds\"]),\"*k\",label=\"Estimated (initial) shrinkage\");\n",
    "plt.plot(df[\"ELID\"],1*df[\"epsc\"]*10**(-6),\"*r\",label=\"Measured initial shrinkage\");\n",
    "plt.legend();\n",
    "plt.xticks(rotation=90);\n",
    "plt.grid();"
   ]
  },
  {
   "cell_type": "code",
   "execution_count": 205,
   "id": "d6864ec9-c728-4c46-a335-87c63e5ea74f",
   "metadata": {},
   "outputs": [],
   "source": [
    "def func_compute_fctmred(data):\n",
    "\n",
    "    fctmred = np.zeros(data.shape[0]);\n",
    "    red = np.zeros(data.shape[0]);\n",
    "    \n",
    "    for i in range(data.shape[0]):\n",
    "        fctmred[i] = data[\"fctm\"].iloc[i] - data[\"Ecm\"].iloc[i]*abs((abs(data[\"initstrain\"].iloc[i]) - abs(data[\"shrinkage_init\"].iloc[i])));\n",
    "\n",
    "    return fctmred"
   ]
  },
  {
   "cell_type": "code",
   "execution_count": 206,
   "id": "f9ddc7fe-df49-4407-b33a-ccda5a906169",
   "metadata": {},
   "outputs": [],
   "source": [
    "df[\"fctmorg\"] = df[\"fctm\"]; # Create a copy"
   ]
  },
  {
   "cell_type": "code",
   "execution_count": 207,
   "id": "8e5cbf22-feb7-4cd2-bfb1-d2a786eab33c",
   "metadata": {},
   "outputs": [],
   "source": [
    "if includeinitshrinkage == \"yes\":\n",
    "    df[\"fctm\"] = func_compute_fctmred(df); # Warning: original fctm is rewritten\n",
    "    df = df.astype({\n",
    "        \"fctm\": \"float\"});\n",
    "\n",
    "    for i in range(df.shape[0]):\n",
    "        df[\"fct095\"].iloc[i] = func_cal_fcteff_from_fctm(df[\"fctm\"].iloc[i]);\n",
    "        \n",
    "        df[\"fctmfl\"].iloc[i] = func_cal_fctmfl_from_fctm(df[\"fctm\"].iloc[i],df[\"h\"].iloc[i]);\n",
    "        \n",
    "        df[\"fct095fl\"].iloc[i] = func_cal_fcteff_from_fctm(df[\"fctm\"].iloc[i]);"
   ]
  },
  {
   "cell_type": "code",
   "execution_count": 208,
   "id": "d3525e7b-8c99-42d4-972c-4f156975ef1b",
   "metadata": {},
   "outputs": [
    {
     "data": {
      "image/png": "[encoded data removed]",
      "text/plain": [
       "<Figure size 640x480 with 1 Axes>"
      ]
     },
     "metadata": {},
     "output_type": "display_data"
    }
   ],
   "source": [
    "plt.plot(df[\"ELID\"],-10**6*df[\"initstrain\"],\"*\",label=\"Restrained shrinkage\");\n",
    "plt.plot(df[\"ELID\"],-10**6*df[\"shrinkage_init\"],\"*\",label=\"Free shrinkage\");\n",
    "plt.ylabel(\"Shrinkage (microstrain)\");\n",
    "plt.legend();\n",
    "plt.xticks(rotation=90);\n",
    "plt.grid();\n",
    "plt.title(\"Free shrinkage vs restrained shrinkage\");"
   ]
  },
  {
   "cell_type": "code",
   "execution_count": 209,
   "id": "396bec86-fe76-4cc4-95a7-be3dfbc00962",
   "metadata": {},
   "outputs": [
    {
     "data": {
      "image/png": "[encoded data removed]",
      "text/plain": [
       "<Figure size 640x480 with 1 Axes>"
      ]
     },
     "metadata": {},
     "output_type": "display_data"
    }
   ],
   "source": [
    "plt.plot(df[\"ELID\"],10**6*(df[\"initstrain\"]-df[\"shrinkage_init\"]),\"*\",label=\"Difference in strain\");\n",
    "plt.xticks(rotation=90);\n",
    "plt.grid();\n",
    "plt.ylabel(\"Difference in shrinkage (microstrain)\");\n",
    "plt.title(\"Difference in shrinkage - at reinforcement level\");"
   ]
  },
  {
   "cell_type": "markdown",
   "id": "e9cb6cca-78a3-49d1-b610-32044f404304",
   "metadata": {},
   "source": [
    "### 05.13 - Compute the cracking stage"
   ]
  },
  {
   "cell_type": "code",
   "execution_count": 210,
   "id": "b5e7c47c-bd90-47f8-b274-3bf50f7d9520",
   "metadata": {},
   "outputs": [],
   "source": [
    "def func_cal_EI_uncr(data):\n",
    "\n",
    "    EI_conc = df[\"Ecm\"]*df[\"Izz\"];\n",
    "    EI_steel = df[\"Ecm\"]*(df[\"Astot\"]*(df[\"cog\"]-df[\"zstot\"])**2)*(df[\"ae\"]-1)\n",
    "    EI_prestress = df[\"Ecm\"]*(df[\"Aptot\"]*(df[\"cog\"]-df[\"zptot\"])**2)*(df[\"ap\"]-1)\n",
    "\n",
    "    EI_uncr = EI_conc + EI_steel + EI_prestress;\n",
    "\n",
    "    W_Ib = EI_uncr/((data[\"h\"]-data[\"cog\"])*data[\"Ecm\"]);\n",
    "\n",
    "    return W_Ib\n",
    "    "
   ]
  },
  {
   "cell_type": "code",
   "execution_count": 211,
   "id": "f071d186-0e7c-4076-b905-c6e6acb2b404",
   "metadata": {},
   "outputs": [],
   "source": [
    "df[\"W_Ib\"] = func_cal_EI_uncr(df);\n",
    "df = df.astype({\n",
    "    \"W_Ib\": \"float\"\n",
    "});"
   ]
  },
  {
   "cell_type": "code",
   "execution_count": 212,
   "id": "898c2253-f4dd-42a1-8dec-58efc004591e",
   "metadata": {},
   "outputs": [],
   "source": [
    "def func_cal_CS(data):\n",
    "\n",
    "    Ncr = np.zeros(data.shape[0]);\n",
    "    Mcr = np.zeros(data.shape[0]);\n",
    "    \n",
    "    Ncr095 = np.zeros(data.shape[0]);\n",
    "    Mcr095 = np.zeros(data.shape[0]);\n",
    "\n",
    "    CS = np.zeros(data.shape[0]);\n",
    "\n",
    "    for i in range(data.shape[0]):\n",
    "        if data[\"epsin\"].iloc[i] == \"1a\" or data[\"epsin\"].iloc[i] == \"1b\":\n",
    "            rho = data[\"Astot\"].iloc[i]/data[\"Ac\"].iloc[i];\n",
    "\n",
    "            Ncr[i] = data[\"Ac\"].iloc[i]*data[\"fctm\"].iloc[i]*(1+(data[\"ae\"].iloc[i]-1)*rho); # N-1 zware doorsnede\n",
    "            Ncr[i] = Ncr[i]/(1e3);\n",
    "            \n",
    "            Ncr095[i] = data[\"Ac\"].iloc[i]*data[\"fct095\"].iloc[i]*(1+(data[\"ae\"].iloc[i]-1)*rho); # N-1 zware doorsnede\n",
    "            Ncr095[i] = Ncr095[i]/(1e3);\n",
    "\n",
    "            if data[\"N\"].iloc[i] > Ncr095[i]:\n",
    "                CS[i] = 2; # Stabilized cracking stage\n",
    "            else:\n",
    "                CS[i] = 1; # Crack formation stage\n",
    "        \n",
    "        elif data[\"epsin\"].iloc[i] == str(2):\n",
    "            \n",
    "            Mcr[i] = data[\"W_Ib\"].iloc[i]*data[\"fctmfl\"].iloc[i];\n",
    "            Mcr[i] = Mcr[i]/(1e6);\n",
    "            \n",
    "            Mcr095[i] = data[\"W_Ib\"].iloc[i]*data[\"fct095fl\"].iloc[i];\n",
    "            Mcr095[i] = Mcr095[i]/(1e6);\n",
    "\n",
    "            if data[\"M\"].iloc[i] > Mcr095[i]:\n",
    "                CS[i] = 2; # Stabilized cracking stage\n",
    "            else:\n",
    "                CS[i] = 1; # Crack formation stage\n",
    "        \n",
    "        elif data[\"epsin\"].iloc[i] == str(3):\n",
    "            \n",
    "            Mcr[i] = data[\"W_Ib\"].iloc[i]*(data[\"fctmfl\"].iloc[i] + 1000*data[\"PL\"].iloc[i]/data[\"Ac\"].iloc[i]);\n",
    "            Mcr[i] = Mcr[i]/(1e6);\n",
    "            \n",
    "            Mcr095[i] = data[\"W_Ib\"].iloc[i]*(data[\"fct095fl\"].iloc[i] + 1000*data[\"PL\"].iloc[i]/data[\"Ac\"].iloc[i]);\n",
    "            Mcr095[i] = Mcr095[i]/(1e6);\n",
    "            \n",
    "            if data[\"M\"].iloc[i] > Mcr095[i]:\n",
    "                CS[i] = 2;  # Stabilized cracking stage\n",
    "            else:\n",
    "                CS[i] = 1; # Crack formation stage\n",
    "                \n",
    "    return Ncr095, Mcr095, CS, Ncr, Mcr"
   ]
  },
  {
   "cell_type": "code",
   "execution_count": 213,
   "id": "10c4f912-3bb0-40f2-ace5-ee08967777bf",
   "metadata": {},
   "outputs": [],
   "source": [
    "df[\"Ncr095\"], df[\"Mcr095\"], df[\"CS\"], df[\"Ncr\"], df[\"Mcr\"] = func_cal_CS(df);\n",
    "df = df.astype({\n",
    "    \"Ncr095\": \"float\",\n",
    "    \"Mcr095\": \"float\",\n",
    "    \"CS\": \"int\",\n",
    "    \"Ncr\": \"float\",\n",
    "    \"Mcr\": \"float\",\n",
    "});"
   ]
  },
  {
   "cell_type": "markdown",
   "id": "74be7b4e-6ca6-490d-82e8-004cc3b13a34",
   "metadata": {},
   "source": [
    "### 05.14 - Computation of the bond stress"
   ]
  },
  {
   "cell_type": "code",
   "execution_count": 214,
   "id": "ccd5f668-66a6-4fe7-8591-7feaf9ceb2cd",
   "metadata": {},
   "outputs": [],
   "source": [
    "def func_cal_bond(data,timecutoff,Nrepcutoff):\n",
    "\n",
    "    # tau_bms CS = 1 (CFS), CS = 2 (SCS)\n",
    "    # Good bond = 1, bad bond = 2\n",
    "\n",
    "    tau_bms = np.zeros(data.shape[0]);\n",
    "    tau_max = np.zeros(data.shape[0]);\n",
    "    \n",
    "    for i in range(data.shape[0]):\n",
    "        # tau_bms\n",
    "        # =======\n",
    "\n",
    "        if data[\"CS\"].iloc[i] == 1: # Address CFS\n",
    "            if data[\"Nrep\"].iloc[i] <= Nrepcutoff and data[\"t\"].iloc[i] <= timecutoff:\n",
    "                tau_bms[i] = 1.8*data[\"fctmorg\"].iloc[i];\n",
    "            if data[\"Nrep\"].iloc[i] <= Nrepcutoff and data[\"t\"].iloc[i] > timecutoff:\n",
    "                tau_bms[i] = 1.35*data[\"fctmorg\"].iloc[i];\n",
    "            if data[\"Nrep\"].iloc[i] > Nrepcutoff and data[\"t\"].iloc[i] <= timecutoff:\n",
    "                tau_bms[i] = 1.35*data[\"fctmorg\"].iloc[i];\n",
    "            if data[\"Nrep\"].iloc[i] > Nrepcutoff and data[\"t\"].iloc[i] > timecutoff:\n",
    "                tau_bms[i] = 1.35*data[\"fctmorg\"].iloc[i];\n",
    "        elif data[\"CS\"].iloc[i] == 2: # Address SCS\n",
    "            if data[\"Nrep\"].iloc[i] <= Nrepcutoff and data[\"t\"].iloc[i] <= timecutoff:\n",
    "                tau_bms[i] = 1.8*data[\"fctmorg\"].iloc[i];\n",
    "            if data[\"Nrep\"].iloc[i] <= Nrepcutoff and data[\"t\"].iloc[i] > timecutoff:\n",
    "                tau_bms[i] = 1.8*data[\"fctmorg\"].iloc[i];\n",
    "            if data[\"Nrep\"].iloc[i] > Nrepcutoff and data[\"t\"].iloc[i] <= timecutoff:\n",
    "                tau_bms[i] = 1.8*data[\"fctmorg\"].iloc[i];\n",
    "            if data[\"Nrep\"].iloc[i] > Nrepcutoff and data[\"t\"].iloc[i] > timecutoff:\n",
    "                tau_bms[i] = 1.8*data[\"fctmorg\"].iloc[i];\n",
    "        \n",
    "        # tau_max en tau_b0\n",
    "        # =======\n",
    "        if data[\"bondLR\"].iloc[i] in [0,1] or data[\"bondPR\"].iloc[i] in [0,1]: # Address good or unknown bond\n",
    "            tau_max[i] = 2.5*np.sqrt(data[\"fcm\"].iloc[i]);\n",
    "            \n",
    "        elif data[\"bondLR\"].iloc[i] == 2 or data[\"bondPR\"].iloc[i] == 2: # All other bond conditions\n",
    "            tau_max[i] = 1.25*np.sqrt(data[\"fcm\"].iloc[i]);\n",
    "    \n",
    "    return tau_bms, tau_max"
   ]
  },
  {
   "cell_type": "code",
   "execution_count": 215,
   "id": "7b0eda82-0a2a-4324-b5b0-3f9300f503e7",
   "metadata": {},
   "outputs": [],
   "source": [
    "df[\"tau_bms\"], df[\"tau_max\"] = func_cal_bond(df,timecutoff,Nrepcutoff);\n",
    "df = df.astype({\n",
    "    \"tau_bms\": \"float\",\n",
    "    \"tau_max\": \"float\"\n",
    "});"
   ]
  },
  {
   "cell_type": "markdown",
   "id": "768e005a-cee6-42b5-abff-684740ebefbc",
   "metadata": {},
   "source": [
    "### 05.15 - Computation of the steel stress"
   ]
  },
  {
   "cell_type": "markdown",
   "id": "92616797-2193-4c96-970c-a61498908906",
   "metadata": {},
   "source": [
    "For a more detailed explanation is referred to: \"*Calculation of steel stresses in cracked reinforced rectangular concrete elements loaded in bending*\". Proceedings of the International RILEM Conference on Synergising Expertise Towards Sustainability and Robustness of CBMs and Concrete Structures, Milos, 2023."
   ]
  },
  {
   "cell_type": "markdown",
   "id": "dc08cc0a-e2b2-4740-b716-a5c02f373514",
   "metadata": {},
   "source": [
    "#### Create an initial guess for the bending case"
   ]
  },
  {
   "cell_type": "markdown",
   "id": "98714df7-002e-4647-8b4a-5c258129eadd",
   "metadata": {},
   "source": [
    "The computation of the steel stress requires a numerical solving procedure. To (increase the chance to) get a proper solution, an initial guess is suggested for elements loaded in bending, based on linear elastic behavior, loaded in pure bending. The chosen unknowns in the computation are the strain at the top of the concrete section, and the height of the concrete compression zone."
   ]
  },
  {
   "cell_type": "code",
   "execution_count": 216,
   "id": "88441bff-dfcf-41c0-8d3a-12cf4746a5b6",
   "metadata": {},
   "outputs": [],
   "source": [
    "def func_cal_init(data):\n",
    "\n",
    "    xcinit = np.zeros(data.shape[0]);\n",
    "    epsinit = np.zeros(data.shape[0]);\n",
    "\n",
    "    for i in range(data.shape[0]):\n",
    "        if str(data[\"epsin\"].iloc[i]) == str(2) or str(data[\"epsin\"].iloc[i]) == str(3) and data[\"Astot\"].iloc[i] > 0 and data[\"M\"].iloc[i] > 0:\n",
    "            \n",
    "            ae = data[\"ae\"].iloc[i]; rho = data[\"rhotensinit\"].iloc[i];\n",
    "            d = data[\"h\"].iloc[i] - data[\"ry\"].iloc[i];\n",
    "            \n",
    "            kx = -ae*rho + np.sqrt((ae*rho)**2 + 2*ae*rho);\n",
    "            xcinit[i] = d*kx;\n",
    "\n",
    "            b = data[\"Ac\"].iloc[i]/data[\"h\"].iloc[i]; # Pseudo-width of the cross-section\n",
    "            epsinit[i] = 2*(1e6)*data[\"M\"].iloc[i]/(data[\"Ecm\"].iloc[i]*b*xcinit[i]*(d-xcinit[i]/3));\n",
    "\n",
    "    return xcinit, epsinit"
   ]
  },
  {
   "cell_type": "code",
   "execution_count": 217,
   "id": "6404fa15-5b5f-4a9f-8f69-2e9e0aefa260",
   "metadata": {},
   "outputs": [],
   "source": [
    "df[\"xcinit\"], df[\"epsinit\"] = func_cal_init(df);\n",
    "df = df.astype({\n",
    "    \"xcinit\": \"float\",\n",
    "    \"epsinit\": \"float\"\n",
    "});"
   ]
  },
  {
   "cell_type": "markdown",
   "id": "269d9e60-e7d4-4bff-a6af-c2f1f76c4d91",
   "metadata": {},
   "source": [
    "#### Constitutive relations"
   ]
  },
  {
   "cell_type": "markdown",
   "id": "4e749bcf-3354-46bb-b333-69b6c9ce302c",
   "metadata": {},
   "source": [
    "##### Concrete"
   ]
  },
  {
   "cell_type": "code",
   "execution_count": 218,
   "id": "cb6a2e5b-5c4e-4bdb-a6b5-24d195213fc3",
   "metadata": {},
   "outputs": [],
   "source": [
    "def func_interpolate_concrete_prop(fcm,E_ci):\n",
    "    \n",
    "    C_12 = [20,27100,11100,0.0019,0.0035,2.44];\n",
    "    C_16 = [24,28800,12200,0.002,0.0035,2.36];\n",
    "    C_20 = [28,30300,13300,0.0021,0.0035,2.28];\n",
    "    C_25 = [33,32000,14900,0.0022,0.0035,2.15];\n",
    "    C_30 = [38,33600,16500,0.0023,0.0035,2.04];\n",
    "    C_35 = [43,35000,18200,0.0023,0.0035,1.92];\n",
    "    C_40 = [48,36300,20000,0.0024,0.0035,1.82];\n",
    "    C_45 = [53,37500,21600,0.0025,0.0035,1.74];\n",
    "    C_50 = [58,38600,23200,0.0026,0.0034,1.66];\n",
    "    C_55 = [63,39700,24700,0.0026,0.0034,1.61];\n",
    "    C_60 = [68,40700,26200,0.0027,0.0033,1.55];\n",
    "    C_70 = [78,42600,28900,0.0027,0.0032,1.47];\n",
    "    C_80 = [88,44400,31400,0.0028,0.0031,1.41];\n",
    "    C_90 = [98,46000,33800,0.0029,0.003,1.36];\n",
    "    C_100 = [108,47500,36000,0.003,0.003,1.32];\n",
    "    \n",
    "    d = {\"C12\":C_12,\"C16\":C_16,\"C20\":C_20,\"C25\":C_25,\"C30\":C_30,\"C35\":C_35,\"C40\":C_40,\"C45\":C_45,\"C50\":C_50,\\\n",
    "         \"C55\":C_55,\"C60\":C_60,\"C70\":C_70,\"C80\":C_80,\"C90\":C_90,\"C100\":C_100};\n",
    "    \n",
    "    col = [\"fcm\",\"Eci\",\"Ec1\",\"epsc1\",\"epsclim\",\"k\"];\n",
    "        \n",
    "    df = pd.DataFrame(data=d).T\n",
    "    df.columns = col;\n",
    "    \n",
    "    E_c1_ipl = interp1d(df[\"fcm\"],df[\"Ec1\"],fill_value=\"extrapolate\");\n",
    "    eps_c1_ipl = interp1d(df[\"fcm\"],df[\"epsc1\"],fill_value=\"extrapolate\");\n",
    "    eps_clim_ipl = interp1d(df[\"fcm\"],df[\"epsclim\"],fill_value=\"extrapolate\");\n",
    "\n",
    "    Ec_1 = E_c1_ipl(fcm);\n",
    "    eps_c1 = eps_c1_ipl(fcm);\n",
    "    eps_clim = eps_clim_ipl(fcm);\n",
    "    \n",
    "    k = E_ci / Ec_1;\n",
    "    \n",
    "    return k, eps_c1, eps_clim"
   ]
  },
  {
   "cell_type": "code",
   "execution_count": 219,
   "id": "a7312f8d-3098-4fc3-9b3a-ccfeb7caa26a",
   "metadata": {},
   "outputs": [],
   "source": [
    "def func_cal_fcm_eps(fcm,eps_c,eps_c1,k,epslim,Ecm,phi_creep,chi):\n",
    "    \n",
    "    eta = (eps_c/(1+chi*phi_creep)) / eps_c1;\n",
    "\n",
    "    sig_c = 0;\n",
    "\n",
    "    if eps_c < 0:\n",
    "        sig_c = 0;\n",
    "    \n",
    "    # elif 0 <= eps_c <= epslim:\n",
    "    elif 0 <= eps_c <= epslim/(1+chi*phi_creep):\n",
    "        sig_c = fcm*(k*eta - (eta**2))/(1 + (k-2)*eta);\n",
    "    \n",
    "    elif eps_c > epslim/(1+chi*phi_creep):\n",
    "        sig_c = 0;\n",
    "    \n",
    "    return sig_c"
   ]
  },
  {
   "cell_type": "markdown",
   "id": "56f4085d-cb44-462c-98f7-5dfc9ba9708c",
   "metadata": {},
   "source": [
    "##### Reinforcing steel"
   ]
  },
  {
   "cell_type": "markdown",
   "id": "a58179af-7c45-4b3e-bce6-38e93d1f00cf",
   "metadata": {},
   "source": [
    "It is assumed that the steel behaves linear elastic. Afterwards, it is checked if the yield stress is exceeded."
   ]
  },
  {
   "cell_type": "markdown",
   "id": "d9753407-a918-404e-9037-18f178fea420",
   "metadata": {},
   "source": [
    "##### Prestressing steel"
   ]
  },
  {
   "cell_type": "code",
   "execution_count": 220,
   "id": "c2db7afa-a0f1-49dd-bdaf-908bbb30ffdc",
   "metadata": {},
   "outputs": [],
   "source": [
    "def func_cal_prestress(Ep,fp01k,fpk,eps_pud,eps):\n",
    "\n",
    "    stress = Ep*eps;\n",
    "    \n",
    "    return stress"
   ]
  },
  {
   "cell_type": "markdown",
   "id": "b91fb2be-3287-4e56-90bc-f3746c078dd2",
   "metadata": {},
   "source": [
    "#### Forces and point of application of forces"
   ]
  },
  {
   "cell_type": "markdown",
   "id": "45d9518c-8117-44bc-8f1c-6226ecdfdb7e",
   "metadata": {},
   "source": [
    "##### Concrete - compression"
   ]
  },
  {
   "cell_type": "code",
   "execution_count": 221,
   "id": "ea1db91f-0376-4f87-9dc4-d2b2f68da586",
   "metadata": {},
   "outputs": [],
   "source": [
    "def func_int_compression(z,epsctop,xc,b,h,Nint,fcm,eps_c1,k,epslim,Ecm,phi_creep,chi):\n",
    "           \n",
    "    eps_c = func_create_strain_dist(epsctop,xc,z);\n",
    "\n",
    "    sig_c = func_cal_fcm_eps(fcm,eps_c,eps_c1,k,epslim,Ecm,phi_creep,chi);\n",
    "\n",
    "    bz = func_extract_width(z,b);\n",
    "    dF = sig_c*bz;\n",
    "    \n",
    "    return dF"
   ]
  },
  {
   "cell_type": "code",
   "execution_count": 222,
   "id": "5383fc3b-9143-46cc-b2d5-3ed96f54b4a7",
   "metadata": {},
   "outputs": [],
   "source": [
    "def func_int_compression_moment(z,epsctop,xc,b,h,Nint,fcm,eps_c1,k,epslim,Ecm,phi_creep,chi):\n",
    "    \n",
    "    dF = func_int_compression(z,epsctop,xc,b,h,Nint,fcm,eps_c1,k,epslim,Ecm,phi_creep,chi);\n",
    "    zdF = dF*z;\n",
    "    \n",
    "    return zdF"
   ]
  },
  {
   "cell_type": "markdown",
   "id": "435a117c-5102-4dd2-9eef-ca8a40ec24d8",
   "metadata": {},
   "source": [
    "##### Concrete - uncracked part, but in tension"
   ]
  },
  {
   "cell_type": "code",
   "execution_count": 223,
   "id": "f2eafd98-1536-4888-ba82-88389a2a280d",
   "metadata": {},
   "outputs": [],
   "source": [
    "def func_int_uncracked_tension(z,epsctop,xc,b,Ecm):\n",
    "\n",
    "    eps_c = func_create_strain_dist(epsctop,xc,z);\n",
    "    \n",
    "    sigt = -1*Ecm*eps_c;\n",
    "    \n",
    "    bz = func_extract_width(z,b);\n",
    "    dF = sigt*bz;\n",
    "\n",
    "    return dF"
   ]
  },
  {
   "cell_type": "markdown",
   "id": "2df76e5a-ffa1-439a-b73b-c0a31f544da0",
   "metadata": {},
   "source": [
    "##### Concrete - cracked part, contribution according to Hordijk"
   ]
  },
  {
   "cell_type": "code",
   "execution_count": 224,
   "id": "12a612c0-8080-4cb7-8a80-269a70868b18",
   "metadata": {},
   "outputs": [],
   "source": [
    "def func_cal_tension_softening(fcm,fctm,w):\n",
    "    \n",
    "    c1 = 3; c2 = 6.93;\n",
    "    Gf = 85*(fcm**0.15)/1000;\n",
    "    wult = 5.136*Gf/fctm;\n",
    "    \n",
    "    if w >= 0 and w < wult:\n",
    "        sigct = fctm*\\\n",
    "            (( 1 + (c1*w/wult)**3 ) * np.exp(-c2*w/wult) - (w/wult)*(1+c1**3)*np.exp(-c2));\n",
    "\n",
    "    else:\n",
    "        sigct = 0;\n",
    "\n",
    "    return sigct"
   ]
  },
  {
   "cell_type": "code",
   "execution_count": 225,
   "id": "5c67af0b-1ab7-448a-a511-a8869cd2a83d",
   "metadata": {},
   "outputs": [],
   "source": [
    "def func_int_hordijk(z,zw,xc,xct1,fcm,b,h,fctm,w0,epsin):\n",
    "    \n",
    "    if epsin == str(2) or epsin == str(3): # Addressing case of bending, or prestressing\n",
    "        w = w0*(z-xc-xct1)/(zw-xc-xct1);\n",
    "        sig_t = func_cal_tension_softening(fcm,fctm,w);\n",
    "    elif epsin == str(\"1a\"): # Addressing case of pure tension\n",
    "        w = w0;\n",
    "        sig_t = func_cal_tension_softening(fcm,fctm,w);\n",
    "\n",
    "    bz = func_extract_width(z,b);\n",
    "    dF = sig_t*bz;\n",
    "\n",
    "    return dF"
   ]
  },
  {
   "cell_type": "code",
   "execution_count": 226,
   "id": "1ded156d-43c9-45e3-9c7a-1ebb4d4e6e68",
   "metadata": {},
   "outputs": [],
   "source": [
    "def func_int_hordijk_moment(z,zw,xc,xct1,fcm,b,h,fctm,w0,epsin):\n",
    "\n",
    "    dF = func_int_hordijk(z,zw,xc,xct1,fcm,b,h,fctm,w0,epsin);\n",
    "    dFz = dF*z;\n",
    "\n",
    "    return dFz    "
   ]
  },
  {
   "cell_type": "markdown",
   "id": "765cfe46-848f-4fc3-beae-9f9a427e5d17",
   "metadata": {},
   "source": [
    "##### Reinforcing steel"
   ]
  },
  {
   "cell_type": "code",
   "execution_count": 227,
   "id": "a7f30954-22fb-4698-a46e-caeb4adad9d4",
   "metadata": {},
   "outputs": [],
   "source": [
    "def func_compute_steel_stress(epsctop,Es,As,xc,zs,zt,fy,Nzero):\n",
    "    \n",
    "    Fstore = func_sum_steel_reinf(epsctop,Es,As,xc,zs,zt,fy,Nzero);\n",
    "\n",
    "    sigs = np.zeros(len(As));\n",
    "    \n",
    "    for i in range(int(Nzero)+1): \n",
    "        if As[i] > 0:\n",
    "            sigs[i] = Fstore[0][i]/As[i];\n",
    "\n",
    "        else:\n",
    "            sigs[i] = 0;\n",
    "    \n",
    "    return sigs"
   ]
  },
  {
   "cell_type": "markdown",
   "id": "405a2530-95d1-4f4d-b976-487678e35b6b",
   "metadata": {},
   "source": [
    "##### Prestressing steel"
   ]
  },
  {
   "cell_type": "code",
   "execution_count": 228,
   "id": "831b5a2b-7653-4d2f-be30-c192be0b527c",
   "metadata": {},
   "outputs": [],
   "source": [
    "def func_sum_steel_dP(epsctop,Ep,Ap,xc,zp,zt,fp01k,fpk,eps_pud,Pinf,Nzero,npl,zeta1):\n",
    "    \n",
    "    dPstore = np.zeros(len(Ap));\n",
    "    MdPstore = np.zeros(len(Ap));\n",
    "    sigptotstore = np.zeros(len(Ap));\n",
    "    \n",
    "    # this is the individual area for a specific tendon within a layer, NOT the total prestressing area in that layer! \n",
    "    Aplayer = np.zeros(len(Ap));\n",
    "\n",
    "    for i in range(int(Nzero)+1):\n",
    "        Aplayer[i] = npl[i]*Ap[i];\n",
    "    \n",
    "    Aptot = sum(Aplayer); # Probaly this was already used, so you can simplify        \n",
    "    sigpinf = Pinf/Aptot\n",
    "    \n",
    "    # Sum over the layers\n",
    "    for i in range(int(Nzero)+1):\n",
    "        \n",
    "        strainp = sigpinf/Ep + zeta1*epsctop*(zp[i]-xc)/xc;\n",
    "        dPstore[i] = Aplayer[i]*func_cal_prestress(Ep,fp01k,fpk,eps_pud,strainp) - Aplayer[i]*sigpinf;\n",
    "        MdPstore[i] = dPstore[i]*(zp[i]-zt);\n",
    "        sigptotstore = func_cal_prestress(Ep,fp01k,fpk,eps_pud,strainp);\n",
    "    \n",
    "    return dPstore, MdPstore, sigptotstore"
   ]
  },
  {
   "cell_type": "code",
   "execution_count": 229,
   "id": "b23077cb-c762-47d0-a12c-44f1240c3659",
   "metadata": {},
   "outputs": [],
   "source": [
    "def func_compute_dsigp(epsctop,Ep,Ap,xc,zp,zt,fp01k,fpk,eps_pud,Pinf,Nzero,npl,zeta1):\n",
    "    \n",
    "    dPstore, MdPstore, sigptotstore = func_sum_steel_dP(epsctop,Ep,Ap,xc,zp,zt,fp01k,fpk,eps_pud,Pinf,Nzero,npl,zeta1);\n",
    "    \n",
    "    dsigp = np.zeros(len(Ap));\n",
    "    Aplayer = np.zeros(len(Ap));\n",
    "\n",
    "    for i in range(int(Nzero)+1):\n",
    "        Aplayer[i] = npl[i]*Ap[i];\n",
    "    \n",
    "    for i in range(int(Nzero)+1):\n",
    "        if Aplayer[i] > 0:\n",
    "            dsigp[i] = dPstore[i]/Aplayer[i]\n",
    "    \n",
    "    return dsigp, sigptotstore"
   ]
  },
  {
   "cell_type": "markdown",
   "id": "496f7468-e4d9-4f2c-a14b-e600d1f56ebc",
   "metadata": {},
   "source": [
    "#### Equilibrium relations"
   ]
  },
  {
   "cell_type": "markdown",
   "id": "21f880e1-2dbf-4bff-a208-69937913ce5e",
   "metadata": {},
   "source": [
    "Equilibrium relations for elements loaded in pure bending."
   ]
  },
  {
   "cell_type": "code",
   "execution_count": 230,
   "id": "f563bb74-059f-4c4f-9e7b-ccaea156c97a",
   "metadata": {},
   "outputs": [],
   "source": [
    "def func_cal_steel_stress_eqset_reinf_V2(p,fcm,eps_c1,k,Es,b,h,Nint,zs,As,fy,Mext,\\\n",
    "                                zt,Nzero,epslim,Next,Ecm,phi_creep,chi):\n",
    "    \n",
    "    epsctop,xc = p; # set of unknowns, called xc and epstop\n",
    "    \n",
    "    # Compression part of concrete\n",
    "    # =================================================================\n",
    "    Fcp = quad(func_int_compression,0,xc,args=(epsctop,xc,b,h,Nint,fcm,eps_c1,k,epslim,Ecm,phi_creep,chi))[0];\n",
    "    \n",
    "    # Lever arm of compression force (wrt top!)\n",
    "    # =================================================================  \n",
    "    zx = quad(func_int_compression_moment,0,xc,args=(epsctop,xc,b,h,Nint,fcm,eps_c1,k,epslim,Ecm,phi_creep,chi))[0]/Fcp;\n",
    "    \n",
    "    # Force and bending moment in reinforcing steel\n",
    "    # =================================================================   \n",
    "    Fs, Mf = func_sum_steel_reinf(epsctop,Es,As,xc,zs,zt,fy,Nzero);\n",
    "\n",
    "    Fstot = sum(Fs);\n",
    "    Mftot = sum(Mf);\n",
    "    \n",
    "    # Return the equilibrium equations\n",
    "    # =================================================================\n",
    "        \n",
    "    horeq = Fcp - Fstot + (10**3)*Next;\n",
    "    Meq = (10**6)*Mext - Fcp*(zt-zx) - Mftot;\n",
    "    \n",
    "    return horeq, Meq"
   ]
  },
  {
   "cell_type": "markdown",
   "id": "c2d4194f-dd81-403e-a3a7-94871db5812f",
   "metadata": {},
   "source": [
    "Equilibrium relations for elements subjected to prestressing."
   ]
  },
  {
   "cell_type": "code",
   "execution_count": 231,
   "id": "6e614a08-592e-46b9-ba4a-d3a690be3410",
   "metadata": {},
   "outputs": [],
   "source": [
    "def func_cal_steel_stress_eqset_prestress_V2(p,fcm,eps_c1,k,Es,b,h,Nint,zs,As,fy,Mext,\\\n",
    "                                zt,Pinf,Ep,Ap,zp,fp01k,fpk,eps_pud,\\\n",
    "                                    NzeroAs,NzeroAp,Next,epslim,npl,zeta1,Ecm,phi_creep,chi):\n",
    "    \n",
    "    epsctop,xc = p; # set of unknowns, called xc and epstop\n",
    "\n",
    "    # Compression part of concrete\n",
    "    # =================================================================\n",
    "    Fcp = quad(func_int_compression,0,xc,args=(epsctop,xc,b,h,Nint,fcm,eps_c1,k,epslim,Ecm,phi_creep,chi))[0];\n",
    "    \n",
    "    # Lever arm of compression force (wrt top!)\n",
    "    # =================================================================\n",
    "    zx = quad(func_int_compression_moment,0,xc,args=(epsctop,xc,b,h,Nint,fcm,eps_c1,k,epslim,Ecm,phi_creep,chi))[0]/Fcp;\n",
    "    \n",
    "    # Force and bending moment in reinforcing steel\n",
    "    # =================================================================\n",
    "    Fs, Mf = func_sum_steel_reinf(epsctop,Es,As,xc,zs,zt,fy,NzeroAs);\n",
    "    \n",
    "    Fstot = sum(Fs);\n",
    "    Mftot = sum(Mf);\n",
    "\n",
    "    # Berekening invloed van de voorspanning\n",
    "    # =================================================================   \n",
    "    dPstore, MdPstore, sigptotstore = func_sum_steel_dP(epsctop,Ep,Ap,xc,zp,zt,fp01k,fpk,eps_pud,Pinf,NzeroAp,npl,zeta1);\n",
    "    \n",
    "    dFp = sum(dPstore);\n",
    "    Mptot = sum(MdPstore);\n",
    "    \n",
    "    # Return the equilibrium equations\n",
    "    # =================================================================\n",
    "    horeq = Fcp + (10**3)*Next - Fstot - dFp - Pinf;\n",
    "    Meq = (10**6)*Mext - Fcp*(zt-zx) - Mftot - Mptot;\n",
    "    \n",
    "    return horeq, Meq"
   ]
  },
  {
   "cell_type": "markdown",
   "id": "1379cc91-4e4c-41e9-aaaa-17d025ba5e89",
   "metadata": {},
   "source": [
    "Equilibrium relations for elements subjected to pure tension."
   ]
  },
  {
   "cell_type": "code",
   "execution_count": 232,
   "id": "03b947f3-4d54-49f6-99e2-73b0cee425e7",
   "metadata": {},
   "outputs": [],
   "source": [
    "def func_cal_steel_stress_eqset_reinf_Hordijk_tensioning(Next,zw,xc,xct1,fcm,b,h,fctm,w0,epsin):\n",
    "\n",
    "    Nct2 = quad(func_int_hordijk,0,h,args=(zw,xc,xct1,fcm,b,h,fctm,w0,epsin))[0];\n",
    "    Ns = Next - Nct2; # Linear elastic part, uncracked, in tension, does not exist (constant strain distribution over the height of the cross-section)\n",
    "\n",
    "    return Ns   \n",
    "    "
   ]
  },
  {
   "cell_type": "code",
   "execution_count": 233,
   "id": "70755730-093b-4235-8c40-228581b304f1",
   "metadata": {},
   "outputs": [],
   "source": [
    "def func_cal_steel_stress_eqset_reinf_Hordijk_bending(p,fcm,eps_c1,k,Es,b,h,Nint,zs,As,fy,Mext,\\\n",
    "                                zt,Nzero,epslim,Next,Ecm,phi_creep,chi,zw,w0,epsin,fctm):\n",
    "    \n",
    "    epsctop,xc = p; # set of unknowns, called xc and epstop\n",
    "    \n",
    "    # Compression part of concrete\n",
    "    # =================================================================\n",
    "    Fcp = quad(func_int_compression,0,xc,args=(epsctop,xc,b,h,Nint,fcm,eps_c1,k,epslim,Ecm,phi_creep,chi))[0];\n",
    "    \n",
    "    # Lever arm of compression force (wrt top!)\n",
    "    # =================================================================  \n",
    "    zx = quad(func_int_compression_moment,0,xc,args=(epsctop,xc,b,h,Nint,fcm,eps_c1,k,epslim,Ecm,phi_creep,chi))[0]/Fcp;\n",
    "\n",
    "    # Part of the concrete that is uncracked, but in tension\n",
    "    # =================================================================  \n",
    "    xct1 = (fctm/Ecm)*(xc/epsctop);\n",
    "    Nct1 = quad(func_int_uncracked_tension,xc,xc+xct1,args=(epsctop,xc,b,Ecm))[0];\n",
    "\n",
    "    # Location of force application of NCT1\n",
    "    # =================================================================  \n",
    "    zct1 = xc + (2/3)*xct1;\n",
    "\n",
    "    # Hordijk contribution\n",
    "    # =================================================================  \n",
    "    Nct2 = quad(func_int_hordijk,xc+xct1,h,args=(zw,xc,xct1,fcm,b,h,fctm,w0,epsin))[0];\n",
    "\n",
    "    # Location of force application of NCT2\n",
    "    # ================================================================= \n",
    "    zct2 = xc + xct1 + quad(func_int_hordijk_moment,xc+xct1,h,args=(zw,xc,xct1,fcm,b,h,fctm,w0,epsin))[0]/Nct2;\n",
    "    \n",
    "    # Force and bending moment in reinforcing steel\n",
    "    # =================================================================   \n",
    "    Fs, Mf = func_sum_steel_reinf(epsctop,Es,As,xc,zs,zt,fy,Nzero);\n",
    "\n",
    "    Fstot = sum(Fs);\n",
    "    Mftot = sum(Mf);\n",
    "    \n",
    "    # Return the equilibrium equations\n",
    "    # =================================================================\n",
    "        \n",
    "    horeq = Fcp - Nct1 - Nct2 - Fstot + (10**3)*Next;\n",
    "    Meq = (10**6)*Mext - Fcp*(zt-zx) - Mftot + Nct1*(zt-xc-(2/3)*xct1) - Nct2*(zct2-zt) ;\n",
    "    \n",
    "    return horeq, Meq"
   ]
  },
  {
   "cell_type": "code",
   "execution_count": 234,
   "id": "910298b4-66b8-43e7-bfc7-bb6984e4cd04",
   "metadata": {},
   "outputs": [],
   "source": [
    "def func_cal_steel_stress_eqset_prestress_Hordijk(p,fcm,eps_c1,k,Es,b,h,Nint,zs,As,fy,Mext,\\\n",
    "                                zt,Pinf,Ep,Ap,zp,fp01k,fpk,eps_pud,\\\n",
    "                                    NzeroAs,NzeroAp,Next,epslim,npl,zeta1,Ecm,phi_creep,chi,zw,w0,epsin,fctm):\n",
    "    \n",
    "    epsctop,xc = p; # set of unknowns, called xc and epstop\n",
    "\n",
    "    # Compression part of concrete\n",
    "    # =================================================================\n",
    "    Fcp = quad(func_int_compression,0,xc,args=(epsctop,xc,b,h,Nint,fcm,eps_c1,k,epslim,Ecm,phi_creep,chi))[0];\n",
    "    \n",
    "    # Lever arm of compression force (wrt top!)\n",
    "    # =================================================================\n",
    "    zx = quad(func_int_compression_moment,0,xc,args=(epsctop,xc,b,h,Nint,fcm,eps_c1,k,epslim,Ecm,phi_creep,chi))[0]/Fcp;\n",
    "\n",
    "    # Part of the concrete that is uncracked, but in tension\n",
    "    # =================================================================  \n",
    "    xct1 = (fctm/Ecm)*(xc/epsctop);\n",
    "    Nct1 = quad(func_int_uncracked_tension,xc,xc+xct1,args=(epsctop,xc,b,Ecm))[0];\n",
    "\n",
    "    # Location of force application of NCT1\n",
    "    # =================================================================  \n",
    "    zct1 = xc + (2/3)*xct1;\n",
    "\n",
    "    # Hordijk contribution\n",
    "    # =================================================================  \n",
    "    Nct2 = quad(func_int_hordijk,xc+xct1,h,args=(zw,xc,xct1,fcm,b,h,fctm,w0,epsin))[0];\n",
    "\n",
    "    # Location of force application of NCT2\n",
    "    # ================================================================= \n",
    "    zct2 = xc + xct1 + quad(func_int_hordijk_moment,xc+xct1,h,args=(zw,xc,xct1,fcm,b,h,fctm,w0,epsin))[0]/Nct2;\n",
    "    \n",
    "    # Force and bending moment in reinforcing steel\n",
    "    # =================================================================\n",
    "    Fs, Mf = func_sum_steel_reinf(epsctop,Es,As,xc,zs,zt,fy,NzeroAs);\n",
    "    \n",
    "    Fstot = sum(Fs);\n",
    "    Mftot = sum(Mf);\n",
    "\n",
    "    # Berekening invloed van de voorspanning\n",
    "    # =================================================================   \n",
    "    dPstore, MdPstore, sigptotstore = func_sum_steel_dP(epsctop,Ep,Ap,xc,zp,zt,fp01k,fpk,eps_pud,Pinf,NzeroAp,npl,zeta1);\n",
    "    \n",
    "    dFp = sum(dPstore);\n",
    "    Mptot = sum(MdPstore);\n",
    "    \n",
    "    # Return the equilibrium equations\n",
    "    # =================================================================\n",
    "    horeq = Fcp + (10**3)*Next - Nct1 - Nct2 - Fstot - dFp - Pinf;\n",
    "    Meq = (10**6)*Mext - Fcp*(zt-zx) - Mftot - Mptot + Nct1*(zt-xc-(2/3)*xct1) - Nct2*(zct2-zt);\n",
    "    \n",
    "    return horeq, Meq"
   ]
  },
  {
   "cell_type": "markdown",
   "id": "61a3fc7f-c901-4251-93a9-77a7bd30c9af",
   "metadata": {},
   "source": [
    "#### Calculation of steel stress including Hordijk Tension Softening"
   ]
  },
  {
   "cell_type": "code",
   "execution_count": 235,
   "id": "b7d82183-d256-4fc1-8073-9af82e8feb35",
   "metadata": {},
   "outputs": [],
   "source": [
    "def func_cal_steel_stress_hordijk(data):\n",
    "\n",
    "    sigstoresimplified = np.zeros(data.shape[0]);\n",
    "    sigstore = np.zeros((data.shape[0],Ncond)); # Store stresses of all reinforcement layers!\n",
    "    dpsigstore = np.zeros((data.shape[0],Ncond)); # Store stresses dpsig\n",
    "    sigptotstore = np.zeros((data.shape[0],Ncond)); # Store prestressing stresses acting in each tendon\n",
    "    \n",
    "    xc = np.zeros(data.shape[0]);\n",
    "    eps = np.zeros(data.shape[0]);# Calculated strain at the top of the considered concrete section\n",
    "    eps_bot = np.zeros(data.shape[0]);# Calculated strain at the bottom of the considered concrete section\n",
    "\n",
    "    data[\"sigs\"] = np.zeros(data.shape[0]); # Overwrite --> prevents that \"old stress remain\"\n",
    "    data[\"dpsigs\"] = np.zeros(data.shape[0]);\n",
    "    \n",
    "    for i in range(data.shape[0]):\n",
    "\n",
    "        # Determine param zw\n",
    "        if data[\"locw\"].iloc[i] == 1:\n",
    "            zw = zs[i,data[\"indLR\"].iloc[i]];\n",
    "        elif data[\"locw\"].iloc[i] == 2:\n",
    "            zw = data[\"h\"].iloc[i];\n",
    "        else:\n",
    "            zw = 0;\n",
    "\n",
    "        # Determine param w0\n",
    "        if data[\"wm\"].iloc[i] > tol and data[\"wmax\"].iloc[i] < tol:\n",
    "            w0 = data[\"wm\"].iloc[i];\n",
    "        elif data[\"wmax\"].iloc[i] > tol and data[\"wm\"].iloc[i] < tol:\n",
    "            w0 = data[\"wmax\"].iloc[i];\n",
    "        elif data[\"wm\"].iloc[i] > tol and data[\"wmax\"].iloc[i] > tol:\n",
    "            w0 = data[\"wm\"].iloc[i];\n",
    "        else:\n",
    "            w0 = 0;\n",
    "\n",
    "        with suppress(ZeroDivisionError): # Continue calculation\n",
    "\n",
    "            # Pure axial force\n",
    "            # ==================================================================================\n",
    "            if str(data[\"epsin\"].iloc[i]) == str(\"1a\"):\n",
    "\n",
    "                if data[\"Astot\"].iloc[i] > tol:\n",
    "\n",
    "                    k, eps_c1, eps_clim = func_interpolate_concrete_prop(data[\"fcm\"].iloc[i],data[\"Ecm0\"].iloc[i]);\n",
    "                    Ns = func_cal_steel_stress_eqset_reinf_Hordijk_tensioning(data[\"N\"].iloc[i]*(10**3),\n",
    "                                                                              zw,\n",
    "                                                                              0,\n",
    "                                                                              0,\n",
    "                                                                              data[\"fcm\"].iloc[i],\n",
    "                                                                              data[\"b\"].iloc[i],\n",
    "                                                                              data[\"h\"].iloc[i],\n",
    "                                                                              data[\"fctm\"].iloc[i],\n",
    "                                                                              w0,\n",
    "                                                                              data[\"epsin\"].iloc[i]);\n",
    "\n",
    "                    sigstore[i,:] = Ns/data[\"Astot\"].iloc[i];\n",
    "                    sigstoresimplified[i] = (10**3)*data[\"N\"].iloc[i] / data[\"Astot\"].iloc[i]; # Useful for shadow-calculation!\n",
    "\n",
    "                    if sigstore[i,data[\"indLR\"].iloc[i]] > data[\"fy\"].iloc[i]:\n",
    "                        #print(\"Warning: computed steel stress\",sigstore[i,data[\"indLR\"].iloc[i]],\n",
    "                        #      \"larger than yield strength\",data[\"fy\"].iloc[i],\"reject result\");\n",
    "                        sigstore[i,data[\"indLR\"].iloc[i]] == np.nan; # Since this steel stress is not valid!\n",
    "                        data[\"sigs\"].iloc[i] = np.nan;\n",
    "                    else:\n",
    "                        #print(\"Success: a valid steel stress (<fy) was computed\",sigstore[i,data[\"indLR\"].iloc[i]],\"<\",data[\"fy\"].iloc[i]);\n",
    "                        data[\"sigs\"].iloc[i] = sigstore[i,data[\"indLR\"].iloc[i]];\n",
    "            \n",
    "            # Pure bending and / or bending in combination with axial forces \n",
    "            # ==================================================================================\n",
    "            if str(data[\"epsin\"].iloc[i]) == str(2):\n",
    "                \n",
    "                # Below, address the case of reinforcing steel only\n",
    "                # ====================================\n",
    "                if data[\"Aptot\"].iloc[i] < tol:\n",
    "\n",
    "                    k, eps_c1, eps_clim = func_interpolate_concrete_prop(data[\"fcm\"].iloc[i],data[\"Ecm0\"].iloc[i]);\n",
    "                    \n",
    "                    sol = fsolve(func_cal_steel_stress_eqset_reinf_Hordijk_bending,[data[\"epsinit\"].iloc[i],data[\"xcinit\"].iloc[i]],\n",
    "                                                        args=(data[\"fcm\"].iloc[i],\n",
    "                                                                eps_c1,\n",
    "                                                                k,\n",
    "                                                                data[\"Es\"].iloc[i],\n",
    "                                                                data[\"b\"].iloc[i],\n",
    "                                                                data[\"h\"].iloc[i],\n",
    "                                                                500,\n",
    "                                                                zs[i,:],\n",
    "                                                                Aslayer[i,:],\n",
    "                                                                data[\"fy\"].iloc[i],\n",
    "                                                                data[\"M\"].iloc[i],\n",
    "                                                                data[\"cog\"].iloc[i],\n",
    "                                                                data[\"indLR\"].iloc[i],\n",
    "                                                                eps_clim,\n",
    "                                                                data[\"N\"].iloc[i],\n",
    "                                                                data[\"Ecm\"].iloc[i],\n",
    "                                                                data[\"phi_creep\"].iloc[i],\n",
    "                                                                chi,\n",
    "                                                                zw,\n",
    "                                                                w0,\n",
    "                                                                data[\"epsin\"].iloc[i],\n",
    "                                                                data[\"fctm\"].iloc[i]\n",
    "                                                            ));\n",
    "                    \n",
    "                    eps[i], xc[i] = sol[0], sol[1];\n",
    "                    eps_bot[i] = eps[i]*(data[\"h\"].iloc[i]-xc[i])/xc[i];\n",
    "        \n",
    "                    sigstore[i,:] = func_compute_steel_stress(eps[i],\n",
    "                                                                     data[\"Es\"].iloc[i],\n",
    "                                                                     Aslayer[i,:],\n",
    "                                                                     xc[i],\n",
    "                                                                     zs[i,:],\n",
    "                                                                     data[\"cog\"].iloc[i],\n",
    "                                                                     data[\"fy\"].iloc[i],\n",
    "                                                                     data[\"indLR\"].iloc[i]);\n",
    "\n",
    "                    sigstoresimplified[i] = ((10**6)*data[\"M\"].iloc[i] / data[\"Astot\"].iloc[i])*(1/(data[\"zstot\"].iloc[i]-data[\"xcinit\"].iloc[i]/3))\n",
    "\n",
    "                    # Check if conditions are met (w.r.t. lowest reinforcing layer; stress should be smaller than yield strength)\n",
    "                    if sigstore[i,data[\"indLR\"].iloc[i]] > data[\"fy\"].iloc[i]:\n",
    "                        #print(\"Warning: computed steel stress\",sigstore[i,data[\"indLR\"].iloc[i]],\n",
    "                        #      \"larger than yield strength\",data[\"fy\"].iloc[i],\"reject result\");\n",
    "                        sigstore[i,data[\"indLR\"].iloc[i]] == np.nan; # Since this steel stress is not valid!\n",
    "                        data[\"sigs\"].iloc[i] = np.nan;\n",
    "                    else:\n",
    "                        #print(\"Success: a valid steel stress (<fy) was computed\",sigstore[i,data[\"indLR\"].iloc[i]],\"<\",data[\"fy\"].iloc[i]);\n",
    "                        data[\"sigs\"].iloc[i] = sigstore[i,data[\"indLR\"].iloc[i]];\n",
    "\n",
    "            # Prestressing\n",
    "            # ==================================================================================\n",
    "            if str(data[\"epsin\"].iloc[i]) == str(3):\n",
    "                \n",
    "                # Below, address the case of prestressing steel, maybe in combination with reinforcing steel\n",
    "                # ====================================\n",
    "                if data[\"Aptot\"].iloc[i] > tol:\n",
    "\n",
    "                    k, eps_c1, eps_clim = func_interpolate_concrete_prop(data[\"fcm\"].iloc[i],data[\"Ecm0\"].iloc[i]);\n",
    "                    \n",
    "                    sol = fsolve(func_cal_steel_stress_eqset_prestress_Hordijk,[0.001,data[\"h\"].iloc[i]/3],\n",
    "                                                                args=(data[\"fcm\"].iloc[i],\n",
    "                                                                eps_c1,\n",
    "                                                                k,\n",
    "                                                                data[\"Es\"].iloc[i],\n",
    "                                                                data[\"b\"].iloc[i],\n",
    "                                                                data[\"h\"].iloc[i],\n",
    "                                                                500,\n",
    "                                                                zs[i,:],\n",
    "                                                                Aslayer[i,:],\n",
    "                                                                data[\"fy\"].iloc[i],\n",
    "                                                                data[\"M\"].iloc[i],\n",
    "                                                                data[\"cog\"].iloc[i],\n",
    "                                                                1000*data[\"PL\"].iloc[i],\n",
    "                                                                data[\"Ep\"].iloc[i],\n",
    "                                                                Ap[i,:], # Area per tendon in a layer\n",
    "                                                                zp[i,:],\n",
    "                                                                data[\"fp01k\"].iloc[i],\n",
    "                                                                data[\"fpk\"].iloc[i],\n",
    "                                                                0.005, # epsuk\n",
    "                                                                data[\"indLR\"].iloc[i],\n",
    "                                                                data[\"indNP\"].iloc[i],\n",
    "                                                                data[\"N\"].iloc[i],\n",
    "                                                                eps_clim,\n",
    "                                                                npl[i,:],\n",
    "                                                                data[\"zeta1\"].iloc[i],\n",
    "                                                                data[\"Ecm\"].iloc[i],\n",
    "                                                                data[\"phi_creep\"].iloc[i],\n",
    "                                                                chi,\n",
    "                                                                zw,\n",
    "                                                                w0,\n",
    "                                                                data[\"epsin\"].iloc[i],\n",
    "                                                                data[\"fctm\"].iloc[i]\n",
    "                                                                    ));    \n",
    "                        \n",
    "                    eps[i], xc[i] = sol[0], sol[1];\n",
    "                    eps_bot[i] = eps[i]*(data[\"h\"].iloc[i]-xc[i])/xc[i];\n",
    "                                    \n",
    "                    sigstore[i,:] = func_compute_steel_stress(eps[i],\n",
    "                                                             data[\"Es\"].iloc[i],\n",
    "                                                             Aslayer[i,:],\n",
    "                                                             xc[i],\n",
    "                                                             zs[i,:],\n",
    "                                                             data[\"cog\"].iloc[i],\n",
    "                                                             data[\"fy\"].iloc[i],\n",
    "                                                             data[\"indLR\"].iloc[i]);\n",
    "                    \n",
    "                    dpsigstore[i,:], sigptotstore[i,:] = func_compute_dsigp(eps[i],\n",
    "                                                                     data[\"Ep\"].iloc[i],\n",
    "                                                                     Ap[i,:],\n",
    "                                                                     xc[i],\n",
    "                                                                     zp[i,:],\n",
    "                                                                     data[\"cog\"].iloc[i],\n",
    "                                                                     data[\"fp01k\"].iloc[i],\n",
    "                                                                     data[\"fpk\"].iloc[i],\n",
    "                                                                     0.005, # epsuk\n",
    "                                                                     1000*data[\"PL\"].iloc[i],\n",
    "                                                                     data[\"indNP\"].iloc[i],\n",
    "                                                                     npl[i,:],\n",
    "                                                                     data[\"zeta1\"].iloc[i]);\n",
    "\n",
    "                    # Check if conditions are met (w.r.t. lowest reinforcing layer; stress should be smaller than yield strength)\n",
    "                    # Check if conditions are met (w.r.t. lowest reinforcing layer and prestressing layer)\n",
    "                    if sigstore[i,data[\"indLR\"].iloc[i]] > data[\"fy\"].iloc[i] or sigptotstore[i,data[\"indNP\"].iloc[i]] > data[\"fp01k\"].iloc[i]:\n",
    "                        #print(\"Warning: computed steel stress\",sigstore[i,data[\"indLR\"].iloc[i]],\n",
    "                        #      \"larger than yield strength\",data[\"fy\"].iloc[i],\"OR computed prestressing stress\",\n",
    "                        #      sigptotstore[i,data[\"indNP\"].iloc[i]],\"exceeds fp01k\",data[\"fp01k\"].iloc[i],\"REJECT\");\n",
    "                        sigstore[i,data[\"indLR\"].iloc[i]] == np.nan; # Since this steel stress is not valid!\n",
    "                        dpsigstore[i,data[\"indNP\"].iloc[i]] == np.nan; # Since this prestressing steel stress is not valid\n",
    "                        data[\"sigs\"].iloc[i] = np.nan;\n",
    "                        data[\"dpsigs\"].iloc[i] = np.nan;\n",
    "                    else:\n",
    "                        #print(\"Success: a valid steel stress was computed (<fy)\",sigstore[i,data[\"indLR\"].iloc[i]],\"<\",data[\"fy\"].iloc[i],\n",
    "                        #     \"or valid prestressing steel stress was computed (<fp01k)\",sigptotstore[i,data[\"indNP\"].iloc[i]],\"<\",data[\"fp01k\"].iloc[i]);\n",
    "                        data[\"sigs\"].iloc[i] = sigstore[i,data[\"indLR\"].iloc[i]];\n",
    "                        data[\"dpsigs\"].iloc[i] = dpsigstore[i,data[\"indNP\"].iloc[i]];\n",
    "\n",
    "    # Write results\n",
    "    # =====================================================================\n",
    "    \n",
    "    data[\"xc\"] = xc;\n",
    "    data[\"eps\"] = eps;\n",
    "    data[\"epsbot\"] = eps_bot;\n",
    "    data[\"sigssimpl\"] = sigstoresimplified;\n",
    "    \n",
    "    return data"
   ]
  },
  {
   "cell_type": "code",
   "execution_count": 236,
   "id": "3edc1037-88fb-4112-81a6-0726da80d3d8",
   "metadata": {},
   "outputs": [],
   "source": [
    "def func_cal_steel_stress(data):\n",
    "\n",
    "    sigstore = np.zeros((data.shape[0],Ncond)); # Store stresses of all reinforcement layers!\n",
    "    dpsigstore = np.zeros((data.shape[0],Ncond)); # Store stresses dpsig\n",
    "    sigptotstore = np.zeros((data.shape[0],Ncond)); # Store prestressing stresses acting in each tendon\n",
    "\n",
    "    sigstoresimplified = np.zeros(data.shape[0]);\n",
    "    \n",
    "    xc = np.zeros(data.shape[0]);\n",
    "    eps = np.zeros(data.shape[0]);# Calculated strain at the top of the considered concrete section\n",
    "    eps_bot = np.zeros(data.shape[0]);# Calculated strain at the bottom of the considered concrete section\n",
    "\n",
    "    data[\"sigs\"] = np.zeros(data.shape[0]);\n",
    "    data[\"dpsigs\"] = np.zeros(data.shape[0]);\n",
    "    \n",
    "    for i in range(data.shape[0]):\n",
    "\n",
    "        with suppress(ZeroDivisionError): # Continue calculation\n",
    "        \n",
    "            # Pure tension\n",
    "            # ==================================================================================\n",
    "            if str(data[\"epsin\"].iloc[i]) == str(\"1a\"):\n",
    "                if data[\"N\"].iloc[i] > tol:\n",
    "                    data[\"sigs\"].iloc[i] = (1e3)*data[\"N\"].iloc[i]/data[\"Astot\"].iloc[i];\n",
    "                            \n",
    "            # Pure bending and / or bending in combination with axial forces \n",
    "            # ==================================================================================\n",
    "            if str(data[\"epsin\"].iloc[i]) == str(2) or str(data[\"epsin\"].iloc[i]) == str(3):\n",
    "                \n",
    "                # Below, address the case of reinforcing steel\n",
    "                # ====================================\n",
    "                if data[\"Aptot\"].iloc[i] < tol:\n",
    "                    \n",
    "                    k, eps_c1, eps_clim = func_interpolate_concrete_prop(data[\"fcm\"].iloc[i],data[\"Ecm\"].iloc[i]);\n",
    "\n",
    "                    sol = fsolve(func_cal_steel_stress_eqset_reinf_V2,[data[\"epsinit\"].iloc[i],data[\"xcinit\"].iloc[i]],\n",
    "                                                        args=(data[\"fcm\"].iloc[i],\n",
    "                                                                eps_c1,\n",
    "                                                                k,\n",
    "                                                                data[\"Es\"].iloc[i],\n",
    "                                                                data[\"b\"].iloc[i],\n",
    "                                                                data[\"h\"].iloc[i],\n",
    "                                                                500,\n",
    "                                                                zs[i,:],\n",
    "                                                                Aslayer[i,:],\n",
    "                                                                data[\"fy\"].iloc[i],\n",
    "                                                                data[\"M\"].iloc[i],\n",
    "                                                                data[\"cog\"].iloc[i],\n",
    "                                                                data[\"indLR\"].iloc[i],\n",
    "                                                                eps_clim,\n",
    "                                                                data[\"N\"].iloc[i],\n",
    "                                                                data[\"Ecm\"].iloc[i],\n",
    "                                                                data[\"phi_creep\"].iloc[i],\n",
    "                                                                chi\n",
    "                                                            ));\n",
    "                    \n",
    "                    eps[i], xc[i] = sol[0], sol[1];\n",
    "                    eps_bot[i] = eps[i]*(data[\"h\"].iloc[i]-xc[i])/xc[i];\n",
    "        \n",
    "                    sigstore[i,:] = func_compute_steel_stress(eps[i],\n",
    "                                                                     data[\"Es\"].iloc[i],\n",
    "                                                                     Aslayer[i,:],\n",
    "                                                                     xc[i],\n",
    "                                                                     zs[i,:],\n",
    "                                                                     data[\"cog\"].iloc[i],\n",
    "                                                                     data[\"fy\"].iloc[i],\n",
    "                                                                     data[\"indLR\"].iloc[i]);\n",
    "                    \n",
    "                    # Check if conditions are met (w.r.t. lowest reinforcing layer; stress should be smaller than yield strength)\n",
    "                    if sigstore[i,data[\"indLR\"].iloc[i]] > data[\"fy\"].iloc[i]:\n",
    "                        #print(\"Warning: computed steel stress\",sigstore[i,data[\"indLR\"].iloc[i]],\n",
    "                        #      \"larger than yield strength\",data[\"fy\"].iloc[i],\"reject result\");\n",
    "                        sigstore[i,data[\"indLR\"].iloc[i]] == np.nan; # Since this steel stress is not valid!\n",
    "                        data[\"sigs\"].iloc[i] = np.nan;\n",
    "                    else:\n",
    "                        #print(\"Success: a valid steel stress (<fy) was computed\",sigstore[i,data[\"indLR\"].iloc[i]],\"<\",data[\"fy\"].iloc[i]);\n",
    "                        data[\"sigs\"].iloc[i] = sigstore[i,data[\"indLR\"].iloc[i]];\n",
    "    \n",
    "                # Below, address the case of prestressing steel (or in combination with reinforcing steel)\n",
    "                # ====================================\n",
    "                elif data[\"Aptot\"].iloc[i] > tol:\n",
    "    \n",
    "                    k, eps_c1, eps_clim = func_interpolate_concrete_prop(data[\"fcm\"].iloc[i],data[\"Ecm\"].iloc[i]);\n",
    "\n",
    "                    sol = fsolve(func_cal_steel_stress_eqset_prestress_V2,[0.001,data[\"h\"].iloc[i]/3],\n",
    "                                                args=(data[\"fcm\"].iloc[i],\n",
    "                                                eps_c1,\n",
    "                                                k,\n",
    "                                                data[\"Es\"].iloc[i],\n",
    "                                                data[\"b\"].iloc[i],\n",
    "                                                data[\"h\"].iloc[i],\n",
    "                                                500,\n",
    "                                                zs[i,:],\n",
    "                                                Aslayer[i,:],\n",
    "                                                data[\"fy\"].iloc[i],\n",
    "                                                data[\"M\"].iloc[i],\n",
    "                                                data[\"cog\"].iloc[i],\n",
    "                                                1000*data[\"PL\"].iloc[i],\n",
    "                                                data[\"Ep\"].iloc[i],\n",
    "                                                Ap[i,:], # Area per tendon in a layer\n",
    "                                                zp[i,:],\n",
    "                                                data[\"fp01k\"].iloc[i],\n",
    "                                                data[\"fpk\"].iloc[i],\n",
    "                                                0.005, # epsuk\n",
    "                                                data[\"indLR\"].iloc[i],\n",
    "                                                data[\"indNP\"].iloc[i],\n",
    "                                                data[\"N\"].iloc[i],\n",
    "                                                eps_clim,\n",
    "                                                npl[i,:],\n",
    "                                                data[\"zeta1\"].iloc[i],\n",
    "                                                data[\"Ecm\"].iloc[i],\n",
    "                                                data[\"phi_creep\"].iloc[i],\n",
    "                                                chi\n",
    "                                                    ));    \n",
    "        \n",
    "                    eps[i], xc[i] = sol[0], sol[1];\n",
    "                    eps_bot[i] = eps[i]*(data[\"h\"].iloc[i]-xc[i])/xc[i];\n",
    "                    \n",
    "                    sigstore[i,:] = func_compute_steel_stress(eps[i],\n",
    "                                                                     data[\"Es\"].iloc[i],\n",
    "                                                                     Aslayer[i,:],\n",
    "                                                                     xc[i],\n",
    "                                                                     zs[i,:],\n",
    "                                                                     data[\"cog\"].iloc[i],\n",
    "                                                                     data[\"fy\"].iloc[i],\n",
    "                                                                     data[\"indLR\"].iloc[i]);\n",
    "                    \n",
    "                    dpsigstore[i,:], sigptotstore[i,:] = func_compute_dsigp(eps[i],\n",
    "                                                                     data[\"Ep\"].iloc[i],\n",
    "                                                                     Ap[i,:],\n",
    "                                                                     xc[i],\n",
    "                                                                     zp[i,:],\n",
    "                                                                     data[\"cog\"].iloc[i],\n",
    "                                                                     data[\"fp01k\"].iloc[i],\n",
    "                                                                     data[\"fpk\"].iloc[i],\n",
    "                                                                     0.005, # epsuk\n",
    "                                                                     1000*data[\"PL\"].iloc[i],\n",
    "                                                                     data[\"indNP\"].iloc[i],\n",
    "                                                                     npl[i,:],\n",
    "                                                                     data[\"zeta1\"].iloc[i]);\n",
    "    \n",
    "                    # Check if conditions are met (w.r.t. lowest reinforcing layer; stress should be smaller than yield strength)\n",
    "                    # Check if conditions are met (w.r.t. lowest reinforcing layer and prestressing layer)\n",
    "                    if sigstore[i,data[\"indLR\"].iloc[i]] > data[\"fy\"].iloc[i] or sigptotstore[i,data[\"indNP\"].iloc[i]] > data[\"fp01k\"].iloc[i]:\n",
    "                        #print(\"Warning: computed steel stress\",sigstore[i,data[\"indLR\"].iloc[i]],\n",
    "                        #      \"larger than yield strength\",data[\"fy\"].iloc[i],\"OR computed prestressing stress\",\n",
    "                        #      sigptotstore[i,data[\"indNP\"].iloc[i]],\"exceeds fp01k\",data[\"fp01k\"].iloc[i],\"REJECT\");\n",
    "                        sigstore[i,data[\"indLR\"].iloc[i]] == np.nan; # Since this steel stress is not valid!\n",
    "                        dpsigstore[i,data[\"indNP\"].iloc[i]] == np.nan; # Since this prestressing steel stress is not valid\n",
    "                        data[\"sigs\"].iloc[i] = np.nan;\n",
    "                        data[\"dpsigs\"].iloc[i] = np.nan;\n",
    "                    else:\n",
    "                        #print(\"Success: a valid steel stress was computed (<fy)\",sigstore[i,data[\"indLR\"].iloc[i]],\"<\",data[\"fy\"].iloc[i],\n",
    "                        #     \"or valid prestressing steel stress was computed (<fp01k)\",sigptotstore[i,data[\"indNP\"].iloc[i]],\"<\",data[\"fp01k\"].iloc[i]);\n",
    "                        data[\"sigs\"].iloc[i] = sigstore[i,data[\"indLR\"].iloc[i]];\n",
    "                        data[\"dpsigs\"].iloc[i] = dpsigstore[i,data[\"indNP\"].iloc[i]];\n",
    "\n",
    "    data[\"xc\"] = xc;\n",
    "    data[\"eps\"] = eps;\n",
    "    data[\"epsbot\"] = eps_bot;\n",
    "    data[\"sigssimpl\"] = sigstoresimplified;\n",
    "    \n",
    "    return data"
   ]
  },
  {
   "cell_type": "code",
   "execution_count": 237,
   "id": "7aef9e69-9142-4b15-a135-e11b11193744",
   "metadata": {},
   "outputs": [],
   "source": [
    "if importsigs == \"no\" and hordijksigs == \"yes\":\n",
    "    df = func_cal_steel_stress_hordijk(df);\n",
    "    df[[\"sigs\",\"sigssimpl\",\"dpsigs\",\"xc\",\"eps\",\"epsbot\"]].to_csv(\"steel_stress_hordijk.csv\",index = False);\n",
    "elif importsigs == \"yes\" and hordijksigs == \"yes\":\n",
    "    df[[\"sigs\",\"sigssimpl\",\"dpsigs\",\"xc\",\"eps\",\"epsbot\"]] = \\\n",
    "        pd.read_csv(Path(motherpath/r\"1_st_Journal_Paper\\Jupyter_Notebook\\Working_database\\steel_stress_hordijk.csv\"));\n",
    "\n",
    "if importsigs == \"no\" and hordijksigs == \"no\":\n",
    "    df = func_cal_steel_stress(df);\n",
    "    df[[\"sigs\",\"dpsigs\"]].to_csv(\"steel_stress.csv\",index = False);\n",
    "elif importsigs == \"yes\" and hordijksigs == \"no\":\n",
    "    df[[\"sigs\",\"dpsigs\"]] = \\\n",
    "        pd.read_csv(Path(motherpath/r\"1_st_Journal_Paper\\Jupyter_Notebook\\Working_database\\steel_stress.csv\"));"
   ]
  },
  {
   "cell_type": "code",
   "execution_count": 238,
   "id": "523ecef6-1118-4427-ac94-c7a4ac5944ed",
   "metadata": {},
   "outputs": [],
   "source": [
    "df = df.astype({\n",
    "    \"sigs\": \"float\",\n",
    "    \"dpsigs\": \"float\",\n",
    "    \"xc\": \"float\",\n",
    "    \"eps\": \"float\"\n",
    "});"
   ]
  },
  {
   "cell_type": "markdown",
   "id": "d1b9d7b4-804f-47ba-9a58-87411e5dfe25",
   "metadata": {},
   "source": [
    "### 05.16 - Function to compute the centre of gravity of the steel in tension"
   ]
  },
  {
   "cell_type": "code",
   "execution_count": 239,
   "id": "bcce555f-1335-4fbd-baa6-46c90cee60a6",
   "metadata": {},
   "outputs": [],
   "source": [
    "def func_compute_zstottens(data):\n",
    "\n",
    "    zstemp = np.zeros((data.shape[0],Ncond));\n",
    "    zstottens = np.zeros(data.shape[0]);\n",
    "    zstottenstemp = np.zeros((data.shape[0],Ncond));\n",
    "    nbltens = np.zeros((data.shape[0],Ncond));\n",
    "    phitens = np.zeros((data.shape[0],Ncond));\n",
    "    Astenstemp = np.zeros((data.shape[0],Ncond));\n",
    "    Astens = np.zeros(data.shape[0]);\n",
    "    Actens = np.zeros(data.shape[0]);\n",
    "\n",
    "    Aptens = np.zeros((data.shape[0],Ncond));\n",
    "    \n",
    "    for i in range(data.shape[0]):\n",
    "        for j in range(Ncond):\n",
    "            if zs[i,j] > data[\"xc\"].iloc[i]:\n",
    "                zstemp[i,j] = zs[i,j];\n",
    "                nbltens[i,j] = nbl[i,j];\n",
    "                phitens[i,j] = phi[i,j];\n",
    "\n",
    "            else:\n",
    "                zstemp[i,j] = 0;\n",
    "                nbltens[i,j] = 0;\n",
    "                phitens[i,j] = 0;\n",
    "\n",
    "            zstottenstemp[i,j] = zstemp[i,j]*(nbltens[i,j]*(1/4)*np.pi*phitens[i,j]**2);\n",
    "            Astenstemp[i,j] = (nbltens[i,j]*(1/4)*np.pi*phitens[i,j]**2);\n",
    "\n",
    "        Astens[i] = sum(Astenstemp[i,:]);\n",
    "        \n",
    "        zstottens[i] = np.sum(zstottenstemp[i,:])/np.sum(Astenstemp[i,:]);\n",
    "\n",
    "        Actens[i] = quad(func_extract_width,data[\"h\"].iloc[i]-data[\"xc\"].iloc[i],data[\"h\"].iloc[i],args=(data[\"b\"].iloc[i]))[0];\n",
    "\n",
    "    return zstottens, Astens, Actens"
   ]
  },
  {
   "cell_type": "code",
   "execution_count": 240,
   "id": "d1825640-0922-4396-a176-d043bf9778cb",
   "metadata": {},
   "outputs": [],
   "source": [
    "df[\"zstottens\"], df[\"Astens\"], df[\"Actens\"] = func_compute_zstottens(df);"
   ]
  },
  {
   "cell_type": "markdown",
   "id": "20df35d3-f5d0-496d-ba86-627c4ad33d9d",
   "metadata": {},
   "source": [
    "### 05.17 - Function to compute the effective concrete area"
   ]
  },
  {
   "cell_type": "code",
   "execution_count": 241,
   "id": "2daf9a21-f172-44e5-ad74-3e1ff84d4d30",
   "metadata": {},
   "outputs": [],
   "source": [
    "def find_positive(lst):\n",
    "    for index, x in enumerate(lst):\n",
    "        if x > 0:\n",
    "            return index"
   ]
  },
  {
   "cell_type": "markdown",
   "id": "81f31c48-ed28-47a0-b97a-84c6f03b3a40",
   "metadata": {},
   "source": [
    "#### $A_{\\mathrm{eff}}$ as defined in *fib* MC 2020"
   ]
  },
  {
   "cell_type": "code",
   "execution_count": 242,
   "id": "76cce1e7-e576-49af-92ea-7110ffed70f6",
   "metadata": {},
   "outputs": [],
   "source": [
    "def cal_eff_area_MC2020(data):\n",
    "\n",
    "    Aceff = np.zeros(data.shape[0]);\n",
    "    Aseff = np.zeros(data.shape[0]);\n",
    "    Apeff = np.zeros(data.shape[0]);\n",
    "    phi_eq = np.zeros(data.shape[0]);\n",
    "    rhoeff = np.zeros(data.shape[0]);\n",
    "    hceff = np.zeros(data.shape[0]);\n",
    "    bceff = np.zeros(data.shape[0]);\n",
    "    \n",
    "    for i in range(data.shape[0]):\n",
    "    \n",
    "        # Case: pure bending and / or prestressing\n",
    "        # ========================================\n",
    "        if data[\"Astot\"].iloc[i] > tol and data[\"epsin\"].iloc[i] == str(2) or data[\"epsin\"].iloc[i] == str(3) and data[\"Aptot\"].iloc[i] > tol:\n",
    "            \n",
    "            if data[\"xc\"].iloc[i] > tol:\n",
    "\n",
    "                if data[\"Astot\"].iloc[i] < tol:\n",
    "                    idx = find_positive(zp[i,:]-data[\"xc\"].iloc[i]);\n",
    "                    zptoptens = zp[i,idx];\n",
    "                    \n",
    "                    hceff1 = data[\"ryp\"].iloc[i] + 5*data[\"phi_peq\"].iloc[i];\n",
    "                    hceff2 = 10*data[\"phi_peq\"].iloc[i];\n",
    "                    hceff3 = 3.5*data[\"ryp\"].iloc[i];\n",
    "\n",
    "                else:\n",
    "                    # Determine top layer in tensile zone\n",
    "                    idx = find_positive(zs[i,:]-data[\"xc\"].iloc[i]);\n",
    "                    zstoptens = zs[i,idx];\n",
    "                    \n",
    "                    hceff1 = data[\"ry\"].iloc[i] + 5*phi[i,data[\"indLR\"].iloc[i]];\n",
    "                    hceff2 = 10*phi[i,data[\"indLR\"].iloc[i]];\n",
    "                    hceff3 = 3.5*data[\"ry\"].iloc[i];\n",
    "    \n",
    "                if data[\"Astot\"].iloc[i] < tol:\n",
    "                    hceffint = np.min([hceff1,hceff2,hceff3]) + (zp[i,data[\"indNP\"].iloc[i]] - zptoptens);\n",
    "                else:\n",
    "                    hceffint = np.min([hceff1,hceff2,hceff3]) + (zs[i,data[\"indLR\"].iloc[i]] - zstoptens);\n",
    "                \n",
    "                hceff4 = data[\"h\"].iloc[i] - data[\"xc\"].iloc[i];\n",
    "                \n",
    "                hceff[i] = np.min([hceffint,hceff4]);\n",
    "                \n",
    "                if data[\"Astot\"].iloc[i] > tol:\n",
    "                    nlayertenseff = data[\"indLR\"].iloc[i] - idx + 1;\n",
    "                \n",
    "                Acefftemp = np.zeros(Ncond);\n",
    "                Asefftemp = np.zeros(Ncond);\n",
    "                Apefftemp = np.zeros(Ncond);\n",
    "    \n",
    "                phi_eqtemp = np.zeros(Ncond);\n",
    "                phi_eqtemp_sqrt = np.zeros(Ncond);\n",
    "                \n",
    "                # Case 1: isolated bars --> indien spacing > 10*phi\n",
    "                if spacall[i,data[\"indLR\"].iloc[i]] > 10*phi[i,data[\"indLR\"].iloc[i]]:\n",
    "                    \n",
    "                    # Subcase: MC 2020 fig. 30.5-4 left: lowest reinfocing layer is <= 5*phi (phi of lowest layer)\n",
    "                    if data[\"ry\"].iloc[i] <= 5*phi[i,data[\"indLR\"].iloc[i]]:\n",
    "        \n",
    "                        for j in range(Ncond):\n",
    "                            \n",
    "                            if zs[i,j] > data[\"h\"].iloc[i] - hceff[i] and data[\"rx\"].iloc[i] < 5*phi[i,data[\"indLR\"].iloc[i]]:\n",
    "                                Acefftemp[j] = 2*( data[\"rx\"].iloc[i] + 5*phi[i,data[\"indLR\"].iloc[i]] )*hceff[i] / nlayertenseff + \\\n",
    "                                    (nbl[i,j]-2)*( 10*phi[i,data[\"indLR\"].iloc[i]] ) * hceff[i] / nlayertenseff;\n",
    "                            \n",
    "                        # zs[i,j] > data[\"h\"].iloc[i] - hceff and data[\"rx\"].iloc[i] >= 5*phi[i,data[\"indLR\"].iloc[i]]:\n",
    "                            elif zs[i,j] > data[\"h\"].iloc[i] - hceff[i] and data[\"rx\"].iloc[i] >= 5*phi[i,data[\"indLR\"].iloc[i]]:\n",
    "                                Acefftemp[j] = nbl[i,j]*10*phi[i,data[\"indLR\"].iloc[i]]*hceff[i] / nlayertenseff;\n",
    "                        \n",
    "                        Aceff[i] = sum(Acefftemp);\n",
    "        \n",
    "                        for j in range(Ncond):\n",
    "                            if zs[i,j] > data[\"h\"].iloc[i] - hceff[i]:\n",
    "                                Asefftemp[j] = nbl[i,j]*(1/4)*np.pi*phi[i,j]**2;\n",
    "    \n",
    "                                phi_eqtemp[j] = nbl[i,j]*phi[i,j];\n",
    "                                phi_eqtemp_sqrt[j] = nbl[i,j]*phi[i,j]**2\n",
    "        \n",
    "                        Aseff[i] = sum(Asefftemp);\n",
    "                        phi_eq[i] = sum(phi_eqtemp_sqrt)/sum(phi_eqtemp);\n",
    "        \n",
    "                        if data[\"Aptot\"].iloc[i] > tol:\n",
    "                            for j in range(Ncond):\n",
    "                                if zp[i,j] > data[\"h\"].iloc[i] - hceff[i]:\n",
    "                                    Apefftemp[j] = Ap[i,j]*npl[i,j];\n",
    "        \n",
    "                        Apeff[i] = sum(Apefftemp);\n",
    "                        \n",
    "                    # Subcase: MC 2020 fig. 30.5-4 right: lowest reinfocing layer is > 5*phi (phi of lowest layer)\n",
    "                    elif data[\"ry\"].iloc[i] > 5*phi[i,data[\"indLR\"].iloc[i]]:\n",
    "        \n",
    "                        for j in range(Ncond):\n",
    "    \n",
    "                            if zs[i,j] > data[\"h\"].iloc[i] - hceff and data[\"rx\"].iloc[i] < 5*phi[i,data[\"indLR\"].iloc[i]] and nbl[i,j] > 2:\n",
    "                                Acefftemp[j] = 2*( data[\"rx\"].iloc[i] + 5*phi[i,data[\"indLR\"].iloc[i]] )*hceff[i] / nlayertenseff + \\\n",
    "                                    (nbl[i,j]-2)*( 10*phi[i,data[\"indLR\"].iloc[i]] ) * hceff[i] / nlayertenseff;\n",
    "\n",
    "                            elif zs[i,j] > data[\"h\"].iloc[i] - hceff[i] and data[\"rx\"].iloc[i] >= 5*phi[i,data[\"indLR\"].iloc[i]]:\n",
    "                                Acefftemp[j] = nbl[i,j]*10*phi[i,data[\"indLR\"].iloc[i]]*hceff[i] / nlayertenseff;\n",
    "        \n",
    "                        Aceff[i] = sum(Acefftemp);\n",
    "        \n",
    "                        for j in range(Ncond):\n",
    "                            if zs[i,j] > data[\"h\"].iloc[i] - hceff[i]:\n",
    "                                Asefftemp[j] = nbl[i,j]*(1/4)*np.pi*phi[i,j]**2;\n",
    "    \n",
    "                                phi_eqtemp[j] = nbl[i,j]*phi[i,j];\n",
    "                                phi_eqtemp_sqrt[j] = nbl[i,j]*phi[i,j]**2\n",
    "        \n",
    "                        Aseff[i] = sum(Asefftemp);\n",
    "                        phi_eq[i] = sum(phi_eqtemp_sqrt)/sum(phi_eqtemp);\n",
    "        \n",
    "                        if data[\"Aptot\"].iloc[i] > tol:\n",
    "                            for j in range(Ncond):\n",
    "                                if zp[i,j] > data[\"h\"].iloc[i] - hceff[i]:\n",
    "                                    Apefftemp[j] = Ap[i,j]*npl[i,j];\n",
    "        \n",
    "                        Apeff[i] = sum(Apefftemp);\n",
    "                \n",
    "                # Case 2: grouped bars --> spacing <= 10*phi\n",
    "                elif spacall[i,data[\"indLR\"].iloc[i]] <= 10*phi[i,data[\"indLR\"].iloc[i]]:\n",
    "                    \n",
    "                    Aceff[i] = quad(func_extract_width,data[\"h\"].iloc[i]-hceff[i],data[\"h\"].iloc[i],args=(data[\"b\"].iloc[i]))[0];\n",
    "                    \n",
    "                    for j in range(Ncond):\n",
    "                        if zs[i,j] > data[\"h\"].iloc[i] - hceff[i]:\n",
    "                            Asefftemp[j] = nbl[i,j]*(1/4)*np.pi*phi[i,j]**2;\n",
    "                            \n",
    "                            phi_eqtemp[j] = nbl[i,j]*phi[i,j];\n",
    "                            phi_eqtemp_sqrt[j] = nbl[i,j]*phi[i,j]**2\n",
    "        \n",
    "                    Aseff[i] = sum(Asefftemp);\n",
    "                    phi_eq[i] = sum(phi_eqtemp_sqrt)/sum(phi_eqtemp);\n",
    "        \n",
    "                    for j in range(Ncond):\n",
    "                        if zs[i,j] > data[\"h\"].iloc[i] - hceff[i]:\n",
    "                            Asefftemp[j] = nbl[i,j]*(1/4)*np.pi*phi[i,j]**2;\n",
    "    \n",
    "                            phi_eqtemp[j] = nbl[i,j]*phi[i,j];\n",
    "                            phi_eqtemp_sqrt[j] = nbl[i,j]*phi[i,j]**2\n",
    "    \n",
    "                    Aseff[i] = sum(Asefftemp);\n",
    "                    phi_eq[i] = sum(phi_eqtemp_sqrt)/sum(phi_eqtemp);\n",
    "        \n",
    "                    if data[\"Aptot\"].iloc[i] > tol:\n",
    "                        for j in range(Ncond):\n",
    "                            if zp[i,j] > data[\"h\"].iloc[i] - hceff[i]:\n",
    "                                Apefftemp[j] = Ap[i,j]*npl[i,j];\n",
    "        \n",
    "                    Apeff[i] = sum(Apefftemp);\n",
    "    \n",
    "        # Case: pure tension\n",
    "        # ========================================\n",
    "        \n",
    "        if data[\"epsin\"].iloc[i] == str(\"1a\"):\n",
    "\n",
    "            hceff1 = data[\"ry\"].iloc[i] + 5*phi[i,data[\"indLR\"].iloc[i]];\n",
    "            hceff2 = 10*phi[i,data[\"indLR\"].iloc[i]];\n",
    "            hceff3 = 3.5*data[\"ry\"].iloc[i];\n",
    "            hceff4 = data[\"h\"].iloc[i];\n",
    "        \n",
    "            hceff[i] = min(min(hceff1,hceff2,hceff3),hceff4);\n",
    "            \n",
    "            bceff1 = data[\"rx\"].iloc[i] + 5*phi[i,data[\"indLR\"].iloc[i]];\n",
    "            bceff2 = 10*phi[i,data[\"indLR\"].iloc[i]];\n",
    "            bceff3 = 3.5*data[\"rx\"].iloc[i];\n",
    "            bceff4 = func_extract_width(data[\"indLR\"].iloc[i],data[\"b\"].iloc[i]);\n",
    "\n",
    "            bceff[i] = min(min(bceff1,bceff2,bceff3),bceff4);\n",
    "            \n",
    "            Acefftemp = np.zeros(Ncond);\n",
    "            Asefftemp = np.zeros(Ncond);\n",
    "            phi_eqtemp = np.zeros(Ncond);\n",
    "            phi_eqtemp_sqrt = np.zeros(Ncond);\n",
    "            \n",
    "            if data[\"indLR\"].iloc[i] > tol: # Multiple layers, centric\n",
    "                # Aceff is in this case equal to the total concrete area (grouped bars)\n",
    "                Aceff[i] = quad(func_extract_width,0,data[\"h\"].iloc[i],args=(data[\"b\"].iloc[i]))[0];\n",
    "                \n",
    "                if data[\"EPID\"].iloc[i] == 13:\n",
    "                    # Aseff is in this case equal to the total area of reinforcement\n",
    "                    Aseff[i] = data[\"Astot\"].iloc[i];\n",
    "\n",
    "                elif data[\"EPID\"].iloc[i] == 15:\n",
    "                    # Aseff is in this case equal to the total area of reinforcement\n",
    "                    Aseff[i] = data[\"Astot\"].iloc[i];\n",
    "\n",
    "                elif data[\"EPID\"].iloc[i] == 16:\n",
    "                   # Aseff is in this case equal to the total area of reinforcement\n",
    "                    Aseff[i] = data[\"Astot\"].iloc[i];\n",
    "\n",
    "                elif data[\"EPID\"].iloc[i] == 18:\n",
    "                    # Aseff is in this case equal to the total area of reinforcement\n",
    "                    bceffrand = min(5*phi[i,0],clat[i,0]+phi[i,0])+5*phi[i,0];\n",
    "                    heffdef = min(min(hceff1,hceff2,hceff3),data[\"h\"].iloc[i]/2);\n",
    "                    Aseff[i] = data[\"Astot\"].iloc[i];\n",
    "\n",
    "                elif data[\"EPID\"].iloc[i] == 27:\n",
    "                    # Aseff is in this case equal to the total area of reinforcement\n",
    "                    Aseff[i] = data[\"Astot\"].iloc[i];\n",
    "            \n",
    "                elif data[\"EPID\"].iloc[i] == 28:\n",
    "                    # Aseff is in this case equal to the total area of reinforcement\n",
    "                    Aseff[i] = data[\"Astot\"].iloc[i];\n",
    "\n",
    "                # Phieq\n",
    "                for j in range(Ncond):\n",
    "                    phi_eqtemp[j] = nbl[i,j]*phi[i,j];\n",
    "                    phi_eqtemp_sqrt[j] = nbl[i,j]*phi[i,j]**2\n",
    "\n",
    "                phi_eq[i] = sum(phi_eqtemp_sqrt)/sum(phi_eqtemp);\n",
    "\n",
    "            # -------------------------\n",
    "            elif data[\"indLR\"].iloc[i] < 1: # Single layer, centric\n",
    "\n",
    "                # Address circular cross-sections\n",
    "                if data[\"ELID\"].iloc[i] in [\"T-C1-3\",\"T-C1-5\",\"T-C2-3\",\"T-C2-5\",\"T-C3-1\",\"T-C3-2\",\"T-C3-4\",\n",
    "                                            \"Specimen 1\",\"Specimen 2\",\"Specimen 3\",\"Specimen 4\",\"Specimen 5\"]:\n",
    "\n",
    "                    Aceff[i] = quad(func_extract_width,data[\"h\"].iloc[i]/2-hceff[i]/2,data[\"h\"].iloc[i]/2+hceff[i]/2,args=(data[\"b\"].iloc[i]))[0];\n",
    "                    Aseff[i] = (1/4)*np.pi*phi[i,0]**2;\n",
    "                    \n",
    "                    # Address rectangular cross-sections\n",
    "                else:\n",
    "                    Aceff[i] = hceff[i]*bceff[i];\n",
    "                    Aseff[i] = (1/4)*np.pi*phi[i,0]**2;\n",
    "\n",
    "                phi_eq[i] = phi[i,0]; # Since only a single diameter was applied\n",
    "            \n",
    "        # Calculation of rhoeff - MC 2020\n",
    "        rhoeff[i] = (Aseff[i] + (data[\"zeta1\"].iloc[i]**2)*Apeff[i])/Aceff[i];\n",
    "                        \n",
    "    return Aceff, Aseff, Apeff, phi_eq, rhoeff, hceff"
   ]
  },
  {
   "cell_type": "code",
   "execution_count": 243,
   "id": "99ea87a4-1cf8-4a93-8b16-549e1833a181",
   "metadata": {},
   "outputs": [],
   "source": [
    "df[\"Aceff_MC2020\"], df[\"Aseff_MC2020\"], df[\"Apeff_MC2020\"], df[\"phi_eq_MC2020\"], df[\"rhoeff_MC2020\"], df[\"hceff_MC2020\"] = cal_eff_area_MC2020(df)\n",
    "\n",
    "df = df.astype({\n",
    "    \"Aceff_MC2020\": \"float\",\n",
    "    \"Aseff_MC2020\": \"float\",\n",
    "    \"Apeff_MC2020\": \"float\",\n",
    "    \"phi_eq_MC2020\": \"float\",\n",
    "    \"rhoeff_MC2020\": \"float\",\n",
    "    \"hceff_MC2020\": \"float\"\n",
    "});"
   ]
  },
  {
   "cell_type": "markdown",
   "id": "b38564b4-071b-4b21-9842-50eb093481ed",
   "metadata": {},
   "source": [
    "#### $A_{\\mathrm{eff}}$ as defined in EN 1992-1-1 (2023)"
   ]
  },
  {
   "cell_type": "code",
   "execution_count": 244,
   "id": "cf5a8d1b-38fa-4d09-9031-2e933b55b37f",
   "metadata": {},
   "outputs": [],
   "source": [
    "def cal_eff_area_FPR(data):\n",
    "\n",
    "    Aceff = np.zeros(data.shape[0]);\n",
    "    Aseff = np.zeros(data.shape[0]);\n",
    "    Apeff = np.zeros(data.shape[0]);\n",
    "    phi_eq = np.zeros(data.shape[0]);\n",
    "    rhoeff = np.zeros(data.shape[0]);\n",
    "    hceff = np.zeros(data.shape[0]);\n",
    "    bceff = np.zeros(data.shape[0]);\n",
    "    \n",
    "    for i in range(data.shape[0]):\n",
    "\n",
    "        # Case: pure bending and / or prestressing\n",
    "        # ========================================\n",
    "        if data[\"Astot\"].iloc[i] > tol and data[\"epsin\"].iloc[i] == str(2) or data[\"epsin\"].iloc[i] == str(3) and data[\"Aptot\"].iloc[i] > tol:\n",
    "\n",
    "            if data[\"xc\"].iloc[i] > tol:\n",
    "\n",
    "                if data[\"Astot\"].iloc[i] < tol:\n",
    "                    # Determine top layer in tensile zone\n",
    "                    idx = find_positive(zp[i,:]-data[\"phi_peq\"].iloc[i]);\n",
    "                    zptoptens = zp[i,idx];\n",
    "                    \n",
    "                    hceff1 = data[\"ryp\"].iloc[i] + 5*data[\"phi_peq\"].iloc[i];\n",
    "                    hceff2 = 10*data[\"phi_peq\"].iloc[i];\n",
    "                    hceff3 = 3.5*data[\"ryp\"].iloc[i];\n",
    "                else:\n",
    "                    # Determine top layer in tensile zone\n",
    "                    idx = find_positive(zs[i,:]-data[\"xc\"].iloc[i]);\n",
    "                    zstoptens = zs[i,idx];\n",
    "                    \n",
    "                    hceff1 = data[\"ry\"].iloc[i] + 5*phi[i,data[\"indLR\"].iloc[i]];\n",
    "                    hceff2 = 10*phi[i,data[\"indLR\"].iloc[i]];\n",
    "                    hceff3 = 3.5*data[\"ry\"].iloc[i];\n",
    "\n",
    "                if data[\"Astot\"].iloc[i] < tol:\n",
    "                    hceffint = np.min([hceff1,hceff2,hceff3]) + (zp[i,data[\"indNP\"].iloc[i]] - zptoptens);\n",
    "                else:\n",
    "                    hceffint = np.min([hceff1,hceff2,hceff3]) + (zs[i,data[\"indLR\"].iloc[i]] - zstoptens);\n",
    "\n",
    "                hceff4 = data[\"h\"].iloc[i] - data[\"xc\"].iloc[i];\n",
    "                hceff5 = data[\"h\"].iloc[i]/2;\n",
    "                \n",
    "                hceff[i] = np.min([hceffint,hceff4,hceff5]);\n",
    "\n",
    "                if data[\"Astot\"].iloc[i] > tol:\n",
    "                    nlayertenseff = data[\"indLR\"].iloc[i] - idx + 1;\n",
    "                    \n",
    "                Acefftemp = np.zeros(Ncond);\n",
    "                Asefftemp = np.zeros(Ncond);\n",
    "                Apefftemp = np.zeros(Ncond);\n",
    "    \n",
    "                phi_eqtemp = np.zeros(Ncond);\n",
    "                phi_eqtemp_sqrt = np.zeros(Ncond);\n",
    "                \n",
    "                # Case 1: isolated bars --> spacing > 10*phi\n",
    "                if spacall[i,data[\"indLR\"].iloc[i]] > 10*phi[i,data[\"indLR\"].iloc[i]]:\n",
    "                    \n",
    "                    # Subcase: MC 2020 fig. 30.5-4 left: lowest reinfocing layer is <= 5*phi (phi of lowest layer)\n",
    "                    if data[\"ry\"].iloc[i] <= 5*phi[i,data[\"indLR\"].iloc[i]]:\n",
    "                        \n",
    "                        for j in range(Ncond):\n",
    "                            \n",
    "                            if zs[i,j] > data[\"h\"].iloc[i] - hceff[i] and data[\"rx\"].iloc[i] < 5*phi[i,data[\"indLR\"].iloc[i]]:\n",
    "                                Acefftemp[j] = 2*( data[\"rx\"].iloc[i] + 5*phi[i,data[\"indLR\"].iloc[i]] )*hceff[i] / nlayertenseff + \\\n",
    "                                    (nbl[i,j]-2)*( 10*phi[i,data[\"indLR\"].iloc[i]] ) * hceff[i] / nlayertenseff;\n",
    "                            \n",
    "                            elif zs[i,j] > data[\"h\"].iloc[i] - hceff[i] and data[\"rx\"].iloc[i] >= 5*phi[i,data[\"indLR\"].iloc[i]]:\n",
    "                                Acefftemp[j] = nbl[i,j]*10*phi[i,data[\"indLR\"].iloc[i]]*hceff[i] / nlayertenseff;\n",
    "                        \n",
    "                        Aceff[i] = sum(Acefftemp);\n",
    "        \n",
    "                        for j in range(Ncond):\n",
    "                            if zs[i,j] > data[\"h\"].iloc[i] - hceff[i]:\n",
    "                                Asefftemp[j] = nbl[i,j]*(1/4)*np.pi*phi[i,j]**2;\n",
    "    \n",
    "                                phi_eqtemp[j] = nbl[i,j]*phi[i,j];\n",
    "                                phi_eqtemp_sqrt[j] = nbl[i,j]*phi[i,j]**2\n",
    "        \n",
    "                        Aseff[i] = sum(Asefftemp);\n",
    "                        phi_eq[i] = sum(phi_eqtemp_sqrt)/sum(phi_eqtemp);\n",
    "        \n",
    "                        if data[\"Aptot\"].iloc[i] > tol:\n",
    "                            for j in range(Ncond):\n",
    "                                if zp[i,j] > data[\"h\"].iloc[i] - hceff[i]:\n",
    "                                    Apefftemp[j] = Ap[i,j]*npl[i,j];\n",
    "        \n",
    "                        Apeff[i] = sum(Apefftemp);\n",
    "                        \n",
    "                    # Subcase: MC 2020 fig. 30.5-4 right: lowest reinfocing layer is > 5*phi (phi of lowest layer)\n",
    "                    elif data[\"ry\"].iloc[i] > 5*phi[i,data[\"indLR\"].iloc[i]]:\n",
    "                        \n",
    "                        for j in range(Ncond):\n",
    "    \n",
    "                            if zs[i,j] > data[\"h\"].iloc[i] - hceff and data[\"rx\"].iloc[i] < 5*phi[i,data[\"indLR\"].iloc[i]] and nbl[i,j] > 2:\n",
    "                                Acefftemp[j] = 2*( data[\"rx\"].iloc[i] + 5*phi[i,data[\"indLR\"].iloc[i]] )*hceff[i] / nlayertenseff + \\\n",
    "                                    (nbl[i,j]-2)*( 10*phi[i,data[\"indLR\"].iloc[i]] ) * hceff[i] / nlayertenseff;\n",
    "    \n",
    "                            elif zs[i,j] > data[\"h\"].iloc[i] - hceff[i] and data[\"rx\"].iloc[i] >= 5*phi[i,data[\"indLR\"].iloc[i]]:\n",
    "                                Acefftemp[j] = nbl[i,j]*10*phi[i,data[\"indLR\"].iloc[i]]*hceff[i] / nlayertenseff;\n",
    "        \n",
    "                        Aceff[i] = sum(Acefftemp);\n",
    "        \n",
    "                        for j in range(Ncond):\n",
    "                            if zs[i,j] > data[\"h\"].iloc[i] - hceff[i]:\n",
    "                                Asefftemp[j] = nbl[i,j]*(1/4)*np.pi*phi[i,j]**2;\n",
    "    \n",
    "                                phi_eqtemp[j] = nbl[i,j]*phi[i,j];\n",
    "                                phi_eqtemp_sqrt[j] = nbl[i,j]*phi[i,j]**2\n",
    "        \n",
    "                        Aseff[i] = sum(Asefftemp);\n",
    "                        phi_eq[i] = sum(phi_eqtemp_sqrt)/sum(phi_eqtemp);\n",
    "        \n",
    "                        if data[\"Aptot\"].iloc[i] > tol:\n",
    "                            for j in range(Ncond):\n",
    "                                if zp[i,j] > data[\"h\"].iloc[i] - hceff[i]:\n",
    "                                    Apefftemp[j] = Ap[i,j]*npl[i,j];\n",
    "        \n",
    "                        Apeff[i] = sum(Apefftemp);\n",
    "                \n",
    "                # Case 2: grouped bars --> spacing <= 10*phi\n",
    "                elif spacall[i,data[\"indLR\"].iloc[i]] <= 10*phi[i,data[\"indLR\"].iloc[i]]:\n",
    "    \n",
    "                    Aceff[i] = quad(func_extract_width,data[\"h\"].iloc[i]-hceff[i],data[\"h\"].iloc[i],args=(data[\"b\"].iloc[i]))[0];\n",
    "    \n",
    "                    for j in range(Ncond):\n",
    "                        if zs[i,j] > data[\"h\"].iloc[i] - hceff[i]:\n",
    "                            Asefftemp[j] = nbl[i,j]*(1/4)*np.pi*phi[i,j]**2;\n",
    "                            \n",
    "                            phi_eqtemp[j] = nbl[i,j]*phi[i,j];\n",
    "                            phi_eqtemp_sqrt[j] = nbl[i,j]*phi[i,j]**2\n",
    "        \n",
    "                    Aseff[i] = sum(Asefftemp);\n",
    "                    phi_eq[i] = sum(phi_eqtemp_sqrt)/sum(phi_eqtemp);\n",
    "        \n",
    "                    for j in range(Ncond):\n",
    "                        if zs[i,j] > data[\"h\"].iloc[i] - hceff[i]:\n",
    "                            Asefftemp[j] = nbl[i,j]*(1/4)*np.pi*phi[i,j]**2;\n",
    "    \n",
    "                            phi_eqtemp[j] = nbl[i,j]*phi[i,j];\n",
    "                            phi_eqtemp_sqrt[j] = nbl[i,j]*phi[i,j]**2\n",
    "    \n",
    "                    Aseff[i] = sum(Asefftemp);\n",
    "                    phi_eq[i] = sum(phi_eqtemp_sqrt)/sum(phi_eqtemp);\n",
    "        \n",
    "                    if data[\"Aptot\"].iloc[i] > tol:\n",
    "                        for j in range(Ncond):\n",
    "                            if zp[i,j] > data[\"h\"].iloc[i] - hceff[i]:\n",
    "                                Apefftemp[j] = Ap[i,j]*npl[i,j];\n",
    "        \n",
    "                    Apeff[i] = sum(Apefftemp);\n",
    "    \n",
    "        # Case: pure tension\n",
    "        # ========================================\n",
    "        \n",
    "        if data[\"epsin\"].iloc[i] == str(\"1a\"):\n",
    "\n",
    "            hceff1 = data[\"ry\"].iloc[i] + 5*phi[i,data[\"indLR\"].iloc[i]];\n",
    "            hceff2 = 10*phi[i,data[\"indLR\"].iloc[i]];\n",
    "            hceff3 = 3.5*data[\"ry\"].iloc[i];\n",
    "            hceff4 = data[\"h\"].iloc[i]/2;\n",
    "        \n",
    "            hceff[i] = min(min(hceff1,hceff2,hceff3),hceff4);\n",
    "            #hceff[i] = min(hceff1,hceff2,hceff3));\n",
    "            \n",
    "            bceff1 = data[\"rx\"].iloc[i] + 5*phi[i,data[\"indLR\"].iloc[i]];\n",
    "            bceff2 = 10*phi[i,data[\"indLR\"].iloc[i]];\n",
    "            bceff3 = 3.5*data[\"rx\"].iloc[i];\n",
    "            bceff4 = func_extract_width(data[\"indLR\"].iloc[i],data[\"b\"].iloc[i])/2;\n",
    "\n",
    "            bceff[i] = min(min(bceff1,bceff2,bceff3),bceff4);\n",
    "            \n",
    "            Acefftemp = np.zeros(Ncond);\n",
    "            Asefftemp = np.zeros(Ncond);\n",
    "            phi_eqtemp = np.zeros(Ncond);\n",
    "            phi_eqtemp_sqrt = np.zeros(Ncond);\n",
    "\n",
    "            idx = find_positive(zs[i,:]-data[\"xc\"].iloc[i]);\n",
    "            zstoptens = zs[i,idx];\n",
    "            nlayertenseff = data[\"indLR\"].iloc[i] - idx + 1;\n",
    "            \n",
    "            if data[\"indLR\"].iloc[i] >= 1:\n",
    "                # Aceff is in this case equal to the total concrete area (grouped bars)\n",
    "                Aceff[i] = quad(func_extract_width,0,data[\"h\"].iloc[i],args=(data[\"b\"].iloc[i]))[0];\n",
    "                \n",
    "                if data[\"EPID\"].iloc[i] == 13:\n",
    "                    # Aseff is in this case equal to the total area of reinforcement\n",
    "                    Aseff[i] = data[\"Astot\"].iloc[i];\n",
    "\n",
    "                elif data[\"EPID\"].iloc[i] == 15:\n",
    "                    # Aseff is in this case equal to the total area of reinforcement\n",
    "                    Aseff[i] = data[\"Astot\"].iloc[i];\n",
    "\n",
    "                elif data[\"EPID\"].iloc[i] == 16:\n",
    "                    # Aseff is in this case equal to the total area of reinforcement\n",
    "                    Aseff[i] = data[\"Astot\"].iloc[i];\n",
    "\n",
    "                elif data[\"EPID\"].iloc[i] == 18:\n",
    "                    # Aseff is in this case equal to the total area of reinforcement\n",
    "                    bceffrand = min(5*phi[i,0],clat[i,0]+phi[i,0])+5*phi[i,0];\n",
    "                    heffdef = min(min(hceff1,hceff2,hceff3),data[\"h\"].iloc[i]/2);\n",
    "                    Aseff[i] = data[\"Astot\"].iloc[i];\n",
    "\n",
    "                elif data[\"EPID\"].iloc[i] == 27:\n",
    "                    # Aseff is in this case equal to the total area of reinforcement\n",
    "                    Aseff[i] = data[\"Astot\"].iloc[i];\n",
    "            \n",
    "                elif data[\"EPID\"].iloc[i] == 28:\n",
    "                    # Aseff is in this case equal to the total area of reinforcement\n",
    "                    Aseff[i] = data[\"Astot\"].iloc[i];\n",
    "\n",
    "                # Phieq\n",
    "                for j in range(Ncond):\n",
    "                    phi_eqtemp[j] = nbl[i,j]*phi[i,j];\n",
    "                    phi_eqtemp_sqrt[j] = nbl[i,j]*phi[i,j]**2\n",
    "\n",
    "                phi_eq[i] = sum(phi_eqtemp_sqrt)/sum(phi_eqtemp);\n",
    "                \n",
    "            elif data[\"indLR\"].iloc[i] < 1: # Single layer, centric\n",
    "\n",
    "                hceff[i] = min(hceff1,hceff2,hceff3,data[\"h\"].iloc[i]);\n",
    "                bceff[i] = min(bceff1,bceff2,bceff3,func_extract_width(data[\"indLR\"].iloc[i],data[\"b\"].iloc[i]));\n",
    "                \n",
    "                # Address circular cross-sections\n",
    "                if data[\"ELID\"].iloc[i] in [\"T-C1-3\",\"T-C1-5\",\"T-C2-3\",\"T-C2-5\",\"T-C3-1\",\"T-C3-2\",\"T-C3-4\",\n",
    "                                            \"Specimen 1\",\"Specimen 2\",\"Specimen 3\",\"Specimen 4\",\"Specimen 5\"]:\n",
    "\n",
    "                    Aceff[i] = quad(func_extract_width,data[\"h\"].iloc[i]/2-hceff[i]/2+\n",
    "                                    tol,data[\"h\"].iloc[i]/2+hceff[i]/2-tol,args=(data[\"b\"].iloc[i]))[0];\n",
    "                    Aseff[i] = (1/4)*np.pi*phi[i,0]**2;\n",
    "                    \n",
    "                    # Address rectangular cross-sections\n",
    "                else:\n",
    "                    Aceff[i] = hceff[i]*bceff[i];\n",
    "                    Aseff[i] = (1/4)*np.pi*phi[i,0]**2;\n",
    "\n",
    "                phi_eq[i] = phi[i,0]; # Since only a single diameter was applied\n",
    "            \n",
    "        # Calculation of rhoeff - MC 2020\n",
    "        rhoeff[i] = (Aseff[i] + (data[\"zeta1\"].iloc[i]**2)*Apeff[i])/Aceff[i];\n",
    "                        \n",
    "    return Aceff, Aseff, Apeff, phi_eq, rhoeff, hceff"
   ]
  },
  {
   "cell_type": "code",
   "execution_count": 245,
   "id": "69d9d54f-706b-4904-9a81-0e2e7835b90b",
   "metadata": {},
   "outputs": [],
   "source": [
    "df[\"Aceff_FPR\"], df[\"Aseff_FPR\"], df[\"Apeff_FPR\"], df[\"phi_eq_FPR\"], df[\"rhoeff_FPR\"], df[\"hceff_FPR\"] = cal_eff_area_FPR(df);\n",
    "\n",
    "df = df.astype({\n",
    "    \"Aceff_FPR\": \"float\",\n",
    "    \"Aseff_FPR\": \"float\",\n",
    "    \"Apeff_FPR\": \"float\",\n",
    "    \"phi_eq_FPR\": \"float\",\n",
    "    \"rhoeff_FPR\": \"float\",\n",
    "    \"hceff_FPR\": \"float\",\n",
    "});"
   ]
  },
  {
   "cell_type": "markdown",
   "id": "5eada5a3-06e5-43e4-9a26-3e3f6c149995",
   "metadata": {},
   "source": [
    "### 05.18 - Further processing"
   ]
  },
  {
   "cell_type": "markdown",
   "id": "fac1cfc2-9e27-407a-b1d2-f5c18d3a91b6",
   "metadata": {},
   "source": [
    "#### Drop variables"
   ]
  },
  {
   "cell_type": "code",
   "execution_count": 246,
   "id": "326a1a1c-40ef-447b-8f63-13b2981bbacc",
   "metadata": {},
   "outputs": [],
   "source": [
    "dfcopy = df.copy(); # Create a copy to keep track of removed indices\n",
    "\n",
    "phi_copy = phi;\n",
    "zs_copy = zs;\n",
    "nbl_copy = nbl;\n",
    "clat_copy = clat;\n",
    "Aslayer_copy = Aslayer;\n",
    "\n",
    "phit_copy = phit;\n",
    "st_copy = st;\n",
    "\n",
    "npl_copy = npl;\n",
    "phip_copy = phip;\n",
    "Ap_copy = Ap;\n",
    "zp_copy = zp;\n",
    "cplat_copy = cplat;\n",
    "\n",
    "spacall_copy = spacall;"
   ]
  },
  {
   "cell_type": "code",
   "execution_count": 247,
   "id": "bfaba985-ab65-4a58-b91c-ee955e8f6679",
   "metadata": {},
   "outputs": [],
   "source": [
    "df = df[df['sigs'].notna()];"
   ]
  },
  {
   "cell_type": "markdown",
   "id": "7024f9b2-d962-4b58-8e87-ee4640ee8033",
   "metadata": {},
   "source": [
    "#### Imputation of targets"
   ]
  },
  {
   "cell_type": "code",
   "execution_count": 248,
   "id": "0077508f-2cea-47e1-989d-911cd19205eb",
   "metadata": {},
   "outputs": [],
   "source": [
    "if targetimputation == \"yes\":\n",
    "    for i in range(df.shape[0]):\n",
    "        if df[\"sm\"].iloc[i] < tol and df[\"ncr\"].iloc[i] > Ncracksub and df[\"Lcons\"].iloc[i] > 1 and df[\"CS\"].iloc[i] == 2:\n",
    "            df[\"sm\"].iloc[i] = df[\"Lcons\"].iloc[i]/df[\"ncr\"].iloc[i];"
   ]
  },
  {
   "cell_type": "markdown",
   "id": "71b7efaf-82b5-4194-ab40-20deec68d65a",
   "metadata": {},
   "source": [
    "#### Global data filtering"
   ]
  },
  {
   "cell_type": "code",
   "execution_count": 249,
   "id": "f695eda6-4b22-437a-be98-f31fe8e9a094",
   "metadata": {},
   "outputs": [],
   "source": [
    "df.drop(df[(df[\"Astot\"] > tol) & (df[\"sigs\"] < 1)].index, inplace=True); # Remove failure computations\n",
    "df.drop(df[(df[\"sigs\"] > 0.7*df[\"fy\"])].index, inplace=True); # Remove failure computations\n",
    "df.drop(df[(df[\"Aptot\"] > tol) & (df[\"dpsigs\"] < 1)].index, inplace=True); # Remove failure computations\n",
    "\n",
    "if filtercrackingplateau == \"yes\":\n",
    "    df.drop(df[(df[\"N\"] < df[\"Ncr\"])].index, inplace=True);\n",
    "    df.drop(df[(df[\"M\"] < df[\"Mcr\"])].index, inplace=True);\n",
    "    \n",
    "if globalfilterstress == \"yes\":\n",
    "    df.drop(df[(df[\"sigs\"] > sigsupper) & (df[\"Astot\"] > 0.1)].index, inplace=True);\n",
    "    df.drop(df[(df[\"sigs\"] < sigslower) & (df[\"Astot\"] > 0.1)].index, inplace=True);"
   ]
  },
  {
   "cell_type": "markdown",
   "id": "a006b741-0466-4fde-af26-b860a32f7c5d",
   "metadata": {},
   "source": [
    "#### Compute ratios for the case of uniformly defined targets"
   ]
  },
  {
   "cell_type": "code",
   "execution_count": 250,
   "id": "177b3864-9a2a-47ce-a22f-3a4f683245c7",
   "metadata": {},
   "outputs": [],
   "source": [
    "df[\"sigssr\"] = (df[\"fctm\"]/df[\"rhoeff_MC2020\"])*( 1 + (df[\"ae\"]-1)*df[\"rhoeff_MC2020\"]);\n",
    "df = df.astype({\n",
    "    \"sigssr\": \"float\",\n",
    "});"
   ]
  },
  {
   "cell_type": "code",
   "execution_count": 251,
   "id": "683f6750-cb71-4875-b57c-1684f621ea7b",
   "metadata": {},
   "outputs": [],
   "source": [
    "def func_compute_rat_targ(data):\n",
    "\n",
    "    r = np.zeros(data.shape[0]);\n",
    "    p = np.zeros(data.shape[0]);\n",
    "    k1 = np.zeros(data.shape[0]);\n",
    "    \n",
    "\n",
    "    for i in range(data.shape[0]):\n",
    "        if data[\"epsin\"].iloc[i] == str(\"1a\"):\n",
    "            k1[i] = data[\"N\"].iloc[i]/data[\"Ncr\"].iloc[i];\n",
    "        else:\n",
    "            k1[i] = data[\"M\"].iloc[i]/data[\"Mcr\"].iloc[i];\n",
    "        \n",
    "        r[i] = 1 - 0.5*np.sqrt(1-(1/k1[i])**(1 + 2.5/((data[\"Astot\"].iloc[i]/data[\"Ac\"].iloc[i])*100)));\n",
    "\n",
    "        p[i] = r[i]*(k1[i]-0.33*(3*r[i]-r[i]**2))/(k1[i]-0.67);\n",
    "\n",
    "    return r,p,k1"
   ]
  },
  {
   "cell_type": "code",
   "execution_count": 252,
   "id": "7f1864d5-8cb7-48c9-961b-9210cb289fa3",
   "metadata": {},
   "outputs": [],
   "source": [
    "def func_fill_empty_targets(data):\n",
    "\n",
    "    w_max_imputed = np.zeros(data.shape[0]);\n",
    "    w_m_imputed = np.zeros(data.shape[0]);\n",
    "    s_max_imputed = np.zeros(data.shape[0]);\n",
    "    s_m_imputed = np.zeros(data.shape[0]);\n",
    "    \n",
    "    for i in range(data.shape[0]):\n",
    "\n",
    "        # if the latter case is applicable: estimate the maximum crack width from the mean crack width: wmax = wm/p\n",
    "        if data[\"wm\"].iloc[i] > 0.1 and data[\"wmax\"].iloc[i] < 0.1:\n",
    "            #w_max_imputed[i] = data[\"wm\"].iloc[i]/data[\"p\"].iloc[i];\n",
    "            data[\"wmax\"].iloc[i] = data[\"wm\"].iloc[i]/data[\"p\"].iloc[i];\n",
    "\n",
    "        # wm = wmax*p\n",
    "        elif data[\"wm\"].iloc[i] < 0.1 and data[\"wmax\"].iloc[i] > 0.1:\n",
    "            #w_m_imputed[i] = data[\"wmax\"].iloc[i]*data[\"p\"].iloc[i];\n",
    "            data[\"wm\"].iloc[i] = data[\"wmax\"].iloc[i]*data[\"p\"].iloc[i];\n",
    "        \n",
    "        # smax = sm/r\n",
    "        if data[\"sm\"].iloc[i] > 0.1 and data[\"smax\"].iloc[i] < 0.1:\n",
    "            #s_max_imputed[i] = data[\"sm\"].iloc[i]/data[\"r\"].iloc[i];\n",
    "            data[\"smax\"].iloc[i] = data[\"sm\"].iloc[i]/data[\"r\"].iloc[i];\n",
    "\n",
    "        # sm = smax*r\n",
    "        elif data[\"sm\"].iloc[i] < 0.1 and data[\"smax\"].iloc[i] > 0.1:\n",
    "            #s_m_imputed[i] = data[\"smax\"].iloc[i]*data[\"r\"].iloc[i];\n",
    "            data[\"sm\"].iloc[i] = data[\"smax\"].iloc[i]*data[\"r\"].iloc[i];\n",
    "    \n",
    "    return data"
   ]
  },
  {
   "cell_type": "code",
   "execution_count": 253,
   "id": "0556cfb4-4b4f-474c-832a-a619e2291200",
   "metadata": {},
   "outputs": [],
   "source": [
    "if uniformtargets == \"yes\":\n",
    "    \n",
    "    df[\"r\"],df[\"p\"],df[\"k1\"] = func_compute_rat_targ(df);\n",
    "    df = df.astype({\n",
    "        \"r\": \"float\",\n",
    "        \"p\": \"float\",\n",
    "        \"k1\": \"float\"\n",
    "    });\n",
    "\n",
    "else:\n",
    "    df[\"r\"] = np.zeros(df.shape[0]);\n",
    "    df[\"p\"] = np.zeros(df.shape[0]);\n",
    "    df[\"k1\"] = np.zeros(df.shape[0]);"
   ]
  },
  {
   "cell_type": "markdown",
   "id": "e2492822-37f2-4c8b-b2a8-0bf750fad16a",
   "metadata": {},
   "source": [
    "#### Filtering of secondary crack widths"
   ]
  },
  {
   "cell_type": "code",
   "execution_count": 254,
   "id": "b57a2cd2-7401-45b3-9efe-ee3433bbe88a",
   "metadata": {},
   "outputs": [],
   "source": [
    "def filter_secondary_crack_widths(data):\n",
    "\n",
    "    sr_lower = np.zeros(data.shape[0]);\n",
    "    srtemp = np.zeros(data.shape[0]);\n",
    "\n",
    "    # EPIDs for which it is not clear if there are primary/secondary cracks\n",
    "    genlist = [1,6,7,8,9,16,24,26,27,28];\n",
    "\n",
    "    ele = data[\"ELID\"].unique();\n",
    "    \n",
    "    for i in range(data.shape[0]):\n",
    "\n",
    "        if data[\"EPID\"].iloc[i] in genlist:\n",
    "            sr_lower[i] = data[\"fctm\"].iloc[i]*data[\"phi_eq_MC2020\"].iloc[i] / (4*data[\"tau_bms\"].iloc[i]*data[\"rhoeff_MC2020\"].iloc[i]);\n",
    "            sr_mintemp = np.zeros(ele.shape[0]);\n",
    "    \n",
    "            for j in range(ele.shape[0]):\n",
    "                srtemplist = [];\n",
    "                for i in range(data.shape[0]):\n",
    "                    if ele[j] == data[\"ELID\"].iloc[i]:\n",
    "                        if data[\"sm\"].iloc[i] > tol: # Computation in case of known mean crack widths\n",
    "                            srtemplist.append(data[\"sm\"].iloc[i])\n",
    "                        elif data[\"smax\"].iloc[i]*data[\"r\"].iloc[i] > tol: # Computation in case of known maximum crack widths\n",
    "                            srtemplist.append(data[\"smax\"].iloc[i]*data[\"r\"].iloc[i])\n",
    "                if len(srtemplist) > 0:\n",
    "                    sr_mintemp[j] = np.min(srtemplist);\n",
    "                else: # Address empty arrays; thus without known spacings --> then not cancelled out, temporarily place a high value\n",
    "                    sr_mintemp[j] = 1000; # High upper bound, so these will not be filtered out\n",
    "\n",
    "    for i in range(data.shape[0]):\n",
    "        if data[\"EPID\"].iloc[i] in genlist:\n",
    "            for j in range(ele.shape[0]):\n",
    "                if ele[j] == data[\"ELID\"].iloc[i]:\n",
    "                    srtemp[i] = sr_mintemp[j];\n",
    "        else:\n",
    "            srtemp[i] = 1000; # High upper bound, so these will not be filtered out\n",
    "            sr_lower[i] = data[\"fctm\"].iloc[i]*data[\"phi_eq_MC2020\"].iloc[i] / (4*data[\"tau_bms\"].iloc[i]*data[\"rhoeff_MC2020\"].iloc[i]);\n",
    "\n",
    "    data[\"srtemp\"] = srtemp;\n",
    "    data[\"srlower\"] = sr_lower;\n",
    "    \n",
    "    return data"
   ]
  },
  {
   "cell_type": "code",
   "execution_count": 255,
   "id": "b975f250-d9d8-44a6-bb9e-168d292b8ef7",
   "metadata": {},
   "outputs": [],
   "source": [
    "df = filter_secondary_crack_widths(df);"
   ]
  },
  {
   "cell_type": "code",
   "execution_count": 256,
   "id": "152be926-e0a5-47dc-89f2-64f3cd9bf876",
   "metadata": {},
   "outputs": [],
   "source": [
    "df = df.astype({\n",
    "    \"srtemp\": \"float\",\n",
    "    \"srlower\": \"float\"\n",
    "})"
   ]
  },
  {
   "cell_type": "code",
   "execution_count": 257,
   "id": "7926a268-97d6-4ffa-b80f-e28565f08450",
   "metadata": {},
   "outputs": [],
   "source": [
    "# Finally, we can remove the rows with \"too low crack spacings\"\n",
    "if exclude_secondary_cracks == \"yes\":\n",
    "    df.drop(df[(df[\"srtemp\"] < df[\"srlower\"])].index, inplace=True); # Remove secondary crack widths"
   ]
  },
  {
   "cell_type": "markdown",
   "id": "ee63721c-2c35-4a5e-94f8-276cda3951cf",
   "metadata": {},
   "source": [
    "#### Filter for elements with small element lengths"
   ]
  },
  {
   "cell_type": "code",
   "execution_count": 258,
   "id": "6f10c5ac-a090-4896-964e-aed28cf39fcc",
   "metadata": {},
   "outputs": [],
   "source": [
    "df.drop(df[(df[\"Lcons\"] <= filter_length)].index,inplace=True);"
   ]
  },
  {
   "cell_type": "markdown",
   "id": "c01dbc12-9884-447d-ba8f-a26674a8f6be",
   "metadata": {},
   "source": [
    "#### Filter for outliers"
   ]
  },
  {
   "cell_type": "code",
   "execution_count": 259,
   "id": "66db835e-df3b-4b5b-ab35-e8619db437f9",
   "metadata": {},
   "outputs": [],
   "source": [
    "if fitleroutliers == \"yes\":\n",
    "    df.drop(df[(df[\"wm\"] > wmaxU)].index, inplace=True);\n",
    "    df.drop(df[(df[\"wmax\"] > wmaxU)].index, inplace=True);\n",
    "    \n",
    "    df.drop(df[(df[\"sm\"] > smaxU)].index, inplace=True);\n",
    "    df.drop(df[(df[\"smax\"] > smaxU)].index, inplace=True);"
   ]
  },
  {
   "cell_type": "markdown",
   "id": "f564ab63-157d-43fd-9475-1402246f2c8a",
   "metadata": {},
   "source": [
    "#### Correction for the removed lines"
   ]
  },
  {
   "cell_type": "code",
   "execution_count": 260,
   "id": "af028b50-01c5-4970-9083-cba718100f1f",
   "metadata": {},
   "outputs": [],
   "source": [
    "def corr_removed_lines(data_org,data_filtered,phi,zs,nbl,clat,Aslayer,phit,st,npl,phip,Ap,zp,cplat,spacall):\n",
    "    delrowlist = data_org.index.difference(data_filtered.index).tolist();\n",
    "\n",
    "    # Reinforcing properties - longitudinal steel\n",
    "    # ======================\n",
    "    \n",
    "    phi = np.delete(phi,delrowlist,axis=0);\n",
    "    zs = np.delete(zs,delrowlist,axis=0);\n",
    "    nbl = np.delete(nbl,delrowlist,axis=0);\n",
    "    clat = np.delete(clat,delrowlist,axis=0);\n",
    "    Aslayer = np.delete(Aslayer,delrowlist,axis=0);\n",
    "    \n",
    "    # Transverse\n",
    "    # ======================\n",
    "    \n",
    "    phit = np.delete(phit,delrowlist,axis=0);\n",
    "    st = np.delete(st,delrowlist,axis=0);\n",
    "    \n",
    "    # Prestressing steel\n",
    "    # ======================\n",
    "    \n",
    "    npl = np.delete(npl,delrowlist,axis=0);\n",
    "    phip = np.delete(phip,delrowlist,axis=0);\n",
    "    Ap = np.delete(Ap,delrowlist,axis=0);\n",
    "    zp = np.delete(zp,delrowlist,axis=0);\n",
    "    cplat = np.delete(cplat,delrowlist,axis=0);\n",
    "    \n",
    "    # Spacings\n",
    "    # ======================\n",
    "    spacall = np.delete(spacall,delrowlist,axis=0);\n",
    "\n",
    "    return phi, zs, nbl, clat, Aslayer, phit, st, npl, phip, Ap, zp, cplat, spacall"
   ]
  },
  {
   "cell_type": "code",
   "execution_count": 261,
   "id": "eb75c727-a80d-4493-8e47-d9889ff24837",
   "metadata": {},
   "outputs": [],
   "source": [
    "phi, zs, nbl, clat, Aslayer, phit, st, npl, phip, Ap, zp, cplat, spacall = \\\n",
    "    corr_removed_lines(dfcopy,df,\n",
    "                       phi_copy,\n",
    "                       zs_copy,\n",
    "                       nbl_copy,\n",
    "                       clat_copy,\n",
    "                       Aslayer_copy,\n",
    "                       phit_copy,\n",
    "                       st_copy,\n",
    "                       npl_copy,\n",
    "                       phip_copy,\n",
    "                       Ap_copy,\n",
    "                       zp_copy,\n",
    "                       cplat_copy,\n",
    "                       spacall_copy\n",
    "                      );"
   ]
  },
  {
   "cell_type": "markdown",
   "id": "1f33f202-3ba3-4c15-87a4-9103fb58f3b9",
   "metadata": {},
   "source": [
    "## 6 - Resulting working database"
   ]
  },
  {
   "cell_type": "code",
   "execution_count": 262,
   "id": "cc04266c-fd50-4e9e-a966-9428bc5a6f53",
   "metadata": {},
   "outputs": [
    {
     "name": "stdout",
     "output_type": "stream",
     "text": [
      "Working Dataset contains 29 rows\n",
      "Working Dataset contains 188 columns\n"
     ]
    }
   ],
   "source": [
    "print(\"Working Dataset contains\",df.shape[0], \"rows\")\n",
    "print(\"Working Dataset contains\",df.shape[1], \"columns\")"
   ]
  },
  {
   "cell_type": "markdown",
   "id": "36159f5a-6c0b-4a39-87fe-ea294e1f6319",
   "metadata": {},
   "source": [
    "## 7 - Analysis of various Crack Width Formulas"
   ]
  },
  {
   "cell_type": "markdown",
   "id": "6d474cb8-b12d-452d-9230-b3c0e1ae4c4c",
   "metadata": {},
   "source": [
    "### 07.01 - Filter-and-combine functions"
   ]
  },
  {
   "cell_type": "code",
   "execution_count": 263,
   "id": "590490fe-59b8-450c-af55-6acb468297ae",
   "metadata": {},
   "outputs": [],
   "source": [
    "def func_filter_results_cwf(data,meas_wm,meas_wmax,meas_sm,meas_smax,cwf_wm,cwf_wmax,cwf_sm,cwf_smax):\n",
    "\n",
    "    # cutoff\n",
    "    cutoff = 0.01;\n",
    "    \n",
    "    # Summarize results\n",
    "    summary = np.zeros((data.shape[0],8));\n",
    "       \n",
    "    summary[:,0] = meas_wm;\n",
    "    summary[:,1] = meas_wmax;\n",
    "    summary[:,2] = meas_sm;\n",
    "    summary[:,3] = meas_smax;\n",
    "    summary[:,4] = cwf_wm;\n",
    "    summary[:,5] = cwf_wmax;\n",
    "    summary[:,6] = cwf_sm;\n",
    "    summary[:,7] = cwf_smax;\n",
    "        \n",
    "    # Create a dataframe\n",
    "    dfwm = pd.DataFrame({\"meas_wm\": summary[:,0],\"cwf_wm\": summary[:,4]});\n",
    "    dfwmax = pd.DataFrame({\"meas_wmax\": summary[:,1],\"cwf_wmax\": summary[:,5]});\n",
    "    dfsm = pd.DataFrame({\"meas_sm\": summary[:,2],\"cwf_sm\": summary[:,6]});\n",
    "    dfsmax = pd.DataFrame({\"meas_smax\": summary[:,3],\"cwf_smax\": summary[:,7]});\n",
    "\n",
    "    # Add some columns\n",
    "    dfwm[\"EPID\"] = data[\"EPID\"].to_numpy();\n",
    "    dfwm[\"ELID\"] = data[\"ELID\"].to_numpy();\n",
    "    dfwm[\"LOADID\"] = data[\"LOADID\"].to_numpy();\n",
    "    dfwm[\"locw\"] = data[\"locw\"].to_numpy();\n",
    "    dfwm[\"k1\"] = data[\"k1\"].to_numpy();\n",
    "    dfwm[\"cy\"] = data[\"cy\"].to_numpy();\n",
    "    dfwm[\"sigs\"] = data[\"sigs\"].to_numpy();\n",
    "    dfwm[\"phi_eq_MC2020\"] = data[\"phi_eq_MC2020\"].to_numpy();\n",
    "    dfwm[\"rhoeff_MC2020\"] = data[\"rhoeff_MC2020\"].to_numpy();\n",
    "    dfwm[\"CS\"] = data[\"CS\"].to_numpy();\n",
    "    dfwm[\"epsin\"] = data[\"epsin\"].to_numpy();\n",
    "    dfwm[\"Nrep\"] = data[\"Nrep\"].to_numpy();\n",
    "    dfwm[\"t\"] = data[\"t\"].to_numpy();\n",
    "\n",
    "    dfwmax[\"EPID\"] = data[\"EPID\"].to_numpy();\n",
    "    dfwmax[\"ELID\"] = data[\"ELID\"].to_numpy();\n",
    "    dfwmax[\"LOADID\"] = data[\"LOADID\"].to_numpy();\n",
    "    dfwmax[\"locw\"] = data[\"locw\"].to_numpy();\n",
    "    dfwmax[\"k1\"] = data[\"k1\"].to_numpy();\n",
    "    dfwmax[\"cy\"] = data[\"cy\"].to_numpy();\n",
    "    dfwmax[\"sigs\"] = data[\"sigs\"].to_numpy();\n",
    "    dfwmax[\"phi_eq_MC2020\"] = data[\"phi_eq_MC2020\"].to_numpy();\n",
    "    dfwmax[\"rhoeff_MC2020\"] = data[\"rhoeff_MC2020\"].to_numpy();\n",
    "    dfwmax[\"CS\"] = data[\"CS\"].to_numpy();\n",
    "    dfwmax[\"epsin\"] = data[\"epsin\"].to_numpy();\n",
    "    dfwmax[\"Nrep\"] = data[\"Nrep\"].to_numpy();\n",
    "    dfwmax[\"t\"] = data[\"t\"].to_numpy();\n",
    "\n",
    "    dfsm[\"EPID\"] = data[\"EPID\"].to_numpy();\n",
    "    dfsm[\"ELID\"] = data[\"ELID\"].to_numpy();\n",
    "    dfsm[\"LOADID\"] = data[\"LOADID\"].to_numpy();\n",
    "    dfsm[\"locw\"] = data[\"locw\"].to_numpy();\n",
    "    dfsm[\"k1\"] = data[\"k1\"].to_numpy();\n",
    "    dfsm[\"cy\"] = data[\"cy\"].to_numpy();\n",
    "    dfsm[\"sigs\"] = data[\"sigs\"].to_numpy();\n",
    "    dfsm[\"phi_eq_MC2020\"] = data[\"phi_eq_MC2020\"].to_numpy();\n",
    "    dfsm[\"rhoeff_MC2020\"] = data[\"rhoeff_MC2020\"].to_numpy();\n",
    "    dfsm[\"CS\"] = data[\"CS\"].to_numpy();\n",
    "    dfsm[\"epsin\"] = data[\"epsin\"].to_numpy();\n",
    "    dfsm[\"Nrep\"] = data[\"Nrep\"].to_numpy();\n",
    "    dfsm[\"t\"] = data[\"t\"].to_numpy();\n",
    "\n",
    "    dfsmax[\"EPID\"] = data[\"EPID\"].to_numpy();\n",
    "    dfsmax[\"ELID\"] = data[\"ELID\"].to_numpy();\n",
    "    dfsmax[\"LOADID\"] = data[\"LOADID\"].to_numpy();\n",
    "    dfsmax[\"locw\"] = data[\"locw\"].to_numpy();\n",
    "    dfsmax[\"k1\"] = data[\"k1\"].to_numpy();\n",
    "    dfsmax[\"cy\"] = data[\"cy\"].to_numpy();\n",
    "    dfsmax[\"sigs\"] = data[\"sigs\"].to_numpy();\n",
    "    dfsmax[\"phi_eq_MC2020\"] = data[\"phi_eq_MC2020\"].to_numpy();\n",
    "    dfsmax[\"rhoeff_MC2020\"] = data[\"rhoeff_MC2020\"].to_numpy();\n",
    "    dfsmax[\"CS\"] = data[\"CS\"].to_numpy();\n",
    "    dfsmax[\"epsin\"] = data[\"epsin\"].to_numpy();\n",
    "    dfsmax[\"Nrep\"] = data[\"Nrep\"].to_numpy();\n",
    "    dfsmax[\"t\"] = data[\"t\"].to_numpy();\n",
    "    \n",
    "    # Filter - wm\n",
    "    dfwm.drop(dfwm[(dfwm[\"meas_wm\"] < cutoff)].index, inplace=True);\n",
    "    dfwm.drop(dfwm[(dfwm[\"cwf_wm\"] < cutoff)].index, inplace=True);\n",
    "    dfwm.dropna(subset=[\"meas_wm\"], inplace=True);\n",
    "    dfwm.dropna(subset=[\"cwf_wm\"], inplace=True);\n",
    "\n",
    "    # Filter - wmax\n",
    "    dfwmax.drop(dfwmax[(dfwmax[\"meas_wmax\"] < cutoff)].index, inplace=True);\n",
    "    dfwmax.drop(dfwmax[(dfwmax[\"cwf_wmax\"] < cutoff)].index, inplace=True);\n",
    "    dfwmax.dropna(subset=[\"meas_wmax\"], inplace=True);\n",
    "    dfwmax.dropna(subset=[\"cwf_wmax\"], inplace=True);\n",
    "\n",
    "    # Filter - sm\n",
    "    dfsm.drop(dfsm[(dfsm[\"meas_sm\"] < cutoff)].index, inplace=True);\n",
    "    dfsm.drop(dfsm[(dfsm[\"cwf_sm\"] < cutoff)].index, inplace=True);\n",
    "    dfsm.dropna(subset=[\"meas_sm\"], inplace=True);\n",
    "    dfsm.dropna(subset=[\"cwf_sm\"], inplace=True);\n",
    "\n",
    "    # Filter - smax\n",
    "    dfsmax.drop(dfsmax[(dfsmax[\"meas_smax\"] < cutoff)].index, inplace=True);\n",
    "    dfsmax.drop(dfsmax[(dfsmax[\"cwf_smax\"] < cutoff)].index, inplace=True);\n",
    "    dfsmax.dropna(subset=[\"meas_smax\"], inplace=True);\n",
    "    dfsmax.dropna(subset=[\"cwf_smax\"], inplace=True);\n",
    "      \n",
    "    return dfwm, dfwmax, dfsm, dfsmax"
   ]
  },
  {
   "cell_type": "code",
   "execution_count": 264,
   "id": "e5053c30-236b-42f5-b5e6-fff128b964aa",
   "metadata": {},
   "outputs": [],
   "source": [
    "def func_compute_filtered_output_multiple(data,CWFlist):\n",
    "\n",
    "    wm = [];\n",
    "    wmax = [];\n",
    "    sm = [];\n",
    "    smax = [];\n",
    "\n",
    "    colors = [];\n",
    "\n",
    "    for i in range(len(CWFlist)):\n",
    "    \n",
    "        if CWFlist[i] == \"EN 1992-1-1\":\n",
    "            cwf_wm,cwf_wmax,cwf_sm,cwf_smax = func_cwf_001a(data);\n",
    "            color = \"salmon\";\n",
    "            \n",
    "        elif CWFlist[i] == \"NEN-EN 1992-1-1\":\n",
    "            cwf_wm,cwf_wmax,cwf_sm,cwf_smax = func_cwf_001b(data);\n",
    "            color = \"sienna\";\n",
    "            \n",
    "        elif CWFlist[i] == \"FprEN 1992-1-1\":\n",
    "            cwf_wm,cwf_wmax,cwf_sm,cwf_smax = func_cwf_002_ID_2(data);\n",
    "            color = \"sandybrown\";\n",
    "        \n",
    "        elif CWFlist[i] == \"MC 2010\":\n",
    "            cwf_wm,cwf_wmax,cwf_sm,cwf_smax = func_cwf_006(data);\n",
    "            color = \"olive\";\n",
    "        \n",
    "        elif CWFlist[i] == \"MC 2020\":\n",
    "            cwf_wm,cwf_wmax,cwf_sm,cwf_smax = func_cwf_007(data);\n",
    "            color = \"lawngreen\";\n",
    "    \n",
    "        elif CWFlist[i] == \"Noakowski\":\n",
    "            cwf_wm,cwf_wmax,cwf_sm,cwf_smax = func_cwf_012(data);\n",
    "            color = \"turquoise\";\n",
    "        \n",
    "        elif CWFlist[i] == \"JSCE\":\n",
    "            cwf_wm,cwf_wmax,cwf_sm,cwf_smax = func_cwf_038(data);\n",
    "            color = \"teal\";\n",
    "        \n",
    "        elif CWFlist[i] == \"Oh + Kang\":\n",
    "            cwf_wm,cwf_wmax,cwf_sm,cwf_smax = func_cwf_047(data);\n",
    "            color = \"dodgerblue\";\n",
    "        \n",
    "        elif CWFlist[i] == \"Gergely + Lutz\":\n",
    "            cwf_wm,cwf_wmax,cwf_sm,cwf_smax = func_cwf_053(data);\n",
    "            color = \"navy\";\n",
    "        \n",
    "        elif CWFlist[i] == \"Frosch\":\n",
    "            cwf_wm,cwf_wmax,cwf_sm,cwf_smax = func_cwf_058(data);\n",
    "            color = \"blueviolet\";\n",
    "        \n",
    "        elif CWFlist[i] == \"SMTCM\":\n",
    "            cwf_wm,cwf_wmax,cwf_sm,cwf_smax = func_cwf_095(data);\n",
    "            color = \"deeppink\";\n",
    "\n",
    "        elif CWFlist[i] == \"\":\n",
    "            cwf_wm,cwf_wmax,cwf_sm,cwf_smax = np.zeros(4);\n",
    "            color = \"black\";\n",
    "        \n",
    "        # Finally, compute the filtered output\n",
    "        wm_add, wmax_add, sm_add, smax_add = func_filter_results_cwf(data,data[\"wm\"],data[\"wmax\"],data[\"sm\"],data[\"smax\"],\n",
    "                                     cwf_wm,cwf_wmax,cwf_sm,cwf_smax);\n",
    "\n",
    "        wm.append(wm_add);\n",
    "        wmax.append(wmax_add);\n",
    "        sm.append(sm_add);\n",
    "        smax.append(smax_add);\n",
    "\n",
    "        colors.append(color);\n",
    "        \n",
    "    return wm, wmax, sm, smax, colors"
   ]
  },
  {
   "cell_type": "markdown",
   "id": "f104b518-ef36-4341-ae31-e87187462fa3",
   "metadata": {},
   "source": [
    "### 07.02 - Selected CWFs"
   ]
  },
  {
   "cell_type": "markdown",
   "id": "1e4cd4a6-a2bb-43f1-ad22-ba815a74f1a8",
   "metadata": {},
   "source": [
    "#### EN 1992-1-1 (2005)"
   ]
  },
  {
   "cell_type": "code",
   "execution_count": 265,
   "id": "4fa2094d-2b88-48d0-9981-fe93ff20ddc4",
   "metadata": {},
   "outputs": [],
   "source": [
    "def func_cwf_001a(data):\n",
    "\n",
    "    wm = np.zeros(data.shape[0]); wmax = np.zeros(data.shape[0]);\n",
    "    smax = np.zeros(data.shape[0]); sm = np.zeros(data.shape[0]);\n",
    "\n",
    "    beta = 1.7;\n",
    "    \n",
    "    for i in range(data.shape[0]):\n",
    "        if data[\"fsr\"].iloc[i] == 0 or data[\"fsr\"].iloc[i] == 2:\n",
    "        \n",
    "            # Calculation of coefficient k1\n",
    "            if data[\"Aptot\"].iloc[i] > 1 and data[\"Astot\"].iloc[i] < 1: # Filter case with only prestressing steel\n",
    "                k1 = 1.6;\n",
    "            else:\n",
    "                k1 = 0.8; # Ribbed surface\n",
    "            \n",
    "            # Calculation of coefficient k2\n",
    "            if data[\"epsin\"].iloc[i] == str(\"1a\"):\n",
    "                k2 = 1; # Zuivere trek\n",
    "            elif data[\"epsin\"].iloc[i] == str(2):\n",
    "                k2 = 0.5; # Zuivere buiging\n",
    "            elif data[\"epsin\"].iloc[i] == str(3):\n",
    "                k2 = (data[\"epsbot\"].iloc[i] + max(0,data[\"eps\"].iloc[i]))/(2*max(0,data[\"eps\"].iloc[i]));\n",
    "                \n",
    "            # Coefficient k3 and k4\n",
    "            k3 = 3.4; k4 = 0.425;\n",
    "    \n",
    "            # Long-term or short-term behavior\n",
    "            if data[\"t\"].iloc[i] <= timecutoff:\n",
    "                kt = 0.6; # Kortdurend\n",
    "            elif data[\"t\"].iloc[i] > timecutoff:\n",
    "                kt = 0.4; # Langdurend\n",
    "\n",
    "            #heff1 = 2.5*(data[\"h\"].iloc[i] - data[\"zstot\"].iloc[i]);\n",
    "            heff2 = (data[\"h\"].iloc[i] - data[\"xc\"].iloc[i])/3;\n",
    "            heff3 = data[\"h\"].iloc[i]/2;\n",
    "            \n",
    "            # Calculation of Aceff\n",
    "            if data[\"epsin\"].iloc[i] == str(\"1a\"):\n",
    "\n",
    "                heff1 = 2.5*data[\"ry\"].iloc[i]; # (h-d)\n",
    "                hceff = min(heff1,heff3)  + tol; # To prevent singularities;\n",
    "                \n",
    "                Aceff1 = quad(func_extract_width,data[\"h\"].iloc[i]-hceff,data[\"h\"].iloc[i],args=(data[\"b\"].iloc[i]))[0]; # Analyze bottom part\n",
    "                Aceff2 = quad(func_extract_width,0,hceff,args=(data[\"b\"].iloc[i]))[0]; # Analyze top part\n",
    "                Aceff = Aceff1 + Aceff2;\n",
    "            else:\n",
    "                heff1 = 2.5*(data[\"h\"].iloc[i] - data[\"zstottens\"].iloc[i])\n",
    "                hceff = min(heff1,heff2,heff3);\n",
    "                Aceff = quad(func_extract_width,data[\"h\"].iloc[i]-hceff,data[\"h\"].iloc[i],args=(data[\"b\"].iloc[i]))[0];\n",
    "            \n",
    "            # Calculation of the effective reinforcing area\n",
    "            Asefftemp = np.zeros(Ncond);\n",
    "            for j in range(Ncond):\n",
    "                if data[\"epsin\"].iloc[i] == str(\"1a\"):\n",
    "\n",
    "                    if data[\"indLR\"].iloc[i] < 1: # Single layer, centric\n",
    "                        Asefftemp[j] = (1/4)*np.pi*phi[i,j]**2;\n",
    "                    \n",
    "                    else:\n",
    "                        if zs[i,j] < hceff:\n",
    "                            #print(\"zs\",zs[i,j])\n",
    "                            Asefftemp[j] = 2*(phi[i,j]**2)*nbl[i,j]*(1/4)*np.pi; # Since there is symmetric reinforcement steel present\n",
    "                            \n",
    "                else:\n",
    "                    if zs[i,j] > data[\"h\"].iloc[i]-hceff:\n",
    "                        Asefftemp[j] = (phi[i,j]**2)*nbl[i,j]*(1/4)*np.pi;\n",
    "            Aseff = np.sum(Asefftemp);\n",
    "    \n",
    "            # Calculation of the equivalent diamater\n",
    "            phieqtemp_ni_phi_sqrt = np.zeros(Ncond);\n",
    "            phieqtemp_ni_phi = np.zeros(Ncond);\n",
    "            for j in range(Ncond):\n",
    "                if data[\"epsin\"].iloc[i] == str(\"1a\"):\n",
    "                    if zs[i,j] < hceff: \n",
    "                        phieqtemp_ni_phi_sqrt[j] = nbl[i,j]*phi[i,j]**2;\n",
    "                        phieqtemp_ni_phi[j] = nbl[i,j]*phi[i,j];\n",
    "                else:\n",
    "                    if zs[i,j] > data[\"h\"].iloc[i]-hceff:\n",
    "                        phieqtemp_ni_phi_sqrt[j] = nbl[i,j]*phi[i,j]**2;\n",
    "                        phieqtemp_ni_phi[j] = nbl[i,j]*phi[i,j];\n",
    "    \n",
    "            phi_eq = sum(phieqtemp_ni_phi_sqrt)/sum(phieqtemp_ni_phi);\n",
    "    \n",
    "            # Calculation of the effective prestressing area\n",
    "            Apefftemp = np.zeros(Ncond);\n",
    "            for j in range(Ncond):\n",
    "                if data[\"epsin\"].iloc[i] == str(\"1a\"): # Is not evalutated, there are no elements loaded in tension with prestressing\n",
    "                    Apefftemp[j] = Ap[i,j]*npl[i,j];\n",
    "                else:\n",
    "                    if zp[i,j] > data[\"h\"].iloc[i]-hceff:\n",
    "                        Apefftemp[j] = Ap[i,j]*npl[i,j];\n",
    "            Apeff = np.sum(Apefftemp);        \n",
    "            \n",
    "            # Calculation of rhoeff\n",
    "            if data[\"Astot\"].iloc[i] < 0.1:\n",
    "                rhoeff = (Aseff + np.sqrt(data[\"zeta\"].iloc[i])*Apeff)/Aceff;\n",
    "            else:\n",
    "                rhoeff = (Aseff + data[\"zeta1\"].iloc[i]*Apeff)/Aceff;\n",
    "    \n",
    "            diff_eps1 = (data[\"sigs\"].iloc[i] - kt*(data[\"fctm\"].iloc[i] / rhoeff)*(1 + data[\"ae\"].iloc[i]*rhoeff))/data[\"Es\"].iloc[i];\n",
    "            diff_eps2 = 0.6*data[\"sigs\"].iloc[i]/data[\"Es\"].iloc[i];\n",
    "\n",
    "            # - sign, since the initial shrinkage is considered as negative. -*- = +, including init. shrinkage leads to larger crack widths\n",
    "            if includeinitshrinkage == \"yes\":\n",
    "                diff_eps = max(diff_eps1,diff_eps2) - (1-kt)*data[\"shrinkage_init\"].iloc[i];\n",
    "            else:\n",
    "                diff_eps = max(diff_eps1,diff_eps2);\n",
    "            \n",
    "            if data[\"epsin\"].iloc[i] == str(\"1a\") and data[\"sxLR\"].iloc[i] <= 5*data[\"ry\"].iloc[i]:\n",
    "                srmax1 = k3*data[\"cy\"].iloc[i] + k1*k2*k4*phi_eq/rhoeff;\n",
    "            elif data[\"epsin\"].iloc[i] == str(\"2\"):\n",
    "                if data[\"sxLR\"].iloc[i] <= 5*data[\"ry\"].iloc[i]:\n",
    "                    srmax1 = k3*data[\"cy\"].iloc[i] + k1*k2*k4*phi_eq/rhoeff;\n",
    "                else:\n",
    "                    srmax1 = 1.3*(data[\"h\"].iloc[i]-data[\"xc\"].iloc[i]);\n",
    "\n",
    "            else:\n",
    "                srmax1 = 0;\n",
    "            \n",
    "            wmax[i] = srmax1*diff_eps;\n",
    "            wm[i] = wmax[i]/beta;\n",
    "            \n",
    "            if data[\"CS\"].iloc[i] == 2:\n",
    "                smax[i] = srmax1;\n",
    "                sm[i] = smax[i]/beta;\n",
    "    \n",
    "    return wm, wmax, sm, smax"
   ]
  },
  {
   "cell_type": "markdown",
   "id": "e58a3245-bfe9-4368-a167-cf854825a51b",
   "metadata": {},
   "source": [
    "#### CWF 001b: NEN-EN 1992-1-1 (Dutch National Annex) (2020)"
   ]
  },
  {
   "cell_type": "code",
   "execution_count": 266,
   "id": "ac4cbacf-2de0-4c59-b852-b8ae4c69ec40",
   "metadata": {},
   "outputs": [],
   "source": [
    "def func_cwf_001b(data):\n",
    "\n",
    "    wm = np.zeros(data.shape[0]); wmax = np.zeros(data.shape[0]);\n",
    "    smax = np.zeros(data.shape[0]); sm = np.zeros(data.shape[0]);\n",
    "\n",
    "    beta = 1.7;\n",
    "    \n",
    "    for i in range(data.shape[0]):\n",
    "\n",
    "        if data[\"fsr\"].iloc[i] == 0 or data[\"fsr\"].iloc[i] == 2:\n",
    "    \n",
    "            if data[\"Aptot\"].iloc[i] > 1 and data[\"Astot\"].iloc[i] < 1: # Filter case with only prestressing steel\n",
    "                k1 = 1.6; \n",
    "            else:\n",
    "                k1 = 0.8; # Ribbed surface\n",
    "            \n",
    "            # Calculation of coefficient k2\n",
    "            if data[\"epsin\"].iloc[i] == str(\"1a\"):\n",
    "                k2 = 1; # Pure tension\n",
    "            elif data[\"epsin\"].iloc[i] == str(2):\n",
    "                k2 = 0.5; # Pure bending\n",
    "            elif data[\"epsin\"].iloc[i] == str(3):\n",
    "                k2 = (data[\"epsbot\"].iloc[i] + max(0,data[\"eps\"].iloc[i]))/(2*max(0,data[\"eps\"].iloc[i]));\n",
    "                \n",
    "            # Coefficient k3 and k4\n",
    "            k3 = 3.4; k4 = 0.425;\n",
    "    \n",
    "            # Long-term or short-term behavior\n",
    "            if data[\"t\"].iloc[i] <= timecutoff:\n",
    "                kt = 0.6; # Kortdurend\n",
    "            elif data[\"t\"].iloc[i] > timecutoff:\n",
    "                kt = 0.4; # Langdurend\n",
    "    \n",
    "            #heff1 = 2.5*(data[\"h\"].iloc[i] - data[\"zstot\"].iloc[i]);\n",
    "            heff2 = (data[\"h\"].iloc[i] - data[\"xc\"].iloc[i])/3;\n",
    "            heff3 = data[\"h\"].iloc[i]/2;\n",
    "            \n",
    "           # Calculation of Aceff\n",
    "            if data[\"epsin\"].iloc[i] == str(\"1a\"):\n",
    "                #d = zs[i,data[\"indLR\"].iloc[i]]; # Select the lowest layer of reinforcing steel\n",
    "                d = data[\"zstottens\"].iloc[i];\n",
    "                #heff1 = 2.5*(data[\"h\"].iloc[i] - d);\n",
    "                heff1 = 2.5*data[\"ry\"].iloc[i];\n",
    "                hceff = min(heff1,heff3)  + tol; # To prevent singularities;\n",
    "\n",
    "                Aceff1 = quad(func_extract_width,data[\"h\"].iloc[i]-hceff,data[\"h\"].iloc[i],args=(data[\"b\"].iloc[i]))[0]; # Analyze bottom part\n",
    "                Aceff2 = quad(func_extract_width,0,hceff,args=(data[\"b\"].iloc[i]))[0]; # Analyze top part\n",
    "                Aceff = Aceff1 + Aceff2;\n",
    "            else:\n",
    "                heff1 = 2.5*(data[\"h\"].iloc[i] - data[\"zstottens\"].iloc[i])\n",
    "                hceff = min(heff1,heff2,heff3);\n",
    "                Aceff = quad(func_extract_width,data[\"h\"].iloc[i]-hceff,data[\"h\"].iloc[i],args=(data[\"b\"].iloc[i]))[0];\n",
    "            \n",
    "            # Calculation of the effective reinforcing area\n",
    "            Asefftemp = np.zeros(Ncond);\n",
    "            for j in range(Ncond):\n",
    "                if data[\"epsin\"].iloc[i] == str(\"1a\"):\n",
    "\n",
    "                    if data[\"indLR\"].iloc[i] < 1: # Single layer, centric\n",
    "                        Asefftemp[j] = (1/4)*np.pi*phi[i,j]**2;\n",
    "                    \n",
    "                    else:\n",
    "                        if zs[i,j] < hceff:\n",
    "                            #print(\"zs\",zs[i,j])\n",
    "                            Asefftemp[j] = 2*(phi[i,j]**2)*nbl[i,j]*(1/4)*np.pi; # Since there is symmetric reinforcement steel present\n",
    "                            \n",
    "                else:\n",
    "                    if zs[i,j] > data[\"h\"].iloc[i]-hceff:\n",
    "                        Asefftemp[j] = (phi[i,j]**2)*nbl[i,j]*(1/4)*np.pi;\n",
    "            Aseff = np.sum(Asefftemp);\n",
    "    \n",
    "            # Calculation of the equivalent diamater\n",
    "            phieqtemp_ni_phi_sqrt = np.zeros(Ncond);\n",
    "            phieqtemp_ni_phi = np.zeros(Ncond);\n",
    "            for j in range(Ncond):\n",
    "                if data[\"epsin\"].iloc[i] == str(\"1a\"):\n",
    "                    if zs[i,j] < hceff: \n",
    "                        phieqtemp_ni_phi_sqrt[j] = nbl[i,j]*phi[i,j]**2;\n",
    "                        phieqtemp_ni_phi[j] = nbl[i,j]*phi[i,j];\n",
    "                else:\n",
    "                    if zs[i,j] > data[\"h\"].iloc[i]-hceff:\n",
    "                        phieqtemp_ni_phi_sqrt[j] = nbl[i,j]*phi[i,j]**2;\n",
    "                        phieqtemp_ni_phi[j] = nbl[i,j]*phi[i,j];\n",
    "    \n",
    "            phi_eq = sum(phieqtemp_ni_phi_sqrt)/sum(phieqtemp_ni_phi);\n",
    "    \n",
    "            # Calculation of the effective prestressing area\n",
    "            Apefftemp = np.zeros(Ncond);\n",
    "            for j in range(Ncond):\n",
    "                if data[\"epsin\"].iloc[i] == str(\"1a\"):\n",
    "                    Apefftemp[j] = Ap[i,j]*npl[i,j];\n",
    "                else:\n",
    "                    if zp[i,j] > data[\"h\"].iloc[i]-hceff:\n",
    "                        Apefftemp[j] = Ap[i,j]*npl[i,j];\n",
    "            Apeff = np.sum(Apefftemp);        \n",
    "            \n",
    "            # Calculation of rhoeff\n",
    "            if data[\"Astot\"].iloc[i] < 0.1:\n",
    "                rhoeff = (Aseff + np.sqrt(data[\"zeta\"].iloc[i])*Apeff)/Aceff;\n",
    "            else:\n",
    "                rhoeff = (Aseff + data[\"zeta1\"].iloc[i]*Apeff)/Aceff;\n",
    "\n",
    "            diff_eps1 = (data[\"sigs\"].iloc[i] - kt*(data[\"fctm\"].iloc[i] / rhoeff)*(1 + data[\"ae\"].iloc[i]*rhoeff))/data[\"Es\"].iloc[i];\n",
    "            diff_eps2 = 0.6*data[\"sigs\"].iloc[i]/data[\"Es\"].iloc[i];           \n",
    "\n",
    "            # - sign, since the initial shrinkage is considered as negative. -*- = +, including init. shrinkage leads to larger crack widths\n",
    "            if includeinitshrinkage == \"yes\":\n",
    "                diff_eps = max(diff_eps1,diff_eps2) - (1-kt)*data[\"shrinkage_init\"].iloc[i];\n",
    "            else:\n",
    "                diff_eps = max(diff_eps1,diff_eps2);\n",
    "    \n",
    "            # Calculation of the maximum crack spacing\n",
    "\n",
    "            if data[\"epsin\"].iloc[i] == str(\"1a\") and data[\"sxLR\"].iloc[i] <= 5*data[\"ry\"].iloc[i]:\n",
    "                srmax1 = k3*data[\"cy\"].iloc[i] + k1*k2*k4*phi_eq/rhoeff;\n",
    "                srmax2 = max((50-0.8*(data[\"fcm\"].iloc[i]-8))*phi_eq,15*phi_eq);\n",
    "                srmax = min(srmax1,srmax2);\n",
    "            \n",
    "            elif data[\"epsin\"].iloc[i] == str(\"2\"):\n",
    "                if data[\"sxLR\"].iloc[i] <= 5*data[\"ry\"].iloc[i]:\n",
    "                    srmax1 = k3*data[\"cy\"].iloc[i] + k1*k2*k4*phi_eq/rhoeff;\n",
    "                    srmax2 = max((50-0.8*(data[\"fcm\"].iloc[i]-8))*phi_eq,15*phi_eq);\n",
    "                    srmax = min(srmax1,srmax2);\n",
    "                else:\n",
    "                    srmax = 1.3*(data[\"h\"].iloc[i]-data[\"xc\"].iloc[i]);\n",
    "            else:\n",
    "                srmax = 0;\n",
    "\n",
    "            srmaxtemp = srmax;\n",
    "\n",
    "            wmax[i] = srmaxtemp*diff_eps;\n",
    "            wm[i] = wmax[i]/beta;\n",
    "\n",
    "            if data[\"CS\"].iloc[i] == 2:\n",
    "                smax[i] = srmaxtemp;\n",
    "                sm[i] = smax[i]/beta;\n",
    "\n",
    "    return wm, wmax, sm, smax"
   ]
  },
  {
   "cell_type": "markdown",
   "id": "9805a86b-2218-4c29-94ce-37615f204836",
   "metadata": {},
   "source": [
    "#### CWF 002: EN 1992-1-1 (2023)"
   ]
  },
  {
   "cell_type": "markdown",
   "id": "291a8601-b98a-44af-90e1-5e12c7473261",
   "metadata": {},
   "source": [
    "##### Eqs. (9.8, 9.11, 9.15)"
   ]
  },
  {
   "cell_type": "code",
   "execution_count": 267,
   "id": "59f7eee2-9c18-449b-a816-fc3fa098b508",
   "metadata": {},
   "outputs": [],
   "source": [
    "def func_cwf_002_ID_2(data):\n",
    "\n",
    "    wm = np.zeros(data.shape[0]); wmax = np.zeros(data.shape[0]);\n",
    "    smax = np.zeros(data.shape[0]); sm = np.zeros(data.shape[0]);\n",
    "\n",
    "    kw = 1.7; # Factor to convert a mean crack width into a calculated crack width\n",
    "    \n",
    "    for i in range(data.shape[0]):\n",
    "        \n",
    "        if data[\"fsr\"].iloc[i] == 2: # This formula can only be used in the case of ribbed steel\n",
    "\n",
    "            c = max(data[\"cy\"].iloc[i] - data[\"phiw\"].iloc[i],clat[i,data[\"indLR\"].iloc[i]] - data[\"phiw\"].iloc[i]);\n",
    "            \n",
    "            # Curvature effect --> applies only in case of pure bending, or combination of bending and tension\n",
    "            if data[\"epsin\"].iloc[i] == str(2) or data[\"epsin\"].iloc[i] == str(3):\n",
    "                if data[\"locw\"].iloc[i] == 2:\n",
    "                    kr = (data[\"h\"].iloc[i]-data[\"xc\"].iloc[i])/(data[\"h\"].iloc[i]-data[\"xc\"].iloc[i]-data[\"ry\"].iloc[i]);\n",
    "                else:\n",
    "                    kr = 1;\n",
    "            \n",
    "            elif data[\"epsin\"].iloc[i] == str(\"1a\"): # Address the pure tensioned case --> since there is no curvature\n",
    "                kr = 1;\n",
    "            \n",
    "            # Long-term or short-term behavior\n",
    "            if data[\"t\"].iloc[i] <= timecutoff:\n",
    "                kt = 0.6; # Kortdurend\n",
    "            elif data[\"t\"].iloc[i] > timecutoff or data[\"Nrep\"].iloc[i] > Nrepcutoff:\n",
    "                kt = 0.4; # Langdurend\n",
    "        \n",
    "            # Factor (analogue to the strain distribution in over the concrete, in the effective concrete area)\n",
    "            if data[\"epsin\"].iloc[i] == str(\"1a\") or data[\"epsin\"].iloc[i] == str(\"1b\"):\n",
    "                kfl = 1;\n",
    "            else:\n",
    "                kfl = (1/2)*(1 + ( data[\"h\"].iloc[i] - data[\"cog\"].iloc[i] - data[\"hceff_FPR\"].iloc[i] ) / ( data[\"h\"].iloc[i] - data[\"cog\"].iloc[i] ));\n",
    "    \n",
    "            # Factor, considering the bond (1 = good, 2 = bad)\n",
    "            if data[\"bondLR\"].iloc[i] == 1: # Consider good bond conditions\n",
    "                kb = 0.9;\n",
    "            else:\n",
    "                kb = 1.2;\n",
    "            \n",
    "            diff_eps1 = (data[\"sigs\"].iloc[i] - kt*(data[\"fctm\"].iloc[i] / \\\n",
    "                                                    data[\"rhoeff_FPR\"].iloc[i])*(1 + data[\"ae\"].iloc[i]*data[\"rhoeff_FPR\"].iloc[i]))/data[\"Es\"].iloc[i];\n",
    "            diff_eps2 = (1-kt)*data[\"sigs\"].iloc[i]/data[\"Es\"].iloc[i];\n",
    "            \n",
    "            # - sign, since the initial shrinkage is considered as negative. -*- = +, including init. shrinkage leads to larger crack widths\n",
    "            if includeinitshrinkage == \"yes\":\n",
    "                diff_eps = max(diff_eps1,diff_eps2) - (1-kt)*data[\"shrinkage_init\"].iloc[i];\n",
    "            else:\n",
    "                diff_eps = max(diff_eps1,diff_eps2);\n",
    "\n",
    "            sm1 = 1.5*c + (kb*kfl/7.2)*(data[\"phi_eq_FPR\"].iloc[i]/data[\"rhoeff_FPR\"].iloc[i]);\n",
    "            \n",
    "            if data[\"epsin\"].iloc[i] == str(\"1a\"):\n",
    "                smtemp = sm1;\n",
    "            elif data[\"epsin\"].iloc[i] == str(\"2\"):\n",
    "                sm2 = (1.3/kw)*(data[\"h\"].iloc[i]-data[\"xc\"].iloc[i]);\n",
    "                smtemp = min(sm1,sm2);\n",
    "    \n",
    "            # Finally, calculate the final crack width\n",
    "            wmax[i] = kw*kr*smtemp*diff_eps;\n",
    "            wm[i] = kr*smtemp*diff_eps;\n",
    "\n",
    "            # Output only the crack spacing if there is a stabilized cracking stage\n",
    "            if data[\"CS\"].iloc[i] == 2:               \n",
    "                sm[i] = smtemp;\n",
    "\n",
    "                if uniformtargets == \"yes\":\n",
    "                    smax[i] = sm[i]/data[\"r\"].iloc[i];\n",
    "    \n",
    "    return wm, wmax, sm, smax"
   ]
  },
  {
   "cell_type": "markdown",
   "id": "c561fac3-fecd-483e-b7e0-eebc9c66fbf2",
   "metadata": {},
   "source": [
    "#### CWF 006: fib MC 2010"
   ]
  },
  {
   "cell_type": "markdown",
   "id": "1ecd81d2-ec0c-40f4-b613-c5547f52e77a",
   "metadata": {},
   "source": [
    "##### Eqs. (7.6-2, 7.6-3)"
   ]
  },
  {
   "cell_type": "code",
   "execution_count": 268,
   "id": "8335317e",
   "metadata": {},
   "outputs": [],
   "source": [
    "def func_cwf_006(data):\n",
    "\n",
    "    wm = np.zeros(data.shape[0]); wmax = np.zeros(data.shape[0]);\n",
    "    smax = np.zeros(data.shape[0]); sm = np.zeros(data.shape[0]);\n",
    "\n",
    "    for i in range(data.shape[0]):\n",
    "        \n",
    "        if data[\"fsr\"].iloc[i] == 2: \n",
    "        \n",
    "            # Coefficient k3 and k4\n",
    "            k3 = 1;\n",
    "            \n",
    "            # Long-term or short-term behavior\n",
    "            if data[\"t\"].iloc[i] <= timecutoff:\n",
    "                kt = 0.6; # Short-term\n",
    "            elif data[\"t\"].iloc[i] > timecutoff:\n",
    "                kt = 0.4; # Long-term   \n",
    "\n",
    "            heff3 = data[\"h\"].iloc[i]/2;\n",
    "                \n",
    "            # Calculation of Aceff\n",
    "            if data[\"epsin\"].iloc[i] == str(\"1a\"):\n",
    "                heff1 = 2.5*(data[\"h\"].iloc[i] - zs[i,data[\"indLR\"].iloc[i]]);\n",
    "                heff2 = data[\"h\"].iloc[i] / 2 + tol; # + 0.1 to prevent singularities\n",
    "                \n",
    "                hceff = min(heff1,heff2)\n",
    "                Aceff1 = quad(func_extract_width,data[\"h\"].iloc[i]-hceff,data[\"h\"].iloc[i],args=(data[\"b\"].iloc[i]))[0]; # Analyze top part\n",
    "                Aceff2 = quad(func_extract_width,0,hceff,args=(data[\"b\"].iloc[i]))[0]; # Analyze bottom part\n",
    "                Aceff = Aceff1 + Aceff2;\n",
    "                \n",
    "            else:\n",
    "                # Beam\n",
    "                if data[\"h\"].iloc[i] > 200:\n",
    "                    #heff1 = 2.5*(data[\"h\"].iloc[i] - data[\"zstottens\"].iloc[i]);\n",
    "                    heff1 = 2.5*data[\"ry\"].iloc[i];\n",
    "                    heff2 = (data[\"h\"].iloc[i] - data[\"xc\"].iloc[i])/3;\n",
    "                    hceff = min(heff1,heff2);\n",
    "                    Aceff = quad(func_extract_width,data[\"h\"].iloc[i]-hceff,data[\"h\"].iloc[i],args=(data[\"b\"].iloc[i]))[0];\n",
    "                else:\n",
    "                # Slab\n",
    "                    heff1 = 2.5*(data[\"cy\"].iloc[i]+phi[i,data[\"indLR\"].iloc[i]]/2);\n",
    "                    heff2 = (data[\"h\"].iloc[i] - data[\"xc\"].iloc[i])/3;\n",
    "                    hceff = min(heff1,heff2);\n",
    "                    Aceff = quad(func_extract_width,data[\"h\"].iloc[i]-hceff,data[\"h\"].iloc[i],args=(data[\"b\"].iloc[i]))[0];\n",
    "            \n",
    "            # Calculation of the effective reinforcing area\n",
    "            Asefftemp = np.zeros(Ncond);\n",
    "            for j in range(Ncond):\n",
    "                if data[\"epsin\"].iloc[i] == str(\"1a\"):\n",
    "                    #print(\"hceff\",hceff);\n",
    "\n",
    "                    if data[\"indLR\"].iloc[i] < 1: # Single layer, centric\n",
    "                        Asefftemp[j] = (1/4)*np.pi*phi[i,j]**2;\n",
    "                    \n",
    "                    else:\n",
    "                        if zs[i,j] < hceff+tol:\n",
    "                            #print(\"zs\",zs[i,j])\n",
    "                            Asefftemp[j] = 2*(phi[i,j]**2)*nbl[i,j]*(1/4)*np.pi; # Since there is symmetric reinforcement steel present\n",
    "                            \n",
    "                else:\n",
    "                    if zs[i,j] > data[\"h\"].iloc[i]-hceff:\n",
    "                        Asefftemp[j] = (phi[i,j]**2)*nbl[i,j]*(1/4)*np.pi;\n",
    "            Aseff = np.sum(Asefftemp);\n",
    "        \n",
    "            # Calculation of the equivalent diamater\n",
    "            phieqtemp_ni_phi_sqrt = np.zeros(Ncond);\n",
    "            phieqtemp_ni_phi = np.zeros(Ncond);\n",
    "            for j in range(Ncond):\n",
    "                if data[\"epsin\"].iloc[i] == str(\"1a\"):\n",
    "                    if zs[i,j] < hceff: \n",
    "                        phieqtemp_ni_phi_sqrt[j] = nbl[i,j]*phi[i,j]**2;\n",
    "                        phieqtemp_ni_phi[j] = nbl[i,j]*phi[i,j];\n",
    "                else:\n",
    "                    if zs[i,j] > data[\"h\"].iloc[i]-hceff:\n",
    "                        phieqtemp_ni_phi_sqrt[j] = nbl[i,j]*phi[i,j]**2;\n",
    "                        phieqtemp_ni_phi[j] = nbl[i,j]*phi[i,j];\n",
    "    \n",
    "            phi_eq = sum(phieqtemp_ni_phi_sqrt)/sum(phieqtemp_ni_phi);\n",
    "    \n",
    "            # Calculation of the effective prestressing area\n",
    "            Apefftemp = np.zeros(Ncond);\n",
    "            for j in range(Ncond):\n",
    "                if data[\"epsin\"].iloc[i] == str(\"1a\"):\n",
    "                    Apefftemp[j] = Ap[i,j]*npl[i,j];\n",
    "                else:\n",
    "                    if zp[i,j] > data[\"h\"].iloc[i]-hceff:\n",
    "                        Apefftemp[j] = Ap[i,j]*npl[i,j];\n",
    "            Apeff = np.sum(Apefftemp);       \n",
    "            \n",
    "            # Calculation of rhoeff\n",
    "            if data[\"Astot\"].iloc[i] < 0.1:\n",
    "                rhoeff = (Aseff + ((data[\"zeta\"].iloc[i])**2)*Apeff)/Aceff; # This is my own interpretation, in analogy of FprEN1992\n",
    "            else:\n",
    "                rhoeff = (Aseff + ((data[\"zeta1\"].iloc[i])**2)*Apeff)/Aceff;\n",
    "\n",
    "            sigsr = (data[\"fctm\"].iloc[i]/rhoeff)*(1+data[\"ae\"].iloc[i]*rhoeff);\n",
    "            \n",
    "            if includeinitshrinkage == \"yes\":\n",
    "                diff_eps = (data[\"sigs\"].iloc[i] - kt*sigsr) /data[\"Es\"].iloc[i] - (1-kt)*data[\"shrinkage_init\"].iloc[i];\n",
    "            else:\n",
    "                diff_eps = (data[\"sigs\"].iloc[i] - kt*sigsr) /data[\"Es\"].iloc[i];\n",
    "            \n",
    "            lsmax = k3*data[\"cy\"].iloc[i] + (1/4)*data[\"fctm\"].iloc[i]/data[\"tau_bms\"].iloc[i] * phi_eq/rhoeff;\n",
    "    \n",
    "            if data[\"locw\"].iloc[i] == 1 and data[\"epsin\"].iloc[i] == str(2) or data[\"epsin\"].iloc[i] == str(3):\n",
    "                wmax[i] = 2*lsmax*diff_eps;\n",
    "    \n",
    "            elif data[\"locw\"].iloc[i] == 2 and data[\"epsin\"].iloc[i] == str(2) or data[\"epsin\"].iloc[i] == str(3):\n",
    "                R = (data[\"h\"].iloc[i] - data[\"xc\"].iloc[i])/(data[\"zstottens\"].iloc[i] - data[\"xc\"].iloc[i]);\n",
    "                wmax[i] = 2*lsmax*diff_eps*R;\n",
    "    \n",
    "            if data[\"epsin\"].iloc[i] == str(\"1a\"):\n",
    "                wmax[i] = 2*lsmax*diff_eps;\n",
    "            \n",
    "            if data[\"CS\"].iloc[i] == 2:\n",
    "                smax[i] = 2*lsmax;\n",
    "    \n",
    "    return wm, wmax, sm, smax"
   ]
  },
  {
   "cell_type": "markdown",
   "id": "b4dcd527-9dff-479a-83dd-081f4a7a0d7b",
   "metadata": {},
   "source": [
    "#### CWF 007: fib MC 2020"
   ]
  },
  {
   "cell_type": "markdown",
   "id": "be1b0413-9bd7-4768-97c5-debe88cc8562",
   "metadata": {},
   "source": [
    "##### Eqs. (30.5-2, 30.5-3, 30.5-5, 30.5-13)"
   ]
  },
  {
   "cell_type": "code",
   "execution_count": 269,
   "id": "4d5fc8a1",
   "metadata": {},
   "outputs": [],
   "source": [
    "def func_cwf_007(data):\n",
    "\n",
    "    wm = np.zeros(data.shape[0]); wmax = np.zeros(data.shape[0]);\n",
    "    smax = np.zeros(data.shape[0]); sm = np.zeros(data.shape[0]);\n",
    "    \n",
    "    for i in range(data.shape[0]):\n",
    "        \n",
    "        if data[\"fsr\"].iloc[i] == 2: # This formula can only be used in the case of ribbed steel\n",
    "            \n",
    "            # factor to convert sm to srmax\n",
    "            if data[\"CS\"].iloc[i] == 1: # CFS\n",
    "                kw = 2;\n",
    "            else: # Address SCS\n",
    "                kw = 1.7;\n",
    "            \n",
    "            # Curvature effect --> applies only in case of pure bending, or combination of bending and tension\n",
    "            if data[\"epsin\"].iloc[i] == str(2) or data[\"epsin\"].iloc[i] == str(3) :\n",
    "                if data[\"locw\"].iloc[i] == 2:\n",
    "                    kr = (data[\"h\"].iloc[i]-data[\"xc\"].iloc[i])/(data[\"zstottens\"].iloc[i]-data[\"xc\"].iloc[i]);\n",
    "                else:\n",
    "                    kr = 1;\n",
    "            \n",
    "            else: # Address the pure tensioned case --> since there is no curvature\n",
    "                kr = 1;\n",
    "            \n",
    "            # Long-term or short-term behavior\n",
    "            if data[\"t\"].iloc[i] <= timecutoff:\n",
    "                kt = 0.6; # Kortdurend\n",
    "            elif data[\"t\"].iloc[i] > timecutoff or data[\"Nrep\"].iloc[i] > Nrepcutoff:\n",
    "                kt = 0.4; # Langdurend\n",
    "        \n",
    "            # Factor (analogue to the strain distribution in over the concrete, in the effective concrete area)\n",
    "            if data[\"epsin\"].iloc[i] == str(\"1a\") or data[\"epsin\"].iloc[i] == str(\"1b\"):\n",
    "                kfl = 1;\n",
    "            else:\n",
    "                kfl = (1/2)*(1 + ( data[\"h\"].iloc[i] - data[\"cog\"].iloc[i] - data[\"hceff_MC2020\"].iloc[i] ) / ( data[\"h\"].iloc[i] - data[\"cog\"].iloc[i] ));\n",
    "    \n",
    "            # Factor, considering the bond (1 = good, 2 = bad)\n",
    "            if data[\"bondLR\"].iloc[i] == 1: # Consider good bond conditions\n",
    "                kb = 0.9;\n",
    "            else:\n",
    "                kb = 1.2;\n",
    "            \n",
    "            diff_eps1 = (data[\"sigs\"].iloc[i] - kt*(data[\"fctm\"].iloc[i] / \\\n",
    "                                                    data[\"rhoeff_MC2020\"].iloc[i])*(1 + data[\"ae\"].iloc[i]*data[\"rhoeff_MC2020\"].iloc[i]))/data[\"Es\"].iloc[i];\n",
    "            diff_eps2 = (1-kt)*data[\"sigs\"].iloc[i]/data[\"Es\"].iloc[i];\n",
    "\n",
    "            c = max(data[\"cy\"].iloc[i] - data[\"phiw\"].iloc[i],clat[i,data[\"indLR\"].iloc[i]] - data[\"phiw\"].iloc[i]);\n",
    "            # Calculation of the mean final crack spacing\n",
    "            k_phi_rho = 0.25;\n",
    "\n",
    "            smtemp = 1.5*c +\\\n",
    "                    (kb*kfl*k_phi_rho)*( data[\"fctm\"].iloc[i]*data[\"phi_eq_MC2020\"].iloc[i]) / (data[\"tau_bms\"].iloc[i]*data[\"rhoeff_MC2020\"].iloc[i] );\n",
    "            \n",
    "            # - sign, since the initial shrinkage is considered as negative. -*- = +, including init. shrinkage leads to larger crack widths\n",
    "            if includeinitshrinkage == \"yes\":\n",
    "                diff_eps = max(diff_eps1,diff_eps2) - (1-kt)*data[\"shrinkage_init\"].iloc[i];\n",
    "            else:\n",
    "                diff_eps = max(diff_eps1,diff_eps2);\n",
    "\n",
    "            # Finally, calculate the final crack width\n",
    "            wmax[i] = kw*kr*smtemp*diff_eps;\n",
    "            wm[i] = kr*smtemp*diff_eps;\n",
    "\n",
    "            if data[\"CS\"].iloc[i] == 2: # Output only a crack spacing in the SCS\n",
    "                sm[i] = smtemp;\n",
    "                smax[i] = kw*smtemp;\n",
    "        \n",
    "    return wm, wmax, sm, smax"
   ]
  },
  {
   "cell_type": "markdown",
   "id": "9032d20e-02b7-4de8-bf9f-e8463cc9d63c",
   "metadata": {},
   "source": [
    "#### CWF 012: Noakowksi"
   ]
  },
  {
   "cell_type": "code",
   "execution_count": 270,
   "id": "01cf692d-a732-4e11-8ebf-684dd8364213",
   "metadata": {},
   "outputs": [],
   "source": [
    "def func_cwf_012(data):\n",
    "\n",
    "    wm = np.zeros(data.shape[0]); wmax = np.zeros(data.shape[0]);\n",
    "    smax = np.zeros(data.shape[0]); sm = np.zeros(data.shape[0]);\n",
    "\n",
    "    beta = 1.5;\n",
    "    \n",
    "    for i in range(data.shape[0]):\n",
    "\n",
    "        if data[\"Aptot\"].iloc[i] < 0.1 and data[\"fsr\"].iloc[i] == 2:\n",
    "            \n",
    "            rho_L = data[\"Astot\"].iloc[i]/data[\"Ac\"].iloc[i];\n",
    "    \n",
    "            phieqtemp_ni_phi_sqrt = np.zeros(Ncond);\n",
    "            phieqtemp_ni_phi = np.zeros(Ncond);\n",
    "            if data[\"epsin\"].iloc[i] == str(\"1a\"):\n",
    "                for j in range(Ncond):\n",
    "                    if zs[i,j] > tol:\n",
    "                        phieqtemp_ni_phi_sqrt[j] = nbl[i,j]*phi[i,j]**2;\n",
    "                        phieqtemp_ni_phi[j] = nbl[i,j]*phi[i,j];\n",
    "                \n",
    "                phi_eq = sum(phieqtemp_ni_phi_sqrt)/sum(phieqtemp_ni_phi); \n",
    "            \n",
    "            elif data[\"epsin\"].iloc[i] == str(\"2\"):\n",
    "                for j in range(Ncond):\n",
    "                    if zs[i,j] > data[\"h\"].iloc[i] - data[\"xc\"].iloc[i]:\n",
    "                        phieqtemp_ni_phi_sqrt[j] = nbl[i,j]*phi[i,j]**2;\n",
    "                        phieqtemp_ni_phi[j] = nbl[i,j]*phi[i,j];\n",
    "                \n",
    "                phi_eq = sum(phieqtemp_ni_phi_sqrt)/sum(phieqtemp_ni_phi);\n",
    "\n",
    "            if data[\"epsin\"].iloc[i] == str(\"1a\"):\n",
    "                k1 = 0.5;\n",
    "            elif data[\"epsin\"].iloc[i] == str(\"2\"):\n",
    "                k1 = 0.22;    \n",
    "            \n",
    "            if data[\"CS\"].iloc[i] == 1: # Address the crack formation stage\n",
    "                CE = 1;\n",
    "            elif data[\"CS\"].iloc[i] == 2:\n",
    "                CE = 0.75;\n",
    "                \n",
    "            a1 = 3.1*(((((k1*data[\"fctm\"].iloc[i]/rho_L)**0.88) * phi_eq) / (data[\"fcm_cube_150\"].iloc[i]**0.66))**0.89);\n",
    "            \n",
    "            if includeinitshrinkage == \"yes\":\n",
    "                wmax[i] = beta*CE*a1*(((data[\"sigs\"].iloc[i]-CE*0.56*(k1*data[\"fctm\"].iloc[i]/rho_L))/data[\"Es\"].iloc[i]) - CE*0.56*data[\"shrinkage_init\"].iloc[i]);\n",
    "                wm[i] = CE*a1*((data[\"sigs\"].iloc[i]-CE*0.56*(k1*data[\"fctm\"].iloc[i]/rho_L))/data[\"Es\"].iloc[i] - CE*0.56*data[\"shrinkage_init\"].iloc[i]);\n",
    "                \n",
    "            elif includeinitshrinkage == \"no\":\n",
    "                wmax[i] = beta*CE*a1*((data[\"sigs\"].iloc[i]-CE*0.56*(k1*data[\"fctm\"].iloc[i]/rho_L))/data[\"Es\"].iloc[i]);\n",
    "                wm[i] = CE*a1*((data[\"sigs\"].iloc[i]-CE*0.56*(k1*data[\"fctm\"].iloc[i]/rho_L))/data[\"Es\"].iloc[i]);\n",
    "            \n",
    "            if data[\"CS\"].iloc[i] == 2:\n",
    "                sm[i] = a1*CE;\n",
    "                smax[i] = sm[i]/data[\"r\"].iloc[i];\n",
    "    \n",
    "    return wm, wmax, sm, smax"
   ]
  },
  {
   "cell_type": "markdown",
   "id": "ac621f20-84fe-4c51-bd5a-42540e36d7a1",
   "metadata": {},
   "source": [
    "#### CWF 038: JSCE"
   ]
  },
  {
   "cell_type": "code",
   "execution_count": 271,
   "id": "5dcab53b-b1b4-4575-8582-d21dd22706a8",
   "metadata": {},
   "outputs": [],
   "source": [
    "def func_cwf_038(data):\n",
    "\n",
    "    wm = np.zeros(data.shape[0]); wmax = np.zeros(data.shape[0]);\n",
    "    smax = np.zeros(data.shape[0]); sm = np.zeros(data.shape[0]);\n",
    "\n",
    "    for i in range(data.shape[0]):\n",
    "\n",
    "        # Calculation of k1\n",
    "        if data[\"fsr\"].iloc[i] == 1: # Plain steel\n",
    "            k1 = 1.3;\n",
    "        elif data[\"fsr\"].iloc[i] == 2: # Ribbed steel\n",
    "            k1 = 1;\n",
    "        elif data[\"fsr\"].iloc[i] == 0 and data[\"Aptot\"].iloc[i] > 1: # Only prestressing steel available\n",
    "            k1 = 1.3;\n",
    "\n",
    "        # Calculation of k2\n",
    "        fcd = (data[\"fcm\"].iloc[i]-8)/1.5;\n",
    "        k2 = 15/(fcd+20) + 0.7;\n",
    "\n",
    "        # Calculation of k3 (number of layers within tension zone)\n",
    "        layerind = np.zeros(Ncond);\n",
    "        phieqtemp_ni_phi_sqrt = np.zeros(Ncond);\n",
    "        phieqtemp_ni_phi = np.zeros(Ncond);\n",
    "\n",
    "        if data[\"epsin\"].iloc[i] == \"1a\":\n",
    "            for j in range(Ncond):\n",
    "                if zs[i,j] > tol: # Cound + 1 in case there is reinforcing steel present\n",
    "                    layerind[j] = 1;\n",
    "                    phieqtemp_ni_phi[j] = nbl[i,j]*phi[i,j];\n",
    "                    phieqtemp_ni_phi_sqrt[j] = nbl[i,j]*phi[i,j]**2;\n",
    "        elif data[\"epsin\"].iloc[i] == str(\"2\") or data[\"epsin\"].iloc[i] == str(\"3\"):\n",
    "            for j in range(Ncond):\n",
    "                if zs[i,j] > data[\"xc\"].iloc[i]:\n",
    "                    layerind[j] = 1; # Count 1 in case layer is within tensile zone            \n",
    "                    phieqtemp_ni_phi[j] = nbl[i,j]*phi[i,j];\n",
    "                    phieqtemp_ni_phi_sqrt[j] = nbl[i,j]*phi[i,j]**2;\n",
    "        \n",
    "        nlayer = np.sum(layerind);\n",
    "        k3 = 5*(nlayer + 2)/(7*nlayer + 8);\n",
    "\n",
    "        phi_eq = sum(phieqtemp_ni_phi_sqrt)/sum(phieqtemp_ni_phi);\n",
    "        \n",
    "        if data[\"Aptot\"].iloc[i] < 0.1 and data[\"epsin\"].iloc[i] == str(\"2\"): # The formula is only valid for reinforcing steel and pure bending\n",
    "           # Address the reinforcing case\n",
    "            \n",
    "            smaxtemp = 1.1*k1*k2*k3*(4*data[\"cy\"].iloc[i] + 0.7*(data[\"sxLR\"].iloc[i]-phi_eq));\n",
    "            if includeinitshrinkage == \"yes\":\n",
    "                wmax[i] = smaxtemp*(data[\"sigs\"].iloc[i]/data[\"Es\"].iloc[i] - data[\"shrinkage_init\"].iloc[i]);\n",
    "            else:\n",
    "                wmax[i] = smaxtemp*(data[\"sigs\"].iloc[i]/data[\"Es\"].iloc[i]);\n",
    "\n",
    "            if data[\"CS\"].iloc[i] == 2:\n",
    "                smax[i] = smaxtemp;\n",
    "\n",
    "    return wm, wmax, sm, smax "
   ]
  },
  {
   "cell_type": "markdown",
   "id": "217280e8-eca7-445a-9436-379464911235",
   "metadata": {},
   "source": [
    "#### CWF 047: Oh and Kang"
   ]
  },
  {
   "cell_type": "code",
   "execution_count": 272,
   "id": "21a2eaa5-c934-4d81-82b3-110d33b02498",
   "metadata": {},
   "outputs": [],
   "source": [
    "def func_cwf_047(data):\n",
    "\n",
    "    wm = np.zeros(data.shape[0]); wmax = np.zeros(data.shape[0]);\n",
    "    smax = np.zeros(data.shape[0]); sm = np.zeros(data.shape[0]);\n",
    "    \n",
    "    for i in range(data.shape[0]):\n",
    "\n",
    "        if data[\"Aptot\"].iloc[i] < 0.1 and data[\"epsin\"].iloc[i] == str(\"2\") and data[\"fsr\"].iloc[i] == 2 and data[\"Astot\"].iloc[i] > 0.1:\n",
    "        # The formula is only valid for reinforcing steel \n",
    "            b_top_eff = func_extract_width(0.4*data[\"h\"].iloc[i],data[\"b\"].iloc[i]); # Section width at top of effective zone\n",
    "            b_bot_eff = func_extract_width(data[\"h\"].iloc[i]-tol,data[\"b\"].iloc[i]); # Section width at top of effective zone\n",
    "\n",
    "            db = b_top_eff - b_bot_eff\n",
    "\n",
    "            # Analyze only sections where the effective area has a rectangular shape\n",
    "            if db < tol:\n",
    "    \n",
    "                # Curvature effect\n",
    "                if data[\"locw\"].iloc[i] == 2:\n",
    "                    R = (data[\"h\"].iloc[i] - data[\"xc\"].iloc[i])/(data[\"zstottens\"].iloc[i] - data[\"xc\"].iloc[i] );\n",
    "                else: # Doesn't actually matter; since Oh and Kang is only allowed to analyze at most tensioned fibre\n",
    "                    R = 1;\n",
    "        \n",
    "                # Calculation of Aceff\n",
    "                b = func_extract_width(data[\"h\"].iloc[i]-tol,data[\"b\"].iloc[i]);\n",
    "                heff = ((data[\"h\"].iloc[i]-data[\"xc\"].iloc[i])**3)/(3*(data[\"h\"].iloc[i]-data[\"ry\"].iloc[i]-data[\"xc\"].iloc[i])**2);\n",
    "                Aceff = b*heff;\n",
    "        \n",
    "                # Calculation of the number of bars in the effective concrete area\n",
    "                ntemp = np.zeros(Ncond);\n",
    "                Astemp = np.zeros(Ncond);\n",
    "                for j in range(Ncond):\n",
    "                    if zs[i,j] > data[\"h\"].iloc[i] - heff:\n",
    "                        ntemp[j] = nbl[i,j];\n",
    "                        Astemp[j] = nbl[i,j]*(1/4)*np.pi*phi[i,j]**2;\n",
    "                nbars = np.sum(ntemp);\n",
    "                As = np.sum(Astemp);\n",
    "    \n",
    "                # Calculation of the equivalent diameter\n",
    "                phieqtemp_ni_phi_sqrt = np.zeros(Ncond);\n",
    "                phieqtemp_ni_phi = np.zeros(Ncond);\n",
    "                for j in range(Ncond):\n",
    "                    if zs[i,j] > data[\"h\"].iloc[i] - heff:\n",
    "                        phieqtemp_ni_phi_sqrt[j] = nbl[i,j]*phi[i,j]**2;\n",
    "                        phieqtemp_ni_phi[j] = nbl[i,j]*phi[i,j];\n",
    "                \n",
    "                phi_eq = sum(phieqtemp_ni_phi_sqrt)/sum(phieqtemp_ni_phi);\n",
    "\n",
    "                rhoeff = As/Aceff;\n",
    "                    \n",
    "                # Calculation of the crack width\n",
    "                if includeinitshrinkage == \"yes\":\n",
    "                    wmax[i] = phi_eq * ((159*((data[\"ry\"].iloc[i])/(data[\"h\"].iloc[i]-data[\"xc\"].iloc[i]))**4.5) +\\\n",
    "                                      2.83*(Aceff/(As))**(1/3))*((data[\"sigs\"].iloc[i]/data[\"Es\"].iloc[i])-0.0002-data[\"shrinkage_init\"].iloc[i])*R;\n",
    "                else:\n",
    "                    wmax[i] = phi_eq * ((159*((data[\"ry\"].iloc[i])/(data[\"h\"].iloc[i]-data[\"xc\"].iloc[i]))**4.5) +\\\n",
    "                                      2.83*(Aceff/(As))**(1/3))*((data[\"sigs\"].iloc[i]/data[\"Es\"].iloc[i])-0.0002)*R;\n",
    "    \n",
    "                # Calculation of the mean crack spacing\n",
    "                c0 = 25.7*((data[\"ry\"].iloc[i]/(data[\"h\"].iloc[i]-data[\"xc\"].iloc[i]))**4.5) +\\\n",
    "                    1.66*(Aceff/(As))**(1/3);\n",
    "                eps_s = data[\"sigs\"].iloc[i] / data[\"Es\"].iloc[i];\n",
    "\n",
    "                if data[\"CS\"].iloc[i] == 2:\n",
    "                    sm[i] = phi_eq*(c0 + (0.236*10**(-6))/(eps_s**2));\n",
    "\n",
    "                    if uniformtargets == \"yes\":\n",
    "                        smax[i] = sm[i]/data[\"r\"].iloc[i];\n",
    "    \n",
    "    return wm, wmax, sm, smax   "
   ]
  },
  {
   "cell_type": "markdown",
   "id": "ae3811f0-19c5-4e84-9f2a-d16c5ecdd678",
   "metadata": {},
   "source": [
    "#### CWF 053: Gergely and Lutz"
   ]
  },
  {
   "cell_type": "code",
   "execution_count": 273,
   "id": "99d8183d-fb4b-410c-b591-5876eb313e1d",
   "metadata": {},
   "outputs": [],
   "source": [
    "def func_cwf_053(data):\n",
    "    \n",
    "    wm = np.zeros(data.shape[0]); wmax = np.zeros(data.shape[0]);\n",
    "    smax = np.zeros(data.shape[0]); sm = np.zeros(data.shape[0]);\n",
    "\n",
    "    tol = 0.1;\n",
    "    \n",
    "    for i in range(data.shape[0]):\n",
    "\n",
    "        # The formula is only valid for elements loaded in pure bending and no prestressing\n",
    "        if data[\"Aptot\"].iloc[i] < 0.1 and data[\"epsin\"].iloc[i] == str(\"2\"):\n",
    "\n",
    "            b_top_eff = func_extract_width(0.6*data[\"h\"].iloc[i],data[\"b\"].iloc[i]); # Section width at top of effective zone\n",
    "            b_bot_eff = func_extract_width(data[\"h\"].iloc[i]-tol,data[\"b\"].iloc[i]); # Section width at top of effective zone\n",
    "\n",
    "            db = b_top_eff - b_bot_eff\n",
    "\n",
    "            # Analyze only sections where the effective area has a rectangular shape\n",
    "            if db < tol:\n",
    "                \n",
    "                # Calculation of effective concrete area\n",
    "                hceff = 2*(data[\"h\"].iloc[i]-data[\"zstottens\"].iloc[i]);\n",
    "                Aceff = quad(func_extract_width,data[\"h\"].iloc[i]-hceff,data[\"h\"].iloc[i],args=(data[\"b\"].iloc[i]))[0];\n",
    "                \n",
    "                # Calculation of the number of bars in the effective concrete area + equivalent diameter\n",
    "                phieqtemp_ni_phi_sqrt = np.zeros(Ncond);\n",
    "                phieqtemp_ni_phi = np.zeros(Ncond);\n",
    "                \n",
    "                ntemp = np.zeros(Ncond);\n",
    "                for j in range(Ncond):\n",
    "                    if zs[i,j] > data[\"h\"].iloc[i]-hceff:\n",
    "                        ntemp[j] = nbl[i,j];\n",
    "                        phieqtemp_ni_phi_sqrt[j] = nbl[i,j]*phi[i,j]**2;\n",
    "                        phieqtemp_ni_phi[j] = nbl[i,j]*phi[i,j];\n",
    "                nbars = np.sum(ntemp);\n",
    "                phi_eq = sum(phieqtemp_ni_phi_sqrt)/sum(phieqtemp_ni_phi);\n",
    "    \n",
    "                # Curvature effect (from lowest layer to most tensioned surface)\n",
    "                if data[\"locw\"].iloc[i] == 2:\n",
    "                    R = (data[\"h\"].iloc[i] - data[\"xc\"].iloc[i])/(data[\"zstottens\"].iloc[i] - data[\"xc\"].iloc[i] )\n",
    "                else:\n",
    "                    R = 1;\n",
    "                    \n",
    "                # Calculation of the crack width\n",
    "                wmax[i] = 1.1*(10**(-5))*( ((data[\"h\"].iloc[i]-data[\"zstot\"].iloc[i])*(Aceff/nbars)  )**(1/3)) * data[\"sigs\"].iloc[i] * R;\n",
    "    \n",
    "    return wm, wmax, sm, smax   "
   ]
  },
  {
   "cell_type": "markdown",
   "id": "6fec9875-5a67-484d-a11b-1fbcfd76fbd9",
   "metadata": {},
   "source": [
    "#### EN 1992-1-1"
   ]
  },
  {
   "cell_type": "code",
   "execution_count": 274,
   "id": "e57c845a-ede4-4c2e-be59-96f16daaa6bb",
   "metadata": {},
   "outputs": [],
   "source": [
    "wm_001a, wmax_001a, sm_001a, smax_001a, colors = func_compute_filtered_output_multiple(df,[\"EN 1992-1-1\"]);"
   ]
  },
  {
   "cell_type": "markdown",
   "id": "58db2151-cc3f-4ed5-81de-b21fc924bc4e",
   "metadata": {},
   "source": [
    "#### NEN-EN 1992-1-1"
   ]
  },
  {
   "cell_type": "code",
   "execution_count": 275,
   "id": "e7bf502a-7ac7-4951-97cf-8ae3ac3c5c63",
   "metadata": {},
   "outputs": [],
   "source": [
    "wm_001b, wmax_001b, sm_001b, smax_001b, colors = func_compute_filtered_output_multiple(df,[\"NEN-EN 1992-1-1\"]);"
   ]
  },
  {
   "cell_type": "markdown",
   "id": "99ca8891-e23e-46ce-8e4a-d5b1f10169df",
   "metadata": {},
   "source": [
    "#### FprEN 1992-1-1"
   ]
  },
  {
   "cell_type": "code",
   "execution_count": 276,
   "id": "a437b5be-ce65-4071-a8f5-083e4b0646f0",
   "metadata": {},
   "outputs": [],
   "source": [
    "wm_002_ID_2, wmax_002_ID_2, sm_002_ID_2, smax_002_ID_2, colors = func_compute_filtered_output_multiple(df,[\"FprEN 1992-1-1\"]);"
   ]
  },
  {
   "cell_type": "markdown",
   "id": "d59b34bf-85a8-4be3-a76c-17be42041777",
   "metadata": {},
   "source": [
    "#### MC 2010"
   ]
  },
  {
   "cell_type": "code",
   "execution_count": 277,
   "id": "60a36918-801e-4418-9ac0-6f545059a2bb",
   "metadata": {},
   "outputs": [],
   "source": [
    "wm_006, wmax_006, sm_006, smax_006, colors = func_compute_filtered_output_multiple(df,[\"MC 2010\"]);"
   ]
  },
  {
   "cell_type": "markdown",
   "id": "1bcdaf44-1edd-4619-a254-2a8f7105c846",
   "metadata": {},
   "source": [
    "#### MC 2020"
   ]
  },
  {
   "cell_type": "code",
   "execution_count": 278,
   "id": "4dc2b44f-7d5d-4525-b345-cdcaf1caa5ce",
   "metadata": {},
   "outputs": [],
   "source": [
    "wm_007, wmax_007, sm_007, smax_007, colors = func_compute_filtered_output_multiple(df,[\"MC 2020\"]);"
   ]
  },
  {
   "cell_type": "markdown",
   "id": "a51c4ed5-ec4e-4535-bb53-5c31ebfd2d27",
   "metadata": {},
   "source": [
    "#### Noakowski"
   ]
  },
  {
   "cell_type": "code",
   "execution_count": 279,
   "id": "936f9b40-9c8f-4ad0-b85b-8e78404e9095",
   "metadata": {},
   "outputs": [],
   "source": [
    "wm_012, wmax_012, sm_012, smax_012, colors = func_compute_filtered_output_multiple(df,[\"Noakowski\"]);"
   ]
  },
  {
   "cell_type": "markdown",
   "id": "2e8fc173-6248-4ae7-9abd-9724a7856abc",
   "metadata": {},
   "source": [
    "#### JSCE"
   ]
  },
  {
   "cell_type": "code",
   "execution_count": 280,
   "id": "929543fc-aa1b-4518-bd25-5b1c82f51ea4",
   "metadata": {},
   "outputs": [],
   "source": [
    "wm_038, wmax_038, sm_038, smax_038, colors = func_compute_filtered_output_multiple(df,[\"JSCE\"]);"
   ]
  },
  {
   "cell_type": "markdown",
   "id": "45cddc2a-ee11-4949-8de1-5974551f8db1",
   "metadata": {},
   "source": [
    "#### Oh + Kang"
   ]
  },
  {
   "cell_type": "code",
   "execution_count": 281,
   "id": "d7ed4bfa-df2f-4e27-bb12-d3bcf10d4b07",
   "metadata": {},
   "outputs": [],
   "source": [
    "wm_047, wmax_047, sm_047, smax_047, colors = func_compute_filtered_output_multiple(df,[\"Oh + Kang\"]);"
   ]
  },
  {
   "cell_type": "markdown",
   "id": "56570963-8e98-4126-9fa7-9b6f0d9f8093",
   "metadata": {},
   "source": [
    "#### Gergely + Lutz"
   ]
  },
  {
   "cell_type": "code",
   "execution_count": 282,
   "id": "2852d8a7-6dee-4769-afaf-bfc9976f6f93",
   "metadata": {},
   "outputs": [],
   "source": [
    "wm_053, wmax_053, sm_053, smax_053, colors = func_compute_filtered_output_multiple(df,[\"Gergely + Lutz\"]);"
   ]
  },
  {
   "cell_type": "markdown",
   "id": "3bf91829-7974-4caa-a03a-b0c42cdad68b",
   "metadata": {},
   "source": [
    "### Export for further analysis"
   ]
  },
  {
   "cell_type": "code",
   "execution_count": 283,
   "id": "3a446515-458e-4c2f-b786-0336298c1774",
   "metadata": {},
   "outputs": [],
   "source": [
    "wm_001a, wmax_001a, sm_001a, smax_001a, col_001a = func_compute_filtered_output_multiple(df,[\"EN 1992-1-1\"]);\n",
    "wm_001b, wmax_001b, sm_001b, smax_001b, col_001b = func_compute_filtered_output_multiple(df,[\"NEN-EN 1992-1-1\"]);\n",
    "wm_002, wmax_002, sm_002, smax_002, col_002 = func_compute_filtered_output_multiple(df,[\"FprEN 1992-1-1\"]);\n",
    "wm_006, wmax_006, sm_006, smax_006, col_006 = func_compute_filtered_output_multiple(df,[\"MC 2010\"]);\n",
    "wm_007, wmax_007, sm_007, smax_007, col_007 = func_compute_filtered_output_multiple(df,[\"MC 2020\"]);\n",
    "wm_012, wmax_012, sm_012, smax_012, col_012 = func_compute_filtered_output_multiple(df,[\"Noakowski\"]);\n",
    "wm_038, wmax_038_, sm_038, smax_038, col_038 = func_compute_filtered_output_multiple(df,[\"JSCE\"]);\n",
    "wm_047, wmax_047, sm_047, smax_047, col_047 = func_compute_filtered_output_multiple(df,[\"Oh + Kang\"]);\n",
    "wm_053, wmax_053, sm_053, smax_053, col_053 = func_compute_filtered_output_multiple(df,[\"Gergely + Lutz\"]);"
   ]
  },
  {
   "cell_type": "code",
   "execution_count": 284,
   "id": "ae6d1dce-8f30-449d-b600-eab74be392ee",
   "metadata": {},
   "outputs": [],
   "source": [
    "df_exp = wmax_001a[0].copy();\n",
    "df_exp.rename(columns={\"cwf_wmax\": \"wmax_001a\"},inplace=True);"
   ]
  },
  {
   "cell_type": "code",
   "execution_count": 285,
   "id": "97562993-c992-4649-a933-e54a8b3ab5d8",
   "metadata": {},
   "outputs": [],
   "source": [
    "df_exp = pd.concat([df_exp,wmax_001b[0][\"cwf_wmax\"]],axis=1);\n",
    "df_exp.rename(columns={\"cwf_wmax\": \"wmax_001b\"},inplace=True);"
   ]
  },
  {
   "cell_type": "code",
   "execution_count": 286,
   "id": "a98bd0d8-b623-48a3-80f8-77d4c98b5a34",
   "metadata": {},
   "outputs": [],
   "source": [
    "df_exp = pd.concat([df_exp,wmax_002[0][\"cwf_wmax\"]],axis=1);\n",
    "df_exp.rename(columns={\"cwf_wmax\": \"wmax_002\"},inplace=True);"
   ]
  },
  {
   "cell_type": "code",
   "execution_count": 287,
   "id": "84291c9e-778e-4e04-b87e-12a6a7fdad1e",
   "metadata": {},
   "outputs": [],
   "source": [
    "df_exp = pd.concat([df_exp,wmax_006[0][\"cwf_wmax\"]],axis=1);\n",
    "df_exp.rename(columns={\"cwf_wmax\": \"wmax_006\"},inplace=True);"
   ]
  },
  {
   "cell_type": "code",
   "execution_count": 288,
   "id": "20f4a9d6-93cb-4fba-b766-43876279d024",
   "metadata": {},
   "outputs": [],
   "source": [
    "df_exp = pd.concat([df_exp,wmax_007[0][\"cwf_wmax\"]],axis=1);\n",
    "df_exp.rename(columns={\"cwf_wmax\": \"wmax_007\"},inplace=True);"
   ]
  },
  {
   "cell_type": "code",
   "execution_count": 289,
   "id": "00e47fbb-ee77-4d0e-bb47-f4c4036713b7",
   "metadata": {},
   "outputs": [],
   "source": [
    "df_exp = pd.concat([df_exp,wmax_012[0][\"cwf_wmax\"]],axis=1);\n",
    "df_exp.rename(columns={\"cwf_wmax\": \"wmax_012\"},inplace=True);"
   ]
  },
  {
   "cell_type": "code",
   "execution_count": 290,
   "id": "2d217e29-0b76-4119-b28f-f15afbff4792",
   "metadata": {},
   "outputs": [],
   "source": [
    "df_exp = pd.concat([df_exp,wmax_038[0][\"cwf_wmax\"]],axis=1);\n",
    "df_exp.rename(columns={\"cwf_wmax\": \"wmax_038\"},inplace=True);"
   ]
  },
  {
   "cell_type": "code",
   "execution_count": 291,
   "id": "e391fe87-7042-4f42-ac0e-d57625301e2f",
   "metadata": {},
   "outputs": [],
   "source": [
    "df_exp = pd.concat([df_exp,wmax_047[0][\"cwf_wmax\"]],axis=1);\n",
    "df_exp.rename(columns={\"cwf_wmax\": \"wmax_047\"},inplace=True);"
   ]
  },
  {
   "cell_type": "code",
   "execution_count": 292,
   "id": "a49c1d6c-b46f-49cb-a6fc-fdaa52d4e21b",
   "metadata": {},
   "outputs": [],
   "source": [
    "df_exp = pd.concat([df_exp,wmax_053[0][\"cwf_wmax\"]],axis=1);\n",
    "df_exp.rename(columns={\"cwf_wmax\": \"wmax_053\"},inplace=True);"
   ]
  },
  {
   "cell_type": "code",
   "execution_count": 293,
   "id": "9b9d1ac6-0f05-43fa-85ad-fec27d9bdbee",
   "metadata": {},
   "outputs": [
    {
     "data": {
      "text/html": [
       "<div>\n",
       "<style scoped>\n",
       "    .dataframe tbody tr th:only-of-type {\n",
       "        vertical-align: middle;\n",
       "    }\n",
       "\n",
       "    .dataframe tbody tr th {\n",
       "        vertical-align: top;\n",
       "    }\n",
       "\n",
       "    .dataframe thead th {\n",
       "        text-align: right;\n",
       "    }\n",
       "</style>\n",
       "<table border=\"1\" class=\"dataframe\">\n",
       "  <thead>\n",
       "    <tr style=\"text-align: right;\">\n",
       "      <th></th>\n",
       "      <th>EPID</th>\n",
       "      <th>ELID</th>\n",
       "      <th>LOADID</th>\n",
       "      <th>locw</th>\n",
       "      <th>meas_wmax</th>\n",
       "      <th>wmax_001a</th>\n",
       "      <th>wmax_001b</th>\n",
       "      <th>wmax_002</th>\n",
       "      <th>wmax_006</th>\n",
       "      <th>wmax_007</th>\n",
       "      <th>wmax_012</th>\n",
       "      <th>wmax_038</th>\n",
       "      <th>wmax_047</th>\n",
       "      <th>wmax_053</th>\n",
       "    </tr>\n",
       "  </thead>\n",
       "  <tbody>\n",
       "    <tr>\n",
       "      <th>0</th>\n",
       "      <td>23</td>\n",
       "      <td>BSTS2-16</td>\n",
       "      <td>3</td>\n",
       "      <td>1</td>\n",
       "      <td>0.125</td>\n",
       "      <td>0.224144</td>\n",
       "      <td>0.224144</td>\n",
       "      <td>0.168786</td>\n",
       "      <td>0.205146</td>\n",
       "      <td>0.151904</td>\n",
       "      <td>0.146234</td>\n",
       "      <td>0.364388</td>\n",
       "      <td>0.202951</td>\n",
       "      <td>0.202498</td>\n",
       "    </tr>\n",
       "    <tr>\n",
       "      <th>1</th>\n",
       "      <td>23</td>\n",
       "      <td>BSTS2-16</td>\n",
       "      <td>4</td>\n",
       "      <td>1</td>\n",
       "      <td>0.150</td>\n",
       "      <td>0.320793</td>\n",
       "      <td>0.320793</td>\n",
       "      <td>0.257247</td>\n",
       "      <td>0.294252</td>\n",
       "      <td>0.231516</td>\n",
       "      <td>0.197015</td>\n",
       "      <td>0.456919</td>\n",
       "      <td>0.264690</td>\n",
       "      <td>0.264904</td>\n",
       "    </tr>\n",
       "    <tr>\n",
       "      <th>2</th>\n",
       "      <td>23</td>\n",
       "      <td>BSTS3-16</td>\n",
       "      <td>3</td>\n",
       "      <td>1</td>\n",
       "      <td>0.125</td>\n",
       "      <td>0.187506</td>\n",
       "      <td>0.187506</td>\n",
       "      <td>0.147350</td>\n",
       "      <td>0.148330</td>\n",
       "      <td>0.130086</td>\n",
       "      <td>0.090851</td>\n",
       "      <td>0.282589</td>\n",
       "      <td>0.151312</td>\n",
       "      <td>0.151138</td>\n",
       "    </tr>\n",
       "    <tr>\n",
       "      <th>3</th>\n",
       "      <td>23</td>\n",
       "      <td>BSTS3-16</td>\n",
       "      <td>4</td>\n",
       "      <td>1</td>\n",
       "      <td>0.175</td>\n",
       "      <td>0.300727</td>\n",
       "      <td>0.300727</td>\n",
       "      <td>0.247563</td>\n",
       "      <td>0.238894</td>\n",
       "      <td>0.218558</td>\n",
       "      <td>0.138023</td>\n",
       "      <td>0.395627</td>\n",
       "      <td>0.225883</td>\n",
       "      <td>0.226711</td>\n",
       "    </tr>\n",
       "    <tr>\n",
       "      <th>4</th>\n",
       "      <td>23</td>\n",
       "      <td>SSTS4-12</td>\n",
       "      <td>1</td>\n",
       "      <td>1</td>\n",
       "      <td>0.125</td>\n",
       "      <td>0.092169</td>\n",
       "      <td>0.092169</td>\n",
       "      <td>0.084913</td>\n",
       "      <td>0.128768</td>\n",
       "      <td>0.166282</td>\n",
       "      <td>0.093328</td>\n",
       "      <td>0.303842</td>\n",
       "      <td>0.160241</td>\n",
       "      <td>0.120286</td>\n",
       "    </tr>\n",
       "    <tr>\n",
       "      <th>5</th>\n",
       "      <td>23</td>\n",
       "      <td>SSTS4-12</td>\n",
       "      <td>2</td>\n",
       "      <td>1</td>\n",
       "      <td>0.175</td>\n",
       "      <td>0.170784</td>\n",
       "      <td>0.170784</td>\n",
       "      <td>0.164354</td>\n",
       "      <td>0.237278</td>\n",
       "      <td>0.333041</td>\n",
       "      <td>0.156211</td>\n",
       "      <td>0.447013</td>\n",
       "      <td>0.251558</td>\n",
       "      <td>0.198416</td>\n",
       "    </tr>\n",
       "    <tr>\n",
       "      <th>6</th>\n",
       "      <td>23</td>\n",
       "      <td>STN12</td>\n",
       "      <td>4</td>\n",
       "      <td>2</td>\n",
       "      <td>0.250</td>\n",
       "      <td>0.282926</td>\n",
       "      <td>0.264045</td>\n",
       "      <td>0.126040</td>\n",
       "      <td>0.126089</td>\n",
       "      <td>0.145493</td>\n",
       "      <td>0.143325</td>\n",
       "      <td>NaN</td>\n",
       "      <td>NaN</td>\n",
       "      <td>NaN</td>\n",
       "    </tr>\n",
       "    <tr>\n",
       "      <th>7</th>\n",
       "      <td>23</td>\n",
       "      <td>STN12</td>\n",
       "      <td>5</td>\n",
       "      <td>2</td>\n",
       "      <td>0.300</td>\n",
       "      <td>0.506523</td>\n",
       "      <td>0.472720</td>\n",
       "      <td>0.335125</td>\n",
       "      <td>0.371624</td>\n",
       "      <td>0.328821</td>\n",
       "      <td>0.220982</td>\n",
       "      <td>NaN</td>\n",
       "      <td>NaN</td>\n",
       "      <td>NaN</td>\n",
       "    </tr>\n",
       "    <tr>\n",
       "      <th>8</th>\n",
       "      <td>23</td>\n",
       "      <td>STN12</td>\n",
       "      <td>6</td>\n",
       "      <td>2</td>\n",
       "      <td>0.300</td>\n",
       "      <td>0.563126</td>\n",
       "      <td>0.525546</td>\n",
       "      <td>0.372570</td>\n",
       "      <td>0.413153</td>\n",
       "      <td>0.365562</td>\n",
       "      <td>0.238631</td>\n",
       "      <td>NaN</td>\n",
       "      <td>NaN</td>\n",
       "      <td>NaN</td>\n",
       "    </tr>\n",
       "    <tr>\n",
       "      <th>9</th>\n",
       "      <td>23</td>\n",
       "      <td>STN16</td>\n",
       "      <td>4</td>\n",
       "      <td>2</td>\n",
       "      <td>0.250</td>\n",
       "      <td>0.228808</td>\n",
       "      <td>0.228808</td>\n",
       "      <td>0.152881</td>\n",
       "      <td>0.163042</td>\n",
       "      <td>0.148434</td>\n",
       "      <td>0.102064</td>\n",
       "      <td>NaN</td>\n",
       "      <td>NaN</td>\n",
       "      <td>NaN</td>\n",
       "    </tr>\n",
       "    <tr>\n",
       "      <th>10</th>\n",
       "      <td>23</td>\n",
       "      <td>STN16</td>\n",
       "      <td>5</td>\n",
       "      <td>2</td>\n",
       "      <td>0.325</td>\n",
       "      <td>0.443836</td>\n",
       "      <td>0.443836</td>\n",
       "      <td>0.296540</td>\n",
       "      <td>0.316265</td>\n",
       "      <td>0.287915</td>\n",
       "      <td>0.169140</td>\n",
       "      <td>NaN</td>\n",
       "      <td>NaN</td>\n",
       "      <td>NaN</td>\n",
       "    </tr>\n",
       "    <tr>\n",
       "      <th>11</th>\n",
       "      <td>23</td>\n",
       "      <td>STS12</td>\n",
       "      <td>5</td>\n",
       "      <td>2</td>\n",
       "      <td>0.350</td>\n",
       "      <td>0.428840</td>\n",
       "      <td>0.375461</td>\n",
       "      <td>0.283728</td>\n",
       "      <td>0.263156</td>\n",
       "      <td>0.239017</td>\n",
       "      <td>0.149066</td>\n",
       "      <td>NaN</td>\n",
       "      <td>NaN</td>\n",
       "      <td>NaN</td>\n",
       "    </tr>\n",
       "    <tr>\n",
       "      <th>12</th>\n",
       "      <td>23</td>\n",
       "      <td>STS12</td>\n",
       "      <td>6</td>\n",
       "      <td>2</td>\n",
       "      <td>0.500</td>\n",
       "      <td>0.693541</td>\n",
       "      <td>0.607213</td>\n",
       "      <td>0.458840</td>\n",
       "      <td>0.425589</td>\n",
       "      <td>0.386535</td>\n",
       "      <td>0.214780</td>\n",
       "      <td>NaN</td>\n",
       "      <td>NaN</td>\n",
       "      <td>NaN</td>\n",
       "    </tr>\n",
       "    <tr>\n",
       "      <th>13</th>\n",
       "      <td>23</td>\n",
       "      <td>STS16</td>\n",
       "      <td>7</td>\n",
       "      <td>2</td>\n",
       "      <td>0.325</td>\n",
       "      <td>0.425016</td>\n",
       "      <td>0.425016</td>\n",
       "      <td>0.283962</td>\n",
       "      <td>0.223638</td>\n",
       "      <td>0.215112</td>\n",
       "      <td>0.103644</td>\n",
       "      <td>NaN</td>\n",
       "      <td>NaN</td>\n",
       "      <td>NaN</td>\n",
       "    </tr>\n",
       "    <tr>\n",
       "      <th>14</th>\n",
       "      <td>24</td>\n",
       "      <td>12-20-00</td>\n",
       "      <td>4</td>\n",
       "      <td>1</td>\n",
       "      <td>0.344</td>\n",
       "      <td>0.132256</td>\n",
       "      <td>0.132256</td>\n",
       "      <td>0.099805</td>\n",
       "      <td>0.123604</td>\n",
       "      <td>0.092273</td>\n",
       "      <td>0.111341</td>\n",
       "      <td>0.217774</td>\n",
       "      <td>0.113123</td>\n",
       "      <td>0.106996</td>\n",
       "    </tr>\n",
       "    <tr>\n",
       "      <th>15</th>\n",
       "      <td>24</td>\n",
       "      <td>12-20-00</td>\n",
       "      <td>5</td>\n",
       "      <td>1</td>\n",
       "      <td>0.449</td>\n",
       "      <td>0.278485</td>\n",
       "      <td>0.278485</td>\n",
       "      <td>0.247417</td>\n",
       "      <td>0.301896</td>\n",
       "      <td>0.228744</td>\n",
       "      <td>0.235546</td>\n",
       "      <td>0.372744</td>\n",
       "      <td>0.218937</td>\n",
       "      <td>0.195407</td>\n",
       "    </tr>\n",
       "    <tr>\n",
       "      <th>16</th>\n",
       "      <td>24</td>\n",
       "      <td>12-20-00</td>\n",
       "      <td>5</td>\n",
       "      <td>2</td>\n",
       "      <td>0.410</td>\n",
       "      <td>0.261990</td>\n",
       "      <td>0.261990</td>\n",
       "      <td>0.260970</td>\n",
       "      <td>0.318638</td>\n",
       "      <td>0.241274</td>\n",
       "      <td>0.223090</td>\n",
       "      <td>0.357202</td>\n",
       "      <td>0.233520</td>\n",
       "      <td>0.209280</td>\n",
       "    </tr>\n",
       "    <tr>\n",
       "      <th>17</th>\n",
       "      <td>24</td>\n",
       "      <td>12-70-00</td>\n",
       "      <td>3</td>\n",
       "      <td>1</td>\n",
       "      <td>0.408</td>\n",
       "      <td>0.303933</td>\n",
       "      <td>0.300647</td>\n",
       "      <td>0.214341</td>\n",
       "      <td>0.254388</td>\n",
       "      <td>0.207964</td>\n",
       "      <td>0.161842</td>\n",
       "      <td>0.534375</td>\n",
       "      <td>0.173020</td>\n",
       "      <td>0.247557</td>\n",
       "    </tr>\n",
       "    <tr>\n",
       "      <th>18</th>\n",
       "      <td>24</td>\n",
       "      <td>12-70-00</td>\n",
       "      <td>3</td>\n",
       "      <td>2</td>\n",
       "      <td>0.478</td>\n",
       "      <td>0.293502</td>\n",
       "      <td>0.290741</td>\n",
       "      <td>0.266251</td>\n",
       "      <td>0.316316</td>\n",
       "      <td>0.258329</td>\n",
       "      <td>0.154555</td>\n",
       "      <td>0.517294</td>\n",
       "      <td>0.220565</td>\n",
       "      <td>0.316878</td>\n",
       "    </tr>\n",
       "    <tr>\n",
       "      <th>19</th>\n",
       "      <td>24</td>\n",
       "      <td>25-20-00</td>\n",
       "      <td>11</td>\n",
       "      <td>1</td>\n",
       "      <td>0.250</td>\n",
       "      <td>0.152097</td>\n",
       "      <td>0.152097</td>\n",
       "      <td>0.142273</td>\n",
       "      <td>0.098365</td>\n",
       "      <td>0.100477</td>\n",
       "      <td>0.060958</td>\n",
       "      <td>0.227037</td>\n",
       "      <td>0.163185</td>\n",
       "      <td>0.128132</td>\n",
       "    </tr>\n",
       "    <tr>\n",
       "      <th>20</th>\n",
       "      <td>24</td>\n",
       "      <td>25-20-00</td>\n",
       "      <td>12</td>\n",
       "      <td>1</td>\n",
       "      <td>0.363</td>\n",
       "      <td>0.236782</td>\n",
       "      <td>0.236782</td>\n",
       "      <td>0.224556</td>\n",
       "      <td>0.153075</td>\n",
       "      <td>0.158587</td>\n",
       "      <td>0.093899</td>\n",
       "      <td>0.334110</td>\n",
       "      <td>0.259113</td>\n",
       "      <td>0.200804</td>\n",
       "    </tr>\n",
       "    <tr>\n",
       "      <th>21</th>\n",
       "      <td>24</td>\n",
       "      <td>25-20-00</td>\n",
       "      <td>11</td>\n",
       "      <td>2</td>\n",
       "      <td>0.287</td>\n",
       "      <td>0.150358</td>\n",
       "      <td>0.150358</td>\n",
       "      <td>0.166517</td>\n",
       "      <td>0.115086</td>\n",
       "      <td>0.117598</td>\n",
       "      <td>0.060322</td>\n",
       "      <td>0.224968</td>\n",
       "      <td>0.190887</td>\n",
       "      <td>0.149999</td>\n",
       "    </tr>\n",
       "    <tr>\n",
       "      <th>22</th>\n",
       "      <td>24</td>\n",
       "      <td>25-20-00</td>\n",
       "      <td>12</td>\n",
       "      <td>2</td>\n",
       "      <td>0.430</td>\n",
       "      <td>0.235754</td>\n",
       "      <td>0.235754</td>\n",
       "      <td>0.264961</td>\n",
       "      <td>0.180585</td>\n",
       "      <td>0.187121</td>\n",
       "      <td>0.093522</td>\n",
       "      <td>0.332884</td>\n",
       "      <td>0.305683</td>\n",
       "      <td>0.236947</td>\n",
       "    </tr>\n",
       "    <tr>\n",
       "      <th>23</th>\n",
       "      <td>24</td>\n",
       "      <td>25-70-00</td>\n",
       "      <td>5</td>\n",
       "      <td>1</td>\n",
       "      <td>0.570</td>\n",
       "      <td>0.397153</td>\n",
       "      <td>0.397153</td>\n",
       "      <td>0.325771</td>\n",
       "      <td>0.274005</td>\n",
       "      <td>0.288532</td>\n",
       "      <td>0.109331</td>\n",
       "      <td>0.598158</td>\n",
       "      <td>0.284319</td>\n",
       "      <td>0.293272</td>\n",
       "    </tr>\n",
       "    <tr>\n",
       "      <th>24</th>\n",
       "      <td>24</td>\n",
       "      <td>25-70-00</td>\n",
       "      <td>5</td>\n",
       "      <td>2</td>\n",
       "      <td>0.748</td>\n",
       "      <td>0.396664</td>\n",
       "      <td>0.396664</td>\n",
       "      <td>0.475356</td>\n",
       "      <td>0.399838</td>\n",
       "      <td>0.421017</td>\n",
       "      <td>0.109204</td>\n",
       "      <td>0.597531</td>\n",
       "      <td>0.414914</td>\n",
       "      <td>0.427983</td>\n",
       "    </tr>\n",
       "    <tr>\n",
       "      <th>25</th>\n",
       "      <td>27</td>\n",
       "      <td>16-70T</td>\n",
       "      <td>4</td>\n",
       "      <td>2</td>\n",
       "      <td>0.450</td>\n",
       "      <td>0.412960</td>\n",
       "      <td>0.319275</td>\n",
       "      <td>0.232018</td>\n",
       "      <td>0.245233</td>\n",
       "      <td>0.254904</td>\n",
       "      <td>0.169613</td>\n",
       "      <td>NaN</td>\n",
       "      <td>NaN</td>\n",
       "      <td>NaN</td>\n",
       "    </tr>\n",
       "    <tr>\n",
       "      <th>26</th>\n",
       "      <td>27</td>\n",
       "      <td>16-70T</td>\n",
       "      <td>5</td>\n",
       "      <td>2</td>\n",
       "      <td>0.551</td>\n",
       "      <td>0.613333</td>\n",
       "      <td>0.474191</td>\n",
       "      <td>0.424184</td>\n",
       "      <td>0.427574</td>\n",
       "      <td>0.396121</td>\n",
       "      <td>0.196969</td>\n",
       "      <td>NaN</td>\n",
       "      <td>NaN</td>\n",
       "      <td>NaN</td>\n",
       "    </tr>\n",
       "    <tr>\n",
       "      <th>27</th>\n",
       "      <td>27</td>\n",
       "      <td>25-20T</td>\n",
       "      <td>6</td>\n",
       "      <td>2</td>\n",
       "      <td>0.310</td>\n",
       "      <td>0.301407</td>\n",
       "      <td>0.301407</td>\n",
       "      <td>0.264625</td>\n",
       "      <td>0.186058</td>\n",
       "      <td>0.223622</td>\n",
       "      <td>0.135012</td>\n",
       "      <td>NaN</td>\n",
       "      <td>NaN</td>\n",
       "      <td>NaN</td>\n",
       "    </tr>\n",
       "    <tr>\n",
       "      <th>28</th>\n",
       "      <td>27</td>\n",
       "      <td>25-20T</td>\n",
       "      <td>7</td>\n",
       "      <td>2</td>\n",
       "      <td>0.384</td>\n",
       "      <td>0.398031</td>\n",
       "      <td>0.398031</td>\n",
       "      <td>0.359320</td>\n",
       "      <td>0.245704</td>\n",
       "      <td>0.303645</td>\n",
       "      <td>0.175302</td>\n",
       "      <td>NaN</td>\n",
       "      <td>NaN</td>\n",
       "      <td>NaN</td>\n",
       "    </tr>\n",
       "  </tbody>\n",
       "</table>\n",
       "</div>"
      ],
      "text/plain": [
       "    EPID      ELID  LOADID  locw  meas_wmax  wmax_001a  wmax_001b  wmax_002  \\\n",
       "0     23  BSTS2-16       3     1      0.125   0.224144   0.224144  0.168786   \n",
       "1     23  BSTS2-16       4     1      0.150   0.320793   0.320793  0.257247   \n",
       "2     23  BSTS3-16       3     1      0.125   0.187506   0.187506  0.147350   \n",
       "3     23  BSTS3-16       4     1      0.175   0.300727   0.300727  0.247563   \n",
       "4     23  SSTS4-12       1     1      0.125   0.092169   0.092169  0.084913   \n",
       "5     23  SSTS4-12       2     1      0.175   0.170784   0.170784  0.164354   \n",
       "6     23     STN12       4     2      0.250   0.282926   0.264045  0.126040   \n",
       "7     23     STN12       5     2      0.300   0.506523   0.472720  0.335125   \n",
       "8     23     STN12       6     2      0.300   0.563126   0.525546  0.372570   \n",
       "9     23     STN16       4     2      0.250   0.228808   0.228808  0.152881   \n",
       "10    23     STN16       5     2      0.325   0.443836   0.443836  0.296540   \n",
       "11    23     STS12       5     2      0.350   0.428840   0.375461  0.283728   \n",
       "12    23     STS12       6     2      0.500   0.693541   0.607213  0.458840   \n",
       "13    23     STS16       7     2      0.325   0.425016   0.425016  0.283962   \n",
       "14    24  12-20-00       4     1      0.344   0.132256   0.132256  0.099805   \n",
       "15    24  12-20-00       5     1      0.449   0.278485   0.278485  0.247417   \n",
       "16    24  12-20-00       5     2      0.410   0.261990   0.261990  0.260970   \n",
       "17    24  12-70-00       3     1      0.408   0.303933   0.300647  0.214341   \n",
       "18    24  12-70-00       3     2      0.478   0.293502   0.290741  0.266251   \n",
       "19    24  25-20-00      11     1      0.250   0.152097   0.152097  0.142273   \n",
       "20    24  25-20-00      12     1      0.363   0.236782   0.236782  0.224556   \n",
       "21    24  25-20-00      11     2      0.287   0.150358   0.150358  0.166517   \n",
       "22    24  25-20-00      12     2      0.430   0.235754   0.235754  0.264961   \n",
       "23    24  25-70-00       5     1      0.570   0.397153   0.397153  0.325771   \n",
       "24    24  25-70-00       5     2      0.748   0.396664   0.396664  0.475356   \n",
       "25    27    16-70T       4     2      0.450   0.412960   0.319275  0.232018   \n",
       "26    27    16-70T       5     2      0.551   0.613333   0.474191  0.424184   \n",
       "27    27    25-20T       6     2      0.310   0.301407   0.301407  0.264625   \n",
       "28    27    25-20T       7     2      0.384   0.398031   0.398031  0.359320   \n",
       "\n",
       "    wmax_006  wmax_007  wmax_012  wmax_038  wmax_047  wmax_053  \n",
       "0   0.205146  0.151904  0.146234  0.364388  0.202951  0.202498  \n",
       "1   0.294252  0.231516  0.197015  0.456919  0.264690  0.264904  \n",
       "2   0.148330  0.130086  0.090851  0.282589  0.151312  0.151138  \n",
       "3   0.238894  0.218558  0.138023  0.395627  0.225883  0.226711  \n",
       "4   0.128768  0.166282  0.093328  0.303842  0.160241  0.120286  \n",
       "5   0.237278  0.333041  0.156211  0.447013  0.251558  0.198416  \n",
       "6   0.126089  0.145493  0.143325       NaN       NaN       NaN  \n",
       "7   0.371624  0.328821  0.220982       NaN       NaN       NaN  \n",
       "8   0.413153  0.365562  0.238631       NaN       NaN       NaN  \n",
       "9   0.163042  0.148434  0.102064       NaN       NaN       NaN  \n",
       "10  0.316265  0.287915  0.169140       NaN       NaN       NaN  \n",
       "11  0.263156  0.239017  0.149066       NaN       NaN       NaN  \n",
       "12  0.425589  0.386535  0.214780       NaN       NaN       NaN  \n",
       "13  0.223638  0.215112  0.103644       NaN       NaN       NaN  \n",
       "14  0.123604  0.092273  0.111341  0.217774  0.113123  0.106996  \n",
       "15  0.301896  0.228744  0.235546  0.372744  0.218937  0.195407  \n",
       "16  0.318638  0.241274  0.223090  0.357202  0.233520  0.209280  \n",
       "17  0.254388  0.207964  0.161842  0.534375  0.173020  0.247557  \n",
       "18  0.316316  0.258329  0.154555  0.517294  0.220565  0.316878  \n",
       "19  0.098365  0.100477  0.060958  0.227037  0.163185  0.128132  \n",
       "20  0.153075  0.158587  0.093899  0.334110  0.259113  0.200804  \n",
       "21  0.115086  0.117598  0.060322  0.224968  0.190887  0.149999  \n",
       "22  0.180585  0.187121  0.093522  0.332884  0.305683  0.236947  \n",
       "23  0.274005  0.288532  0.109331  0.598158  0.284319  0.293272  \n",
       "24  0.399838  0.421017  0.109204  0.597531  0.414914  0.427983  \n",
       "25  0.245233  0.254904  0.169613       NaN       NaN       NaN  \n",
       "26  0.427574  0.396121  0.196969       NaN       NaN       NaN  \n",
       "27  0.186058  0.223622  0.135012       NaN       NaN       NaN  \n",
       "28  0.245704  0.303645  0.175302       NaN       NaN       NaN  "
      ]
     },
     "execution_count": 293,
     "metadata": {},
     "output_type": "execute_result"
    }
   ],
   "source": [
    "df_exp[[\"EPID\",\"ELID\",\"LOADID\",\"locw\",\"meas_wmax\",\"wmax_001a\",\"wmax_001b\",\"wmax_002\",\"wmax_006\",\"wmax_007\",\"wmax_012\",\"wmax_038\",\"wmax_047\",\"wmax_053\"]]"
   ]
  }
 ],
 "metadata": {
  "kernelspec": {
   "display_name": "Python 3 (ipykernel)",
   "language": "python",
   "name": "python3"
  },
  "language_info": {
   "codemirror_mode": {
    "name": "ipython",
    "version": 3
   },
   "file_extension": ".py",
   "mimetype": "text/x-python",
   "name": "python",
   "nbconvert_exporter": "python",
   "pygments_lexer": "ipython3",
   "version": "3.12.4"
  }
 },
 "nbformat": 4,
 "nbformat_minor": 5
}
