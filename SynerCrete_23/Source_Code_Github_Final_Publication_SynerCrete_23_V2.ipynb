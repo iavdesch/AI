{
 "cells": [
  {
   "cell_type": "markdown",
   "id": "4a2fb7e7",
   "metadata": {},
   "source": [
    "# Jupyter notebook to analyze steel stress calculations"
   ]
  },
  {
   "cell_type": "markdown",
   "id": "e37bc709",
   "metadata": {},
   "source": [
    "This notebook is created and originally uploaded on GitHub by Anton van der Esch and contains the calculations of the paper \"Calculation of steel stresses in cracked reinforced rectangular concrete elements loaded in bending\".\n",
    "<br> <br>\n",
    "**Name | Orcid-ID** <br>\n",
    "Anton van der Esch* | 0000-0002-3229-5267 <br>\n",
    "Rob Wolfs | 0000-0001-7897-433X <br>\n",
    "Simon Wijte | 0000-0003-4869-4948\n",
    "<br> <br>\n",
    "Eindhoven University of Technology <br>\n",
    "5612 AZ Eindhoven <br>\n",
    "The Netherlands\n",
    "<br> <br>\n",
    "*Corresponding author"
   ]
  },
  {
   "cell_type": "markdown",
   "id": "f769840e",
   "metadata": {},
   "source": [
    "## Warning"
   ]
  },
  {
   "cell_type": "markdown",
   "id": "2adbf012",
   "metadata": {},
   "source": [
    "When using this notebook, you should cite, BESIDES THIS NOTEBOOK, also the following paper \"Crack Monitoring in Reinforced Concrete Beams by Distributed Optical Fiber Sensors\" since this Notebook uses data from that paper.\n",
    "<br> <br>\n",
    "Use the following citation:\n",
    "<br>\n",
    "Carlos G. Berrocal, Ignasi Fernandez & Rasmus Rempling (2021) Crack\n",
    "monitoring in reinforced concrete beams by distributed optical fiber sensors, Structure and\n",
    "Infrastructure Engineering, 17:1, 124-139, DOI: 10.1080/15732479.2020.1731558\n",
    "\n"
   ]
  },
  {
   "cell_type": "markdown",
   "id": "a2d11f13",
   "metadata": {},
   "source": [
    "## Introduction"
   ]
  },
  {
   "cell_type": "markdown",
   "id": "12b9b4dc",
   "metadata": {},
   "source": [
    "This notebook provides the code for the paper \"The development of a method for the estimation of steel stresses in cracked reinforced concrete elements loaded in bending\". It has been divided into several parts: <br>\n",
    "1) Import packages <br>\n",
    "2) Figure settings <br>\n",
    "3) Import and / or create data files <br>\n",
    "4) Parameters <br>\n",
    "5) Throughput <br>\n",
    "6) Calculation of steel stress <br>\n",
    "7) Force and time plots <br>\n",
    "8) Evaluation of the strains and stresses"
   ]
  },
  {
   "cell_type": "markdown",
   "id": "ee60f158",
   "metadata": {},
   "source": [
    "## 1 - Import packages"
   ]
  },
  {
   "cell_type": "code",
   "execution_count": 1,
   "id": "d31e0bdb",
   "metadata": {},
   "outputs": [],
   "source": [
    "import matplotlib.pyplot as plt\n",
    "from matplotlib.lines import Line2D\n",
    "import numpy as np\n",
    "from pandas import read_csv\n",
    "import pandas as pd\n",
    "import scipy.integrate as integrate\n",
    "import scipy.special as special\n",
    "import random\n",
    "import os\n",
    "\n",
    "from scipy.optimize import fsolve\n",
    "from scipy.interpolate import interp1d\n",
    "from scipy.integrate import quad, trapezoid, nquad, dblquad\n",
    "from time import sleep\n",
    "from tqdm import tqdm\n",
    "\n",
    "from sklearn.metrics import r2_score\n",
    "from sklearn.metrics import mean_squared_error\n",
    "from sklearn.preprocessing import MinMaxScaler"
   ]
  },
  {
   "cell_type": "markdown",
   "id": "163bb859",
   "metadata": {},
   "source": [
    "## 2 - Figure settings"
   ]
  },
  {
   "cell_type": "code",
   "execution_count": 2,
   "id": "b2cc7355",
   "metadata": {},
   "outputs": [],
   "source": [
    "cm = 1/2.54;\n",
    "figsize = [7*cm,5*cm];\n",
    "\n",
    "plt.rcParams.update({'mathtext.fontset': 'cm'})\n",
    "plt.rcParams.update({'font.family': 'STIXGeneral'})\n",
    "plt.rcParams.update({'axes.labelsize': 11})\n",
    "plt.rcParams.update({'axes.titlesize': 12})\n",
    "\n",
    "import matplotlib.ticker as mticker\n",
    "dpisize = 600;"
   ]
  },
  {
   "cell_type": "markdown",
   "id": "0c41df37",
   "metadata": {},
   "source": [
    "## 3 - Import files"
   ]
  },
  {
   "cell_type": "code",
   "execution_count": 3,
   "id": "3670a0c3",
   "metadata": {},
   "outputs": [],
   "source": [
    "#dat_beams = pd.read_csv(r'https://github.com/iavdesch/Research/tree/main/SynerCrete_23/Data_full_combined.csv?raw=true',\\\n",
    "#                   sep=',',lineterminator='\\n');\n",
    "\n",
    "dat_beams = pd.read_csv('https://github.com/iavdesch/Research/blob/main/SynerCrete_23/Data_full_combined.csv?raw=true',\\\n",
    "                       sep=',')\n",
    "\n",
    "crack_width_beam_1 = pd.read_csv('https://github.com/iavdesch/Research/blob/main/SynerCrete_23/Crack_width_time_1.csv?raw=true',\\\n",
    "                       sep=',')\n",
    "crack_width_beam_2 = pd.read_csv('https://github.com/iavdesch/Research/blob/main/SynerCrete_23/Crack_width_time_2.csv?raw=true',\\\n",
    "                       sep=',')"
   ]
  },
  {
   "cell_type": "markdown",
   "id": "d8a0cd70",
   "metadata": {},
   "source": [
    "### Interpolate for the forces"
   ]
  },
  {
   "cell_type": "markdown",
   "id": "0b661c8b",
   "metadata": {},
   "source": [
    "The sampling rate of the DOFs (5Hz) differs from the sampling rate of the DIC (0.2Hz). The forcing in the experiments was originally measured at the sampling rate of the DIC. To estimate the force corresponding to the time instances of the DOFs linear interpolation is applied."
   ]
  },
  {
   "cell_type": "code",
   "execution_count": 4,
   "id": "c509de6f",
   "metadata": {},
   "outputs": [],
   "source": [
    "interpl_1 = interp1d(dat_beams[\"Time_DIC_1\"],dat_beams[\"Force_DIC_1\"]);\n",
    "Force_DOFS_1 = interpl_1(dat_beams[\"Time_DOFS_1\"]);\n",
    "\n",
    "interpl_2 = interp1d(dat_beams[\"Time_DIC_2\"],dat_beams[\"Force_DIC_2\"]);\n",
    "Force_DOFS_2 = interpl_2(dat_beams[\"Time_DOFS_2\"]);"
   ]
  },
  {
   "cell_type": "markdown",
   "id": "dcdd9b63",
   "metadata": {},
   "source": [
    "The resulting dataframe reads:"
   ]
  },
  {
   "cell_type": "code",
   "execution_count": 5,
   "id": "9d849840",
   "metadata": {},
   "outputs": [],
   "source": [
    "dat_beams = pd.concat([dat_beams.reset_index(drop=True),\\\n",
    "                      pd.DataFrame(Force_DOFS_1).reset_index(drop=True),\\\n",
    "                      pd.DataFrame(Force_DOFS_2).reset_index(drop=True)],axis=1);\n",
    "\n",
    "dat_beams.columns = [\"Time_DIC_1\",\"Force_DIC_1\",\"Time_DOFS_1\",\\\n",
    "                     \"Time_DIC_2\",\"Force_DIC_2\",\"Time_DOFS_2\",\\\n",
    "                     \"eps_c1_b1\", \"eps_c2_b1\", \"eps_c3_b1\", \"eps_c4_b1\", \"eps_c5_b1\", \"eps_c6_b1\",\\\n",
    "                     \"eps_c1_b2\", \"eps_c2_b2\", \"eps_c3_b2\", \"eps_c4_b2\", \"eps_c5_b2\", \"eps_c6_b2\",\\\n",
    "                     \"Force_DOFS_1\",\"Force_DOFS_2\"];"
   ]
  },
  {
   "cell_type": "markdown",
   "id": "fc88b93a",
   "metadata": {},
   "source": [
    "Change the time scale from minutes to seconds. Sicne only beams (1) and (2) are considered; the conversion is made only for those beams."
   ]
  },
  {
   "cell_type": "code",
   "execution_count": 6,
   "id": "f044b893",
   "metadata": {},
   "outputs": [],
   "source": [
    "crack_width_beam_1[\"Time\"] = crack_width_beam_1[\"Time\"]*60;\n",
    "crack_width_beam_2[\"Time\"] = crack_width_beam_2[\"Time\"]*60;"
   ]
  },
  {
   "cell_type": "markdown",
   "id": "bbf3072f",
   "metadata": {},
   "source": [
    "### Time, forces and moments when crack $w=0.05$ mm"
   ]
  },
  {
   "cell_type": "markdown",
   "id": "0de92799",
   "metadata": {},
   "source": [
    "In the paper you can read that the comparison between the developed method and methods of v.d. Schrier and the Interpolation method started from the onset where the considered crack width $w$ of crack $(4)$ is at a minimum of 0.05mm. The corresponding values of $w$, $t$, $F$ and the corresponding moment $M_{\\mathrm{ext}}$."
   ]
  },
  {
   "cell_type": "code",
   "execution_count": 7,
   "id": "8c8179b4",
   "metadata": {},
   "outputs": [
    {
     "name": "stdout",
     "output_type": "stream",
     "text": [
      "Crack width closest to 0.05mm: 0.055 mm.\n",
      "Time closest to 0.05mm: 164.967 s.\n",
      "Force when crack width is closest to 0.05mm: 12.696 kN\n",
      "Bending moment when first crack is closest to 0.05mm: 2.52 kNm\n",
      "\n",
      "\n",
      "Crack width closest to 0.05mm: 0.052 mm\n",
      "Time closest to 0.05mm: 224.0 3\n",
      "Force when crack width is closest to 0.05mm: 15.594 kN\n",
      "Bending moment when first crack is closest to 0.05mm: 2.815 kNm\n"
     ]
    }
   ],
   "source": [
    "print(\"Crack width closest to 0.05mm:\",np.round(crack_width_beam_1[\"w\"][7],3),\"mm.\")\n",
    "print(\"Time closest to 0.05mm:\",np.round(crack_width_beam_1[\"Time\"][7],3),\"s.\")\n",
    "\n",
    "interpl_1 = interp1d(dat_beams[\"Time_DIC_1\"],dat_beams[\"Force_DIC_1\"]);\n",
    "Force_first_crack_beam_1 = interpl_1(crack_width_beam_1[\"Time\"][7]);\n",
    "print(\"Force when crack width is closest to 0.05mm:\",np.round(Force_first_crack_beam_1,3),\"kN\")\n",
    "\n",
    "M_crack_1 = 0.25*Force_first_crack_beam_1*0.8*(1-((0.053-0.05)/0.4))\n",
    "print(\"Bending moment when first crack is closest to 0.05mm:\",round(M_crack_1,3),\"kNm\")\n",
    "\n",
    "print(\"\\n\");\n",
    "\n",
    "print(\"Crack width closest to 0.05mm:\",np.round(crack_width_beam_2[\"w\"][8],3),\"mm\")\n",
    "print(\"Time closest to 0.05mm:\",np.round(crack_width_beam_2[\"Time\"][8]),3);\n",
    "\n",
    "interpl_2 = interp1d(dat_beams[\"Time_DIC_2\"],dat_beams[\"Force_DIC_2\"]);\n",
    "Force_first_crack_beam_2 = interpl_2(crack_width_beam_2[\"Time\"][8]);\n",
    "print(\"Force when crack width is closest to 0.05mm:\", np.round(Force_first_crack_beam_2,3),\"kN\");\n",
    "\n",
    "M_crack_2 = 0.25*Force_first_crack_beam_2*0.8*(1-((0.089-0.05)/0.4))\n",
    "print(\"Bending moment when first crack is closest to 0.05mm:\",np.round(M_crack_2,3),\"kNm\")"
   ]
  },
  {
   "cell_type": "markdown",
   "id": "ce18832b",
   "metadata": {},
   "source": [
    "### Interpolate for the crack widths according to the sampling rate of the DOFs"
   ]
  },
  {
   "cell_type": "code",
   "execution_count": 8,
   "id": "f1f7163f",
   "metadata": {},
   "outputs": [],
   "source": [
    "timeipl_1 = interp1d(crack_width_beam_1[\"Time\"],crack_width_beam_1[\"w\"]);\n",
    "w_DOFS_1 = timeipl_1(dat_beams[\"Time_DOFS_1\"].iloc[0:6200]);\n",
    "\n",
    "timeipl_2 = interp1d(crack_width_beam_2[\"Time\"],crack_width_beam_2[\"w\"]);\n",
    "w_DOFS_2 = timeipl_2(dat_beams[\"Time_DOFS_2\"].iloc[0:6200]);"
   ]
  },
  {
   "cell_type": "code",
   "execution_count": 9,
   "id": "e9c57461",
   "metadata": {},
   "outputs": [],
   "source": [
    "datframe_crack_width_1 = pd.concat([dat_beams[\"Time_DOFS_1\"].reset_index(drop=True),\\\n",
    "                      pd.DataFrame(w_DOFS_1).reset_index(drop=True)],axis=1);\n",
    "datframe_crack_width_1.columns = [\"Time_DOFS_1\",\"w\"];\n",
    "\n",
    "datframe_crack_width_2 = pd.concat([dat_beams[\"Time_DOFS_2\"].reset_index(drop=True),\\\n",
    "                      pd.DataFrame(w_DOFS_2).reset_index(drop=True)],axis=1);\n",
    "datframe_crack_width_2.columns = [\"Time_DOFS_2\",\"w\"];"
   ]
  },
  {
   "cell_type": "markdown",
   "id": "d06fce53",
   "metadata": {},
   "source": [
    "### Plot the crack widths according to the applied force based on the sampling rate of the DOFs"
   ]
  },
  {
   "cell_type": "code",
   "execution_count": 10,
   "id": "4f34853a",
   "metadata": {},
   "outputs": [
    {
     "data": {
      "image/png": "[encoded data removed]",
      "text/plain": [
       "<Figure size 432x288 with 1 Axes>"
      ]
     },
     "metadata": {
      "needs_background": "light"
     },
     "output_type": "display_data"
    },
    {
     "data": {
      "image/png": "[encoded data removed]",
      "text/plain": [
       "<Figure size 432x288 with 1 Axes>"
      ]
     },
     "metadata": {
      "needs_background": "light"
     },
     "output_type": "display_data"
    }
   ],
   "source": [
    "plt.figure();\n",
    "plt.plot(datframe_crack_width_1[\"Time_DOFS_1\"],datframe_crack_width_1[\"w\"],'r',label=\"Time DOFs\");\n",
    "plt.plot(crack_width_beam_1[\"Time\"],crack_width_beam_1[\"w\"],\"*b\",label=\"Time DICs\");\n",
    "plt.xlabel(\"Time [s]\");\n",
    "plt.ylabel(\"Crack width [mm], number (4)\");\n",
    "plt.title(\"Beam 1 - Crack width vs time - measured by DOFs - Interpolated\");\n",
    "plt.xlim(0,600);\n",
    "plt.ylim(0,0.25);\n",
    "plt.grid();\n",
    "\n",
    "plt.figure();\n",
    "plt.plot(datframe_crack_width_2[\"Time_DOFS_2\"],datframe_crack_width_2[\"w\"],'r',label=\"Time DOFs\");\n",
    "plt.plot(crack_width_beam_2[\"Time\"],crack_width_beam_2[\"w\"],\"*b\",label=\"Time DICs\");\n",
    "plt.xlabel(\"Time [s]\");\n",
    "plt.ylabel(\"Crack width [mm], number (4)\");\n",
    "plt.title(\"Beam 2 - Crack width vs time - measured by DOFs - Interpolated\");\n",
    "plt.xlim(0,600);\n",
    "plt.ylim(0,0.25);\n",
    "plt.grid();"
   ]
  },
  {
   "cell_type": "markdown",
   "id": "87faf5fc",
   "metadata": {},
   "source": [
    "### Crack spacing according to Carlos et al."
   ]
  },
  {
   "cell_type": "markdown",
   "id": "e57f9c5f",
   "metadata": {},
   "source": [
    "The table below presents the location of the crack widths. Each column represent a crack; each row represents the beam. So, the amount of cracks measured for each beam is $5$ or $6$."
   ]
  },
  {
   "cell_type": "code",
   "execution_count": 11,
   "id": "4977a829",
   "metadata": {},
   "outputs": [
    {
     "name": "stdout",
     "output_type": "stream",
     "text": [
      "         0        1        2        3        4        5        6\n",
      "0  155.533  259.533  354.433  453.233  555.933  672.333      NaN\n",
      "1  155.625  268.725  362.975  489.075  552.125  666.475      NaN\n",
      "2  114.864  224.064  335.864  450.914  507.464  582.864  658.964\n",
      "3  187.133  288.533  391.233  454.283  536.833  634.983      NaN\n",
      "4  186.807  254.407  331.107  422.107  516.357  595.657  729.557\n",
      "5  156.879  250.479  306.379  376.579  479.929  550.779  659.979\n"
     ]
    }
   ],
   "source": [
    "crack_loc_beams = pd.read_csv(r'C:\\Users\\20210065\\surfdrive\\Documents\\60_Publications\\Synercrete_23\\Calculations\\Data\\Received\\OneDrive_1_13-10-2022\\Crack_positions_dofs.csv',\\\n",
    "                   sep=',',header=None);\n",
    "\n",
    "print(round(crack_loc_beams,3));"
   ]
  },
  {
   "cell_type": "markdown",
   "id": "b019d978",
   "metadata": {},
   "source": [
    "## 4 - Parameters for the analysis"
   ]
  },
  {
   "cell_type": "code",
   "execution_count": 12,
   "id": "d9961b28",
   "metadata": {},
   "outputs": [],
   "source": [
    "# Concrete properties\n",
    "f_cmcube = 61; #MPa; mean concrete cube compression strength\n",
    "f_ctm = 4; #MPa; mean concrete tensile strength\n",
    "Ec = 30000; #N/mm2; Youngs modulus of concrete\n",
    "\n",
    "# Reinforcement properties\n",
    "nbars = 2; #Number of bars\n",
    "phi = 10; #mm; diameter of reinforcement\n",
    "Es = 200000; #N/mm2; Youngs modulus of the reinforcement\n",
    "As = nbars*(1/4)*np.pi*phi**2; #N/mm2; Area of the reinforcement\n",
    "fy = 518; #N/mm2; Yield strength of the reinforcement\n",
    "\n",
    "# Geometry\n",
    "b = 100; #mm; width of the element\n",
    "h = 150; #mm; height of the element\n",
    "d = 120; #mm; working height of the element\n",
    "L = 800/1000; #mm; Span of the element between the supports\n",
    "c= 20; #mm; concrete cover"
   ]
  },
  {
   "cell_type": "code",
   "execution_count": 13,
   "id": "f965fcdb",
   "metadata": {},
   "outputs": [],
   "source": [
    "# Average cylindrical compression strength\n",
    "f_cm = 0.8513*f_cmcube + 2.995; #MPa; mean cylindrical compression strength, calculated from the mean cubic strength\n",
    "\n",
    "# Fracture energy\n",
    "Gf1 = 73*f_cm**(0.18)/1000; #N/mm; fracture energy according to mode 1;\n",
    "\n",
    "# Compression curve according to fib Model Code 2010\n",
    "eps_c1 = 0.0026; # Strain at maximum compression stress\n",
    "eps_lim = 0.0036; # Maximum allowable strain\n",
    "k = 1.71; # Ratio of Ec,i/Ec,1: tangent short-term youngs modulus of concrete / secant modulus\n",
    "\n",
    "# Input for Hordijk model\n",
    "cbw_1 = 101; #mm; crack bandwidth beam 1; chosen to be srm close to crack 4; = mean distance of crack 3-4 and 4-5\n",
    "cbw_2 = 86; #mm; crack bandwidth beam 1; chosen to be srm close to crack 4; = mean distance of crack 3-4 and 4-5\n",
    "c1 = 3; # Shape of the Hordijk Tension Softening curve\n",
    "c2 = 6.93; # Shape of the Hordijk Tension Softening curve\n",
    "\n",
    "ultstrain_1 = (5.136*Gf1/f_ctm) * (1/cbw_1);\n",
    "ultstrain_2 = (5.136*Gf1/f_ctm) * (1/cbw_2);\n",
    "\n",
    "# Analysis of the results\n",
    "nend_1 = 6200; nend_2 = 7000; # Starting and ending points of the analysis\n",
    "nstart_1 = 2053; nstart_2 = 2800; # Starting and ending points of the analysis\n",
    "npoints_1 = nend_1-nstart_1; npoints_2 = nend_2-nstart_2;"
   ]
  },
  {
   "cell_type": "markdown",
   "id": "4dfe4b98",
   "metadata": {},
   "source": [
    "## 5 - Throughput"
   ]
  },
  {
   "cell_type": "markdown",
   "id": "8fc5850c",
   "metadata": {},
   "source": [
    "### Crack widths according to Berrocal et al."
   ]
  },
  {
   "cell_type": "markdown",
   "id": "32ac9169",
   "metadata": {},
   "source": [
    "Since the paper \"Calculation of steel stresses in cracked reinforced rectangular concrete elements loaded in bending\" considers cracking; the cracking moment is calculated according to the paper which provided the data for this study."
   ]
  },
  {
   "cell_type": "code",
   "execution_count": 14,
   "id": "ad068586",
   "metadata": {},
   "outputs": [
    {
     "name": "stdout",
     "output_type": "stream",
     "text": [
      "Cracking moment according to Berrocal: 0.949 kNm\n",
      "Cracking moment according to Berrocal: 0.949 kNm\n"
     ]
    }
   ],
   "source": [
    "# According to paper:\n",
    "M_crack_1_berrocal = 0.25*4.78*0.8*(1-((0.053-0.05)/0.4));\n",
    "print(\"Cracking moment according to Berrocal:\",np.round(M_crack_1_berrocal,3),\"kNm\");\n",
    "\n",
    "M_crack_2_berrocal = 0.25*5.26*0.8*(1-((0.089-0.05)/0.4))\n",
    "print(\"Cracking moment according to Berrocal:\",np.round(M_crack_2_berrocal,3),\"kNm\");"
   ]
  },
  {
   "cell_type": "markdown",
   "id": "1096de00",
   "metadata": {},
   "source": [
    "### Cracking moment according *fib* Model Code 2010"
   ]
  },
  {
   "cell_type": "code",
   "execution_count": 15,
   "id": "50d595e5",
   "metadata": {},
   "outputs": [
    {
     "name": "stdout",
     "output_type": "stream",
     "text": [
      "Cracking moment according to fib Model Code 2010:  2.5 kNm\n"
     ]
    }
   ],
   "source": [
    "# Cracking moment\n",
    "a_fl = (0.06*b**0.7)/(1+0.06*b**0.7);\n",
    "f_ctm_fl =(1/a_fl)*f_ctm; #MPa\n",
    "Mcr = (1/6)*b*h**2 * f_ctm_fl; #Nmm\n",
    "\n",
    "print(\"Cracking moment according to fib Model Code 2010: \",round(Mcr/(10**6),1),\"kNm\");"
   ]
  },
  {
   "cell_type": "markdown",
   "id": "75e13119",
   "metadata": {},
   "source": [
    "### Ultimate resistance"
   ]
  },
  {
   "cell_type": "code",
   "execution_count": 16,
   "id": "76964cdc",
   "metadata": {},
   "outputs": [
    {
     "name": "stdout",
     "output_type": "stream",
     "text": [
      "Ultimate moment resistance  9.1 kNm\n"
     ]
    }
   ],
   "source": [
    "# Ultimate resistance of the bending moment\n",
    "z = d-(7/18)*As*fy/((3/4)*f_cm*b); # Internal lever arm; mm\n",
    "Mr = As*fy*z; # Ultimate bending moment resistance; Nmm\n",
    "\n",
    "print(\"Ultimate moment resistance \",round(Mr/(10**6),1),\"kNm\");"
   ]
  },
  {
   "cell_type": "markdown",
   "id": "26c17c21",
   "metadata": {},
   "source": [
    "## 6 - Calculation of steel stresses"
   ]
  },
  {
   "cell_type": "markdown",
   "id": "81c8ca5a",
   "metadata": {},
   "source": [
    "### Assuming a triangular compression zone: Method v.d. Schrier"
   ]
  },
  {
   "cell_type": "code",
   "execution_count": 17,
   "id": "a1d6e567",
   "metadata": {},
   "outputs": [
    {
     "name": "stdout",
     "output_type": "stream",
     "text": [
      "Height of the compression zone equals 40.743 mm\n"
     ]
    }
   ],
   "source": [
    "ae = Es/Ec; rho = As/(b*d);\n",
    "xc_schrier_temp = d*(-ae*rho + ( (ae*rho)**2 + 2*ae*rho )**(1/2));\n",
    "print(\"Height of the compression zone equals\",round(xc_schrier_temp,3), \"mm\");"
   ]
  },
  {
   "cell_type": "markdown",
   "id": "14a7d0d5",
   "metadata": {},
   "source": [
    "Below the function to calculate the height of the concrete compression zone and the corresponding strain at the top of the cross section, according to the Schrier method."
   ]
  },
  {
   "cell_type": "code",
   "execution_count": 18,
   "id": "8158e665",
   "metadata": {},
   "outputs": [],
   "source": [
    "def schrier_org(Mext):\n",
    "    \n",
    "    ae = Es/Ec;\n",
    "    rho = As/(b*d);\n",
    "    \n",
    "    xc_schrier = d*(-ae*rho + ( (ae*rho)**2 + 2*ae*rho )**(1/2));\n",
    "    z = d-xc_schrier/3;\n",
    "    \n",
    "    Fs = Mext/z;\n",
    "    sigs = Fs/As;\n",
    "    \n",
    "    eps_c_schrier = 2*Mext/( Ec*b*xc_schrier*(d-xc_schrier/3));\n",
    "    \n",
    "    return xc_schrier, sigs, eps_c_schrier"
   ]
  },
  {
   "cell_type": "markdown",
   "id": "5bf7bb4b",
   "metadata": {},
   "source": [
    "### Assuming linear interpolation between $M_{\\mathrm{ext}}$ and $M_{\\mathrm{R}}$"
   ]
  },
  {
   "cell_type": "markdown",
   "id": "7f4052a4",
   "metadata": {},
   "source": [
    "Below the function to calculate the height of the concrete compression zone and the corresponding strain at the top of the cross section, according to the Interpolation method."
   ]
  },
  {
   "cell_type": "code",
   "execution_count": 19,
   "id": "5bb7caa1",
   "metadata": {},
   "outputs": [],
   "source": [
    "def interpol(Mext):\n",
    "    \n",
    "    z = d-(7/18)*As*fy/((3/4)*f_cm*b);\n",
    "    \n",
    "    Mr = As*fy*z;\n",
    "    \n",
    "    sigs_inpl = Mext/Mr * fy;\n",
    "    eps_s = sigs_inpl / Es;\n",
    "    \n",
    "    xc_inpl = As*fy/((3/4)*f_cm*b);\n",
    "    \n",
    "    eps_c_inpl = eps_s*xc_inpl/(d-(c+phi/2));\n",
    "    \n",
    "    return xc_inpl, sigs_inpl, eps_c_inpl"
   ]
  },
  {
   "cell_type": "markdown",
   "id": "d139cdb9",
   "metadata": {},
   "source": [
    "### Results Response 2000"
   ]
  },
  {
   "cell_type": "code",
   "execution_count": 20,
   "id": "48332041",
   "metadata": {},
   "outputs": [],
   "source": [
    "dat_response_2000 = pd.read_csv(r'C:\\Users\\20210065\\surfdrive\\Documents\\60_Publications\\Synercrete_23\\Calculations\\Data\\Response_2000_output.csv',\\\n",
    "                   sep=',');"
   ]
  },
  {
   "cell_type": "markdown",
   "id": "7f232cf8",
   "metadata": {},
   "source": [
    "### Steel stress using nonlinear compression and Hordijk tension softening"
   ]
  },
  {
   "cell_type": "markdown",
   "id": "1ee96713",
   "metadata": {},
   "source": [
    "Below the function to calculate the height of the concrete compression zone and the corresponding strain at the top of the cross section, according to the Developed method as described in the paper."
   ]
  },
  {
   "cell_type": "markdown",
   "id": "f9f31637",
   "metadata": {},
   "source": [
    "#### Setting up the equilibrium equations and solve for $x_{\\mathrm{c}}$ and $\\epsilon_{\\mathrm{ext}}$"
   ]
  },
  {
   "cell_type": "markdown",
   "id": "142874d5",
   "metadata": {},
   "source": [
    "Below the equation to address case 1: at some point in the cross section, the strain is smaller than the ultimate strain."
   ]
  },
  {
   "cell_type": "code",
   "execution_count": 21,
   "id": "58e59bbf",
   "metadata": {},
   "outputs": [],
   "source": [
    "def eqset_1(p,Mext,ultstrain):\n",
    "    \n",
    "    eps_c,xc = p;\n",
    "\n",
    "    # Tension part 1\n",
    "    #=============================================================\n",
    "    xt1 = f_ctm*xc/(eps_c*Ec);\n",
    "    Fct1 = xt1*b*f_ctm/2;\n",
    "   \n",
    "    eps_b = ((h-xc-xt1)/xc)*eps_c;\n",
    "    \n",
    "    # Tension part 2\n",
    "    #=============================================================    \n",
    "    eps_b = ((h-xc-xt1)/xc)*eps_c;\n",
    "\n",
    "    def int_Hordijk(eps_t,eps_b,xc,xt1):\n",
    "        Hordijk = f_ctm*(( 1+(c1*eps_t/ultstrain)**3 ) *np.exp( -c2*eps_t/ultstrain ) - (eps_t/ultstrain)*(1+c1**3)*\\\n",
    "                        np.exp(-c2)); \n",
    "        Fct2 = ((h-xc-xt1)/eps_b)*b*Hordijk;\n",
    "        return Fct2\n",
    "\n",
    "    def int_Hordijk_moment(eps_t,eps_b,xc,xt1):\n",
    "        Hordijk = f_ctm*(( 1+(c1*eps_t/ultstrain)**3 ) *np.exp( -c2*eps_t/ultstrain ) - (eps_t/ultstrain)*(1+c1**3)*\\\n",
    "                        np.exp(-c2)); \n",
    "        Fct2 = ((h-xc-xt1)/eps_b)*b*Hordijk;\n",
    "        Fct2_M = Fct2*eps_t;\n",
    "        return Fct2_M\n",
    "\n",
    "    def int_Hordijk_force(eps_t,eps_b,xc,xt1):\n",
    "        Hordijk = f_ctm*(( 1+(c1*eps_t/ultstrain)**3 ) *np.exp( -c2*eps_t/ultstrain ) - (eps_t/ultstrain)*(1+c1**3)*\\\n",
    "                        np.exp(-c2)); \n",
    "        Fct2 = b*Hordijk;\n",
    "        return Fct2\n",
    "\n",
    "    Fct2 = quad(int_Hordijk,0,eps_b,args=(eps_b,xc,xt1))[0];\n",
    "\n",
    "    zct2 = quad(int_Hordijk_moment,0,eps_b,args=(eps_b,xc,xt1))[0]/quad(int_Hordijk_force,0,eps_b,args=(eps_b,xc,xt1))[0];\n",
    "    \n",
    "    # Compression part\n",
    "    #=============================================================\n",
    "    def int_compression(eps_lop,xc,eps_c):\n",
    "        eta = eps_lop/eps_c1;\n",
    "        sigma = f_cm*( eta*(k-eta)/(1 + eta*(k-2)) );\n",
    "        Fcp = (xc/eps_c)*b*sigma\n",
    "        return Fcp\n",
    "\n",
    "    def int_compression_moment(eps_lop,xc,eps_c):\n",
    "        eta = eps_lop/eps_c1;\n",
    "        sigma = f_cm*( eta*(k-eta)/(1 + eta*(k-2)) );\n",
    "        Fcp = (xc/eps_c)*b*sigma;\n",
    "        Fcp_eps_lop = Fcp*eps_lop;\n",
    "        return Fcp_eps_lop\n",
    "\n",
    "    def int_compression_force(eps_lop,xc,eps_c):\n",
    "        eta = eps_lop/eps_c1;\n",
    "        sigma = f_cm*( eta*(k-eta)/(1 + eta*(k-2)) );\n",
    "        Fcp = b*sigma;\n",
    "        return Fcp\n",
    "\n",
    "    Fcp = quad(int_compression,0,eps_c,args=(xc,eps_c))[0];\n",
    "\n",
    "    zcp = quad(int_compression_moment,0,eps_c,args=(xc,eps_c))[0]/quad(int_compression_force,0,eps_c,args=(xc,eps_c))[0];\n",
    "    \n",
    "    # Steel stress\n",
    "    #=============================================================\n",
    "    def reinf(eps_c,xc):\n",
    "        Fs = As*Es*eps_c*(d-xc)/xc;\n",
    "    \n",
    "        return Fs\n",
    "    \n",
    "    Fs = reinf(eps_c,xc);\n",
    "    \n",
    "    # Equilibrium equations\n",
    "    #=============================================================\n",
    "    return Fcp-Fct1-Fct2-Fs, \\\n",
    "        -Mext+Fcp*(h/2-(xc-zcp)) - Fct1*(h/2-xc-(2/3)*xt1) - Fct2*(h/2-xc-xt1-zct2) + Fs*(d-h/2);"
   ]
  },
  {
   "cell_type": "markdown",
   "id": "a82d78e7",
   "metadata": {},
   "source": [
    "Below the equation to address case 2: at some point in the cross section, the strain is larger than the ultimate strain."
   ]
  },
  {
   "cell_type": "code",
   "execution_count": 22,
   "id": "2b858666",
   "metadata": {},
   "outputs": [],
   "source": [
    "def eqset_2(p,Mext,ultstrain):\n",
    "    \n",
    "    eps_c,xc = p;\n",
    "\n",
    "    # Tension part 1\n",
    "    #=============================================================\n",
    "    xt1 = f_ctm*xc/(eps_c*Ec);\n",
    "    xt2 = xc*ultstrain/eps_c - xt1;\n",
    "    Fct1 = xt1*b*f_ctm/2;\n",
    "   \n",
    "    eps_b = ((h-xc-xt1)/xc)*eps_c;\n",
    "    \n",
    "    # Tension part 2\n",
    "    #=============================================================    \n",
    "    eps_b = ((h-xc-xt1)/xc)*eps_c;\n",
    "\n",
    "    def int_Hordijk(eps_t,eps_b,xc,xt1):\n",
    "        Hordijk = f_ctm*(( 1+(c1*eps_t/ultstrain)**3 ) *np.exp( -c2*eps_t/ultstrain ) - (eps_t/ultstrain)*(1+c1**3)*\\\n",
    "                        np.exp(-c2)); \n",
    "        Fct2 = (xt2/ultstrain)*b*Hordijk;\n",
    "        return Fct2\n",
    "\n",
    "    def int_Hordijk_moment(eps_t,eps_b,xc,xt1):\n",
    "        Hordijk = f_ctm*(( 1+(c1*eps_t/ultstrain)**3 ) *np.exp( -c2*eps_t/ultstrain ) - (eps_t/ultstrain)*(1+c1**3)*\\\n",
    "                        np.exp(-c2)); \n",
    "        Fct2 = (xt2/ultstrain)*b*Hordijk;\n",
    "        Fct2_M = Fct2*eps_t;\n",
    "        return Fct2_M\n",
    "\n",
    "    def int_Hordijk_force(eps_t,eps_b,xc,xt1):\n",
    "        Hordijk = f_ctm*(( 1+(c1*eps_t/ultstrain)**3 ) *np.exp( -c2*eps_t/ultstrain ) - (eps_t/ultstrain)*(1+c1**3)*\\\n",
    "                        np.exp(-c2)); \n",
    "        Fct2 = b*Hordijk;\n",
    "        return Fct2\n",
    "\n",
    "    Fct2 = quad(int_Hordijk,0,ultstrain,args=(eps_b,xc,xt1))[0];\n",
    "\n",
    "    zct2 = quad(int_Hordijk_moment,0,ultstrain,args=(eps_b,xc,xt1))[0]/quad(int_Hordijk_force,0,ultstrain,args=(eps_b,xc,xt1))[0];\n",
    "    \n",
    "    # Compression part\n",
    "    #=============================================================\n",
    "    def int_compression(eps_lop,xc,eps_c):\n",
    "        eta = eps_lop/eps_c1;\n",
    "        sigma = f_cm*( eta*(k-eta)/(1 + eta*(k-2)) );\n",
    "        Fcp = (xc/eps_c)*b*sigma\n",
    "        return Fcp\n",
    "\n",
    "    def int_compression_moment(eps_lop,xc,eps_c):\n",
    "        eta = eps_lop/eps_c1;\n",
    "        sigma = f_cm*( eta*(k-eta)/(1 + eta*(k-2)) );\n",
    "        Fcp = (xc/eps_c)*b*sigma;\n",
    "        Fcp_eps_lop = Fcp*eps_lop;\n",
    "        return Fcp_eps_lop\n",
    "\n",
    "    def int_compression_force(eps_lop,xc,eps_c):\n",
    "        eta = eps_lop/eps_c1;\n",
    "        sigma = f_cm*( eta*(k-eta)/(1 + eta*(k-2)) );\n",
    "        Fcp = b*sigma;\n",
    "        return Fcp\n",
    "\n",
    "    Fcp = quad(int_compression,0,eps_c,args=(xc,eps_c))[0];\n",
    "\n",
    "    zcp = quad(int_compression_moment,0,eps_c,args=(xc,eps_c))[0]/quad(int_compression_force,0,eps_c,args=(xc,eps_c))[0];\n",
    "    \n",
    "    # Steel stress\n",
    "    #=============================================================\n",
    "    def reinf(eps_c,xc):\n",
    "        Fs = As*Es*eps_c*(d-xc)/xc;\n",
    "    \n",
    "        return Fs\n",
    "    \n",
    "    Fs = reinf(eps_c,xc);\n",
    "    \n",
    "    # Equilibrium equations\n",
    "    #=============================================================\n",
    "    return Fcp-Fct1-Fct2-Fs, \\\n",
    "        -Mext+Fcp*(h/2-(xc-zcp)) - Fct1*(h/2-xc-(2/3)*xt1) - Fct2*(h/2-xc-xt1-zct2) + Fs*(d-h/2);"
   ]
  },
  {
   "cell_type": "code",
   "execution_count": 23,
   "id": "db97d54e",
   "metadata": {},
   "outputs": [],
   "source": [
    "# Calculate the force in the reinforcement steel\n",
    "#=============================================================\n",
    "def calculate_Fs(eps_c,xc):\n",
    "    Fs = As*Es*eps_c*(d-xc)/xc;\n",
    "    \n",
    "    return Fs\n",
    "\n",
    "def calculate_eps_bot(eps_c,xc):\n",
    "    epsbot = eps_c*(h-xc)/xc;\n",
    "    \n",
    "    return epsbot\n",
    "\n",
    "# Calculate the residual\n",
    "#=============================================================\n",
    "def calres():\n",
    "    horres = Fcp-Fct1-Fct2-Fs;\n",
    "    \n",
    "    return horres"
   ]
  },
  {
   "cell_type": "markdown",
   "id": "31108c92",
   "metadata": {},
   "source": [
    "### Beam 1 and 2"
   ]
  },
  {
   "cell_type": "markdown",
   "id": "c000d25d",
   "metadata": {},
   "source": [
    "#### Solve the nonlinear equations"
   ]
  },
  {
   "cell_type": "code",
   "execution_count": 24,
   "id": "e7c777b8",
   "metadata": {},
   "outputs": [],
   "source": [
    "# Create storage\n",
    "ratio_new_1 = np.zeros(npoints_1); ratio_new_2 = np.zeros(npoints_2);\n",
    "Mext_1 = np.zeros(npoints_1); Mext_2 = np.zeros(npoints_2);\n",
    "\n",
    "eps_c_schrier_1 = np.zeros(npoints_1); eps_c_schrier_2 = np.zeros(npoints_2);\n",
    "sigs_schrier_1 = np.zeros(npoints_1); sigs_schrier_2 = np.zeros(npoints_2);\n",
    "xc_schrier_1 = np.zeros(npoints_1); xc_schrier_2 = np.zeros(npoints_2);\n",
    "ratios_schrier_1 = np.zeros(npoints_1); ratios_schrier_2 = np.zeros(npoints_2); \n",
    "\n",
    "eps_c_new_1 = np.zeros(npoints_1); eps_c_new_2 = np.zeros(npoints_2);\n",
    "xc_new_1 = np.zeros(npoints_1); xc_new_2 = np.zeros(npoints_2);\n",
    "Fs_new_1 = np.zeros(npoints_1); Fs_new_2 = np.zeros(npoints_2);\n",
    "sigs_new_1 = np.zeros(npoints_1); sigs_new_2 = np.zeros(npoints_2); \n",
    "ratios_new_1 = np.zeros(npoints_1); ratios_new_2 = np.zeros(npoints_2);\n",
    "\n",
    "eps_c_inpl_1 = np.zeros(npoints_1); eps_c_inpl_2 = np.zeros(npoints_2);\n",
    "sigs_inpl_1 = np.zeros(npoints_1); sigs_inpl_2 = np.zeros(npoints_2); \n",
    "xc_inpl_1 = np.zeros(npoints_1); xc_inpl_2 = np.zeros(npoints_2);\n",
    "ratios_inpl_1 = np.zeros(npoints_1); ratios_inpl_2 = np.zeros(npoints_2); \n",
    "\n",
    "sigs_meas_1 = np.zeros(npoints_1); sigs_meas_2 = np.zeros(npoints_2); "
   ]
  },
  {
   "cell_type": "markdown",
   "id": "b271736a",
   "metadata": {},
   "source": [
    "Nonlinear equations are solved using the solver of Scipy. For solving the equations; the fsolve has been used. The default settings for the solver were used. For the default settings is reffered to https://docs.scipy.org/doc/scipy/reference/generated/scipy.optimize.fsolve.html."
   ]
  },
  {
   "cell_type": "code",
   "execution_count": 25,
   "id": "5f67ae1e",
   "metadata": {},
   "outputs": [
    {
     "name": "stderr",
     "output_type": "stream",
     "text": [
      "C:\\Users\\20210065\\Anaconda3\\lib\\site-packages\\scipy\\optimize\\minpack.py:175: RuntimeWarning: The iteration is not making good progress, as measured by the \n",
      "  improvement from the last ten iterations.\n",
      "  warnings.warn(msg, RuntimeWarning)\n",
      "C:\\Users\\20210065\\Anaconda3\\lib\\site-packages\\scipy\\optimize\\minpack.py:175: RuntimeWarning: The iteration is not making good progress, as measured by the \n",
      "  improvement from the last five Jacobian evaluations.\n",
      "  warnings.warn(msg, RuntimeWarning)\n"
     ]
    }
   ],
   "source": [
    "for i in range(npoints_1):\n",
    "    \n",
    "    # Calculate the related moments to the applied force at the location of the considered crack (crack (4))\n",
    "    #=============================================================\n",
    "    Mext_1[i] = dat_beams[\"Force_DOFS_1\"][nstart_1+i]*(1/4)*L*(10**6)*(1-((0.053-0.05)/0.4));\n",
    "    \n",
    "    # Determine steel stress according to measurements (calculated as product of measured strain * Youngs modulus)\n",
    "    #=============================================================      \n",
    "    sigs_meas_1[i] = dat_beams[\"eps_c4_b1\"][nstart_1+i]*Es/(10**6);\n",
    "\n",
    "    # Calculation of steel stresses according to v.d. Schrier\n",
    "    #=============================================================    \n",
    "    xc_schrier_1[i] = schrier_org(Mext_1[i])[0];\n",
    "    sigs_schrier_1[i] = schrier_org(Mext_1[i])[1];\n",
    "    eps_c_schrier_1[i] = schrier_org(Mext_1[i])[2];\n",
    "    \n",
    "    # Calculation of steel stresses according to interpolation method\n",
    "    #=============================================================\n",
    "    xc_inpl_1[i] = interpol(Mext_1[i])[0];\n",
    "    sigs_inpl_1[i] = interpol(Mext_1[i])[1];\n",
    "    eps_c_inpl_1[i] = interpol(Mext_1[i])[2];\n",
    "    \n",
    "    # Call function to solve for eps_c and xc - BEAM 1\n",
    "    #=============================================================\n",
    "    eps_c_new_temp_case_1, xc_new_temp_case_1 =\\\n",
    "        fsolve(eqset_1,[eps_c_schrier_1[i],xc_schrier_1[i]],args=(Mext_1[i],ultstrain_1));\n",
    "    eps_c_new_temp_case_2, xc_new_temp_case_2 =\\\n",
    "        fsolve(eqset_2,[eps_c_schrier_1[i],xc_schrier_1[i]],args=(Mext_1[i],ultstrain_1));\n",
    "    \n",
    "    eps_bot_new_temp_case_1 = calculate_eps_bot(eps_c_new_temp_case_1,xc_new_temp_case_1);\n",
    "    eps_bot_new_temp_case_2 = calculate_eps_bot(eps_c_new_temp_case_2,xc_new_temp_case_2);\n",
    "    \n",
    "    if datframe_crack_width_1[\"w\"].iloc[nstart_1+i] < ultstrain_1*cbw_1:\n",
    "        eps_c_new_1[i] = eps_c_new_temp_case_1;\n",
    "        xc_new_1[i] = xc_new_temp_case_1;\n",
    "    else:\n",
    "        eps_c_new_1[i] = eps_c_new_temp_case_2;\n",
    "        xc_new_1[i] = xc_new_temp_case_2;\n",
    "\n",
    "    # Evaluate the quantities of the new model\n",
    "    #=============================================================\n",
    "    # Steel stress\n",
    "    Fs_new_1[i] = calculate_Fs(eps_c_new_1[i],xc_new_1[i]);\n",
    "    sigs_new_1[i] = Fs_new_1[i]/As;\n",
    "    \n",
    "    # Evaluate the ratios (cal / meas)\n",
    "    #=============================================================\n",
    "    ratios_schrier_1[i] = sigs_schrier_1[i] / sigs_meas_1[i];\n",
    "    ratios_inpl_1[i] = sigs_inpl_1[i] / sigs_meas_1[i];\n",
    "\n",
    "    ratios_new_1[i] = sigs_new_1[i] / sigs_meas_1[i];"
   ]
  },
  {
   "cell_type": "code",
   "execution_count": 26,
   "id": "4bc107e4",
   "metadata": {},
   "outputs": [],
   "source": [
    "for i in range(npoints_2):\n",
    "    \n",
    "    # Calculate the related moments to the applied force at the location of the considered crack (crack (4))\n",
    "    #=============================================================\n",
    "    Mext_2[i] = dat_beams[\"Force_DOFS_2\"][nstart_2+i]*(1/4)*L*(10**6)*(1-((0.089-0.05)/0.4));\n",
    "    \n",
    "    # Determine steel stress according to measurements (calculated as product of measured strain * Youngs modulus)\n",
    "    #=============================================================      \n",
    "    sigs_meas_2[i] = dat_beams[\"eps_c4_b2\"][nstart_2+i]*Es/(10**6);\n",
    "\n",
    "    # Calculation of steel stresses according to v.d. Schrier\n",
    "    #=============================================================    \n",
    "    xc_schrier_2[i] = schrier_org(Mext_2[i])[0];\n",
    "    sigs_schrier_2[i] = schrier_org(Mext_2[i])[1];\n",
    "    eps_c_schrier_2[i] = schrier_org(Mext_2[i])[2];\n",
    "    \n",
    "    # Calculation of steel stresses according to interpolation method\n",
    "    #=============================================================\n",
    "    xc_inpl_2[i] = interpol(Mext_2[i])[0];\n",
    "    sigs_inpl_2[i] = interpol(Mext_2[i])[1];\n",
    "    eps_c_inpl_2[i] = interpol(Mext_2[i])[2];\n",
    "    \n",
    "    # Call function to solve for eps_c and xc - BEAM 2\n",
    "    #=============================================================\n",
    "    eps_c_new_temp_case_1, xc_new_temp_case_1 =\\\n",
    "        fsolve(eqset_1,[eps_c_schrier_2[i],xc_schrier_2[i]],args=(Mext_2[i],ultstrain_2));\n",
    "    eps_c_new_temp_case_2, xc_new_temp_case_2 =\\\n",
    "        fsolve(eqset_2,[eps_c_schrier_2[i],xc_schrier_2[i]],args=(Mext_2[i],ultstrain_2));\n",
    "    \n",
    "    eps_bot_new_temp_case_1 = calculate_eps_bot(eps_c_new_temp_case_1,xc_new_temp_case_1);\n",
    "    eps_bot_new_temp_case_2 = calculate_eps_bot(eps_c_new_temp_case_2,xc_new_temp_case_2);\n",
    "    \n",
    "    if datframe_crack_width_2[\"w\"].iloc[nstart_2+i] < ultstrain_2*cbw_2:\n",
    "        eps_c_new_2[i] = eps_c_new_temp_case_1;\n",
    "        xc_new_2[i] = xc_new_temp_case_1;\n",
    "    else:\n",
    "        eps_c_new_2[i] = eps_c_new_temp_case_2;\n",
    "        xc_new_2[i] = xc_new_temp_case_2;\n",
    "\n",
    "    # Evaluate the quantities of the new model\n",
    "    #=============================================================\n",
    "    # Steel stress\n",
    "    Fs_new_2[i] = calculate_Fs(eps_c_new_2[i],xc_new_2[i]);\n",
    "    sigs_new_2[i] = Fs_new_2[i]/As;\n",
    "    \n",
    "    # Evaluate the ratios (cal / meas)\n",
    "    #=============================================================\n",
    "    ratios_schrier_2[i] = sigs_schrier_2[i] / sigs_meas_2[i];\n",
    "    ratios_inpl_2[i] = sigs_inpl_2[i] / sigs_meas_2[i];\n",
    "\n",
    "    ratios_new_2[i] = sigs_new_2[i] / sigs_meas_2[i];"
   ]
  },
  {
   "cell_type": "markdown",
   "id": "835b3738",
   "metadata": {},
   "source": [
    "#### Plot steel stresses verses the crack width $w$"
   ]
  },
  {
   "cell_type": "markdown",
   "id": "23a7a043",
   "metadata": {},
   "source": [
    "In the plot below the steel stresses vs $w$, located at crack (4), is calculated."
   ]
  },
  {
   "cell_type": "code",
   "execution_count": 27,
   "id": "ae2ff35c",
   "metadata": {},
   "outputs": [
    {
     "data": {
      "image/png": "[encoded data removed]",
      "text/plain": [
       "<Figure size 396.85x141.732 with 1 Axes>"
      ]
     },
     "metadata": {
      "needs_background": "light"
     },
     "output_type": "display_data"
    }
   ],
   "source": [
    "fig5 = plt.figure(figsize=(2*figsize[0],figsize[1]));\n",
    "plt.plot(datframe_crack_width_1[\"w\"].iloc[nstart_1:nstart_1+npoints_1],sigs_schrier_1,'g',\\\n",
    "         label=r\" $\\hat{\\sigma}_{\\mathrm{s}}$ - Schrier\");\n",
    "plt.plot(datframe_crack_width_1[\"w\"].iloc[nstart_1:nstart_1+npoints_1],sigs_inpl_1,'y',\\\n",
    "         label=r\" $\\hat{\\sigma}_{\\mathrm{s}}$ - Interpolation\");\n",
    "plt.plot(datframe_crack_width_1[\"w\"].iloc[nstart_1:nstart_1+npoints_1],sigs_new_1,'b',\\\n",
    "         label=r\"$\\hat{\\sigma}_{\\mathrm{s}}$ - Developed method\");\n",
    "plt.plot(datframe_crack_width_1[\"w\"].iloc[nstart_1:nstart_1+npoints_1],sigs_meas_1,'r-',markevery=50,\\\n",
    "         label=r\"$\\sigma_{\\mathrm{s}}$ - Beam 1\");\n",
    "plt.plot(datframe_crack_width_2[\"w\"].iloc[nstart_2:nstart_2+npoints_2],sigs_meas_2,'r--',dashes=(10,3),markevery=200,\\\n",
    "        label=r\"$\\sigma_{\\mathrm{s}}$ - Beam 2\");\n",
    "plt.plot(dat_response_2000[\"w\"],dat_response_2000[\"sigs\"],'m',label=r\"$\\hat{\\sigma}_{\\mathrm{s}}$ - Response 2000\");\n",
    "dat_response_2000\n",
    "plt.xlim(0.05,0.2);\n",
    "plt.ylim(0,400);\n",
    "plt.xlabel(r\"$w$ crack (4) [mm]\");\n",
    "plt.ylabel(r\" $\\sigma_{\\mathrm{s}}$ [MPa]\");\n",
    "plt.grid();\n",
    "plt.legend(bbox_to_anchor=(1.48,0.5),loc=\"right\",borderaxespad=0,handlelength=3.5);\n",
    "fig5.savefig(r'C:\\Users\\20210065\\surfdrive\\Documents\\60_Publications\\Synercrete_23\\Figures\\Export_Python\\stress_both_beams.tif',\\\n",
    "                          bbox_inches='tight',dpi=(dpisize));"
   ]
  },
  {
   "cell_type": "markdown",
   "id": "08f25506",
   "metadata": {},
   "source": [
    "## 7 - Force - time - crack width $w$ plots"
   ]
  },
  {
   "cell_type": "code",
   "execution_count": 28,
   "id": "fd4035ea",
   "metadata": {},
   "outputs": [
    {
     "data": {
      "image/png": "[encoded data removed]",
      "text/plain": [
       "<Figure size 396.85x141.732 with 4 Axes>"
      ]
     },
     "metadata": {
      "needs_background": "light"
     },
     "output_type": "display_data"
    }
   ],
   "source": [
    "# Function to plot the axis\n",
    "def two_scales(ax1, time1, time2, data1, data2, c1, c2):\n",
    "    ax2 = ax1.twinx()\n",
    "    ax1.plot(time1, data1, color=c1)\n",
    "    ax1.set_xlabel(r\" $t$ [s]\")\n",
    "    ax1.set_ylabel(r\" $M_{\\mathrm{ext}}$ [kNm]\",color='r')\n",
    "    ax1.tick_params(axis='y', colors='r') ;\n",
    "    ax1.set_ylim([0,10]);\n",
    "    ax2.set_ylim([0,0.25]);\n",
    "    ax2.plot(time2, data2, color=c2)\n",
    "    ax2.set_ylabel(r'$w$ crack (4) [mm]',color='b')\n",
    "    ax2.tick_params(axis='y', colors='b') ;\n",
    "    ax1.grid()\n",
    "    ax1.plot([0,550],[M_crack_1,M_crack_1],\"k-\",label=\"Mext acc Fup\");\n",
    "    ax1.plot([0,550],[Mr/(10**6),Mr/(10**6)],\"k--\",label=\"Mext acc Fup\")\n",
    "    return ax1, ax2\n",
    "\n",
    "# Create axes\n",
    "fig10, (ax1, ax2) = plt.subplots(1,2, figsize=(2*figsize[0],figsize[1]))\n",
    "ax1, ax1a = two_scales(ax1, dat_beams[\"Time_DOFS_1\"].iloc[nstart_1:nstart_1+npoints_1],\\\n",
    "                       crack_width_beam_1[\"Time\"], Mext_1/(10**6),crack_width_beam_1[\"w\"], 'r', 'b')\n",
    "ax2, ax2a = two_scales(ax2, dat_beams[\"Time_DOFS_2\"].iloc[nstart_2:nstart_2+npoints_2],\\\n",
    "                       crack_width_beam_2[\"Time\"], Mext_2/(10**6),crack_width_beam_2[\"w\"], 'r', 'b')\n",
    "\n",
    "# Change color of each axis\n",
    "def color_y_axis(ax, color):\n",
    "    \"\"\"Color your axes.\"\"\"\n",
    "    for t in ax.get_yticklabels():\n",
    "        t.set_color(color)\n",
    "\n",
    "# Plot settings\n",
    "plt.tight_layout();\n",
    "colors = ['red', 'blue', 'black', 'black'];\n",
    "line1= Line2D([0], [0], color='red',linewidth=3, linestyle='--');\n",
    "line2= Line2D([0], [0], color='blue', linewidth=3, linestyle='--');\n",
    "line3= Line2D([0], [0], color='black', linewidth=3, linestyle='-');\n",
    "line4= Line2D([0], [0], color='black', linewidth=3, linestyle='--');\n",
    "labels = [r\" $M_{\\mathrm{ext}}$ [kNm]\", r'$w$ crack (4) [mm]',\\\n",
    "         r\" $M_{\\mathrm{ext}}$ [kNm] at $F_{\\mathrm{low}}$ [kN]\",\\\n",
    "         r\" $M_{\\mathrm{ext}}$ [kNm] at $F_{\\mathrm{up}}$ [kN]\"];\n",
    "plt.legend([line1,line2,line3,line4], labels,loc='lower center',bbox_to_anchor=(-0.4,-0.9),ncol=2);\n",
    "plt.show();\n",
    "fig10.savefig(r'C:\\Users\\20210065\\surfdrive\\Documents\\60_Publications\\Synercrete_23\\Figures\\Export_Python\\subplots.tif',\\\n",
    "                          bbox_inches='tight',dpi=(dpisize));"
   ]
  },
  {
   "cell_type": "markdown",
   "id": "fa320066",
   "metadata": {},
   "source": [
    "## 8 - Evaluate the strains and stresses at the top and bottom of the cross section, respectively"
   ]
  },
  {
   "cell_type": "markdown",
   "id": "aa3a7c7f",
   "metadata": {},
   "source": [
    "### Beam 1"
   ]
  },
  {
   "cell_type": "markdown",
   "id": "26449145",
   "metadata": {},
   "source": [
    "#### Developed method"
   ]
  },
  {
   "cell_type": "code",
   "execution_count": 29,
   "id": "d19ff018",
   "metadata": {},
   "outputs": [
    {
     "name": "stdout",
     "output_type": "stream",
     "text": [
      "Bending moment 2.505 kNm\n",
      "Stress at top 0.00023 -\n",
      "Stress at bottom 0.00028 -\n",
      "Height of the cross section 67.207 mm\n",
      "\n",
      "\n",
      "Bending moment 7.688 kNm\n",
      "Stress at top 0.00114 -\n",
      "Stress at bottom 0.00307 -\n",
      "Height of the cross section 40.664 mm\n",
      "Stress in reinforcement at a crack 446.1607396359682\n"
     ]
    }
   ],
   "source": [
    "# Bending moment at start\n",
    "print(\"Bending moment\",round(Mext_1[0]/(1e6),3),\"kNm\");\n",
    "print(\"Stress at top\",round(eps_c_new_1[0],5),\"-\");\n",
    "print(\"Stress at bottom\",round(eps_c_new_1[0]*(h-xc_new_1[0])/xc_new_1[0],5),\"-\");\n",
    "print(\"Height of the cross section\",round(xc_new_1[0],3),\"mm\");\n",
    "print(\"\\n\");\n",
    "print(\"Bending moment\",round(Mext_1[-1]/(1e6),3),\"kNm\")\n",
    "print(\"Stress at top\",round(eps_c_new_1[-1],5),\"-\");\n",
    "print(\"Stress at bottom\",round(eps_c_new_1[-1]*(h-xc_new_1[-1])/xc_new_1[-1],5),\"-\");\n",
    "print(\"Height of the cross section\",round(xc_new_1[-1],3),\"mm\");\n",
    "print(\"Stress in reinforcement at a crack\",sigs_new_1[-1])"
   ]
  },
  {
   "cell_type": "markdown",
   "id": "ddff6e81",
   "metadata": {},
   "source": [
    "#### v.d. Schrier"
   ]
  },
  {
   "cell_type": "code",
   "execution_count": 30,
   "id": "abbcce36",
   "metadata": {},
   "outputs": [
    {
     "name": "stdout",
     "output_type": "stream",
     "text": [
      "Bending moment 2.505 kNm\n",
      "Stress at top 0.00039 -\n",
      "Stress at bottom 0.00103 -\n",
      "Height of the cross section 40.743 mm\n",
      "\n",
      "\n",
      "Bending moment 7.688 kNm\n",
      "Stress at top 0.00118 -\n",
      "Stress at bottom 0.00317 -\n",
      "Height of the cross section 40.743 mm\n"
     ]
    }
   ],
   "source": [
    "print(\"Bending moment\",round(Mext_1[0]/(1e6),3),\"kNm\")\n",
    "print(\"Stress at top\",round(eps_c_schrier_1[0],5),\"-\");\n",
    "print(\"Stress at bottom\",round(eps_c_schrier_1[0]*(h-xc_schrier_1[0])/xc_schrier_1[0],5),\"-\");\n",
    "print(\"Height of the cross section\",round(xc_schrier_1[0],3),\"mm\");\n",
    "print(\"\\n\");\n",
    "print(\"Bending moment\",round(Mext_1[-1]/(1e6),3),\"kNm\")\n",
    "print(\"Stress at top\",round(eps_c_schrier_1[-1],5),\"-\");\n",
    "print(\"Stress at bottom\",round(eps_c_schrier_1[-1]*(h-xc_schrier_1[-1])/xc_schrier_1[-1],5),\"-\");\n",
    "print(\"Height of the cross section\",round(xc_schrier_1[-1],3),\"mm\");"
   ]
  },
  {
   "cell_type": "markdown",
   "id": "17ba8512",
   "metadata": {},
   "source": [
    "#### Interpolation method"
   ]
  },
  {
   "cell_type": "code",
   "execution_count": 31,
   "id": "274f4776",
   "metadata": {},
   "outputs": [
    {
     "name": "stdout",
     "output_type": "stream",
     "text": [
      "Bending moment 2.505 kNm\n",
      "Stress at top 0.00015 -\n",
      "Stress at bottom 0.00097 -\n",
      "Height of the cross section 19.753 mm\n",
      "\n",
      "\n",
      "Bending moment 7.688 kNm\n",
      "Stress at top 0.00045 -\n",
      "Stress at bottom 0.00299 -\n",
      "Height of the cross section 19.753 mm\n"
     ]
    }
   ],
   "source": [
    "print(\"Bending moment\",round(Mext_1[0]/(1e6),3),\"kNm\")\n",
    "print(\"Stress at top\",round(eps_c_inpl_1[0],5),\"-\");\n",
    "print(\"Stress at bottom\",round(eps_c_inpl_1[0]*(h-xc_inpl_1[0])/xc_inpl_1[0],5),\"-\");\n",
    "print(\"Height of the cross section\",round(xc_inpl_1[0],3),\"mm\");\n",
    "print(\"\\n\");\n",
    "print(\"Bending moment\",round(Mext_1[-1]/(1e6),3),\"kNm\")\n",
    "print(\"Stress at top\",round(eps_c_inpl_1[-1],5),\"-\");\n",
    "print(\"Stress at bottom\",round(eps_c_inpl_1[-1]*(h-xc_inpl_1[-1])/xc_inpl_1[-1],5),\"-\");\n",
    "print(\"Height of the cross section\",round(xc_inpl_1[-1],3),\"mm\");"
   ]
  },
  {
   "cell_type": "markdown",
   "id": "61895f3b",
   "metadata": {},
   "source": [
    "### Beam 2"
   ]
  },
  {
   "cell_type": "markdown",
   "id": "8e25684b",
   "metadata": {},
   "source": [
    "#### Developed method"
   ]
  },
  {
   "cell_type": "code",
   "execution_count": 32,
   "id": "5ff8ef3f",
   "metadata": {},
   "outputs": [
    {
     "name": "stdout",
     "output_type": "stream",
     "text": [
      "Bending moment 2.811 kNm\n",
      "Stress at top 0.00031 -\n",
      "Stress at bottom 0.00048 -\n",
      "Height of the cross section 58.545 mm\n",
      "\n",
      "\n",
      "Bending moment 7.357 kNm\n",
      "Stress at top 0.00109 -\n",
      "Stress at bottom 0.00291 -\n",
      "Height of the cross section 40.94 mm\n"
     ]
    }
   ],
   "source": [
    "# Bending moment at start\n",
    "print(\"Bending moment\",round(Mext_2[0]/(1e6),3),\"kNm\");\n",
    "print(\"Stress at top\",round(eps_c_new_2[0],5),\"-\");\n",
    "print(\"Stress at bottom\",round(eps_c_new_2[0]*(h-xc_new_2[0])/xc_new_2[0],5),\"-\");\n",
    "print(\"Height of the cross section\",round(xc_new_2[0],3),\"mm\");\n",
    "print(\"\\n\");\n",
    "print(\"Bending moment\",round(Mext_2[-1]/(1e6),3),\"kNm\")\n",
    "print(\"Stress at top\",round(eps_c_new_2[-1],5),\"-\");\n",
    "print(\"Stress at bottom\",round(eps_c_new_2[-1]*(h-xc_new_2[-1])/xc_new_2[-1],5),\"-\");\n",
    "print(\"Height of the cross section\",round(xc_new_2[-1],3),\"mm\");"
   ]
  },
  {
   "cell_type": "markdown",
   "id": "b8450804",
   "metadata": {},
   "source": [
    "#### v.d. Schrier"
   ]
  },
  {
   "cell_type": "code",
   "execution_count": 33,
   "id": "07b54fea",
   "metadata": {},
   "outputs": [
    {
     "name": "stdout",
     "output_type": "stream",
     "text": [
      "Bending moment 2.811 kNm\n",
      "Stress at top 0.00043 -\n",
      "Stress at bottom 0.00116 -\n",
      "Height of the cross section 40.743 mm\n",
      "\n",
      "\n",
      "Bending moment 7.357 kNm\n",
      "Stress at top 0.00113 -\n",
      "Stress at bottom 0.00303 -\n",
      "Height of the cross section 40.743 mm\n"
     ]
    }
   ],
   "source": [
    "print(\"Bending moment\",round(Mext_2[0]/(1e6),3),\"kNm\")\n",
    "print(\"Stress at top\",round(eps_c_schrier_2[0],5),\"-\");\n",
    "print(\"Stress at bottom\",round(eps_c_schrier_2[0]*(h-xc_schrier_2[0])/xc_schrier_2[0],5),\"-\");\n",
    "print(\"Height of the cross section\",round(xc_schrier_2[0],3),\"mm\");\n",
    "print(\"\\n\");\n",
    "print(\"Bending moment\",round(Mext_2[-1]/(1e6),3),\"kNm\")\n",
    "print(\"Stress at top\",round(eps_c_schrier_2[-1],5),\"-\");\n",
    "print(\"Stress at bottom\",round(eps_c_schrier_2[-1]*(h-xc_schrier_2[-1])/xc_schrier_2[-1],5),\"-\");\n",
    "print(\"Height of the cross section\",round(xc_schrier_2[-1],3),\"mm\");"
   ]
  },
  {
   "cell_type": "markdown",
   "id": "9db468c2",
   "metadata": {},
   "source": [
    "#### Interpolation method"
   ]
  },
  {
   "cell_type": "code",
   "execution_count": 34,
   "id": "fc15fa33",
   "metadata": {},
   "outputs": [
    {
     "name": "stdout",
     "output_type": "stream",
     "text": [
      "Bending moment 2.811 kNm\n",
      "Stress at top 0.00017 -\n",
      "Stress at bottom 0.00109 -\n",
      "Height of the cross section 19.753 mm\n",
      "\n",
      "\n",
      "Bending moment 7.357 kNm\n",
      "Stress at top 0.00043 -\n",
      "Stress at bottom 0.00286 -\n",
      "Height of the cross section 19.753 mm\n"
     ]
    }
   ],
   "source": [
    "print(\"Bending moment\",round(Mext_2[0]/(1e6),3),\"kNm\")\n",
    "print(\"Stress at top\",round(eps_c_inpl_2[0],5),\"-\");\n",
    "print(\"Stress at bottom\",round(eps_c_inpl_2[0]*(h-xc_inpl_2[0])/xc_inpl_2[0],5),\"-\");\n",
    "print(\"Height of the cross section\",round(xc_inpl_2[0],3),\"mm\");\n",
    "print(\"\\n\");\n",
    "print(\"Bending moment\",round(Mext_2[-1]/(1e6),3),\"kNm\")\n",
    "print(\"Stress at top\",round(eps_c_inpl_2[-1],5),\"-\");\n",
    "print(\"Stress at bottom\",round(eps_c_inpl_2[-1]*(h-xc_inpl_2[-1])/xc_inpl_2[-1],5),\"-\");\n",
    "print(\"Height of the cross section\",round(xc_inpl_2[-1],3),\"mm\");"
   ]
  }
 ],
 "metadata": {
  "kernelspec": {
   "display_name": "Python 3",
   "language": "python",
   "name": "python3"
  },
  "language_info": {
   "codemirror_mode": {
    "name": "ipython",
    "version": 3
   },
   "file_extension": ".py",
   "mimetype": "text/x-python",
   "name": "python",
   "nbconvert_exporter": "python",
   "pygments_lexer": "ipython3",
   "version": "3.8.8"
  }
 },
 "nbformat": 4,
 "nbformat_minor": 5
}
