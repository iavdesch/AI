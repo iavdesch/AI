{
 "cells": [
  {
   "cell_type": "markdown",
   "id": "8d7ffd60",
   "metadata": {},
   "source": [
    "# Determination of uncertainty in the description of crack widths using artificial neural networks"
   ]
  },
  {
   "cell_type": "markdown",
   "id": "dd34bd98",
   "metadata": {},
   "source": [
    "## Info"
   ]
  },
  {
   "cell_type": "markdown",
   "id": "60a93083",
   "metadata": {},
   "source": [
    "This notebook is created and originally uploaded on GitHub by Anton van der Esch and contains the calculations of the paper \"Determination of uncertainty in the description of crack widths using artificial neural networks\". Before using this notebook, please consider the accompanying license which can be found in the licence.\n",
    "\n",
    "\n",
    "Contact info:\n",
    "<br>\n",
    "-[antonvanderesch@hotmail.com](antonvanderesch@hotmail.com) or [i.a.v.d.esch@tue.nl](i.a.v.d.esch@tue.nl)\n",
    "<br>\n",
    "-Notebook created on 2022/04/25"
   ]
  },
  {
   "cell_type": "markdown",
   "id": "c4a59818",
   "metadata": {},
   "source": [
    "## Introduction"
   ]
  },
  {
   "cell_type": "markdown",
   "id": "24ef35c3",
   "metadata": {},
   "source": [
    "This notebook provides the code for the paper \"Determination of uncertainty in the description of crack widths using artifical neural networks\". It has been divided into several parts: <br>\n",
    "1) Import of packages <br>\n",
    "2) Settings to plot figures <br>\n",
    "3) Import dataset; remove certain measurements <br>\n",
    "4) Calculation of crack widths according to EN1992-1-1 <br>\n",
    "5) Exploratory Data Analysis (EDA) <br>\n",
    "6) Settings ANN and LUBE <br>\n",
    "7) Repeated K-fold Cross Validation <br>\n",
    "8) Derive PIs, using LUBE technique <br>\n",
    "9) Predict the mean <br>\n",
    "10) Plotting <br>\n",
    "11) Calculate MPIW, PICP"
   ]
  },
  {
   "cell_type": "markdown",
   "id": "3a4506f9",
   "metadata": {},
   "source": [
    "## 1 - Import packages"
   ]
  },
  {
   "cell_type": "code",
   "execution_count": 1,
   "id": "fca37541",
   "metadata": {},
   "outputs": [],
   "source": [
    "import matplotlib.pyplot as plt\n",
    "import numpy as np\n",
    "from pandas import read_csv\n",
    "import pandas as pd\n",
    "from keras.models import Sequential\n",
    "from keras.layers import Dense, Activation\n",
    "import keras\n",
    "from keras import backend as K\n",
    "import tensorflow as tf\n",
    "from keras.optimizers import adam_v2\n",
    "from sklearn.model_selection import train_test_split\n",
    "from sklearn import preprocessing\n",
    "from sklearn.preprocessing import StandardScaler\n",
    "from scipy.stats import norm\n",
    "from scipy.stats import lognorm\n",
    "import seaborn as sn\n",
    "from statsmodels.stats.outliers_influence import variance_inflation_factor\n",
    "from keras.wrappers.scikit_learn import KerasRegressor\n",
    "from sklearn.pipeline import Pipeline\n",
    "from sklearn.model_selection import KFold\n",
    "from sklearn.model_selection import cross_validate\n",
    "from sklearn.metrics import r2_score\n",
    "from sklearn.metrics import mean_squared_error\n",
    "import random\n",
    "import os"
   ]
  },
  {
   "cell_type": "code",
   "execution_count": 2,
   "id": "48834b37",
   "metadata": {},
   "outputs": [],
   "source": [
    "Rseed = 42; # Seed to generate random numbers"
   ]
  },
  {
   "cell_type": "markdown",
   "id": "d472eb7e",
   "metadata": {},
   "source": [
    "## 2 - Figure settings"
   ]
  },
  {
   "cell_type": "code",
   "execution_count": 3,
   "id": "cc34a0e1",
   "metadata": {},
   "outputs": [],
   "source": [
    "cm = 1/2.54;\n",
    "figsize = [8*cm,8*cm];\n",
    "\n",
    "plt.rcParams.update({'mathtext.fontset': 'cm'})\n",
    "plt.rcParams.update({'font.family': 'STIXGeneral'})\n",
    "plt.rcParams.update({'axes.labelsize': 10})\n",
    "plt.rcParams.update({'axes.titlesize': 11})\n",
    "\n",
    "import matplotlib.ticker as mticker\n",
    "dpisize = 600;"
   ]
  },
  {
   "cell_type": "markdown",
   "id": "d74cd040",
   "metadata": {},
   "source": [
    "## 3 - Import dataset, remove certain values"
   ]
  },
  {
   "cell_type": "markdown",
   "id": "a5c5a6bf",
   "metadata": {},
   "source": [
    "### Import dataset"
   ]
  },
  {
   "cell_type": "markdown",
   "id": "df0868d9",
   "metadata": {},
   "source": [
    "The dataset consists of crack widths, collected from crack width measurements. The measurments are collected from the report \"Rapport des essais. De Tirants sous déformation imposée de courte durée\", from the authors Bicher Farra and Jean-Paul Jaccoud. The dataset contains of the following variables:\n",
    "<br>\n",
    "-No: sample number\n",
    "<br>\n",
    "-Source: authors of the document\n",
    "<br>\n",
    "-Name: name of the document where the crack widths has been collected\n",
    "<br>\n",
    "-$\\rho$: reinforcement ratio [-] (in promille)\n",
    "<br>\n",
    "-$E_{\\mathrm{s}}$: young's modulus of reinforcement steel [GPa]\n",
    "<br>\n",
    "-$f_{\\mathrm{r}}$: influence of type of reinforcement steel [-]\n",
    "<br>\n",
    "-$c_{\\mathrm{bot}}$: cover between reinforcement and bottom fiber [mm]\n",
    "<br>\n",
    "-$f_{\\mathrm{cm}}$: average cylinderical compression strength [MPa]\n",
    "<br>\n",
    "-$f_{\\mathrm{ctm}}$: average tensile strength [MPa]\n",
    "<br>\n",
    "-$E_{\\mathrm{cm}}$: average young's modulus of concrete [GPa]\n",
    "<br>\n",
    "-$\\sigma_{\\mathrm{s2}}$: steel stress in the reinforcement at the location of the crack [MPa]\n",
    "<br>\n",
    "-$\\phi$: diameter of the reinforcement [mm]\n",
    "<br>\n",
    "-$w$: measured crack width [mm]"
   ]
  },
  {
   "cell_type": "code",
   "execution_count": 4,
   "id": "8bf3e37f",
   "metadata": {},
   "outputs": [],
   "source": [
    "dfav = pd.read_csv('https://github.com/iavdesch/AI/blob/main/datasets/dataset_FiB_PhD_Symp.csv?raw=true',sep=',');"
   ]
  },
  {
   "cell_type": "markdown",
   "id": "8ae3e497",
   "metadata": {},
   "source": [
    "Steel stresses smaller than 50 MPa are removed."
   ]
  },
  {
   "cell_type": "code",
   "execution_count": 5,
   "id": "fd2ee774",
   "metadata": {},
   "outputs": [],
   "source": [
    "dfav.drop(dfav[dfav['sigs'] < 50].index, inplace = True);"
   ]
  },
  {
   "cell_type": "markdown",
   "id": "2913c73a",
   "metadata": {},
   "source": [
    "Crack widths smaller than 0.05 mm are removed."
   ]
  },
  {
   "cell_type": "code",
   "execution_count": 6,
   "id": "d566c877",
   "metadata": {},
   "outputs": [],
   "source": [
    "dfav.drop(dfav[dfav['w'] < 0.05].index, inplace = True);"
   ]
  },
  {
   "cell_type": "markdown",
   "id": "09408d6c",
   "metadata": {},
   "source": [
    "Split the dataset into test (20%) and training (80%) set."
   ]
  },
  {
   "cell_type": "code",
   "execution_count": 7,
   "id": "4021b052",
   "metadata": {},
   "outputs": [],
   "source": [
    "trainav, testav = train_test_split(dfav,test_size=0.2,shuffle=True,random_state=Rseed);"
   ]
  },
  {
   "cell_type": "markdown",
   "id": "0e30e129",
   "metadata": {},
   "source": [
    "The following variables are not relevant in the EDA (Exploratory Data Analysis)."
   ]
  },
  {
   "cell_type": "code",
   "execution_count": 8,
   "id": "3caae4aa",
   "metadata": {},
   "outputs": [
    {
     "name": "stderr",
     "output_type": "stream",
     "text": [
      "C:\\Users\\20210065\\Anaconda3\\lib\\site-packages\\pandas\\core\\frame.py:4308: SettingWithCopyWarning: \n",
      "A value is trying to be set on a copy of a slice from a DataFrame\n",
      "\n",
      "See the caveats in the documentation: https://pandas.pydata.org/pandas-docs/stable/user_guide/indexing.html#returning-a-view-versus-a-copy\n",
      "  return super().drop(\n"
     ]
    }
   ],
   "source": [
    "trainav.drop([\"Source\",\"Name\",\"ID\",\"No\",\"fr\"],axis=1,inplace=True);\n",
    "testav.drop([\"Source\",\"Name\",\"ID\",\"No\",\"fr\"],axis=1,inplace=True);"
   ]
  },
  {
   "cell_type": "code",
   "execution_count": 9,
   "id": "b3641a8c",
   "metadata": {},
   "outputs": [],
   "source": [
    "testav_org = testav.copy(); # Create a copy of the original test set\n",
    "trainav_org = trainav.copy(); # Create a copy of the original training set"
   ]
  },
  {
   "cell_type": "markdown",
   "id": "a0c43b9f",
   "metadata": {},
   "source": [
    "### Check for illegal/corrupt values"
   ]
  },
  {
   "cell_type": "markdown",
   "id": "52c04b7c",
   "metadata": {},
   "source": [
    "If no value is returned, the dataset does not contain corrupt  or illegal values."
   ]
  },
  {
   "cell_type": "code",
   "execution_count": 10,
   "id": "6f674485",
   "metadata": {},
   "outputs": [
    {
     "name": "stdout",
     "output_type": "stream",
     "text": [
      "[]\n"
     ]
    }
   ],
   "source": [
    "# Check if there are NAN-values\n",
    "dfav.isnull().values.any()\n",
    "check_nan_in_df = dfav.isnull()\n",
    "\n",
    "# Check which rows contain NAN-values\n",
    "rows_with_nan = []\n",
    "for index, row in dfav.iterrows():\n",
    "    is_nan_series = row.isnull()\n",
    "    if is_nan_series.any():\n",
    "        rows_with_nan.append(index)\n",
    "\n",
    "# Return the rows with NAN (if any)\n",
    "print(rows_with_nan)"
   ]
  },
  {
   "cell_type": "markdown",
   "id": "ccfd1f4c",
   "metadata": {},
   "source": [
    "### Summary of the dataset"
   ]
  },
  {
   "cell_type": "markdown",
   "id": "d3fac87d",
   "metadata": {},
   "source": [
    "Extract the number of test and training samples."
   ]
  },
  {
   "cell_type": "code",
   "execution_count": 11,
   "id": "79e48f9d",
   "metadata": {},
   "outputs": [],
   "source": [
    "def printprop(train,test):\n",
    "    print(\"Number of training samples:\", train.shape[0])\n",
    "    print(\"Number of test samples:\", test.shape[0])\n",
    "    print(\"Total number of samples:\", train.shape[0]+test.shape[0])"
   ]
  },
  {
   "cell_type": "code",
   "execution_count": 12,
   "id": "3358c950",
   "metadata": {},
   "outputs": [
    {
     "name": "stdout",
     "output_type": "stream",
     "text": [
      "Number of training samples: 521\n",
      "Number of test samples: 131\n",
      "Total number of samples: 652\n"
     ]
    }
   ],
   "source": [
    "printprop(trainav,testav);"
   ]
  },
  {
   "cell_type": "markdown",
   "id": "ef13bbd6",
   "metadata": {},
   "source": [
    "## 4 - Computing crack widths according to EN1992-1-1"
   ]
  },
  {
   "cell_type": "markdown",
   "id": "93cd7f69",
   "metadata": {},
   "source": [
    "Calculation of crack widths according to EN1992-1-1, par. 7.3.4."
   ]
  },
  {
   "cell_type": "markdown",
   "id": "ba871f28",
   "metadata": {},
   "source": [
    "### Parameters"
   ]
  },
  {
   "cell_type": "code",
   "execution_count": 13,
   "id": "d03f9e02",
   "metadata": {},
   "outputs": [],
   "source": [
    "k_t = 0.6; # Kortdurende belasting\n",
    "k1 = 0.8; # High bond\n",
    "k2 = 1; # Pure tension\n",
    "k3 = 3.4; # Factor for the bond\n",
    "k4 = 0.425;\n",
    "\n",
    "h = 100; # Height of the specimen"
   ]
  },
  {
   "cell_type": "code",
   "execution_count": 14,
   "id": "d83ffdd8",
   "metadata": {},
   "outputs": [],
   "source": [
    "def wec(dataset,k_t,k1,k2,k3,k4):\n",
    "    sr_max = np.zeros(len(dataset));\n",
    "    eps_diff = np.zeros(len(dataset));\n",
    "    w_k = np.zeros(len(dataset));\n",
    "    \n",
    "    for i in range(len(dataset)):\n",
    "        \n",
    "        UPPER = np.maximum((50 - 0.8*(dataset[\"fcm\"].values[i]-8))*dataset[\"phi\"].values[i],15*dataset[\"phi\"].values[i]);  \n",
    "        \n",
    "        sr_max[i] = np.minimum(k3*dataset[\"cbot\"].values[i] + k1*k2*k4*dataset[\"phi\"].values[i]/(dataset[\"rho\"].values[i]/1000),\\\n",
    "                               UPPER);\n",
    "    \n",
    "        eps_diff[i] = np.maximum((dataset[\"sigs\"].values[i] - k_t*(dataset[\"fctm\"].values[i]/(dataset[\"rho\"].values[i]/1000))* \\\n",
    "        ((1 + (dataset[\"Es\"].values[i]/dataset[\"Ecm\"].values[i])*(dataset[\"rho\"].values[i]/1000)))) / \\\n",
    "                               (1000*dataset[\"Es\"].values[i]), \\\n",
    "                         0.6*dataset[\"sigs\"].values[i]/(1000*dataset[\"Es\"].values[i]));\n",
    "    \n",
    "        w_k[i] = eps_diff[i]*sr_max[i];\n",
    "    \n",
    "    plt.figure();\n",
    "    plt.title(\"Characteristic crack widths according to EN1992-1-1\")\n",
    "    plt.plot(dataset[\"sigs\"],w_k,\"*b\",label=\"Characteristic crack widths according to EN1992-1-1\");\n",
    "    plt.xlabel(r\"$\\sigma_{\\mathrm{s}2}$ [MPa]\");\n",
    "    plt.ylabel(\"$\\hat{w}$ [mm]\");\n",
    "    plt.xlim([50,550]);\n",
    "    plt.ylim([0,0.6]);\n",
    "    plt.grid();\n",
    "    \n",
    "    return sr_max, eps_diff, w_k"
   ]
  },
  {
   "cell_type": "code",
   "execution_count": 15,
   "id": "be2d2f6f",
   "metadata": {},
   "outputs": [
    {
     "data": {
      "image/png": "[encoded data removed]",
      "text/plain": [
       "<Figure size 432x288 with 1 Axes>"
      ]
     },
     "metadata": {
      "needs_background": "light"
     },
     "output_type": "display_data"
    }
   ],
   "source": [
    "w_kav = wec(testav,k_t,k1,k2,k3,k4)[2];"
   ]
  },
  {
   "cell_type": "markdown",
   "id": "0924d27a",
   "metadata": {},
   "source": [
    "## 5 - Exploratory Data Analysis"
   ]
  },
  {
   "cell_type": "markdown",
   "id": "58319c02",
   "metadata": {},
   "source": [
    "Function \"plotdistext\" plots the distribution of a variable in the dataset."
   ]
  },
  {
   "cell_type": "code",
   "execution_count": 16,
   "id": "4cab8917",
   "metadata": {},
   "outputs": [],
   "source": [
    "def plotdistext(dataset,nbins,P5,P25,P50,P75,P95,var):\n",
    "    # Plot normal distribution\n",
    "    locn,scalen = norm.fit(dataset[var]);\n",
    "    pdfn = norm.pdf(dataset[var],locn,scalen);\n",
    "\n",
    "    # Plot lognormal distribution\n",
    "    shapeln,locln,scaleln = lognorm.fit(dataset[var]);\n",
    "    pdfln = lognorm.pdf(dataset[var],shapeln,locln,scaleln);\n",
    "    \n",
    "    plt.hist(dataset[var],bins=nbins,density=True,color=\"grey\",alpha=0.5);\n",
    "    plt.title(\"Distributions fitted on crack widths\");\n",
    "    plt.xlabel(r\"$w$ [mm]\");\n",
    "    plt.ylabel(\"PDF\");\n",
    "    plt.plot(dataset[var],pdfln,\"g*\",label=\"Lognormal distribution\");\n",
    "    plt.plot(dataset[var],pdfn,\"r*\",label=\"Normal distribution\");\n",
    "    plt.legend();\n",
    "    plt.grid();"
   ]
  },
  {
   "cell_type": "markdown",
   "id": "aa08c73b",
   "metadata": {},
   "source": [
    "Function \"plotdist\" prints the distribution of a variable in the dataset."
   ]
  },
  {
   "cell_type": "code",
   "execution_count": 17,
   "id": "61d165a3",
   "metadata": {},
   "outputs": [],
   "source": [
    "def plotdist(dataset,nbins,P5,P25,P50,P75,P95,var):\n",
    "    plt.figure();\n",
    "    plt.hist(dataset[var],bins=nbins);\n",
    "    plt.title('Distribution of variable '+str(var));\n",
    "    plt.xlabel(var);\n",
    "    plt.ylabel(\"Frequency\");\n",
    "    plt.grid();\n",
    "\n",
    "# Extracting the percentiles\n",
    "    print(\"Percentiles of variable\",var)\n",
    "    print(\"5% - \",np.percentile(dataset[var],P5));\n",
    "    print(\"25% - \",np.percentile(dataset[var],P25));\n",
    "    print(\"50%, median - \",np.percentile(dataset[var],P50));\n",
    "    print(\"75% - \",np.percentile(dataset[var],P75));\n",
    "    print(\"95% - \",np.percentile(dataset[var],P95));\n",
    "    print(\"============================\");\n",
    "    print(\"\\n\");"
   ]
  },
  {
   "cell_type": "code",
   "execution_count": 18,
   "id": "ab9702f0",
   "metadata": {},
   "outputs": [
    {
     "data": {
      "image/png": "[encoded data removed]",
      "text/plain": [
       "<Figure size 432x288 with 1 Axes>"
      ]
     },
     "metadata": {
      "needs_background": "light"
     },
     "output_type": "display_data"
    }
   ],
   "source": [
    "# Database with avarage crack widths\n",
    "plotdistext(trainav,20,5,25,50,75,95,\"w\");"
   ]
  },
  {
   "cell_type": "markdown",
   "id": "eea0bc06",
   "metadata": {},
   "source": [
    "The graph presented above shows that the crack widths of the training set can be described by using a lognormal distrubtion ro normal distribution. The lognormal distribution reveals a better fit. Below, for several variables the 5%, 25%, 50%, 75% and 95% quatiles are computed."
   ]
  },
  {
   "cell_type": "code",
   "execution_count": 19,
   "id": "48b34b98",
   "metadata": {
    "scrolled": false
   },
   "outputs": [
    {
     "name": "stdout",
     "output_type": "stream",
     "text": [
      "Percentiles of variable rho\n",
      "5% -  7.853981634\n",
      "25% -  7.853981634\n",
      "50%, median -  15.393804\n",
      "75% -  31.41592654\n",
      "95% -  31.41592654\n",
      "============================\n",
      "\n",
      "\n",
      "Percentiles of variable Es\n",
      "5% -  196.3166667\n",
      "25% -  196.3166667\n",
      "50%, median -  197.5\n",
      "75% -  200.5333333\n",
      "95% -  200.5333333\n",
      "============================\n",
      "\n",
      "\n",
      "Percentiles of variable cbot\n",
      "5% -  40.0\n",
      "25% -  40.0\n",
      "50%, median -  43.0\n",
      "75% -  45.0\n",
      "95% -  45.0\n",
      "============================\n",
      "\n",
      "\n",
      "Percentiles of variable fcm\n",
      "5% -  29.9\n",
      "25% -  38.8\n",
      "50%, median -  46.3\n",
      "75% -  53.8\n",
      "95% -  67.2\n",
      "============================\n",
      "\n",
      "\n",
      "Percentiles of variable fctm\n",
      "5% -  2.13\n",
      "25% -  2.64\n",
      "50%, median -  2.81\n",
      "75% -  2.98\n",
      "95% -  3.16\n",
      "============================\n",
      "\n",
      "\n",
      "Percentiles of variable Ecm\n",
      "5% -  27.5\n",
      "25% -  30.7\n",
      "50%, median -  32.5\n",
      "75% -  35.9\n",
      "95% -  41.83\n",
      "============================\n",
      "\n",
      "\n",
      "Percentiles of variable sigs\n",
      "5% -  111.0\n",
      "25% -  178.0\n",
      "50%, median -  255.0\n",
      "75% -  363.0\n",
      "95% -  465.0\n",
      "============================\n",
      "\n",
      "\n",
      "Percentiles of variable rho\n",
      "5% -  7.853981634\n",
      "25% -  7.853981634\n",
      "50%, median -  15.393804\n",
      "75% -  31.41592654\n",
      "95% -  31.41592654\n",
      "============================\n",
      "\n",
      "\n",
      "Percentiles of variable w\n",
      "5% -  0.06\n",
      "25% -  0.11\n",
      "50%, median -  0.16\n",
      "75% -  0.23\n",
      "95% -  0.31\n",
      "============================\n",
      "\n",
      "\n"
     ]
    },
    {
     "data": {
      "image/png": "[encoded data removed]",
      "text/plain": [
       "<Figure size 432x288 with 1 Axes>"
      ]
     },
     "metadata": {
      "needs_background": "light"
     },
     "output_type": "display_data"
    },
    {
     "data": {
      "image/png": "[encoded data removed]",
      "text/plain": [
       "<Figure size 432x288 with 1 Axes>"
      ]
     },
     "metadata": {
      "needs_background": "light"
     },
     "output_type": "display_data"
    },
    {
     "data": {
      "image/png": "[encoded data removed]",
      "text/plain": [
       "<Figure size 432x288 with 1 Axes>"
      ]
     },
     "metadata": {
      "needs_background": "light"
     },
     "output_type": "display_data"
    },
    {
     "data": {
      "image/png": "[encoded data removed]",
      "text/plain": [
       "<Figure size 432x288 with 1 Axes>"
      ]
     },
     "metadata": {
      "needs_background": "light"
     },
     "output_type": "display_data"
    },
    {
     "data": {
      "image/png": "[encoded data removed]",
      "text/plain": [
       "<Figure size 432x288 with 1 Axes>"
      ]
     },
     "metadata": {
      "needs_background": "light"
     },
     "output_type": "display_data"
    },
    {
     "data": {
      "image/png": "[encoded data removed]",
      "text/plain": [
       "<Figure size 432x288 with 1 Axes>"
      ]
     },
     "metadata": {
      "needs_background": "light"
     },
     "output_type": "display_data"
    },
    {
     "data": {
      "image/png": "[encoded data removed]",
      "text/plain": [
       "<Figure size 432x288 with 1 Axes>"
      ]
     },
     "metadata": {
      "needs_background": "light"
     },
     "output_type": "display_data"
    },
    {
     "data": {
      "image/png": "[encoded data removed]",
      "text/plain": [
       "<Figure size 432x288 with 1 Axes>"
      ]
     },
     "metadata": {
      "needs_background": "light"
     },
     "output_type": "display_data"
    },
    {
     "data": {
      "image/png": "[encoded data removed]",
      "text/plain": [
       "<Figure size 432x288 with 1 Axes>"
      ]
     },
     "metadata": {
      "needs_background": "light"
     },
     "output_type": "display_data"
    }
   ],
   "source": [
    "columns = [\"rho\",\"Es\",\"cbot\",\"fcm\",\"fctm\",\"Ecm\",\"sigs\",\"rho\",\"w\"];\n",
    "\n",
    "for i in range(len(columns)):\n",
    "    plotdist(trainav,20,5,25,50,75,95,columns[i]);"
   ]
  },
  {
   "cell_type": "markdown",
   "id": "9100c068",
   "metadata": {},
   "source": [
    "### Scaling and selecting the data"
   ]
  },
  {
   "cell_type": "markdown",
   "id": "80e72791",
   "metadata": {},
   "source": [
    "Scaling of data is very important to get robust predictions by the ANNs. The function \"datscaleminmax\" normalizes the data using a min-max scaler in the range [0,1]. Function \"datbacktransform\" transforms the transformed data back to the original scale."
   ]
  },
  {
   "cell_type": "code",
   "execution_count": 20,
   "id": "1767e096",
   "metadata": {},
   "outputs": [],
   "source": [
    "def datscaleminmax(dataset):\n",
    "    tempdat = dataset.values;\n",
    "    min_max_scaler = preprocessing.MinMaxScaler();\n",
    "    dataset_scaled = min_max_scaler.fit_transform(tempdat);\n",
    "    dataset = pd.DataFrame(dataset_scaled,columns=dataset.columns);\n",
    "    \n",
    "    return dataset, min_max_scaler"
   ]
  },
  {
   "cell_type": "code",
   "execution_count": 21,
   "id": "54bd4d2f",
   "metadata": {},
   "outputs": [],
   "source": [
    "def datbacktransform(dataset,temppred,min_max_scaler):\n",
    "    \n",
    "    if dataset.shape[1] > 1:\n",
    "        tempscale=np.zeros((dataset.shape[0],dataset.shape[1]));\n",
    "        tempscale[:,-1] = temppred;\n",
    "        pred = min_max_scaler.inverse_transform(tempscale)[:,dataset.shape[1]-1];\n",
    "    elif dataset.shape[1] == 1:\n",
    "        tempscale=np.zeros((dataset.shape[0],dataset.shape[1]));\n",
    "        tempscale[:,-1] = temppred;\n",
    "        pred = min_max_scaler.inverse_transform(tempscale)[:,0];\n",
    "    \n",
    "    return pred"
   ]
  },
  {
   "cell_type": "markdown",
   "id": "4986f480",
   "metadata": {},
   "source": [
    "The EDA reveals that only $\\rho$, $f_{\\mathrm{cm}}$ and $\\sigma_{\\mathrm{s2}}$ are relevant features for the description of $\\hat{w}$ in the Neural Networks. Below these features are selected from the scaled training and test set."
   ]
  },
  {
   "cell_type": "code",
   "execution_count": 22,
   "id": "6baf7c46",
   "metadata": {},
   "outputs": [],
   "source": [
    "trainav, sctrainav = datscaleminmax(trainav);\n",
    "testav, sctestav = datscaleminmax(testav);\n",
    "\n",
    "Xtrainav = trainav.loc[:,[\"rho\",\"fcm\",\"sigs\"]];\n",
    "ytrainav = trainav.loc[:,[\"w\"]];\n",
    "\n",
    "Xtestav = testav.loc[:,[\"rho\",\"fcm\",\"sigs\"]];\n",
    "ytestav = testav.loc[:,[\"w\"]];"
   ]
  },
  {
   "cell_type": "markdown",
   "id": "81982752",
   "metadata": {},
   "source": [
    "### Plot correlation matrix"
   ]
  },
  {
   "cell_type": "markdown",
   "id": "a7f5c26b",
   "metadata": {},
   "source": [
    "Function \"plotcorrmatrix\" generates the correlation matrix of the dataset."
   ]
  },
  {
   "cell_type": "code",
   "execution_count": 23,
   "id": "b5dbca1a",
   "metadata": {},
   "outputs": [],
   "source": [
    "def plotcorrmatrix(dataset,figsize):\n",
    "    fig = plt.figure(figsize=(figsize[0]*2, figsize[1]*2));\n",
    "    sn.set(font_scale=1)\n",
    "    corrmatrix = round(dataset.corr(),2);\n",
    "    res = sn.heatmap(corrmatrix,annot=True,vmin=-1,vmax=1,xticklabels=[\"ρ\",r\"$E_{\\mathrm{s}}$\",r\"$c$\",r\"$f_{\\mathrm{cm}}$\"\\\n",
    "        ,r\"$f_{\\mathrm{ctm}}$\",r\"$E_{\\mathrm{cm}}$\",r\"$\\sigma_{\\mathrm{s}2}$\",r\"$\\varnothing$\",\"w\"],\\\n",
    "              yticklabels=[\"ρ\",r\"$E_{\\mathrm{s}}$\",r\"$c$\",r\"$f_{\\mathrm{cm}}$\"\\\n",
    "        ,r\"$f_{\\mathrm{ctm}}$\",r\"$E_{\\mathrm{cm}}$\",r\"$\\sigma_{\\mathrm{s}2}$\",r\"$\\varnothing$\",\"w\"]);\n",
    "    res.set_xticklabels(res.get_xmajorticklabels(),fontsize=8);\n",
    "    res.set_yticklabels(res.get_ymajorticklabels(),fontsize=8);\n",
    "    res.set_facecolor(\"white\");\n",
    "    plt.show();\n",
    "    \n",
    "    return fig"
   ]
  },
  {
   "cell_type": "markdown",
   "id": "8c499278",
   "metadata": {},
   "source": [
    "The line below is commented, since the correlation plot requires the Seaborn package. Using the Matplotlib package after using the Seaborn package disturb the plots."
   ]
  },
  {
   "cell_type": "code",
   "execution_count": 24,
   "id": "3cf30d3d",
   "metadata": {},
   "outputs": [],
   "source": [
    "#plotcorrmat_av = plotcorrmatrix(trainav_org,figsize);"
   ]
  },
  {
   "cell_type": "markdown",
   "id": "3d25b714",
   "metadata": {},
   "source": [
    "### Compute the VIF"
   ]
  },
  {
   "cell_type": "markdown",
   "id": "d97dc2a9",
   "metadata": {},
   "source": [
    "Function \"getVIF\" prints the VIF values of the variables of the dataset."
   ]
  },
  {
   "cell_type": "code",
   "execution_count": 25,
   "id": "366aabd0",
   "metadata": {},
   "outputs": [],
   "source": [
    "def getVIF(dataset):\n",
    "    vif = pd.DataFrame();\n",
    "    vif[\"VIF Factor\"] = [variance_inflation_factor(dataset.values, i) for i in range(dataset.shape[1])];\n",
    "    vif[\"features\"] = dataset.columns;\n",
    "    print(\"VIF Factors\");\n",
    "    print(vif.round(1));\n",
    "    print(\"\\n\");"
   ]
  },
  {
   "cell_type": "code",
   "execution_count": 26,
   "id": "c331bd37",
   "metadata": {},
   "outputs": [
    {
     "name": "stdout",
     "output_type": "stream",
     "text": [
      "VIF Factors\n",
      "   VIF Factor features\n",
      "0         1.5      rho\n",
      "1         3.3      fcm\n",
      "2         2.6     sigs\n",
      "\n",
      "\n"
     ]
    }
   ],
   "source": [
    "# https://www.investopedia.com/terms/m/multicollinearity.asp\n",
    "traintempav = trainav.copy(); # create a copy\n",
    "traintempav.drop([\"w\"],axis=1,inplace=True);\n",
    "\n",
    "# Dataset with average values of the crack widths\n",
    "getVIF(Xtrainav);"
   ]
  },
  {
   "cell_type": "markdown",
   "id": "1687d502",
   "metadata": {},
   "source": [
    "As mentioned earlier, only $\\rho$, $f_{\\mathrm{cm}}$ and $\\sigma_{\\mathrm{s2}}$ are considered. Therefore, the rest of the variables are dropped."
   ]
  },
  {
   "cell_type": "code",
   "execution_count": 27,
   "id": "ed575165",
   "metadata": {},
   "outputs": [],
   "source": [
    "trainav.drop([\"fctm\",\"Ecm\",\"phi\",\"cbot\",\"Es\"],axis=1,inplace=True);\n",
    "testav.drop([\"fctm\",\"Ecm\",\"phi\",\"cbot\",\"Es\"],axis=1,inplace=True);"
   ]
  },
  {
   "cell_type": "code",
   "execution_count": 28,
   "id": "05dc675b",
   "metadata": {},
   "outputs": [],
   "source": [
    "traintempav = trainav.copy(); # create a copy\n",
    "traintempav.drop([\"w\"],axis=1,inplace=True);"
   ]
  },
  {
   "cell_type": "code",
   "execution_count": 29,
   "id": "2c0f6d9f",
   "metadata": {},
   "outputs": [
    {
     "name": "stdout",
     "output_type": "stream",
     "text": [
      "VIF Factors\n",
      "   VIF Factor features\n",
      "0         1.5      rho\n",
      "1         3.3      fcm\n",
      "2         2.6     sigs\n",
      "\n",
      "\n"
     ]
    }
   ],
   "source": [
    "getVIF(traintempav);"
   ]
  },
  {
   "cell_type": "markdown",
   "id": "ee02277d",
   "metadata": {},
   "source": [
    "## 6 - Settings"
   ]
  },
  {
   "cell_type": "markdown",
   "id": "e6e9d484",
   "metadata": {},
   "source": [
    "Below an overview of the settings of ANNs, PIs and bootstrapping. The latter one is incorporated to make the descriptions of $\\hat{w}$ and the PIs more robust."
   ]
  },
  {
   "cell_type": "markdown",
   "id": "d0e2e02b",
   "metadata": {},
   "source": [
    "### ANN settings"
   ]
  },
  {
   "cell_type": "code",
   "execution_count": 30,
   "id": "81532526",
   "metadata": {},
   "outputs": [],
   "source": [
    "regparkern_PI = 1e-3; # kernel regularizer PI\n",
    "regparact_PI = 1e-3; # Output regularizer PI\n",
    "regparbias_PI = 1e-5; # bias regularizer PI\n",
    "\n",
    "regparkern_mean = 1e-4; # kernel regularizer PI\n",
    "regparact_mean = 1e-4; # Output regularizer PI\n",
    "regparbias_mean = 1e-5; # bias regularizer PI\n",
    "\n",
    "opt = adam_v2.Adam(learning_rate=1e-3,beta_1=0.9,beta_2=0.99,epsilon=1e-7);\n",
    "\n",
    "nep_av = 100; bs_av = 32;\n",
    "\n",
    "PI_nep_av = 200;\n",
    "\n",
    "n_ = 100;\n",
    "alp = 0.05;"
   ]
  },
  {
   "cell_type": "markdown",
   "id": "d3f45b93",
   "metadata": {},
   "source": [
    "### PI setttings"
   ]
  },
  {
   "cell_type": "code",
   "execution_count": 31,
   "id": "226a203c",
   "metadata": {},
   "outputs": [],
   "source": [
    "lambda_ = 0.002 # lambda in loss fn\n",
    "alpha_ = 0.1  # capturing (1-alpha)% of samples\n",
    "soften_ = 35 # Softening parameter"
   ]
  },
  {
   "cell_type": "markdown",
   "id": "39e7bafa",
   "metadata": {},
   "source": [
    "### Repeated K-fold cross validation settings"
   ]
  },
  {
   "cell_type": "code",
   "execution_count": 32,
   "id": "323c8d32",
   "metadata": {},
   "outputs": [],
   "source": [
    "nfold = 10;\n",
    "nrep = 5;"
   ]
  },
  {
   "cell_type": "code",
   "execution_count": 33,
   "id": "906e647d",
   "metadata": {},
   "outputs": [],
   "source": [
    "resav = []; # Empty array which will be added later with results of the cross-validation."
   ]
  },
  {
   "cell_type": "markdown",
   "id": "58ff0e42",
   "metadata": {},
   "source": [
    "### Bootstrap settings"
   ]
  },
  {
   "cell_type": "code",
   "execution_count": 34,
   "id": "0c835fc7",
   "metadata": {},
   "outputs": [],
   "source": [
    "sb = 470; # Length of training set for bootstrapping 470 is approx. 90% of training set.\n",
    "Nb = 20; # Number of boostrapped test sets"
   ]
  },
  {
   "cell_type": "markdown",
   "id": "16ff9554",
   "metadata": {},
   "source": [
    "## 7 - Repeated K-fold cross validation"
   ]
  },
  {
   "cell_type": "markdown",
   "id": "9fa51731",
   "metadata": {},
   "source": [
    "Function \"Baseline_model_standard\" generates the layout of the ANN, based on the chosen settings."
   ]
  },
  {
   "cell_type": "code",
   "execution_count": 35,
   "id": "9193f21c",
   "metadata": {},
   "outputs": [],
   "source": [
    "def baseline_model_standard():\n",
    "    # create model\n",
    "    model = Sequential();\n",
    "    model.add(Dense(10, input_dim=Xtrainav.shape[1], activation=keras.layers.LeakyReLU(alpha=alp),\\\n",
    "                    kernel_initializer=keras.initializers.RandomNormal(mean=0, stddev=np.sqrt(1/(Xtrainav.shape[1]))),\\\n",
    "                    kernel_regularizer=keras.regularizers.l1(l=regparkern_mean),\\\n",
    "                    activity_regularizer=keras.regularizers.l1(l=regparact_mean),\\\n",
    "                    bias_regularizer=keras.regularizers.l1(l=regparbias_mean)));\n",
    "    model.add(Dense(1, activation='linear',\\\n",
    "                    kernel_initializer=keras.initializers.RandomNormal(mean=0, stddev=np.sqrt(1/(10))),\\\n",
    "                    kernel_regularizer=keras.regularizers.l1(l=regparkern_mean),\\\n",
    "                    activity_regularizer=keras.regularizers.l1(l=regparact_mean),\\\n",
    "                    bias_regularizer=keras.regularizers.l1(l=regparbias_mean)));\n",
    "    \n",
    "    # Compile model\n",
    "    model.compile(loss='mean_squared_error', optimizer=opt)\n",
    "    return model"
   ]
  },
  {
   "cell_type": "markdown",
   "id": "54cc02fd",
   "metadata": {},
   "source": [
    "Function \"crossval\" executes the cross validation of the ANN. It returns two scores: the Mean Square Error (MSE) and $R^2$."
   ]
  },
  {
   "cell_type": "code",
   "execution_count": 36,
   "id": "0a0de4ec",
   "metadata": {},
   "outputs": [],
   "source": [
    "def crossval(trainX,trainy,nep,bs):\n",
    "    # evaluate model\n",
    "    scorer = [\"r2\",\"neg_mean_squared_error\"]; # Add as many metrics as you wish, see:\n",
    "    # https://scikit-learn.org/stable/modules/model_evaluation.html\n",
    "\n",
    "    estimators = []\n",
    "    estimators.append(('standardize', preprocessing.MinMaxScaler()));\n",
    "    estimators.append(('ANN',KerasRegressor(build_fn=baseline_model_standard,epochs=nep, batch_size=bs, verbose=0)));\n",
    "    pipeline = Pipeline(estimators);\n",
    "\n",
    "    kfold = KFold(n_splits=nfold,shuffle=True,random_state=42)\n",
    "    results = cross_validate(pipeline, trainX, trainy, cv=kfold, scoring=scorer, return_train_score=False);\n",
    "    \n",
    "    return results"
   ]
  },
  {
   "cell_type": "code",
   "execution_count": 37,
   "id": "fb315357",
   "metadata": {},
   "outputs": [
    {
     "name": "stdout",
     "output_type": "stream",
     "text": [
      "WARNING:tensorflow:5 out of the last 9 calls to <function Model.make_predict_function.<locals>.predict_function at 0x000001A98736D670> triggered tf.function retracing. Tracing is expensive and the excessive number of tracings could be due to (1) creating @tf.function repeatedly in a loop, (2) passing tensors with different shapes, (3) passing Python objects instead of tensors. For (1), please define your @tf.function outside of the loop. For (2), @tf.function has experimental_relax_shapes=True option that relaxes argument shapes that can avoid unnecessary retracing. For (3), please refer to https://www.tensorflow.org/guide/function#controlling_retracing and https://www.tensorflow.org/api_docs/python/tf/function for  more details.\n",
      "WARNING:tensorflow:6 out of the last 11 calls to <function Model.make_predict_function.<locals>.predict_function at 0x000001A9872D78B0> triggered tf.function retracing. Tracing is expensive and the excessive number of tracings could be due to (1) creating @tf.function repeatedly in a loop, (2) passing tensors with different shapes, (3) passing Python objects instead of tensors. For (1), please define your @tf.function outside of the loop. For (2), @tf.function has experimental_relax_shapes=True option that relaxes argument shapes that can avoid unnecessary retracing. For (3), please refer to https://www.tensorflow.org/guide/function#controlling_retracing and https://www.tensorflow.org/api_docs/python/tf/function for  more details.\n",
      "Performing analysis, average dataset, repitition 1 ...\n",
      "Performing analysis, average dataset, repitition 2 ...\n",
      "Performing analysis, average dataset, repitition 3 ...\n",
      "Performing analysis, average dataset, repitition 4 ...\n",
      "Performing analysis, average dataset, repitition 5 ...\n"
     ]
    }
   ],
   "source": [
    "for r in range(nrep):\n",
    "    resav.append(crossval(Xtrainav,ytrainav,nep_av,bs_av));\n",
    "    print(\"Performing analysis, average dataset, repitition\", r+1, \"...\");"
   ]
  },
  {
   "cell_type": "code",
   "execution_count": 38,
   "id": "8f6efcf1",
   "metadata": {},
   "outputs": [],
   "source": [
    "r2scoresav = np.zeros(nrep);\n",
    "msescoresav = np.zeros(nrep);\n",
    "\n",
    "for i in range(nrep):\n",
    "    r2scoresav[i] = resav[i][\"test_r2\"].mean() # Average R2-score of each repitition\n",
    "    msescoresav[i] = abs(resav[i][\"test_neg_mean_squared_error\"]).mean() # Average MSE-score of each repitition"
   ]
  },
  {
   "cell_type": "markdown",
   "id": "aeb5b498",
   "metadata": {},
   "source": [
    "The figure below visualises the scores of the $R^2$ (top figure) and the MSE (bottom figure), for each repitition of the simulation."
   ]
  },
  {
   "cell_type": "code",
   "execution_count": 39,
   "id": "31869c17",
   "metadata": {},
   "outputs": [
    {
     "data": {
      "image/png": "[encoded data removed]",
      "text/plain": [
       "<Figure size 226.772x226.772 with 2 Axes>"
      ]
     },
     "metadata": {
      "needs_background": "light"
     },
     "output_type": "display_data"
    }
   ],
   "source": [
    "fig, axs = plt.subplots(2,figsize=(figsize[0],figsize[1]));\n",
    "axs[0].stem(range(1,nrep+1),r2scoresav,\"b*\",label=r\"$R^2$, average dataset\");\n",
    "axs[0].plot([1,nrep],[r2scoresav.mean(),r2scoresav.mean()],\"b--\",label=r\"Averaged $R^2$,average dataset\");\n",
    "axs[0].grid();\n",
    "axs[0].set_xlabel(\"Repitition no.\");\n",
    "axs[0].set_ylabel(r\"$R^2$\");\n",
    "axs[0].set_xlim([0,nrep+1]);\n",
    "axs[0].set_ylim([0,1]);\n",
    "\n",
    "axs[1].stem(range(1,nrep+1),msescoresav,\"b*\",label=\"MSE, average dataset\");\n",
    "axs[1].plot([1,nrep],[msescoresav.mean(),msescoresav.mean()],\"b--\",label=\"Average MSE, average dataset\");\n",
    "axs[1].grid();\n",
    "axs[1].set_xlabel(\"Repitition no.\");\n",
    "axs[1].set_ylabel(\"MSE\");\n",
    "axs[1].set_xlim([0,nrep+1]);\n",
    "axs[1].set_ylim([0,0.01]);\n",
    "\n",
    "fig.subplots_adjust(hspace=1);\n",
    "plt.show();\n",
    "\n",
    "extent = axs[0].get_window_extent().transformed(fig.dpi_scale_trans.inverted());\n",
    "extent = axs[1].get_window_extent().transformed(fig.dpi_scale_trans.inverted());"
   ]
  },
  {
   "cell_type": "code",
   "execution_count": 40,
   "id": "6099d44c",
   "metadata": {},
   "outputs": [
    {
     "name": "stdout",
     "output_type": "stream",
     "text": [
      "[0.87958938 0.88413438 0.8851654  0.88142945 0.8843077 ]\n"
     ]
    }
   ],
   "source": [
    "print(r2scoresav); # Print average values of R2"
   ]
  },
  {
   "cell_type": "code",
   "execution_count": 41,
   "id": "14cc3db0",
   "metadata": {},
   "outputs": [
    {
     "name": "stdout",
     "output_type": "stream",
     "text": [
      "Dataset with average crack values - dataset (a)\n",
      "Average R2-score after repeated K-fold cross validation: 0.883\n",
      "Average MSE-score after repeated K-fold cross validation: 0.004\n",
      "\n",
      "\n"
     ]
    }
   ],
   "source": [
    "print(\"Dataset with average crack values - dataset (a)\");\n",
    "print(\"Average R2-score after repeated K-fold cross validation:\", round(r2scoresav.mean(),3));\n",
    "print(\"Average MSE-score after repeated K-fold cross validation:\", round(msescoresav.mean(),3));\n",
    "print(\"\\n\");"
   ]
  },
  {
   "cell_type": "markdown",
   "id": "20946c1b",
   "metadata": {},
   "source": [
    "## 8 - Bootstrapping"
   ]
  },
  {
   "cell_type": "markdown",
   "id": "67f9134b",
   "metadata": {},
   "source": [
    "To make the predictions more robust, an ensemble of 20 ANNs are trained on 20 different datasets, based on randomly generated datasets from the initial training set."
   ]
  },
  {
   "cell_type": "code",
   "execution_count": 42,
   "id": "319ca91a",
   "metadata": {},
   "outputs": [
    {
     "name": "stdout",
     "output_type": "stream",
     "text": [
      "Bootstrapping for model no.  1\n",
      "Bootstrapping for model no.  2\n",
      "Bootstrapping for model no.  3\n",
      "Bootstrapping for model no.  4\n",
      "Bootstrapping for model no.  5\n",
      "Bootstrapping for model no.  6\n",
      "Bootstrapping for model no.  7\n",
      "Bootstrapping for model no.  8\n",
      "Bootstrapping for model no.  9\n",
      "Bootstrapping for model no.  10\n",
      "Bootstrapping for model no.  11\n",
      "Bootstrapping for model no.  12\n",
      "Bootstrapping for model no.  13\n",
      "Bootstrapping for model no.  14\n",
      "Bootstrapping for model no.  15\n",
      "Bootstrapping for model no.  16\n",
      "Bootstrapping for model no.  17\n",
      "Bootstrapping for model no.  18\n",
      "Bootstrapping for model no.  19\n",
      "Bootstrapping for model no.  20\n"
     ]
    }
   ],
   "source": [
    "trainavens = np.zeros((sb,trainav.shape[1],Nb));\n",
    "\n",
    "for j in range(Nb):\n",
    "    print(\"Bootstrapping for model no. \",j+1);\n",
    "    for i in range(sb):\n",
    "        k = random.randint(0,sb-1); # Generate random integer\n",
    "        randrho = Xtrainav.loc[k,[\"rho\"]];\n",
    "        randfcm = Xtrainav.loc[k,[\"fcm\"]];\n",
    "        randsigs = Xtrainav.loc[k,[\"sigs\"]];\n",
    "        randw = ytrainav.loc[k,[\"w\"]];\n",
    "\n",
    "        trainavens[i,0,j] = randrho;\n",
    "        trainavens[i,1,j] = randfcm;\n",
    "        trainavens[i,2,j] = randsigs;\n",
    "        trainavens[i,3,j] = randw; "
   ]
  },
  {
   "cell_type": "code",
   "execution_count": 43,
   "id": "d17bc12c",
   "metadata": {},
   "outputs": [],
   "source": [
    "testav = testav.to_numpy();"
   ]
  },
  {
   "cell_type": "markdown",
   "id": "fd784abb",
   "metadata": {},
   "source": [
    "Transform the scaled dataset back to the original scale."
   ]
  },
  {
   "cell_type": "code",
   "execution_count": 44,
   "id": "7868c294",
   "metadata": {},
   "outputs": [],
   "source": [
    "mattemp = np.zeros((sb,9));\n",
    "train_w_org_scale = np.zeros((sb,Nb));\n",
    "for j in range(Nb):\n",
    "    \n",
    "    train_w_org_scale[:,j] = datbacktransform(mattemp,trainavens[:,-1,j],sctrainav);"
   ]
  },
  {
   "cell_type": "markdown",
   "id": "96478420",
   "metadata": {},
   "source": [
    "### Deriving the Prediction Intervals (PIs) for each bootstrapped dataset"
   ]
  },
  {
   "cell_type": "markdown",
   "id": "ddd0fc3f",
   "metadata": {},
   "source": [
    "So far, the average crack width has been computed. The PIs are generated by using ANNs including LUBE (Lower Upper Bound Estimation) Method."
   ]
  },
  {
   "cell_type": "markdown",
   "id": "6c785183",
   "metadata": {},
   "source": [
    "#### Defining the cost function"
   ]
  },
  {
   "cell_type": "markdown",
   "id": "343128eb",
   "metadata": {},
   "source": [
    "The cost function \"qd_objective\" is obtained from Pearce et al. The relaxed cost function is used from Pearce et al, from the article \"High-quality predicition invervals for deep learning: A distribution-free, ensembled approach\".\n",
    "\n",
    "The cost function is a combination of the MPIW (Mean Prediction Interval Width) and the PICP (Prediction Interval Coverage Probability)."
   ]
  },
  {
   "cell_type": "code",
   "execution_count": 45,
   "id": "9636a1e6",
   "metadata": {},
   "outputs": [],
   "source": [
    "# hyperparameters\n",
    "\n",
    "def qd_objective(y_true, y_pred):\n",
    "    '''Loss_QD-soft, from algorithm 1'''\n",
    "    y_true = y_true[:,0]\n",
    "    y_u = y_pred[:,0]\n",
    "    y_l = y_pred[:,1]\n",
    "    \n",
    "    K_HU = tf.maximum(0.,tf.sign(y_u - y_true)) # signum function\n",
    "    K_HL = tf.maximum(0.,tf.sign(y_true - y_l)) # signum function\n",
    "    K_H = tf.multiply(K_HU, K_HL) # To determine if point is inside the prediction interval; factor k\n",
    "    \n",
    "    K_SU = tf.sigmoid(soften_ * (y_u - y_true))\n",
    "    K_SL = tf.sigmoid(soften_ * (y_true - y_l))\n",
    "    K_S = tf.multiply(K_SU, K_SL)\n",
    "    \n",
    "    MPIW_c = tf.reduce_sum(tf.multiply((y_u - y_l),K_H))/tf.reduce_sum(K_H)\n",
    "    PICP_H = tf.reduce_mean(K_H)\n",
    "    PICP_S = tf.reduce_mean(K_S)\n",
    "    \n",
    "    Loss_S = MPIW_c + lambda_ * n_ / (alpha_*(1-alpha_)) * tf.maximum(0.,(1-alpha_) - PICP_S)**2\n",
    "    \n",
    "    return Loss_S"
   ]
  },
  {
   "cell_type": "markdown",
   "id": "f6699f2b",
   "metadata": {},
   "source": [
    "#### Defining the ANN for predicting the PIs"
   ]
  },
  {
   "cell_type": "markdown",
   "id": "4fe7f297",
   "metadata": {},
   "source": [
    "Function \"baseline_model_PI\" describes the layout of the ANN for the description of the PIs."
   ]
  },
  {
   "cell_type": "code",
   "execution_count": 46,
   "id": "24fecce9",
   "metadata": {},
   "outputs": [],
   "source": [
    "def baseline_model_PI():\n",
    "    model = Sequential();\n",
    "    model.add(Dense(10, input_dim=Xtrainav.shape[1], activation=keras.layers.LeakyReLU(alpha=alp),\\\n",
    "                    kernel_initializer=keras.initializers.RandomNormal(mean=0, stddev=np.sqrt(1/(Xtrainav.shape[1]))),\\\n",
    "                    kernel_regularizer=keras.regularizers.l1(l=regparkern_PI),\\\n",
    "                    activity_regularizer=keras.regularizers.l1(l=regparact_PI),\\\n",
    "                    bias_regularizer=keras.regularizers.l1(l=regparbias_PI)));\n",
    "    model.add(Dense(2, activation='linear',\\\n",
    "                    kernel_initializer=keras.initializers.RandomNormal(mean=0, stddev=np.sqrt(1/(10))),\\\n",
    "                    kernel_regularizer=keras.regularizers.l1(l=regparkern_PI),\\\n",
    "                    activity_regularizer=keras.regularizers.l1(l=regparact_PI),\\\n",
    "                    bias_initializer=keras.initializers.Constant(value=[1,0]),\\\n",
    "                    bias_regularizer=keras.regularizers.l1(l=regparbias_PI)));\n",
    "\n",
    "    # compile\n",
    "    model.compile(loss=qd_objective, optimizer=opt);\n",
    "    \n",
    "    return model"
   ]
  },
  {
   "cell_type": "markdown",
   "id": "c275f6c9",
   "metadata": {},
   "source": [
    "Function \"ANN\" compiles the ANN and predict the crack width."
   ]
  },
  {
   "cell_type": "code",
   "execution_count": 47,
   "id": "17ceb7bb",
   "metadata": {},
   "outputs": [],
   "source": [
    "def ANN(Xtrain,ytrain,Xtest,ytest,baseline_model,opt,lossfunc,nep,bs):\n",
    "    \n",
    "    model = baseline_model;\n",
    "    \n",
    "    model.compile(loss=lossfunc, optimizer=opt);\n",
    "    \n",
    "    hist = model.fit(Xtrain, ytrain, validation_data=(Xtest,ytest) , \\\n",
    "                              epochs=nep, batch_size=bs, verbose=0);\n",
    "    \n",
    "    model_sum_err = np.zeros(nep);\n",
    "\n",
    "    for i in range(nep):\n",
    "        model_sum_err[i] = hist.history['loss'][i] + hist.history['val_loss'][i];\n",
    "        \n",
    "    temppred = model.predict(Xtest);\n",
    "    temppred_train = model.predict(Xtrain);\n",
    "    \n",
    "    return hist,model_sum_err,temppred,temppred_train"
   ]
  },
  {
   "cell_type": "markdown",
   "id": "bbb3e11d",
   "metadata": {},
   "source": [
    "Function \"plotcostANN\" generates plots, containing training and test errors."
   ]
  },
  {
   "cell_type": "code",
   "execution_count": 48,
   "id": "bae5f427",
   "metadata": {},
   "outputs": [],
   "source": [
    "def plotcostANN(hist,model_sum_err):\n",
    "    fig = plt.figure(figsize=(figsize[0],figsize[1]/2));\n",
    "    plt.plot(hist.history['loss'], label='Training error'); # Training loss\n",
    "    plt.plot(hist.history['val_loss'], label='Test error'); # Test loss\n",
    "    plt.plot(model_sum_err,label='Total error'); # Total loss\n",
    "    plt.grid();\n",
    "    plt.xlabel('Epochs [-]');\n",
    "    plt.ylabel('Loss');\n",
    "    plt.show();\n",
    "    \n",
    "    return fig"
   ]
  },
  {
   "cell_type": "markdown",
   "id": "1bb158e9",
   "metadata": {},
   "source": [
    "#### PIs before training"
   ]
  },
  {
   "cell_type": "markdown",
   "id": "389adff3",
   "metadata": {},
   "source": [
    "Get insight in the PI before training."
   ]
  },
  {
   "cell_type": "code",
   "execution_count": 49,
   "id": "fd44b92e",
   "metadata": {},
   "outputs": [],
   "source": [
    "y_pred_av = baseline_model_PI().predict(Xtestav, verbose=0);\n",
    "y_u_pred_av = y_pred_av[:,0];\n",
    "y_l_pred_av = y_pred_av[:,1];"
   ]
  },
  {
   "cell_type": "code",
   "execution_count": 50,
   "id": "4fee9bdb",
   "metadata": {},
   "outputs": [
    {
     "data": {
      "image/png": "[encoded data removed]",
      "text/plain": [
       "<Figure size 226.772x226.772 with 1 Axes>"
      ]
     },
     "metadata": {
      "needs_background": "light"
     },
     "output_type": "display_data"
    }
   ],
   "source": [
    "fig = plt.figure(figsize=(figsize[0],figsize[1]));\n",
    "plt.plot(Xtestav[\"sigs\"],y_u_pred_av,\"k*\"); # Upper PI\n",
    "plt.plot(Xtestav[\"sigs\"],y_l_pred_av,\"g*\"); # Lower PI\n",
    "plt.xlabel(r\" scaled $\\sigma_{\\mathrm{s}2}$ [MPa]\");\n",
    "plt.ylabel(r\" scaled $w$ [mm]\");"
   ]
  },
  {
   "cell_type": "markdown",
   "id": "1a1ab201",
   "metadata": {},
   "source": [
    "#### Train ANN and predict the PIs"
   ]
  },
  {
   "cell_type": "markdown",
   "id": "14d5ba7e",
   "metadata": {},
   "source": [
    "Here ANNs are trained to predict PIs for each bootstrapped dataset. The figure below presents the test and training losses."
   ]
  },
  {
   "cell_type": "code",
   "execution_count": 51,
   "id": "b56b7ba6",
   "metadata": {},
   "outputs": [
    {
     "name": "stdout",
     "output_type": "stream",
     "text": [
      "Training PIs, based on bootstrapped dataset no.  1\n",
      "Training PIs, based on bootstrapped dataset no.  2\n",
      "Training PIs, based on bootstrapped dataset no.  3\n",
      "Training PIs, based on bootstrapped dataset no.  4\n",
      "Training PIs, based on bootstrapped dataset no.  5\n",
      "Training PIs, based on bootstrapped dataset no.  6\n",
      "Training PIs, based on bootstrapped dataset no.  7\n",
      "Training PIs, based on bootstrapped dataset no.  8\n",
      "Training PIs, based on bootstrapped dataset no.  9\n",
      "Training PIs, based on bootstrapped dataset no.  10\n",
      "Training PIs, based on bootstrapped dataset no.  11\n",
      "Training PIs, based on bootstrapped dataset no.  12\n",
      "Training PIs, based on bootstrapped dataset no.  13\n",
      "Training PIs, based on bootstrapped dataset no.  14\n",
      "Training PIs, based on bootstrapped dataset no.  15\n",
      "Training PIs, based on bootstrapped dataset no.  16\n",
      "Training PIs, based on bootstrapped dataset no.  17\n",
      "Training PIs, based on bootstrapped dataset no.  18\n",
      "Training PIs, based on bootstrapped dataset no.  19\n",
      "Training PIs, based on bootstrapped dataset no.  20\n"
     ]
    },
    {
     "data": {
      "image/png": "[encoded data removed]",
      "text/plain": [
       "<Figure size 226.772x113.386 with 1 Axes>"
      ]
     },
     "metadata": {
      "needs_background": "light"
     },
     "output_type": "display_data"
    }
   ],
   "source": [
    "predavens = np.zeros((testav.shape[0],2,Nb)); # 3D array since output of ANN consist of 2 output nodes!\n",
    "predavens_train = np.zeros((sb,2,Nb));\n",
    "model_sum_err_av = np.zeros((PI_nep_av,Nb));\n",
    "\n",
    "fig = plt.figure(figsize=(figsize[0],figsize[1]/2));\n",
    "\n",
    "for i in range(Nb):\n",
    "    print(\"Training PIs, based on bootstrapped dataset no. \",i+1);\n",
    "    histav,model_sum_err_av[:,i],temppredPIav,temppredPIav_train = ANN(trainavens[:,:-1,i],trainavens[:,-1,i],testav[:,:-1],\\\n",
    "                                                    testav[:,-1],baseline_model_PI(),opt,qd_objective,\\\n",
    "                                           PI_nep_av,n_);\n",
    "    \n",
    "    plt.plot(histav.history['loss'],\"b\", label='Training error'); # Training loss\n",
    "    plt.plot(histav.history['val_loss'],\"y\", label='Test error'); # Test loss\n",
    "    \n",
    "    predavens[:,:,i] = temppredPIav;\n",
    "    predavens_train[:,:,i] = temppredPIav_train;\n",
    "    \n",
    "plt.xlabel('Epochs [-]');\n",
    "plt.ylabel('Loss');\n",
    "plt.grid();    \n",
    "plt.show();\n",
    "#fig.savefig(r'C:\\Users\\20210065\\surfdrive\\Documents\\60_Publications\\Rome_2022_FiB_PhD\\Figures\\New\\PI_Train_test_loss.tif',\\\n",
    "#                          bbox_inches='tight',dpi=(dpisize))"
   ]
  },
  {
   "cell_type": "markdown",
   "id": "a57105db",
   "metadata": {},
   "source": [
    "#### Extract the average value and the standard deviation; model uncertainty"
   ]
  },
  {
   "cell_type": "markdown",
   "id": "e98913d7",
   "metadata": {},
   "source": [
    "The scaled PIs are transformed back to the original scale."
   ]
  },
  {
   "cell_type": "code",
   "execution_count": 52,
   "id": "11d9c417",
   "metadata": {},
   "outputs": [],
   "source": [
    "predavens_tsback = np.zeros((testav.shape[0],2,Nb));\n",
    "predavens_train_tsback = np.zeros((sb,2,Nb));\n",
    "for i in range(Nb):\n",
    "    predavens_tsback[:,0,i] = datbacktransform(testav_org,predavens[:,0,i],sctrainav); # Scaled y_PI_u_AV\n",
    "    predavens_tsback[:,1,i] = datbacktransform(testav_org,predavens[:,1,i],sctrainav); # Scaled y_PI_l_AV\n",
    "    \n",
    "    predavens_train_tsback[:,0,i] = datbacktransform(mattemp,predavens_train[:,0,i],sctrainav); # Scaled y_PI_u_AV\n",
    "    predavens_train_tsback[:,1,i] = datbacktransform(mattemp,predavens_train[:,1,i],sctrainav); # Scaled y_PI_l_AV    "
   ]
  },
  {
   "cell_type": "markdown",
   "id": "fc671730",
   "metadata": {},
   "source": [
    "So far, the upper and lower bound of the PIs are calculated, which describes noise uncertainty. Model uncertainty can also be described, by considering the results of the predictions based on each dataset from which the standard deviation can be derived (here it is assumed that the errors are normally distributed)."
   ]
  },
  {
   "cell_type": "code",
   "execution_count": 53,
   "id": "bb2f157a",
   "metadata": {},
   "outputs": [],
   "source": [
    "y_PI_u_av = np.mean(predavens_tsback[:,0,:],axis=1); # Average Upper Bound PI\n",
    "y_PI_l_av = np.mean(predavens_tsback[:,1,:],axis=1); # Average Lower Bound PI\n",
    "\n",
    "y_PI_u_sig = np.std(predavens_tsback[:,0,:],axis=1); # STD Upper Bound PI\n",
    "y_PI_l_sig = np.std(predavens_tsback[:,1,:],axis=1); # STD Lower Bound PIANN.res_tot_mn\n",
    "\n",
    "y_PI_u_upper = y_PI_u_av + 1.96*y_PI_u_sig; # Upper estimate of the ensemble\n",
    "y_PI_l_lower = y_PI_l_av - 1.96*y_PI_l_sig; # Lower estimate of the ensemble"
   ]
  },
  {
   "cell_type": "markdown",
   "id": "b93ef4fc",
   "metadata": {},
   "source": [
    "Below the total error is presented."
   ]
  },
  {
   "cell_type": "code",
   "execution_count": 54,
   "id": "68c864e7",
   "metadata": {},
   "outputs": [
    {
     "data": {
      "image/png": "[encoded data removed]",
      "text/plain": [
       "<Figure size 226.772x113.386 with 1 Axes>"
      ]
     },
     "metadata": {
      "needs_background": "light"
     },
     "output_type": "display_data"
    }
   ],
   "source": [
    "fig = plt.figure(figsize=(figsize[0],figsize[1]/2));\n",
    "\n",
    "for i in range(Nb):\n",
    "    plt.plot(model_sum_err_av[:,i],\"r\");\n",
    " \n",
    "plt.xlabel('Epochs [-]');\n",
    "plt.ylabel('Loss');\n",
    "plt.grid();    \n",
    "plt.show();"
   ]
  },
  {
   "cell_type": "markdown",
   "id": "71a2c5e6",
   "metadata": {},
   "source": [
    "## 9 - Predict the mean"
   ]
  },
  {
   "cell_type": "markdown",
   "id": "795fb339",
   "metadata": {},
   "source": [
    "A new simulation is used to describe the average crack width. In the figure below test and training errors have been presented."
   ]
  },
  {
   "cell_type": "code",
   "execution_count": 55,
   "id": "0a1c4704",
   "metadata": {},
   "outputs": [
    {
     "name": "stdout",
     "output_type": "stream",
     "text": [
      "Training w_m, based on bootstrapped dataset no.  1 ...\n",
      "Training w_m, based on bootstrapped dataset no.  2 ...\n",
      "Training w_m, based on bootstrapped dataset no.  3 ...\n",
      "Training w_m, based on bootstrapped dataset no.  4 ...\n",
      "Training w_m, based on bootstrapped dataset no.  5 ...\n",
      "Training w_m, based on bootstrapped dataset no.  6 ...\n",
      "Training w_m, based on bootstrapped dataset no.  7 ...\n",
      "Training w_m, based on bootstrapped dataset no.  8 ...\n",
      "Training w_m, based on bootstrapped dataset no.  9 ...\n",
      "Training w_m, based on bootstrapped dataset no.  10 ...\n",
      "Training w_m, based on bootstrapped dataset no.  11 ...\n",
      "Training w_m, based on bootstrapped dataset no.  12 ...\n",
      "Training w_m, based on bootstrapped dataset no.  13 ...\n",
      "Training w_m, based on bootstrapped dataset no.  14 ...\n",
      "Training w_m, based on bootstrapped dataset no.  15 ...\n",
      "Training w_m, based on bootstrapped dataset no.  16 ...\n",
      "Training w_m, based on bootstrapped dataset no.  17 ...\n",
      "Training w_m, based on bootstrapped dataset no.  18 ...\n",
      "Training w_m, based on bootstrapped dataset no.  19 ...\n",
      "Training w_m, based on bootstrapped dataset no.  20 ...\n"
     ]
    },
    {
     "data": {
      "image/png": "[encoded data removed]",
      "text/plain": [
       "<Figure size 226.772x113.386 with 1 Axes>"
      ]
     },
     "metadata": {
      "needs_background": "light"
     },
     "output_type": "display_data"
    }
   ],
   "source": [
    "temppred_tot_av = np.zeros((Xtestav.shape[0],Nb));\n",
    "temppred_tot_av_train = np.zeros((sb,Nb));\n",
    "\n",
    "fig = plt.figure(figsize=(figsize[0],figsize[1]/2));\n",
    "\n",
    "for i in range(Nb):\n",
    "    print(\"Training w_m, based on bootstrapped dataset no. \", i+1, \"...\");\n",
    "    hist, modelsum_tot_av, temppred, temppred_train = \\\n",
    "    ANN(trainavens[:,:-1,i],trainavens[:,-1,i],testav[:,:-1],\\\n",
    "                                                    testav[:,-1],\\\n",
    "        baseline_model_standard(),opt,\"mean_squared_error\",nep_av,bs_av);\n",
    "    \n",
    "    temppred_tot_av[:,i] = temppred[:,0];\n",
    "    temppred_tot_av_train[:,i] = temppred_train.transpose();\n",
    "    \n",
    "    plt.plot(hist.history['loss'],\"b\", label='Training error'); # Training loss\n",
    "    plt.plot(hist.history['val_loss'],\"y\", label='Test error'); # Test loss\n",
    "\n",
    "plt.xlabel('Epochs [-]');\n",
    "plt.ylabel('Loss');\n",
    "plt.grid();    \n",
    "plt.show();\n",
    "#fig.savefig(r'C:\\Users\\20210065\\surfdrive\\Documents\\60_Publications\\Rome_2022_FiB_PhD\\Figures\\New\\Wav_Train_test_loss.tif',\\\n",
    "#                          bbox_inches='tight',dpi=(dpisize))"
   ]
  },
  {
   "cell_type": "code",
   "execution_count": 56,
   "id": "aeb089f0",
   "metadata": {},
   "outputs": [],
   "source": [
    "pred_tot_av_tsback = np.zeros((Xtestav.shape[0],Nb));\n",
    "pred_tot_av_tsback_train = np.zeros((sb,Nb));\n",
    "\n",
    "for i in range(Nb):\n",
    "    pred_tot_av_tsback[:,i] = datbacktransform(testav_org,temppred_tot_av[:,i],sctrainav);\n",
    "    pred_tot_av_tsback_train[:,i] = datbacktransform(mattemp,pred_tot_av_tsback_train[:,i],sctrainav);"
   ]
  },
  {
   "cell_type": "code",
   "execution_count": 57,
   "id": "d81c4c2b",
   "metadata": {},
   "outputs": [],
   "source": [
    "y_mean_av = np.mean(pred_tot_av_tsback,axis=1);\n",
    "y_mean_av_train = np.mean(pred_tot_av_tsback_train,axis=1);"
   ]
  },
  {
   "cell_type": "markdown",
   "id": "2c20f7ae",
   "metadata": {},
   "source": [
    "## 10 - Plotting"
   ]
  },
  {
   "cell_type": "markdown",
   "id": "93e09eb4",
   "metadata": {},
   "source": [
    "To present the results of the descriptions of the ANNs, $\\hat{w}$ is described as function of both $\\sigma_{\\mathrm{s2}}$ and $w$. For plotting purposes, both values are sorted in ascending order."
   ]
  },
  {
   "cell_type": "markdown",
   "id": "a3dc83f5",
   "metadata": {},
   "source": [
    "### Sorting"
   ]
  },
  {
   "cell_type": "markdown",
   "id": "77fe5cf5",
   "metadata": {},
   "source": [
    "#### Sorting, based on steel stress"
   ]
  },
  {
   "cell_type": "code",
   "execution_count": 58,
   "id": "37a3a108",
   "metadata": {},
   "outputs": [],
   "source": [
    "SUMMavsig = pd.concat([testav_org.loc[:,[\"rho\",\"Es\",\"fcm\",\"sigs\",\"w\"]].reset_index(drop=True),\\\n",
    "                  pd.DataFrame(y_PI_u_upper).reset_index(drop=True),pd.DataFrame(y_PI_l_lower).reset_index(drop=True),\n",
    "                  pd.DataFrame(y_PI_u_av).reset_index(drop=True),pd.DataFrame(y_PI_l_av).reset_index(drop=True),\n",
    "                  pd.DataFrame(y_PI_u_sig).reset_index(drop=True),pd.DataFrame(y_PI_l_sig).reset_index(drop=True),  \n",
    "                  pd.DataFrame(w_kav).reset_index(drop=True),\n",
    "                  pd.DataFrame(y_mean_av).reset_index(drop=True)],axis=1);\n",
    "SUMMavsig.columns = [\"rho\",\"Es\",\"fcm\",\"sigs\",\"w\",\"y_PI_u_upper\",\"y_PI_l_lower\",\"y_PI_u_av\",\"y_PI_l_av\",\"y_PI_u_sig\",\"y_PI_l_sig\",\\\n",
    "                  \"w_EC2kav\",\"w_mean\"];\n",
    "SUMMavsig.sort_values(by=[\"sigs\"],ascending=True,inplace=True);"
   ]
  },
  {
   "cell_type": "code",
   "execution_count": 59,
   "id": "b2df3f08",
   "metadata": {},
   "outputs": [],
   "source": [
    "trainsortsig = trainav_org;\n",
    "trainsortsig.sort_values(by=[\"sigs\"],ascending=True,inplace=True);"
   ]
  },
  {
   "cell_type": "markdown",
   "id": "ed8902d3",
   "metadata": {},
   "source": [
    "#### Figure (b) - Predictions for both ANN and EC2"
   ]
  },
  {
   "cell_type": "code",
   "execution_count": 60,
   "id": "8191d192",
   "metadata": {},
   "outputs": [
    {
     "data": {
      "image/png": "[encoded data removed]",
      "text/plain": [
       "<Figure size 226.772x226.772 with 1 Axes>"
      ]
     },
     "metadata": {
      "needs_background": "light"
     },
     "output_type": "display_data"
    }
   ],
   "source": [
    "fig = plt.figure(figsize=(figsize[0],figsize[1]));\n",
    "plt.plot(SUMMavsig[\"sigs\"],SUMMavsig[\"y_PI_u_upper\"],\"b\",alpha=0.5,linewidth=1); # Upper estimate PI\n",
    "plt.plot(SUMMavsig[\"sigs\"],SUMMavsig[\"y_PI_l_lower\"],\"b\",alpha=0.5,linewidth=1); # Lower estimate PI\n",
    "plt.plot(SUMMavsig[\"sigs\"],SUMMavsig[\"w_mean\"]-SUMMavsig[\"y_PI_l_sig\"],\"r\",alpha=0.1); # Lower CI\n",
    "plt.plot(SUMMavsig[\"sigs\"],SUMMavsig[\"w_mean\"]+SUMMavsig[\"y_PI_u_sig\"],\"r\",alpha=0.1); # Upper CI\n",
    "plt.fill_between(SUMMavsig[\"sigs\"],SUMMavsig[\"w_mean\"]+SUMMavsig[\"y_PI_u_sig\"],SUMMavsig[\"w_mean\"]-SUMMavsig[\"y_PI_l_sig\"],\\\n",
    "                 color=\"r\",alpha=0.3);\n",
    "plt.plot(SUMMavsig[\"sigs\"],SUMMavsig[\"w_mean\"],\"k-\",linewidth=1); # Average crack width\n",
    "plt.plot(SUMMavsig[\"sigs\"],SUMMavsig[\"w_EC2kav\"],\"k--\",linewidth=1); # Characteristic crack width EC2\n",
    "plt.fill_between(SUMMavsig[\"sigs\"],SUMMavsig[\"y_PI_u_upper\"],SUMMavsig[\"y_PI_l_lower\"],color=\"blue\",alpha=0.2);\n",
    "plt.plot(SUMMavsig[\"sigs\"],SUMMavsig[\"w\"],\"m*\",alpha=1,markersize=2); # Test data points\n",
    "plt.plot(trainsortsig[\"sigs\"],trainsortsig[\"w\"],\"c*\",alpha=1,markersize=2); # Train data points\n",
    "plt.grid();\n",
    "plt.xlabel(r\" $\\sigma_{\\mathrm{s}2}$ [MPa]\"); # steel stress\n",
    "plt.ylabel(r\" $\\hat{w}$ [mm]\"); # crack width\n",
    "plt.xlim([100,550]);\n",
    "plt.ylim([0,0.5]);\n",
    "plt.show();\n",
    "fig.savefig(r'C:\\Users\\20210065\\surfdrive\\Documents\\60_Publications\\Rome_2022_FiB_PhD\\Figures\\New\\Line_sorted_av_sig.tif',\\\n",
    "                          bbox_inches='tight',dpi=(dpisize));"
   ]
  },
  {
   "cell_type": "code",
   "execution_count": 61,
   "id": "948b2fd6",
   "metadata": {},
   "outputs": [
    {
     "name": "stdout",
     "output_type": "stream",
     "text": [
      "0.966\n"
     ]
    }
   ],
   "source": [
    "print(round(np.mean(abs(SUMMavsig[\"w_mean\"]/SUMMavsig[\"w\"])),3));"
   ]
  },
  {
   "cell_type": "markdown",
   "id": "9cf968d7",
   "metadata": {},
   "source": [
    "#### Sorting, based on crack widths from test database"
   ]
  },
  {
   "cell_type": "code",
   "execution_count": 62,
   "id": "1879c952",
   "metadata": {},
   "outputs": [],
   "source": [
    "SUMMavw = pd.concat([testav_org.loc[:,[\"rho\",\"Es\",\"fcm\",\"sigs\",\"w\"]].reset_index(drop=True),\\\n",
    "                  pd.DataFrame(y_PI_u_upper).reset_index(drop=True),pd.DataFrame(y_PI_l_lower).reset_index(drop=True),\n",
    "                  pd.DataFrame(y_PI_u_av).reset_index(drop=True),pd.DataFrame(y_PI_l_av).reset_index(drop=True),\n",
    "                  pd.DataFrame(y_PI_u_sig).reset_index(drop=True),pd.DataFrame(y_PI_l_sig).reset_index(drop=True),  \n",
    "                  pd.DataFrame(w_kav).reset_index(drop=True),\n",
    "                  pd.DataFrame(y_mean_av).reset_index(drop=True)],axis=1);\n",
    "SUMMavw.columns = [\"rho\",\"Es\",\"fcm\",\"sigs\",\"w\",\"y_PI_u_upper\",\"y_PI_l_lower\",\"y_PI_u_av\",\"y_PI_l_av\",\"y_PI_u_sig\",\"y_PI_l_sig\",\\\n",
    "                  \"w_EC2kav\",\"w_mean\"];\n",
    "SUMMavw.sort_values(by=[\"w\"],ascending=True,inplace=True);"
   ]
  },
  {
   "cell_type": "code",
   "execution_count": 63,
   "id": "eeae5793",
   "metadata": {},
   "outputs": [],
   "source": [
    "trainsortw = trainav_org;\n",
    "trainsortw.sort_values(by=[\"w\"],ascending=True,inplace=True);"
   ]
  },
  {
   "cell_type": "markdown",
   "id": "4e2cca40",
   "metadata": {},
   "source": [
    "#### Figure (a) - Predictions for both ANN and EC2"
   ]
  },
  {
   "cell_type": "code",
   "execution_count": 64,
   "id": "c52f1414",
   "metadata": {},
   "outputs": [
    {
     "data": {
      "image/png": "[encoded data removed]",
      "text/plain": [
       "<Figure size 226.772x226.772 with 1 Axes>"
      ]
     },
     "metadata": {
      "needs_background": "light"
     },
     "output_type": "display_data"
    }
   ],
   "source": [
    "fig = plt.figure(figsize=(figsize[0],figsize[1]));\n",
    "plt.plot(SUMMavw[\"w\"],SUMMavw[\"y_PI_u_upper\"],\"b\",alpha=0.5,linewidth=1); # Upper estimate PI\n",
    "plt.plot(SUMMavw[\"w\"],SUMMavw[\"y_PI_l_lower\"],\"b\",alpha=0.5,linewidth=1); # Lower estimate PI\n",
    "plt.plot(SUMMavw[\"w\"],SUMMavw[\"w_mean\"]-SUMMavw[\"y_PI_l_sig\"],\"r\",alpha=0.1 ); # Lower CI\n",
    "plt.plot(SUMMavw[\"w\"],SUMMavw[\"w_mean\"]+SUMMavw[\"y_PI_u_sig\"],\"r\",alpha=0.1 ); # Upper CI\n",
    "plt.plot(SUMMavw[\"w\"],SUMMavw[\"w_mean\"],\"k\",linewidth=1); # Average crack width\n",
    "plt.plot(SUMMavw[\"w\"],SUMMavw[\"w_EC2kav\"],\"k--\",linewidth=1); # Characteristic crack width EC2\n",
    "plt.fill_between(SUMMavw[\"w\"],SUMMavw[\"y_PI_u_upper\"],SUMMavw[\"y_PI_l_lower\"],color=\"blue\",alpha=0.2);\n",
    "plt.fill_between(SUMMavw[\"w\"],SUMMavw[\"w_mean\"]+SUMMavw[\"y_PI_u_sig\"],SUMMavw[\"w_mean\"]-SUMMavw[\"y_PI_l_sig\"],\\\n",
    "                 color=\"r\",alpha=0.3);\n",
    "plt.plot(SUMMavw[\"w\"],SUMMavw[\"w\"],\"mo\",alpha=1,markersize=2); # Test data points\n",
    "plt.plot(trainsortw[\"w\"],trainsortw[\"w\"],\"co\",alpha=1,markersize=2); # Train data points\n",
    "plt.plot([0,0.5],[0,0.5],\"k\",linewidth=0.5); # Ideal prediction line\n",
    "plt.grid();\n",
    "plt.xlabel(r\" $w$ [MPa]\"); # steel stress\n",
    "plt.ylabel(r\" $\\hat{w}$ [mm]\"); # crack width\n",
    "plt.xlim([0,0.5]);\n",
    "plt.ylim([0,0.5]);\n",
    "plt.show();\n",
    "fig.savefig(r'C:\\Users\\20210065\\surfdrive\\Documents\\60_Publications\\Rome_2022_FiB_PhD\\Figures\\New\\Line_sorted_av_w.tif',\\\n",
    "                          bbox_inches='tight',dpi=(dpisize));"
   ]
  },
  {
   "cell_type": "code",
   "execution_count": 65,
   "id": "6ac46418",
   "metadata": {},
   "outputs": [
    {
     "name": "stdout",
     "output_type": "stream",
     "text": [
      "0.966\n"
     ]
    }
   ],
   "source": [
    "print(round(np.mean(abs(SUMMavw[\"w_mean\"]/SUMMavw[\"w\"])),3));"
   ]
  },
  {
   "cell_type": "code",
   "execution_count": 66,
   "id": "1c540481",
   "metadata": {},
   "outputs": [
    {
     "name": "stdout",
     "output_type": "stream",
     "text": [
      "nan\n"
     ]
    }
   ],
   "source": [
    "print(round(np.mean(abs(SUMMavw[\"y_PI_u_upper\"]/SUMMavw[\"w_EC2kav\"])),3));"
   ]
  },
  {
   "cell_type": "markdown",
   "id": "bd583d9b",
   "metadata": {},
   "source": [
    "## 11 - Compute PICP and MPIW"
   ]
  },
  {
   "cell_type": "markdown",
   "id": "833adcb3",
   "metadata": {},
   "source": [
    "The last step is to calculate PICP and MPIW."
   ]
  },
  {
   "cell_type": "markdown",
   "id": "698d2b2e",
   "metadata": {},
   "source": [
    "### Based on test dataset"
   ]
  },
  {
   "cell_type": "code",
   "execution_count": 67,
   "id": "2a92c8bb",
   "metadata": {},
   "outputs": [],
   "source": [
    "count_test = np.zeros(Nb);\n",
    "PICP_test = np.zeros(Nb);\n",
    "MPIW_test = np.zeros(Nb);\n",
    "MPIWc_test = np.zeros(Nb);"
   ]
  },
  {
   "cell_type": "code",
   "execution_count": 68,
   "id": "2a2a629f",
   "metadata": {
    "scrolled": false
   },
   "outputs": [
    {
     "name": "stdout",
     "output_type": "stream",
     "text": [
      "Test data - ANN no. 1 : PICP 87.02 %, MPIW: 0.08 mm\n",
      "Test data - ANN no. 2 : PICP 90.08 %, MPIW: 0.08 mm\n",
      "Test data - ANN no. 3 : PICP 90.08 %, MPIW: 0.08 mm\n",
      "Test data - ANN no. 4 : PICP 87.79 %, MPIW: 0.09 mm\n",
      "Test data - ANN no. 5 : PICP 87.79 %, MPIW: 0.09 mm\n",
      "Test data - ANN no. 6 : PICP 0.0 %, MPIW: nan mm\n",
      "Test data - ANN no. 7 : PICP 90.08 %, MPIW: 0.09 mm\n",
      "Test data - ANN no. 8 : PICP 89.31 %, MPIW: 0.08 mm\n",
      "Test data - ANN no. 9 : PICP 89.31 %, MPIW: 0.09 mm\n",
      "Test data - ANN no. 10 : PICP 89.31 %, MPIW: 0.08 mm\n",
      "Test data - ANN no. 11 : PICP 89.31 %, MPIW: 0.08 mm\n",
      "Test data - ANN no. 12 : PICP 90.84 %, MPIW: 0.09 mm\n",
      "Test data - ANN no. 13 : PICP 93.13 %, MPIW: 0.08 mm\n",
      "Test data - ANN no. 14 : PICP 88.55 %, MPIW: 0.09 mm\n",
      "Test data - ANN no. 15 : PICP 87.79 %, MPIW: 0.09 mm\n",
      "Test data - ANN no. 16 : PICP 91.6 %, MPIW: 0.1 mm\n",
      "Test data - ANN no. 17 : PICP 90.84 %, MPIW: 0.08 mm\n",
      "Test data - ANN no. 18 : PICP 0.0 %, MPIW: nan mm\n",
      "Test data - ANN no. 19 : PICP 84.73 %, MPIW: 0.09 mm\n",
      "Test data - ANN no. 20 : PICP 90.08 %, MPIW: 0.08 mm\n",
      "The average PICP 80.38\n",
      "The average MPIW nan\n",
      "The average MPIWc nan\n"
     ]
    },
    {
     "name": "stderr",
     "output_type": "stream",
     "text": [
      "<ipython-input-68-b76a5d141eeb>:23: RuntimeWarning: divide by zero encountered in double_scalars\n",
      "  MPIWc_test[j] = round(1/count_test[j]*(np.sum(comb)),2);\n"
     ]
    }
   ],
   "source": [
    "for j in range(Nb): # Loop over the ensemble\n",
    "    \n",
    "    arrtemp = np.zeros(testav_org.shape[0]);\n",
    "    k = np.zeros(sb);\n",
    "    comb = np.zeros(sb);\n",
    "    \n",
    "    for i in range(testav_org.shape[0]):\n",
    "        if ((testav_org[\"w\"].values[i] >= predavens_tsback[i,1,j]) and (testav_org[\"w\"].values[i] <= predavens_tsback[i,0,j])):\n",
    "            count_test[j] = count_test[j] + 1;\n",
    "            \n",
    "            k[i] = 1;\n",
    "            \n",
    "        else:\n",
    "            \n",
    "            k[i] = 0;\n",
    "\n",
    "        arrtemp[i] = predavens_tsback[i,0,j] - predavens_tsback[i,1,j];\n",
    "        \n",
    "        comb[i] = arrtemp[i]*k[i]\n",
    "            \n",
    "    MPIW_test[j] = np.mean(arrtemp)\n",
    "           \n",
    "    MPIWc_test[j] = round(1/count_test[j]*(np.sum(comb)),2);\n",
    "        \n",
    "    PICP_test[j] = round(100*count_test[j]/testav_org.shape[0],2);\n",
    "    \n",
    "\n",
    "    print(\"Test data - ANN no.\",j+1,\": PICP\", PICP_test[j],\"%, MPIW:\", round(MPIW_test[j],2), \"mm\");\n",
    "    \n",
    "print(\"The average PICP\", round(np.mean(PICP_test),2))\n",
    "print(\"The average MPIW\", round(np.mean(MPIW_test),2))\n",
    "print(\"The average MPIWc\", round(np.mean(MPIWc_test),2))"
   ]
  },
  {
   "cell_type": "code",
   "execution_count": 69,
   "id": "262e2444",
   "metadata": {},
   "outputs": [
    {
     "data": {
      "image/png": "[encoded data removed]",
      "text/plain": [
       "<Figure size 226.772x226.772 with 2 Axes>"
      ]
     },
     "metadata": {
      "needs_background": "light"
     },
     "output_type": "display_data"
    }
   ],
   "source": [
    "fig, ax1 = plt.subplots(1,figsize=(figsize[0],figsize[1]));\n",
    "\n",
    "#ax2 = np.array([a.twinx() for a in ax1.ravel()]).reshape_like(ax1)\n",
    "\n",
    "# ==========================\n",
    "# Subplot 1\n",
    "ax1.set_xlabel('Repitition no.');\n",
    "plt.gca().xaxis.set_major_locator(mticker.MultipleLocator(2))\n",
    "ax1.tick_params(axis='y', colors='b') ;\n",
    "ax1.set_ylabel(r\"$MPIW_{\\mathrm{c}}$ [mm]\",color=\"b\") ;\n",
    "ax1.stem(range(1,Nb+1), MPIWc_test,markerfmt=\"bo\",linefmt=\"b\") ;\n",
    "ax1.plot([1,Nb],[MPIWc_test.mean(),MPIWc_test.mean()],\"b--\",label=r\"Averaged MPIW\");\n",
    "ax1.tick_params(axis ='y',color=\"b\") ;\n",
    "plt.ylim([0,0.12])\n",
    "\n",
    "ax2 = ax1.twinx() \n",
    "ax2.set_ylabel('PICP [%]',color=\"r\") ;\n",
    "ax2.tick_params(axis='y', colors='r') ;\n",
    "ax2.stem(range(1,Nb+1), PICP_test,markerfmt=\"ro\",linefmt=\"r--\");\n",
    "ax2.plot([1,Nb],[PICP_test.mean(),PICP_test.mean()],\"r--\",label=r\"Averaged PICP\"); # Computed average PICP\n",
    "\n",
    "ax2.plot([1,Nb],[(1-alpha_)*100,(1-alpha_)*100],\"k\",linewidth=3,label=r\"Target PICP\"); # Target PICP\n",
    "ax2.tick_params(axis ='y');\n",
    "plt.ylim([0,100]);\n",
    "plt.grid();\n",
    "\n",
    "fig.savefig(r'C:\\Users\\20210065\\surfdrive\\Documents\\60_Publications\\Rome_2022_FiB_PhD\\Figures\\New\\PICP_MPIW_test.tif',\\\n",
    "                          bbox_inches='tight',dpi=(dpisize));"
   ]
  },
  {
   "cell_type": "markdown",
   "id": "b0ed1656",
   "metadata": {},
   "source": [
    "The figure above represents the PICP and MPIW for the test sets. Indeed, the average value of the PICP is indeed very close to the target value of the PICP (90%)."
   ]
  },
  {
   "cell_type": "markdown",
   "id": "70c1c5f6",
   "metadata": {},
   "source": [
    "### Based on training dataset"
   ]
  },
  {
   "cell_type": "markdown",
   "id": "996a0761",
   "metadata": {},
   "source": [
    "For each training dataset is the PICP and MPIW calculated."
   ]
  },
  {
   "cell_type": "code",
   "execution_count": 70,
   "id": "67503cab",
   "metadata": {},
   "outputs": [],
   "source": [
    "count_train = np.zeros(Nb);\n",
    "PICP_train = np.zeros(Nb);\n",
    "MPIW_train = np.zeros(Nb);\n",
    "MPIWc_train = np.zeros(Nb);"
   ]
  },
  {
   "cell_type": "code",
   "execution_count": 71,
   "id": "2f3e25ab",
   "metadata": {},
   "outputs": [
    {
     "name": "stdout",
     "output_type": "stream",
     "text": [
      "Train data - ANN no. 1 : PICP 91.7 %, MPIW: 0.08 mm\n",
      "Train data - ANN no. 2 : PICP 93.4 %, MPIW: 0.08 mm\n",
      "Train data - ANN no. 3 : PICP 93.83 %, MPIW: 0.08 mm\n",
      "Train data - ANN no. 4 : PICP 92.13 %, MPIW: 0.08 mm\n",
      "Train data - ANN no. 5 : PICP 90.85 %, MPIW: 0.09 mm\n",
      "Train data - ANN no. 6 : PICP 0.0 %, MPIW: nan mm\n",
      "Train data - ANN no. 7 : PICP 91.06 %, MPIW: 0.09 mm\n",
      "Train data - ANN no. 8 : PICP 94.04 %, MPIW: 0.08 mm\n",
      "Train data - ANN no. 9 : PICP 88.94 %, MPIW: 0.09 mm\n",
      "Train data - ANN no. 10 : PICP 90.0 %, MPIW: 0.08 mm\n",
      "Train data - ANN no. 11 : PICP 92.55 %, MPIW: 0.08 mm\n",
      "Train data - ANN no. 12 : PICP 92.98 %, MPIW: 0.08 mm\n",
      "Train data - ANN no. 13 : PICP 92.77 %, MPIW: 0.08 mm\n",
      "Train data - ANN no. 14 : PICP 91.49 %, MPIW: 0.08 mm\n",
      "Train data - ANN no. 15 : PICP 90.85 %, MPIW: 0.09 mm\n",
      "Train data - ANN no. 16 : PICP 93.19 %, MPIW: 0.09 mm\n",
      "Train data - ANN no. 17 : PICP 92.34 %, MPIW: 0.08 mm\n",
      "Train data - ANN no. 18 : PICP 0.0 %, MPIW: nan mm\n",
      "Train data - ANN no. 19 : PICP 91.49 %, MPIW: 0.09 mm\n",
      "Train data - ANN no. 20 : PICP 92.77 %, MPIW: 0.08 mm\n",
      "The average PICP 82.82\n",
      "The average MPIW nan\n",
      "The average MPIWc nan\n"
     ]
    },
    {
     "name": "stderr",
     "output_type": "stream",
     "text": [
      "<ipython-input-71-d71bd3a4c66a>:22: RuntimeWarning: divide by zero encountered in double_scalars\n",
      "  MPIWc_train[j] = round(1/count_train[j]*(np.sum(comb)),2);\n"
     ]
    }
   ],
   "source": [
    "for j in range(Nb): # Loop over the ensemble\n",
    "    \n",
    "    arrtemp = np.zeros(sb);\n",
    "    k = np.zeros(sb);\n",
    "    comb = np.zeros(sb);\n",
    "    \n",
    "    for i in range(sb):\n",
    "        if ((train_w_org_scale[i,j] >= predavens_train_tsback[i,1,j]) and (train_w_org_scale[i,j] <= predavens_train_tsback[i,0,j])):\n",
    "            count_train[j] = count_train[j] + 1;\n",
    "            \n",
    "            k[i] = 1;\n",
    "        \n",
    "        else:\n",
    "            k[i] = 0;\n",
    "\n",
    "        arrtemp[i] = predavens_train_tsback[i,0,j] - predavens_train_tsback[i,1,j];\n",
    "        \n",
    "        comb[i] = arrtemp[i]*k[i]\n",
    "        \n",
    "    MPIW_train[j] = np.mean(arrtemp);\n",
    "    \n",
    "    MPIWc_train[j] = round(1/count_train[j]*(np.sum(comb)),2);\n",
    "            \n",
    "    PICP_train[j] = round(100*count_train[j]/sb,2)\n",
    "\n",
    "    print(\"Train data - ANN no.\",j+1,\": PICP\", PICP_train[j],\"%, MPIW:\", round(MPIW_train[j],2), \"mm\");\n",
    "    \n",
    "print(\"The average PICP\", round(np.mean(PICP_train),2))\n",
    "print(\"The average MPIW\", round(np.mean(MPIW_train),2))\n",
    "print(\"The average MPIWc\", round(np.mean(MPIWc_train),2))"
   ]
  },
  {
   "cell_type": "code",
   "execution_count": 72,
   "id": "30161e18",
   "metadata": {},
   "outputs": [
    {
     "data": {
      "image/png": "[encoded data removed]",
      "text/plain": [
       "<Figure size 226.772x226.772 with 2 Axes>"
      ]
     },
     "metadata": {
      "needs_background": "light"
     },
     "output_type": "display_data"
    }
   ],
   "source": [
    "fig, ax1 = plt.subplots(1,figsize=(figsize[0],figsize[1]));\n",
    "\n",
    "ax1.set_xlabel('Repitition no.');\n",
    "plt.gca().xaxis.set_major_locator(mticker.MultipleLocator(2))\n",
    "ax1.tick_params(axis='y', colors='b') ;\n",
    "ax1.set_ylabel(r\"$MPIW_{\\mathrm{c}}$ [mm]\",color=\"b\") ;\n",
    "ax1.stem(range(1,Nb+1), MPIWc_train,markerfmt=\"bo\",linefmt=\"b\") ;\n",
    "ax1.plot([1,Nb],[MPIWc_train.mean(),MPIWc_train.mean()],\"b--\",label=r\"Averaged MPIW\");\n",
    "ax1.tick_params(axis ='y',color=\"b\") ;\n",
    "plt.ylim([0,0.12])\n",
    "\n",
    "ax2 = ax1.twinx() \n",
    "ax2.set_ylabel('PICP [%]',color=\"r\") ;\n",
    "ax2.tick_params(axis='y', colors='r') ;\n",
    "ax2.stem(range(1,Nb+1), PICP_train,markerfmt=\"ro\",linefmt=\"r--\");\n",
    "ax2.plot([1,Nb],[PICP_train.mean(),PICP_train.mean()],\"r--\",label=r\"Averaged PICP\"); # Computed average PICP\n",
    "\n",
    "ax2.plot([1,Nb],[(1-alpha_)*100,(1-alpha_)*100],\"k\",linewidth=3,label=r\"Target PICP\"); # Target PICP\n",
    "ax2.tick_params(axis ='y');\n",
    "plt.ylim([0,100]);\n",
    "plt.grid();\n",
    "\n",
    "fig.savefig(r'C:\\Users\\20210065\\surfdrive\\Documents\\60_Publications\\Rome_2022_FiB_PhD\\Figures\\New\\PICP_MPIW_train.tif',\\\n",
    "                          bbox_inches='tight',dpi=(dpisize));"
   ]
  },
  {
   "cell_type": "markdown",
   "id": "e407a654",
   "metadata": {},
   "source": [
    "The figure above represents the PICP and MPIW for the training sets. Indeed, the average value of the PICP is indeed very close to the target value of the PICP (90%)."
   ]
  },
  {
   "cell_type": "markdown",
   "id": "6eb3ad7c",
   "metadata": {},
   "source": [
    "### Scoring"
   ]
  },
  {
   "cell_type": "code",
   "execution_count": 73,
   "id": "70ca9745",
   "metadata": {},
   "outputs": [
    {
     "name": "stdout",
     "output_type": "stream",
     "text": [
      "R2-score bootstrapped dataset 1 equals 0.8838501476196289\n",
      "MSE bootstrapped dataset 1 equals 0.0008008173943054039\n",
      "R2-score bootstrapped dataset 2 equals 0.8915935446471028\n",
      "MSE bootstrapped dataset 2 equals 0.0007474290610141436\n",
      "R2-score bootstrapped dataset 3 equals 0.9069635445548663\n",
      "MSE bootstrapped dataset 3 equals 0.0006414576540398069\n",
      "R2-score bootstrapped dataset 4 equals 0.9157068039573415\n",
      "MSE bootstrapped dataset 4 equals 0.0005811755781789023\n",
      "R2-score bootstrapped dataset 5 equals 0.9000712515595541\n",
      "MSE bootstrapped dataset 5 equals 0.0006889778876361435\n",
      "R2-score bootstrapped dataset 6 equals 0.9084860021038721\n",
      "MSE bootstrapped dataset 6 equals 0.0006309607789913334\n",
      "R2-score bootstrapped dataset 7 equals 0.9139094221077042\n",
      "MSE bootstrapped dataset 7 equals 0.0005935679714527627\n",
      "R2-score bootstrapped dataset 8 equals 0.8964213964219545\n",
      "MSE bootstrapped dataset 8 equals 0.0007141425126527371\n",
      "R2-score bootstrapped dataset 9 equals 0.9042100432574786\n",
      "MSE bootstrapped dataset 9 equals 0.0006604421958967303\n",
      "R2-score bootstrapped dataset 10 equals 0.9106308944564995\n",
      "MSE bootstrapped dataset 10 equals 0.0006161724080231844\n",
      "R2-score bootstrapped dataset 11 equals 0.8900274044654446\n",
      "MSE bootstrapped dataset 11 equals 0.000758227114336547\n",
      "R2-score bootstrapped dataset 12 equals 0.9109451174421296\n",
      "MSE bootstrapped dataset 12 equals 0.0006140059374902814\n",
      "R2-score bootstrapped dataset 13 equals 0.9135376083150937\n",
      "MSE bootstrapped dataset 13 equals 0.000596131512830242\n",
      "R2-score bootstrapped dataset 14 equals 0.8881277506904032\n",
      "MSE bootstrapped dataset 14 equals 0.0007713246409802245\n",
      "R2-score bootstrapped dataset 15 equals 0.9066112225581375\n",
      "MSE bootstrapped dataset 15 equals 0.0006438868054988449\n",
      "R2-score bootstrapped dataset 16 equals 0.9028748392171176\n",
      "MSE bootstrapped dataset 16 equals 0.0006696480157798778\n",
      "R2-score bootstrapped dataset 17 equals 0.9223179184743924\n",
      "MSE bootstrapped dataset 17 equals 0.0005355939834329926\n",
      "R2-score bootstrapped dataset 18 equals 0.8943837910800234\n",
      "MSE bootstrapped dataset 18 equals 0.0007281911727853761\n",
      "R2-score bootstrapped dataset 19 equals 0.9018116512104354\n",
      "MSE bootstrapped dataset 19 equals 0.0006769783690409374\n",
      "R2-score bootstrapped dataset 20 equals 0.9142595894179342\n",
      "MSE bootstrapped dataset 20 equals 0.0005911536758923085\n"
     ]
    }
   ],
   "source": [
    "# input: y_true, y_pred\n",
    "\n",
    "r2scoresavboot = np.zeros(Nb);\n",
    "msescoresavboot = np.zeros(Nb);\n",
    "\n",
    "for i in range(Nb):\n",
    "    r2scoresavboot[i] = r2_score(testav_org[\"w\"],pred_tot_av_tsback[:,i]);\n",
    "    msescoresavboot[i] = mean_squared_error(testav_org[\"w\"],pred_tot_av_tsback[:,i]);\n",
    "    \n",
    "    print(\"R2-score bootstrapped dataset\", i+1, \"equals\", r2scoresavboot[i]);\n",
    "    print(\"MSE bootstrapped dataset\", i+1, \"equals\", msescoresavboot[i]);    "
   ]
  },
  {
   "cell_type": "code",
   "execution_count": 74,
   "id": "5c7a929e",
   "metadata": {},
   "outputs": [
    {
     "data": {
      "image/png": "[encoded data removed]",
      "text/plain": [
       "<Figure size 226.772x226.772 with 2 Axes>"
      ]
     },
     "metadata": {
      "needs_background": "light"
     },
     "output_type": "display_data"
    }
   ],
   "source": [
    "fig, axs = plt.subplots(2,figsize=(figsize[0],figsize[1]));\n",
    "#axs[0].set_title(r\"Repeated K-fold cross validation, $R^2$\");\n",
    "axs[0].stem(range(1,Nb+1),r2scoresavboot,\"b*\",label=r\"$R^2$, average dataset\");\n",
    "#axs[0].stem(range(1,nrep+1),r2scoresin,\"g*\",label=r\"$R^2$, individual dataset\");\n",
    "axs[0].plot([1,Nb],[r2scoresavboot.mean(),r2scoresavboot.mean()],\"b--\",label=r\"Averaged $R^2$,average dataset\");\n",
    "#axs[0].plot([1,nrep],[r2scoresin.mean(),r2scoresin.mean()],\"g--\",label=r\"Averaged $R^2$,individual dataset\");\n",
    "axs[0].grid();\n",
    "axs[0].set_xlabel(\"Repitition no.\");\n",
    "axs[0].set_ylabel(r\"$R^2$\");\n",
    "axs[0].set_xlim([0,Nb+1]);\n",
    "axs[0].set_ylim([0,1]);\n",
    "\n",
    "axs[1].stem(range(1,Nb+1),msescoresavboot,\"b*\",label=\"MSE, average dataset\");\n",
    "axs[1].plot([1,Nb],[msescoresavboot.mean(),msescoresavboot.mean()],\"b--\",label=\"Average MSE, average dataset\");\n",
    "axs[1].grid();\n",
    "axs[1].set_xlabel(\"Repitition no.\");\n",
    "axs[1].set_ylabel(\"MSE\");\n",
    "axs[1].set_xlim([0,Nb+1]);\n",
    "axs[1].set_ylim([0,0.002]);\n",
    "\n",
    "fig.subplots_adjust(hspace=1);\n",
    "plt.show();"
   ]
  },
  {
   "cell_type": "markdown",
   "id": "32871888",
   "metadata": {},
   "source": [
    "The figure above represents an overview of the values $R^2$ and MSE of all the individual simulations."
   ]
  },
  {
   "cell_type": "code",
   "execution_count": 75,
   "id": "ac5e5020",
   "metadata": {},
   "outputs": [
    {
     "name": "stdout",
     "output_type": "stream",
     "text": [
      "Print average R2-score 0.904\n",
      "Print average MSE-score 0.001\n"
     ]
    }
   ],
   "source": [
    "# Average R2-score and MSE ANN prediction:\n",
    "print(\"Print average R2-score\",round(np.mean(r2scoresavboot),3));\n",
    "print(\"Print average MSE-score\",round(np.mean(msescoresavboot),3));"
   ]
  }
 ],
 "metadata": {
  "kernelspec": {
   "display_name": "Python 3",
   "language": "python",
   "name": "python3"
  },
  "language_info": {
   "codemirror_mode": {
    "name": "ipython",
    "version": 3
   },
   "file_extension": ".py",
   "mimetype": "text/x-python",
   "name": "python",
   "nbconvert_exporter": "python",
   "pygments_lexer": "ipython3",
   "version": "3.8.8"
  }
 },
 "nbformat": 4,
 "nbformat_minor": 5
}
